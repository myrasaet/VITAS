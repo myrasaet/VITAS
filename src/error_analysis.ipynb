{
 "cells": [
  {
   "cell_type": "code",
   "execution_count": 1,
   "metadata": {},
   "outputs": [
    {
     "name": "stderr",
     "output_type": "stream",
     "text": [
      "c:\\Users\\myras\\Documents\\MYMY\\ACADS\\AY 2023-2024 2ND SEM\\STAT299 - Capstone\\Repo\\VITAS - 5 pathology\\vitas-env\\lib\\site-packages\\scipy\\__init__.py:146: UserWarning: A NumPy version >=1.16.5 and <1.23.0 is required for this version of SciPy (detected version 1.24.1\n",
      "  warnings.warn(f\"A NumPy version >={np_minversion} and <{np_maxversion}\"\n"
     ]
    }
   ],
   "source": [
    "import pandas as pd\n",
    "import matplotlib.pyplot as plt\n",
    "import json\n",
    "from collections import Counter\n",
    "import ast\n",
    "import networkx as nx\n",
    "import re\n",
    "from constants import base_path, model_list, pathology_scope"
   ]
  },
  {
   "cell_type": "code",
   "execution_count": 2,
   "metadata": {},
   "outputs": [],
   "source": [
    "with open(f\"{base_path}\\\\input\\\\release_conditions.json\") as f:\n",
    "  disease_dict = json.load(f)\n",
    "if pathology_scope:\n",
    "  disease_list =  pathology_scope + [\"NA\"]\n",
    "else:\n",
    "  disease_list = list(disease_dict.keys()) + [\"NA\"]"
   ]
  },
  {
   "cell_type": "code",
   "execution_count": 3,
   "metadata": {},
   "outputs": [],
   "source": [
    "def eval(model_name):\n",
    "    print(f\"Evaluating {model_name}...\")\n",
    "    error_df = pd.read_csv(f\"{base_path}\\\\output\\\\error_analysis\\\\{model_name}\\\\validation_df_all_patients.csv\").fillna(\"NA\")\n",
    "    error_df = error_df[error_df[\"is_matched\"]==False]\n",
    "    error_df = error_df[[\"PATHOLOGY\", \"predicted_diagnosis\"]]\n",
    "    error_df[\"predicted_diagnosis\"] = [i if ast.literal_eval(i)!=[] else str(['NA']) for i in error_df[\"predicted_diagnosis\"]]\n",
    "    error_df[\"PATHOLOGY\"].value_counts().sort_values().plot.barh(figsize=(6, 8))\n",
    "    plt.title(f\"Prediction Error Frequency\\n({model_name})\")\n",
    "    plt.xlabel(\"Count\")\n",
    "    plt.savefig(f'{base_path}\\\\output\\\\error_analysis\\\\{model_name}\\\\pred_miss_freq.jpg', bbox_inches='tight')\n",
    "    plt.clf()\n",
    "    pred_miss_dict = {}\n",
    "    for disease in disease_list:\n",
    "        miss_list = []\n",
    "        for idx, row in error_df[error_df[\"PATHOLOGY\"]==disease].iterrows():\n",
    "            miss_list.extend(ast.literal_eval(row[\"predicted_diagnosis\"]))\n",
    "        miss_list = [i for i in miss_list if i!=disease]\n",
    "        if miss_list:\n",
    "            count = dict(Counter(miss_list))\n",
    "            pred_miss_dict[disease]={i: round(count[i] / len(miss_list), 3) for i in count}\n",
    "            # pred_miss_dict[disease]=dict(Counter(miss_list))\n",
    "    pred_miss_df = pd.DataFrame({\"disease\": pred_miss_dict.keys()})\n",
    "    for disease in disease_list:\n",
    "        pred_miss_df[disease]=[pred_miss_dict[i].get(disease, 0) for i in pred_miss_dict.keys()]\n",
    "    pred_miss_df.set_index('disease', inplace=True)\n",
    "    pred_miss_graph = pred_miss_df.stack()\n",
    "    pred_miss_graph = pred_miss_graph.rename_axis(('Actual', 'Prediction Miss')).reset_index(name='weight')\n",
    "    pred_miss_graph = pred_miss_graph[pred_miss_graph[\"weight\"]>0]\n",
    "    pred_miss_graph = pred_miss_graph.sort_values(['Actual','weight'], ascending=False)\n",
    "    pred_miss_graph.to_csv(f\"{base_path}\\\\output\\\\error_analysis\\\\{model_name}\\\\pred_miss_weigths.csv\", index=False)\n",
    "    G = nx.from_pandas_edgelist(pred_miss_graph, 'Actual', 'Prediction Miss', edge_attr='weight', create_using=nx.DiGraph())\n",
    "    pos = nx.spring_layout(G, seed=0)\n",
    "    fig = plt.figure(figsize=(15, 8))\n",
    "    weights = [G[u][v]['weight'] for u,v in G.edges()]\n",
    "    nx.draw(G, pos, edge_color=weights, edge_cmap=plt.cm.Blues, with_labels=True, arrowsize=20)\n",
    "    plt.title(\"Prediction Miss\", fontsize=20)\n",
    "    plt.tight_layout()\n",
    "    plt.savefig(f'{base_path}\\\\output\\\\error_analysis\\\\{model_name}\\\\pred_miss_network.jpg', bbox_inches='tight')\n",
    "    plt.clf()\n",
    "    for disease in pred_miss_dict:\n",
    "        G = nx.from_pandas_edgelist(pred_miss_graph[(pred_miss_graph[\"Actual\"]==disease) | (pred_miss_graph[\"Prediction Miss\"]==disease) ], 'Actual', 'Prediction Miss', edge_attr='weight', create_using=nx.DiGraph())\n",
    "        pos = nx.spring_layout(G, seed=0)\n",
    "        fig = plt.figure(figsize=(15, 8))\n",
    "        weights = [G[u][v]['weight'] for u,v in G.edges()]\n",
    "        nx.draw(G, pos, edge_color=weights, edge_cmap=plt.cm.Blues, with_labels=True, arrowsize=20)\n",
    "        plt.title(f\"Prediction Miss - {disease}\\n({model_name})\", fontsize=20)\n",
    "        plt.tight_layout()\n",
    "        img_filename = re.sub('[^a-zA-Z0-9 \\n\\.]', '', disease).replace(\" \", \"_\")\n",
    "        plt.savefig(f'{base_path}\\\\output\\\\error_analysis\\\\{model_name}\\\\pred_miss_{img_filename}.jpg', bbox_inches='tight')\n",
    "        plt.clf()\n"
   ]
  },
  {
   "cell_type": "markdown",
   "metadata": {},
   "source": [
    "## Tree-based models"
   ]
  },
  {
   "cell_type": "code",
   "execution_count": 4,
   "metadata": {},
   "outputs": [
    {
     "name": "stdout",
     "output_type": "stream",
     "text": [
      "Evaluating decision_tree...\n"
     ]
    },
    {
     "name": "stderr",
     "output_type": "stream",
     "text": [
      "C:\\Users\\myras\\AppData\\Local\\Temp\\ipykernel_18860\\703550363.py:37: UserWarning: This figure includes Axes that are not compatible with tight_layout, so results might be incorrect.\n",
      "  plt.tight_layout()\n",
      "C:\\Users\\myras\\AppData\\Local\\Temp\\ipykernel_18860\\703550363.py:47: UserWarning: This figure includes Axes that are not compatible with tight_layout, so results might be incorrect.\n",
      "  plt.tight_layout()\n"
     ]
    },
    {
     "name": "stdout",
     "output_type": "stream",
     "text": [
      "Evaluating random_forest...\n"
     ]
    },
    {
     "name": "stderr",
     "output_type": "stream",
     "text": [
      "C:\\Users\\myras\\AppData\\Local\\Temp\\ipykernel_18860\\703550363.py:37: UserWarning: This figure includes Axes that are not compatible with tight_layout, so results might be incorrect.\n",
      "  plt.tight_layout()\n",
      "C:\\Users\\myras\\AppData\\Local\\Temp\\ipykernel_18860\\703550363.py:47: UserWarning: This figure includes Axes that are not compatible with tight_layout, so results might be incorrect.\n",
      "  plt.tight_layout()\n"
     ]
    },
    {
     "name": "stdout",
     "output_type": "stream",
     "text": [
      "Evaluating gradient_boost...\n"
     ]
    },
    {
     "name": "stderr",
     "output_type": "stream",
     "text": [
      "C:\\Users\\myras\\AppData\\Local\\Temp\\ipykernel_18860\\703550363.py:37: UserWarning: This figure includes Axes that are not compatible with tight_layout, so results might be incorrect.\n",
      "  plt.tight_layout()\n",
      "C:\\Users\\myras\\AppData\\Local\\Temp\\ipykernel_18860\\703550363.py:47: UserWarning: This figure includes Axes that are not compatible with tight_layout, so results might be incorrect.\n",
      "  plt.tight_layout()\n"
     ]
    },
    {
     "data": {
      "text/plain": [
       "<Figure size 600x800 with 0 Axes>"
      ]
     },
     "metadata": {},
     "output_type": "display_data"
    },
    {
     "data": {
      "text/plain": [
       "<Figure size 1500x800 with 0 Axes>"
      ]
     },
     "metadata": {},
     "output_type": "display_data"
    },
    {
     "data": {
      "text/plain": [
       "<Figure size 1500x800 with 0 Axes>"
      ]
     },
     "metadata": {},
     "output_type": "display_data"
    },
    {
     "data": {
      "text/plain": [
       "<Figure size 1500x800 with 0 Axes>"
      ]
     },
     "metadata": {},
     "output_type": "display_data"
    },
    {
     "data": {
      "text/plain": [
       "<Figure size 1500x800 with 0 Axes>"
      ]
     },
     "metadata": {},
     "output_type": "display_data"
    },
    {
     "data": {
      "text/plain": [
       "<Figure size 1500x800 with 0 Axes>"
      ]
     },
     "metadata": {},
     "output_type": "display_data"
    },
    {
     "data": {
      "text/plain": [
       "<Figure size 1500x800 with 0 Axes>"
      ]
     },
     "metadata": {},
     "output_type": "display_data"
    },
    {
     "data": {
      "text/plain": [
       "<Figure size 600x800 with 0 Axes>"
      ]
     },
     "metadata": {},
     "output_type": "display_data"
    },
    {
     "data": {
      "text/plain": [
       "<Figure size 1500x800 with 0 Axes>"
      ]
     },
     "metadata": {},
     "output_type": "display_data"
    },
    {
     "data": {
      "text/plain": [
       "<Figure size 1500x800 with 0 Axes>"
      ]
     },
     "metadata": {},
     "output_type": "display_data"
    },
    {
     "data": {
      "text/plain": [
       "<Figure size 600x800 with 0 Axes>"
      ]
     },
     "metadata": {},
     "output_type": "display_data"
    },
    {
     "data": {
      "text/plain": [
       "<Figure size 1500x800 with 0 Axes>"
      ]
     },
     "metadata": {},
     "output_type": "display_data"
    },
    {
     "data": {
      "text/plain": [
       "<Figure size 1500x800 with 0 Axes>"
      ]
     },
     "metadata": {},
     "output_type": "display_data"
    },
    {
     "data": {
      "text/plain": [
       "<Figure size 1500x800 with 0 Axes>"
      ]
     },
     "metadata": {},
     "output_type": "display_data"
    },
    {
     "data": {
      "text/plain": [
       "<Figure size 1500x800 with 0 Axes>"
      ]
     },
     "metadata": {},
     "output_type": "display_data"
    },
    {
     "data": {
      "text/plain": [
       "<Figure size 1500x800 with 0 Axes>"
      ]
     },
     "metadata": {},
     "output_type": "display_data"
    },
    {
     "data": {
      "text/plain": [
       "<Figure size 1500x800 with 0 Axes>"
      ]
     },
     "metadata": {},
     "output_type": "display_data"
    }
   ],
   "source": [
    "for model_name in model_list[\"tree-based\"]:\n",
    "    eval(model_name)"
   ]
  },
  {
   "cell_type": "markdown",
   "metadata": {},
   "source": [
    "## Logistic Regression"
   ]
  },
  {
   "cell_type": "code",
   "execution_count": 5,
   "metadata": {},
   "outputs": [
    {
     "name": "stdout",
     "output_type": "stream",
     "text": [
      "Evaluating logistic_regression...\n"
     ]
    },
    {
     "name": "stderr",
     "output_type": "stream",
     "text": [
      "C:\\Users\\myras\\AppData\\Local\\Temp\\ipykernel_18860\\703550363.py:37: UserWarning: This figure includes Axes that are not compatible with tight_layout, so results might be incorrect.\n",
      "  plt.tight_layout()\n",
      "C:\\Users\\myras\\AppData\\Local\\Temp\\ipykernel_18860\\703550363.py:47: UserWarning: This figure includes Axes that are not compatible with tight_layout, so results might be incorrect.\n",
      "  plt.tight_layout()\n"
     ]
    },
    {
     "data": {
      "text/plain": [
       "<Figure size 600x800 with 0 Axes>"
      ]
     },
     "metadata": {},
     "output_type": "display_data"
    },
    {
     "data": {
      "text/plain": [
       "<Figure size 1500x800 with 0 Axes>"
      ]
     },
     "metadata": {},
     "output_type": "display_data"
    },
    {
     "data": {
      "text/plain": [
       "<Figure size 1500x800 with 0 Axes>"
      ]
     },
     "metadata": {},
     "output_type": "display_data"
    },
    {
     "data": {
      "text/plain": [
       "<Figure size 1500x800 with 0 Axes>"
      ]
     },
     "metadata": {},
     "output_type": "display_data"
    },
    {
     "data": {
      "text/plain": [
       "<Figure size 1500x800 with 0 Axes>"
      ]
     },
     "metadata": {},
     "output_type": "display_data"
    }
   ],
   "source": [
    "eval(\"logistic_regression\")"
   ]
  },
  {
   "cell_type": "code",
   "execution_count": null,
   "metadata": {},
   "outputs": [],
   "source": []
  }
 ],
 "metadata": {
  "kernelspec": {
   "display_name": "Python 3",
   "language": "python",
   "name": "python3"
  },
  "language_info": {
   "codemirror_mode": {
    "name": "ipython",
    "version": 3
   },
   "file_extension": ".py",
   "mimetype": "text/x-python",
   "name": "python",
   "nbconvert_exporter": "python",
   "pygments_lexer": "ipython3",
   "version": "3.10.0"
  }
 },
 "nbformat": 4,
 "nbformat_minor": 2
}
