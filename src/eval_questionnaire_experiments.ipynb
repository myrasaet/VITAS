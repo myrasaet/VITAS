{
 "cells": [
  {
   "cell_type": "code",
   "execution_count": 30,
   "metadata": {},
   "outputs": [],
   "source": [
    "import pandas as pd\n",
    "import numpy as np\n",
    "import json\n",
    "import ast\n",
    "import re\n",
    "import os\n",
    "import pickle\n",
    "from tqdm import tqdm\n",
    "from constants import base_path, model_list, max_n_questions, pathology_scope, positive_threshold\n",
    "import matplotlib.pyplot as plt\n",
    "tqdm.pandas()\n",
    "import warnings\n",
    "warnings.filterwarnings(\"ignore\")\n",
    "from tqdm import tqdm\n",
    "tqdm.pandas()"
   ]
  },
  {
   "cell_type": "code",
   "execution_count": 31,
   "metadata": {},
   "outputs": [],
   "source": [
    "with open(f\"{base_path}\\\\input\\\\release_conditions.json\") as f:\n",
    "  disease_dict = json.load(f)\n",
    "if pathology_scope:\n",
    "  disease_list =  pathology_scope\n",
    "else:\n",
    "  disease_list = list(disease_dict.keys())"
   ]
  },
  {
   "cell_type": "code",
   "execution_count": 32,
   "metadata": {},
   "outputs": [],
   "source": [
    "with open(f\"{base_path}\\\\input\\\\release_evidences.json\") as f:\n",
    "  evidences = json.load(f)\n",
    "evidences_list = []\n",
    "evidences_dict = {}\n",
    "evidences_en_to_code = {}\n",
    "for e in evidences.keys():\n",
    "  # only binary symptoms and antecedents\n",
    "  if (not evidences[e][\"possible-values\"]):\n",
    "    evidences_list.append(e)\n",
    "    evidences_dict[e] = evidences[e][\"question_en\"]\n",
    "    evidences_en_to_code[evidences[e][\"question_en\"]] = e\n",
    "evidences_code_to_en = evidences_dict\n",
    "evidences_list_en = list(evidences_en_to_code.keys())\n",
    "evidences_dict[\"AGE\"] = \"AGE\"\n",
    "evidences_dict[\"SEX\"] = \"SEX\"\n",
    "feature_columns = [\"AGE\", \"SEX\"] + evidences_list"
   ]
  },
  {
   "cell_type": "code",
   "execution_count": 33,
   "metadata": {},
   "outputs": [],
   "source": [
    "def get_next_question(evidences, questionnaire, feature_embeddings_df):\n",
    "    centroid = np.array([feature_embeddings_df.loc[e].values for e in evidences]).mean(axis=0)\n",
    "    _, indices = questionnaire.kneighbors([centroid])\n",
    "    ask_list = [evidences_list_en[i] for i in indices[0] if evidences_list_en[i] not in evidences]\n",
    "    try:\n",
    "        return ask_list\n",
    "    except:\n",
    "        return []"
   ]
  },
  {
   "cell_type": "code",
   "execution_count": 34,
   "metadata": {},
   "outputs": [],
   "source": [
    "def get_evidences(answers, user_evidences, questionnaire, feature_embeddings_df, n_questions):\n",
    "    ask = True\n",
    "    question_counter = 1 # counts initial evidence sa q0\n",
    "    evidences_en = [evidences_code_to_en[e] for e in user_evidences]\n",
    "    answers_en = [evidences_code_to_en[e] for e in answers if e in evidences_list]\n",
    "    asked = evidences_en.copy()\n",
    "    while question_counter < n_questions:\n",
    "      ask =  True\n",
    "      next_question_idx = 0\n",
    "      next_question = get_next_question(evidences_en, questionnaire, feature_embeddings_df)\n",
    "      while ask and (question_counter < n_questions):\n",
    "        if next_question[next_question_idx] not in asked:\n",
    "          answer = 1 if next_question[next_question_idx] in answers_en else 0\n",
    "          asked.append(next_question[next_question_idx])\n",
    "          question_counter+=1\n",
    "          if answer==1:\n",
    "            evidences_en.append(next_question[next_question_idx])\n",
    "            ask = False\n",
    "          else:\n",
    "            next_question_idx += 1\n",
    "          if next_question_idx > n_questions:\n",
    "            break\n",
    "        else:\n",
    "            next_question_idx += 1\n",
    "    return [evidences_en_to_code[e] for e in evidences_en]"
   ]
  },
  {
   "cell_type": "code",
   "execution_count": 35,
   "metadata": {},
   "outputs": [],
   "source": [
    "def data_proc(df, questionnaire, feature_embeddings_df, n_questions):\n",
    "    df[\"binary_evidences_all\"] = df[\"EVIDENCES\"].apply(lambda x: [d for d in ast.literal_eval(x) if d in evidences_list])\n",
    "    df[\"binary_evidences_all_count\"] = df[\"binary_evidences_all\"].apply(lambda x: len(x))\n",
    "    df[\"binary_evidences\"] = df[[\"EVIDENCES\", \"INITIAL_EVIDENCE\"]].progress_apply(lambda x: get_evidences(ast.literal_eval(x[0]), [x[1]], questionnaire, feature_embeddings_df, n_questions), axis=1)\n",
    "    df[\"binary_evidences_count\"] = df[\"binary_evidences\"].apply(lambda x: len(x))\n",
    "    df[\"hit_rate\"] = df[\"binary_evidences_count\"]/df[\"binary_evidences_all_count\"]\n",
    "    hit_rate = df[\"hit_rate\"]\n",
    "    for e in evidences_list:\n",
    "        df[e] = df[\"binary_evidences\"].apply(lambda x: 1 if e in x else 0)\n",
    "    df[\"SEX\"] = df[\"SEX\"].map({'F': 0, 'M': 1})\n",
    "    ftr_df = df[feature_columns + [\"PATHOLOGY\"]]\n",
    "    questionnaire_df = df[[\"binary_evidences_all\", \"binary_evidences\", \"INITIAL_EVIDENCE\"]]\n",
    "    return ftr_df, hit_rate, questionnaire_df"
   ]
  },
  {
   "cell_type": "code",
   "execution_count": 36,
   "metadata": {},
   "outputs": [],
   "source": [
    "def pred(x):\n",
    "    pred_list = []\n",
    "    for i in range(len(disease_list)):\n",
    "        if x[i] >= positive_threshold:\n",
    "            pred_list.append({\n",
    "                \"disease\": disease_list[i],\n",
    "                \"probability\": x[i]})\n",
    "    if pred_list:\n",
    "        pred_df = pd.DataFrame(pred_list).set_index('disease')\n",
    "        # return only top 1 - allows ties\n",
    "        pred_df['rank'] = pred_df['probability'].rank(method='min', ascending=False)\n",
    "        pred_df = pred_df.sort_values(by=\"rank\")\n",
    "        pred_df = pred_df[pred_df[\"rank\"]<=1][[\"probability\"]]\n",
    "        if pred_df.shape[0] > 1: # in case of tied rankings\n",
    "            pred_df = pred_df.sample(random_state=1)\n",
    "        return list(pred_df.index)\n",
    "    else:\n",
    "        return []"
   ]
  },
  {
   "cell_type": "code",
   "execution_count": 37,
   "metadata": {},
   "outputs": [],
   "source": [
    "def get_missed_evidence(actual, asked):\n",
    "    return list(set(actual)^set(asked))"
   ]
  },
  {
   "cell_type": "code",
   "execution_count": 38,
   "metadata": {},
   "outputs": [],
   "source": [
    "def validate(x):\n",
    "    if x[0]:\n",
    "        return [x[0]]==x[1]\n",
    "    else:\n",
    "        return not x[1]"
   ]
  },
  {
   "cell_type": "code",
   "execution_count": 39,
   "metadata": {},
   "outputs": [],
   "source": [
    "with open(f'{base_path}\\\\output\\\\questionnaire\\\\questionnaire.pkl', 'rb') as f:\n",
    "    questionnaire = pickle.load(f)\n",
    "feature_embeddings_df = pd.read_pickle(f'{base_path}\\\\output\\\\questionnaire\\\\questionnaire_embeddings.pkl')"
   ]
  },
  {
   "cell_type": "code",
   "execution_count": 40,
   "metadata": {},
   "outputs": [
    {
     "data": {
      "text/html": [
       "<div>\n",
       "<style scoped>\n",
       "    .dataframe tbody tr th:only-of-type {\n",
       "        vertical-align: middle;\n",
       "    }\n",
       "\n",
       "    .dataframe tbody tr th {\n",
       "        vertical-align: top;\n",
       "    }\n",
       "\n",
       "    .dataframe thead th {\n",
       "        text-align: right;\n",
       "    }\n",
       "</style>\n",
       "<table border=\"1\" class=\"dataframe\">\n",
       "  <thead>\n",
       "    <tr style=\"text-align: right;\">\n",
       "      <th></th>\n",
       "      <th>AGE</th>\n",
       "      <th>DIFFERENTIAL_DIAGNOSIS</th>\n",
       "      <th>SEX</th>\n",
       "      <th>PATHOLOGY</th>\n",
       "      <th>EVIDENCES</th>\n",
       "      <th>INITIAL_EVIDENCE</th>\n",
       "    </tr>\n",
       "  </thead>\n",
       "  <tbody>\n",
       "    <tr>\n",
       "      <th>0</th>\n",
       "      <td>55</td>\n",
       "      <td>[['Anemia', 0.25071110167158567], ['Atrial fib...</td>\n",
       "      <td>F</td>\n",
       "      <td></td>\n",
       "      <td>['E_7', 'E_24', 'E_26', 'E_53', 'E_54_@_V_180'...</td>\n",
       "      <td>E_154</td>\n",
       "    </tr>\n",
       "    <tr>\n",
       "      <th>1</th>\n",
       "      <td>10</td>\n",
       "      <td>[['Guillain-Barré syndrome', 0.135558991316712...</td>\n",
       "      <td>F</td>\n",
       "      <td></td>\n",
       "      <td>['E_16', 'E_29', 'E_50', 'E_53', 'E_54_@_V_182...</td>\n",
       "      <td>E_171</td>\n",
       "    </tr>\n",
       "    <tr>\n",
       "      <th>2</th>\n",
       "      <td>68</td>\n",
       "      <td>[['Influenza', 0.1900250899717378], ['Viral ph...</td>\n",
       "      <td>F</td>\n",
       "      <td></td>\n",
       "      <td>['E_50', 'E_53', 'E_54_@_V_183', 'E_54_@_V_198...</td>\n",
       "      <td>E_53</td>\n",
       "    </tr>\n",
       "    <tr>\n",
       "      <th>3</th>\n",
       "      <td>13</td>\n",
       "      <td>[['Anemia', 0.18697604010451876], ['Atrial fib...</td>\n",
       "      <td>M</td>\n",
       "      <td></td>\n",
       "      <td>['E_7', 'E_24', 'E_26', 'E_53', 'E_54_@_V_180'...</td>\n",
       "      <td>E_53</td>\n",
       "    </tr>\n",
       "    <tr>\n",
       "      <th>4</th>\n",
       "      <td>48</td>\n",
       "      <td>[['Boerhaave', 1.0]]</td>\n",
       "      <td>M</td>\n",
       "      <td></td>\n",
       "      <td>['E_53', 'E_54_@_V_71', 'E_54_@_V_112', 'E_54_...</td>\n",
       "      <td>E_53</td>\n",
       "    </tr>\n",
       "    <tr>\n",
       "      <th>...</th>\n",
       "      <td>...</td>\n",
       "      <td>...</td>\n",
       "      <td>...</td>\n",
       "      <td>...</td>\n",
       "      <td>...</td>\n",
       "      <td>...</td>\n",
       "    </tr>\n",
       "    <tr>\n",
       "      <th>132443</th>\n",
       "      <td>27</td>\n",
       "      <td>[['Viral pharyngitis', 0.22702125813983617], [...</td>\n",
       "      <td>M</td>\n",
       "      <td></td>\n",
       "      <td>['E_41', 'E_48', 'E_53', 'E_54_@_V_161', 'E_55...</td>\n",
       "      <td>E_201</td>\n",
       "    </tr>\n",
       "    <tr>\n",
       "      <th>132444</th>\n",
       "      <td>57</td>\n",
       "      <td>[['Acute pulmonary edema', 0.12078088376840804...</td>\n",
       "      <td>M</td>\n",
       "      <td></td>\n",
       "      <td>['E_5', 'E_53', 'E_54_@_V_154', 'E_54_@_V_183'...</td>\n",
       "      <td>E_151</td>\n",
       "    </tr>\n",
       "    <tr>\n",
       "      <th>132445</th>\n",
       "      <td>52</td>\n",
       "      <td>[['GERD', 0.24494427036287517], ['Bronchitis',...</td>\n",
       "      <td>F</td>\n",
       "      <td>GERD</td>\n",
       "      <td>['E_53', 'E_54_@_V_112', 'E_54_@_V_161', 'E_54...</td>\n",
       "      <td>E_173</td>\n",
       "    </tr>\n",
       "    <tr>\n",
       "      <th>132446</th>\n",
       "      <td>10</td>\n",
       "      <td>[['Epiglottitis', 0.2969684152571116], ['HIV (...</td>\n",
       "      <td>M</td>\n",
       "      <td></td>\n",
       "      <td>['E_53', 'E_54_@_V_179', 'E_54_@_V_192', 'E_55...</td>\n",
       "      <td>E_91</td>\n",
       "    </tr>\n",
       "    <tr>\n",
       "      <th>132447</th>\n",
       "      <td>7</td>\n",
       "      <td>[['Myocarditis', 0.31486179044904566], ['Anemi...</td>\n",
       "      <td>F</td>\n",
       "      <td></td>\n",
       "      <td>['E_0', 'E_53', 'E_54_@_V_161', 'E_55_@_V_29',...</td>\n",
       "      <td>E_53</td>\n",
       "    </tr>\n",
       "  </tbody>\n",
       "</table>\n",
       "<p>132448 rows × 6 columns</p>\n",
       "</div>"
      ],
      "text/plain": [
       "        AGE                             DIFFERENTIAL_DIAGNOSIS SEX PATHOLOGY  \\\n",
       "0        55  [['Anemia', 0.25071110167158567], ['Atrial fib...   F             \n",
       "1        10  [['Guillain-Barré syndrome', 0.135558991316712...   F             \n",
       "2        68  [['Influenza', 0.1900250899717378], ['Viral ph...   F             \n",
       "3        13  [['Anemia', 0.18697604010451876], ['Atrial fib...   M             \n",
       "4        48                               [['Boerhaave', 1.0]]   M             \n",
       "...     ...                                                ...  ..       ...   \n",
       "132443   27  [['Viral pharyngitis', 0.22702125813983617], [...   M             \n",
       "132444   57  [['Acute pulmonary edema', 0.12078088376840804...   M             \n",
       "132445   52  [['GERD', 0.24494427036287517], ['Bronchitis',...   F      GERD   \n",
       "132446   10  [['Epiglottitis', 0.2969684152571116], ['HIV (...   M             \n",
       "132447    7  [['Myocarditis', 0.31486179044904566], ['Anemi...   F             \n",
       "\n",
       "                                                EVIDENCES INITIAL_EVIDENCE  \n",
       "0       ['E_7', 'E_24', 'E_26', 'E_53', 'E_54_@_V_180'...            E_154  \n",
       "1       ['E_16', 'E_29', 'E_50', 'E_53', 'E_54_@_V_182...            E_171  \n",
       "2       ['E_50', 'E_53', 'E_54_@_V_183', 'E_54_@_V_198...             E_53  \n",
       "3       ['E_7', 'E_24', 'E_26', 'E_53', 'E_54_@_V_180'...             E_53  \n",
       "4       ['E_53', 'E_54_@_V_71', 'E_54_@_V_112', 'E_54_...             E_53  \n",
       "...                                                   ...              ...  \n",
       "132443  ['E_41', 'E_48', 'E_53', 'E_54_@_V_161', 'E_55...            E_201  \n",
       "132444  ['E_5', 'E_53', 'E_54_@_V_154', 'E_54_@_V_183'...            E_151  \n",
       "132445  ['E_53', 'E_54_@_V_112', 'E_54_@_V_161', 'E_54...            E_173  \n",
       "132446  ['E_53', 'E_54_@_V_179', 'E_54_@_V_192', 'E_55...             E_91  \n",
       "132447  ['E_0', 'E_53', 'E_54_@_V_161', 'E_55_@_V_29',...             E_53  \n",
       "\n",
       "[132448 rows x 6 columns]"
      ]
     },
     "execution_count": 40,
     "metadata": {},
     "output_type": "execute_result"
    }
   ],
   "source": [
    "diagnosis_df_valid = pd.read_csv(f\"{base_path}\\\\input\\\\release_validate_patients\")\n",
    "diagnosis_df_valid[\"PATHOLOGY\"] = [i if i in disease_list else \"\" for i in diagnosis_df_valid[\"PATHOLOGY\"]]\n",
    "diagnosis_df_valid"
   ]
  },
  {
   "cell_type": "code",
   "execution_count": 41,
   "metadata": {},
   "outputs": [
    {
     "name": "stderr",
     "output_type": "stream",
     "text": [
      "100%|██████████| 5/5 [00:00<00:00, 72.13it/s]\n"
     ]
    },
    {
     "data": {
      "text/plain": [
       "(   AGE  SEX  E_91  E_53  E_159  E_129  E_154  E_155  E_210  E_140  ...  E_199  \\\n",
       " 0   55    0     0     1      0      0      1      0      0      1  ...      0   \n",
       " 1   10    0     0     1      0      0      0      1      0      0  ...      0   \n",
       " 2   68    0     1     1      0      1      0      0      0      0  ...      0   \n",
       " 3   13    1     0     1      0      0      0      0      0      0  ...      0   \n",
       " 4   48    1     0     1      0      0      0      0      1      0  ...      0   \n",
       " \n",
       "    E_121  E_120  E_142  E_195  E_183  E_224  E_223  E_5  PATHOLOGY  \n",
       " 0      0      0      0      0      0      0      0    0             \n",
       " 1      0      0      0      0      0      0      0    0             \n",
       " 2      0      0      0      0      0      0      0    0             \n",
       " 3      0      0      0      0      0      0      0    0             \n",
       " 4      0      0      0      0      0      0      0    0             \n",
       " \n",
       " [5 rows x 211 columns],\n",
       " 0    1.000000\n",
       " 1    0.933333\n",
       " 2    1.000000\n",
       " 3    0.250000\n",
       " 4    1.000000\n",
       " Name: hit_rate, dtype: float64,\n",
       "                                 binary_evidences_all  \\\n",
       " 0  [E_7, E_24, E_26, E_53, E_76, E_82, E_88, E_89...   \n",
       " 1  [E_16, E_29, E_50, E_53, E_66, E_75, E_80, E_8...   \n",
       " 2  [E_50, E_53, E_79, E_88, E_91, E_94, E_129, E_...   \n",
       " 3  [E_7, E_24, E_26, E_53, E_66, E_76, E_82, E_89...   \n",
       " 4                         [E_53, E_78, E_148, E_210]   \n",
       " \n",
       "                                     binary_evidences INITIAL_EVIDENCE  \n",
       " 0  [E_154, E_113, E_26, E_24, E_7, E_146, E_140, ...            E_154  \n",
       " 1  [E_171, E_185, E_81, E_75, E_80, E_111, E_29, ...            E_171  \n",
       " 2  [E_53, E_79, E_91, E_181, E_144, E_50, E_161, ...             E_53  \n",
       " 3                                 [E_53, E_66, E_89]             E_53  \n",
       " 4                         [E_53, E_78, E_148, E_210]             E_53  )"
      ]
     },
     "execution_count": 41,
     "metadata": {},
     "output_type": "execute_result"
    }
   ],
   "source": [
    "# test\n",
    "data_proc(diagnosis_df_valid.head(5), questionnaire, feature_embeddings_df, n_questions=20)"
   ]
  },
  {
   "cell_type": "code",
   "execution_count": 42,
   "metadata": {},
   "outputs": [],
   "source": [
    "questionnaire_dict = {}\n",
    "n_questions_list = list(range(5, max_n_questions, 5))\n",
    "if max_n_questions not in n_questions_list:\n",
    "    n_questions_list.append(max_n_questions)"
   ]
  },
  {
   "cell_type": "code",
   "execution_count": 43,
   "metadata": {},
   "outputs": [
    {
     "name": "stdout",
     "output_type": "stream",
     "text": [
      "Asking 5 questions...\n",
      "Asking 10 questions...\n",
      "Asking 15 questions...\n",
      "Asking 20 questions...\n",
      "Asking 25 questions...\n",
      "Asking 30 questions...\n",
      "Asking 35 questions...\n",
      "Asking 40 questions...\n",
      "Asking 45 questions...\n",
      "Asking 50 questions...\n",
      "Asking 55 questions...\n",
      "Asking 60 questions...\n",
      "Asking 65 questions...\n",
      "Asking 70 questions...\n",
      "Asking 75 questions...\n",
      "Asking 80 questions...\n",
      "Asking 85 questions...\n",
      "Asking 90 questions...\n",
      "Asking 95 questions...\n",
      "Asking 100 questions...\n",
      "Asking 105 questions...\n",
      "Asking 110 questions...\n",
      "Asking 115 questions...\n",
      "Asking 120 questions...\n",
      "Asking 125 questions...\n",
      "Asking 130 questions...\n",
      "Asking 135 questions...\n",
      "Asking 140 questions...\n",
      "Asking 145 questions...\n",
      "Asking 150 questions...\n",
      "Asking 155 questions...\n",
      "Asking 160 questions...\n",
      "Asking 165 questions...\n",
      "Asking 170 questions...\n",
      "Asking 175 questions...\n",
      "Asking 180 questions...\n",
      "Asking 185 questions...\n",
      "Asking 190 questions...\n",
      "Asking 195 questions...\n",
      "Asking 200 questions...\n",
      "Asking 205 questions...\n",
      "Asking 208 questions...\n"
     ]
    }
   ],
   "source": [
    "data_path = f\"{base_path}\\\\processed\\\\questionnaire_experiments\"\n",
    "if not os.path.exists(data_path):\n",
    "    os.makedirs(data_path)\n",
    "\n",
    "# is_load_data default is False\n",
    "# if data is already available in processed folder, change to True\n",
    "is_load_data = False\n",
    "    \n",
    "for n_questions in n_questions_list:\n",
    "    diagnosis_df_valid = pd.read_csv(f\"{base_path}\\\\input\\\\release_validate_patients\")\n",
    "    print(f\"Asking {n_questions} questions...\")\n",
    "    if not is_load_data:\n",
    "        diagnosis_df_valid, hit_rate, questionnaire_df = data_proc(diagnosis_df_valid, questionnaire, feature_embeddings_df, n_questions)\n",
    "        with open(f\"{data_path}\\\\diagnosis_df_valid_{n_questions}.pkl\",'wb') as f:\n",
    "            pickle.dump(diagnosis_df_valid, f)\n",
    "        with open(f\"{data_path}\\\\hit_rate_{n_questions}.pkl\",'wb') as f:\n",
    "            pickle.dump(hit_rate, f)\n",
    "    else:\n",
    "        with open(f'{data_path}\\\\diagnosis_df_valid_{n_questions}.pkl', 'rb') as f:\n",
    "            diagnosis_df_valid = pickle.load(f)\n",
    "        with open(f'{data_path}\\\\hit_rate_{n_questions}.pkl', 'rb') as f:\n",
    "            hit_rate = pickle.load(f)\n",
    "    questionnaire_dict[f\"questionnaire_data_{n_questions}\"] = {\n",
    "        \"diagnosis_df_valid\": diagnosis_df_valid,\n",
    "        \"hit_rate\": hit_rate,\n",
    "    }\n"
   ]
  },
  {
   "cell_type": "code",
   "execution_count": 46,
   "metadata": {},
   "outputs": [],
   "source": [
    "metrics_dict = {model_name:{} for model_name in model_list[\"tree-based\"]}\n",
    "metrics_dict[\"logistic_regression\"] = {}"
   ]
  },
  {
   "cell_type": "code",
   "execution_count": 47,
   "metadata": {},
   "outputs": [],
   "source": [
    "experiment_path = f\"{base_path}\\\\output\\\\error_analysis_questionnaire\"\n",
    "if not os.path.exists(experiment_path):\n",
    "    os.makedirs(experiment_path)"
   ]
  },
  {
   "cell_type": "code",
   "execution_count": 48,
   "metadata": {},
   "outputs": [],
   "source": [
    "def experiment(model_name):\n",
    "    print(f\"Evaluating {model_name}...\")\n",
    "    model_dict = {}\n",
    "    for disease in disease_list:\n",
    "        disease_filename = re.sub('[^a-zA-Z0-9 \\n\\.]', '', disease).replace(\" \", \"_\")\n",
    "        with open(f'{base_path}\\\\output\\\\diseases\\\\{disease_filename}\\\\{model_name}\\\\{disease_filename}_model.pkl', 'rb') as f:\n",
    "            model_dict[disease] = pickle.load(f)\n",
    "    for n_questions in n_questions_list:\n",
    "        diagnosis_df_valid = questionnaire_dict[f\"questionnaire_data_{n_questions}\"][\"diagnosis_df_valid\"]\n",
    "        diagnosis_df_valid[\"PATHOLOGY\"] = [i if i in disease_list else \"\" for i in diagnosis_df_valid[\"PATHOLOGY\"]]\n",
    "        hit_rate = questionnaire_dict[f\"questionnaire_data_{n_questions}\"][\"hit_rate\"]\n",
    "        print(f\"using {n_questions} questions predicting diagnosis...\")\n",
    "        for disease in disease_list:\n",
    "            clf_model = model_dict[disease]\n",
    "            diagnosis_df_valid[disease] = np.round(clf_model.predict_proba(diagnosis_df_valid[feature_columns])[:,1], 2)\n",
    "        diagnosis_df_valid[\"predicted_diagnosis\"] = diagnosis_df_valid[disease_list].progress_apply(lambda x: pred(x), axis=1)\n",
    "        diagnosis_df_valid[\"is_matched\"] = diagnosis_df_valid[[\"PATHOLOGY\", \"predicted_diagnosis\"]].progress_apply(lambda x: validate(x), axis=1)\n",
    "        diagnosis_df_valid[\"hit_rate\"] = hit_rate\n",
    "        print(\"validating...\")\n",
    "        acc = diagnosis_df_valid.is_matched.value_counts().to_dict()\n",
    "        if False not in acc:\n",
    "            acc[False] = 0\n",
    "        acc[\"error_rate\"] = acc[False]/len(diagnosis_df_valid)\n",
    "        acc[\"mean_hit_rate\"] = np.mean(hit_rate)\n",
    "        hit_rate_misdiagnosed = diagnosis_df_valid[diagnosis_df_valid[\"is_matched\"]==False][\"hit_rate\"]\n",
    "        acc[\"mean_hit_rate_misdiagnosed\"] = np.mean(hit_rate_misdiagnosed)\n",
    "        metrics_dict[model_name][f\"n_questions_{n_questions}\"] = acc      \n",
    "    metrics_dict[model_name][\"plt_y\"] = [metrics_dict[model_name][f\"n_questions_{i}\"][\"error_rate\"] for i in n_questions_list]\n",
    "    if not os.path.exists(f\"{experiment_path}\\\\{model_name}\"):\n",
    "        os.makedirs(f\"{experiment_path}\\\\{model_name}\")\n",
    "    with open(f\"{experiment_path}\\\\{model_name}\\\\validation_metric_questionnaire_experiments.json\", \"w\") as outfile: \n",
    "        json.dump(metrics_dict[model_name], outfile, indent=True)\n",
    "    "
   ]
  },
  {
   "cell_type": "markdown",
   "metadata": {},
   "source": [
    "## Tree-based models"
   ]
  },
  {
   "cell_type": "code",
   "execution_count": 49,
   "metadata": {},
   "outputs": [
    {
     "name": "stdout",
     "output_type": "stream",
     "text": [
      "Evaluating decision_tree...\n",
      "using 5 questions predicting diagnosis...\n"
     ]
    },
    {
     "name": "stderr",
     "output_type": "stream",
     "text": [
      "100%|██████████| 132448/132448 [00:23<00:00, 5649.66it/s]\n",
      "100%|██████████| 132448/132448 [00:01<00:00, 132434.52it/s]\n"
     ]
    },
    {
     "name": "stdout",
     "output_type": "stream",
     "text": [
      "validating...\n",
      "using 10 questions predicting diagnosis...\n"
     ]
    },
    {
     "name": "stderr",
     "output_type": "stream",
     "text": [
      "100%|██████████| 132448/132448 [00:23<00:00, 5660.32it/s]\n",
      "100%|██████████| 132448/132448 [00:01<00:00, 130190.32it/s]\n"
     ]
    },
    {
     "name": "stdout",
     "output_type": "stream",
     "text": [
      "validating...\n",
      "using 15 questions predicting diagnosis...\n"
     ]
    },
    {
     "name": "stderr",
     "output_type": "stream",
     "text": [
      "100%|██████████| 132448/132448 [00:23<00:00, 5581.42it/s]\n",
      "100%|██████████| 132448/132448 [00:00<00:00, 139788.18it/s]\n"
     ]
    },
    {
     "name": "stdout",
     "output_type": "stream",
     "text": [
      "validating...\n",
      "using 20 questions predicting diagnosis...\n"
     ]
    },
    {
     "name": "stderr",
     "output_type": "stream",
     "text": [
      "100%|██████████| 132448/132448 [00:23<00:00, 5743.36it/s]\n",
      "100%|██████████| 132448/132448 [00:01<00:00, 130318.04it/s]\n"
     ]
    },
    {
     "name": "stdout",
     "output_type": "stream",
     "text": [
      "validating...\n",
      "using 25 questions predicting diagnosis...\n"
     ]
    },
    {
     "name": "stderr",
     "output_type": "stream",
     "text": [
      "100%|██████████| 132448/132448 [00:23<00:00, 5633.92it/s]\n",
      "100%|██████████| 132448/132448 [00:00<00:00, 137699.71it/s]\n"
     ]
    },
    {
     "name": "stdout",
     "output_type": "stream",
     "text": [
      "validating...\n",
      "using 30 questions predicting diagnosis...\n"
     ]
    },
    {
     "name": "stderr",
     "output_type": "stream",
     "text": [
      "100%|██████████| 132448/132448 [00:22<00:00, 5849.39it/s]\n",
      "100%|██████████| 132448/132448 [00:00<00:00, 141865.00it/s]\n"
     ]
    },
    {
     "name": "stdout",
     "output_type": "stream",
     "text": [
      "validating...\n",
      "using 35 questions predicting diagnosis...\n"
     ]
    },
    {
     "name": "stderr",
     "output_type": "stream",
     "text": [
      "100%|██████████| 132448/132448 [00:22<00:00, 5857.08it/s]\n",
      "100%|██████████| 132448/132448 [00:00<00:00, 133398.45it/s]\n"
     ]
    },
    {
     "name": "stdout",
     "output_type": "stream",
     "text": [
      "validating...\n",
      "using 40 questions predicting diagnosis...\n"
     ]
    },
    {
     "name": "stderr",
     "output_type": "stream",
     "text": [
      "100%|██████████| 132448/132448 [00:22<00:00, 5896.09it/s]\n",
      "100%|██████████| 132448/132448 [00:00<00:00, 143221.70it/s]\n"
     ]
    },
    {
     "name": "stdout",
     "output_type": "stream",
     "text": [
      "validating...\n",
      "using 45 questions predicting diagnosis...\n"
     ]
    },
    {
     "name": "stderr",
     "output_type": "stream",
     "text": [
      "100%|██████████| 132448/132448 [00:21<00:00, 6030.95it/s]\n",
      "100%|██████████| 132448/132448 [00:00<00:00, 134013.23it/s]\n"
     ]
    },
    {
     "name": "stdout",
     "output_type": "stream",
     "text": [
      "validating...\n",
      "using 50 questions predicting diagnosis...\n"
     ]
    },
    {
     "name": "stderr",
     "output_type": "stream",
     "text": [
      "100%|██████████| 132448/132448 [00:21<00:00, 6094.93it/s]\n",
      "100%|██████████| 132448/132448 [00:01<00:00, 96296.50it/s] \n"
     ]
    },
    {
     "name": "stdout",
     "output_type": "stream",
     "text": [
      "validating...\n",
      "using 55 questions predicting diagnosis...\n"
     ]
    },
    {
     "name": "stderr",
     "output_type": "stream",
     "text": [
      "100%|██████████| 132448/132448 [00:23<00:00, 5717.39it/s]\n",
      "100%|██████████| 132448/132448 [00:01<00:00, 98270.55it/s] \n"
     ]
    },
    {
     "name": "stdout",
     "output_type": "stream",
     "text": [
      "validating...\n",
      "using 60 questions predicting diagnosis...\n"
     ]
    },
    {
     "name": "stderr",
     "output_type": "stream",
     "text": [
      "100%|██████████| 132448/132448 [00:24<00:00, 5506.50it/s]\n",
      "100%|██████████| 132448/132448 [00:00<00:00, 142907.54it/s]\n"
     ]
    },
    {
     "name": "stdout",
     "output_type": "stream",
     "text": [
      "validating...\n",
      "using 65 questions predicting diagnosis...\n"
     ]
    },
    {
     "name": "stderr",
     "output_type": "stream",
     "text": [
      "100%|██████████| 132448/132448 [00:21<00:00, 6067.54it/s]\n",
      "100%|██████████| 132448/132448 [00:01<00:00, 130202.10it/s]\n"
     ]
    },
    {
     "name": "stdout",
     "output_type": "stream",
     "text": [
      "validating...\n",
      "using 70 questions predicting diagnosis...\n"
     ]
    },
    {
     "name": "stderr",
     "output_type": "stream",
     "text": [
      "100%|██████████| 132448/132448 [00:22<00:00, 6016.46it/s]\n",
      "100%|██████████| 132448/132448 [00:00<00:00, 134172.77it/s]\n"
     ]
    },
    {
     "name": "stdout",
     "output_type": "stream",
     "text": [
      "validating...\n",
      "using 75 questions predicting diagnosis...\n"
     ]
    },
    {
     "name": "stderr",
     "output_type": "stream",
     "text": [
      "100%|██████████| 132448/132448 [00:21<00:00, 6101.00it/s]\n",
      "100%|██████████| 132448/132448 [00:00<00:00, 140956.71it/s]\n"
     ]
    },
    {
     "name": "stdout",
     "output_type": "stream",
     "text": [
      "validating...\n",
      "using 80 questions predicting diagnosis...\n"
     ]
    },
    {
     "name": "stderr",
     "output_type": "stream",
     "text": [
      "100%|██████████| 132448/132448 [00:21<00:00, 6038.39it/s]\n",
      "100%|██████████| 132448/132448 [00:00<00:00, 134218.21it/s]\n"
     ]
    },
    {
     "name": "stdout",
     "output_type": "stream",
     "text": [
      "validating...\n",
      "using 85 questions predicting diagnosis...\n"
     ]
    },
    {
     "name": "stderr",
     "output_type": "stream",
     "text": [
      "100%|██████████| 132448/132448 [00:23<00:00, 5677.51it/s]\n",
      "100%|██████████| 132448/132448 [00:00<00:00, 143095.79it/s]\n"
     ]
    },
    {
     "name": "stdout",
     "output_type": "stream",
     "text": [
      "validating...\n",
      "using 90 questions predicting diagnosis...\n"
     ]
    },
    {
     "name": "stderr",
     "output_type": "stream",
     "text": [
      "100%|██████████| 132448/132448 [00:21<00:00, 6076.05it/s]\n",
      "100%|██████████| 132448/132448 [00:00<00:00, 142512.55it/s]\n"
     ]
    },
    {
     "name": "stdout",
     "output_type": "stream",
     "text": [
      "validating...\n",
      "using 95 questions predicting diagnosis...\n"
     ]
    },
    {
     "name": "stderr",
     "output_type": "stream",
     "text": [
      "100%|██████████| 132448/132448 [00:23<00:00, 5655.66it/s]\n",
      "100%|██████████| 132448/132448 [00:00<00:00, 138949.78it/s]\n"
     ]
    },
    {
     "name": "stdout",
     "output_type": "stream",
     "text": [
      "validating...\n",
      "using 100 questions predicting diagnosis...\n"
     ]
    },
    {
     "name": "stderr",
     "output_type": "stream",
     "text": [
      "100%|██████████| 132448/132448 [00:21<00:00, 6039.20it/s]\n",
      "100%|██████████| 132448/132448 [00:00<00:00, 133308.72it/s]\n"
     ]
    },
    {
     "name": "stdout",
     "output_type": "stream",
     "text": [
      "validating...\n",
      "using 105 questions predicting diagnosis...\n"
     ]
    },
    {
     "name": "stderr",
     "output_type": "stream",
     "text": [
      "100%|██████████| 132448/132448 [00:21<00:00, 6065.64it/s]\n",
      "100%|██████████| 132448/132448 [00:00<00:00, 140882.29it/s]\n"
     ]
    },
    {
     "name": "stdout",
     "output_type": "stream",
     "text": [
      "validating...\n",
      "using 110 questions predicting diagnosis...\n"
     ]
    },
    {
     "name": "stderr",
     "output_type": "stream",
     "text": [
      "100%|██████████| 132448/132448 [00:22<00:00, 5918.83it/s]\n",
      "100%|██████████| 132448/132448 [00:00<00:00, 141279.12it/s]\n"
     ]
    },
    {
     "name": "stdout",
     "output_type": "stream",
     "text": [
      "validating...\n",
      "using 115 questions predicting diagnosis...\n"
     ]
    },
    {
     "name": "stderr",
     "output_type": "stream",
     "text": [
      "100%|██████████| 132448/132448 [00:21<00:00, 6060.42it/s]\n",
      "100%|██████████| 132448/132448 [00:00<00:00, 134269.34it/s]\n"
     ]
    },
    {
     "name": "stdout",
     "output_type": "stream",
     "text": [
      "validating...\n",
      "using 120 questions predicting diagnosis...\n"
     ]
    },
    {
     "name": "stderr",
     "output_type": "stream",
     "text": [
      "100%|██████████| 132448/132448 [00:21<00:00, 6073.50it/s]\n",
      "100%|██████████| 132448/132448 [00:00<00:00, 136985.13it/s]\n"
     ]
    },
    {
     "name": "stdout",
     "output_type": "stream",
     "text": [
      "validating...\n",
      "using 125 questions predicting diagnosis...\n"
     ]
    },
    {
     "name": "stderr",
     "output_type": "stream",
     "text": [
      "100%|██████████| 132448/132448 [00:22<00:00, 5850.25it/s]\n",
      "100%|██████████| 132448/132448 [00:00<00:00, 136819.28it/s]\n"
     ]
    },
    {
     "name": "stdout",
     "output_type": "stream",
     "text": [
      "validating...\n",
      "using 130 questions predicting diagnosis...\n"
     ]
    },
    {
     "name": "stderr",
     "output_type": "stream",
     "text": [
      "100%|██████████| 132448/132448 [00:21<00:00, 6046.43it/s]\n",
      "100%|██████████| 132448/132448 [00:00<00:00, 137205.89it/s]\n"
     ]
    },
    {
     "name": "stdout",
     "output_type": "stream",
     "text": [
      "validating...\n",
      "using 135 questions predicting diagnosis...\n"
     ]
    },
    {
     "name": "stderr",
     "output_type": "stream",
     "text": [
      "100%|██████████| 132448/132448 [00:22<00:00, 5866.90it/s]\n",
      "100%|██████████| 132448/132448 [00:00<00:00, 142335.46it/s]\n"
     ]
    },
    {
     "name": "stdout",
     "output_type": "stream",
     "text": [
      "validating...\n",
      "using 140 questions predicting diagnosis...\n"
     ]
    },
    {
     "name": "stderr",
     "output_type": "stream",
     "text": [
      "100%|██████████| 132448/132448 [00:22<00:00, 5977.47it/s]\n",
      "100%|██████████| 132448/132448 [00:00<00:00, 140558.37it/s]\n"
     ]
    },
    {
     "name": "stdout",
     "output_type": "stream",
     "text": [
      "validating...\n",
      "using 145 questions predicting diagnosis...\n"
     ]
    },
    {
     "name": "stderr",
     "output_type": "stream",
     "text": [
      "100%|██████████| 132448/132448 [00:21<00:00, 6045.02it/s]\n",
      "100%|██████████| 132448/132448 [00:01<00:00, 127162.70it/s]\n"
     ]
    },
    {
     "name": "stdout",
     "output_type": "stream",
     "text": [
      "validating...\n",
      "using 150 questions predicting diagnosis...\n"
     ]
    },
    {
     "name": "stderr",
     "output_type": "stream",
     "text": [
      "100%|██████████| 132448/132448 [00:21<00:00, 6048.25it/s]\n",
      "100%|██████████| 132448/132448 [00:00<00:00, 137031.90it/s]\n"
     ]
    },
    {
     "name": "stdout",
     "output_type": "stream",
     "text": [
      "validating...\n",
      "using 155 questions predicting diagnosis...\n"
     ]
    },
    {
     "name": "stderr",
     "output_type": "stream",
     "text": [
      "100%|██████████| 132448/132448 [00:21<00:00, 6055.05it/s]\n",
      "100%|██████████| 132448/132448 [00:01<00:00, 131897.81it/s]\n"
     ]
    },
    {
     "name": "stdout",
     "output_type": "stream",
     "text": [
      "validating...\n",
      "using 160 questions predicting diagnosis...\n"
     ]
    },
    {
     "name": "stderr",
     "output_type": "stream",
     "text": [
      "100%|██████████| 132448/132448 [00:21<00:00, 6028.11it/s]\n",
      "100%|██████████| 132448/132448 [00:00<00:00, 139887.83it/s]\n"
     ]
    },
    {
     "name": "stdout",
     "output_type": "stream",
     "text": [
      "validating...\n",
      "using 165 questions predicting diagnosis...\n"
     ]
    },
    {
     "name": "stderr",
     "output_type": "stream",
     "text": [
      "100%|██████████| 132448/132448 [00:21<00:00, 6067.29it/s]\n",
      "100%|██████████| 132448/132448 [00:01<00:00, 129792.79it/s]\n"
     ]
    },
    {
     "name": "stdout",
     "output_type": "stream",
     "text": [
      "validating...\n",
      "using 170 questions predicting diagnosis...\n"
     ]
    },
    {
     "name": "stderr",
     "output_type": "stream",
     "text": [
      "100%|██████████| 132448/132448 [00:22<00:00, 5915.24it/s]\n",
      "100%|██████████| 132448/132448 [00:00<00:00, 145478.63it/s]\n"
     ]
    },
    {
     "name": "stdout",
     "output_type": "stream",
     "text": [
      "validating...\n",
      "using 175 questions predicting diagnosis...\n"
     ]
    },
    {
     "name": "stderr",
     "output_type": "stream",
     "text": [
      "100%|██████████| 132448/132448 [00:22<00:00, 5988.16it/s]\n",
      "100%|██████████| 132448/132448 [00:01<00:00, 131687.88it/s]\n"
     ]
    },
    {
     "name": "stdout",
     "output_type": "stream",
     "text": [
      "validating...\n",
      "using 180 questions predicting diagnosis...\n"
     ]
    },
    {
     "name": "stderr",
     "output_type": "stream",
     "text": [
      "100%|██████████| 132448/132448 [00:21<00:00, 6069.75it/s]\n",
      "100%|██████████| 132448/132448 [00:00<00:00, 138903.43it/s]\n"
     ]
    },
    {
     "name": "stdout",
     "output_type": "stream",
     "text": [
      "validating...\n",
      "using 185 questions predicting diagnosis...\n"
     ]
    },
    {
     "name": "stderr",
     "output_type": "stream",
     "text": [
      "100%|██████████| 132448/132448 [00:22<00:00, 5999.72it/s]\n",
      "100%|██████████| 132448/132448 [00:01<00:00, 132300.88it/s]\n"
     ]
    },
    {
     "name": "stdout",
     "output_type": "stream",
     "text": [
      "validating...\n",
      "using 190 questions predicting diagnosis...\n"
     ]
    },
    {
     "name": "stderr",
     "output_type": "stream",
     "text": [
      "100%|██████████| 132448/132448 [00:22<00:00, 5853.29it/s]\n",
      "100%|██████████| 132448/132448 [00:00<00:00, 139180.75it/s]\n"
     ]
    },
    {
     "name": "stdout",
     "output_type": "stream",
     "text": [
      "validating...\n",
      "using 195 questions predicting diagnosis...\n"
     ]
    },
    {
     "name": "stderr",
     "output_type": "stream",
     "text": [
      "100%|██████████| 132448/132448 [00:21<00:00, 6082.81it/s]\n",
      "100%|██████████| 132448/132448 [00:00<00:00, 137079.27it/s]\n"
     ]
    },
    {
     "name": "stdout",
     "output_type": "stream",
     "text": [
      "validating...\n",
      "using 200 questions predicting diagnosis...\n"
     ]
    },
    {
     "name": "stderr",
     "output_type": "stream",
     "text": [
      "100%|██████████| 132448/132448 [00:21<00:00, 6058.83it/s]\n",
      "100%|██████████| 132448/132448 [00:00<00:00, 136653.19it/s]\n"
     ]
    },
    {
     "name": "stdout",
     "output_type": "stream",
     "text": [
      "validating...\n",
      "using 205 questions predicting diagnosis...\n"
     ]
    },
    {
     "name": "stderr",
     "output_type": "stream",
     "text": [
      "100%|██████████| 132448/132448 [00:22<00:00, 6008.60it/s]\n",
      "100%|██████████| 132448/132448 [00:01<00:00, 132136.14it/s]\n"
     ]
    },
    {
     "name": "stdout",
     "output_type": "stream",
     "text": [
      "validating...\n",
      "using 208 questions predicting diagnosis...\n"
     ]
    },
    {
     "name": "stderr",
     "output_type": "stream",
     "text": [
      "100%|██████████| 132448/132448 [00:22<00:00, 5964.05it/s]\n",
      "100%|██████████| 132448/132448 [00:00<00:00, 138676.83it/s]\n"
     ]
    },
    {
     "name": "stdout",
     "output_type": "stream",
     "text": [
      "validating...\n",
      "Evaluating random_forest...\n",
      "using 5 questions predicting diagnosis...\n"
     ]
    },
    {
     "name": "stderr",
     "output_type": "stream",
     "text": [
      "100%|██████████| 132448/132448 [00:19<00:00, 6829.71it/s]\n",
      "100%|██████████| 132448/132448 [00:00<00:00, 139576.22it/s]\n"
     ]
    },
    {
     "name": "stdout",
     "output_type": "stream",
     "text": [
      "validating...\n",
      "using 10 questions predicting diagnosis...\n"
     ]
    },
    {
     "name": "stderr",
     "output_type": "stream",
     "text": [
      "100%|██████████| 132448/132448 [00:24<00:00, 5513.80it/s]\n",
      "100%|██████████| 132448/132448 [00:01<00:00, 132315.82it/s]\n"
     ]
    },
    {
     "name": "stdout",
     "output_type": "stream",
     "text": [
      "validating...\n",
      "using 15 questions predicting diagnosis...\n"
     ]
    },
    {
     "name": "stderr",
     "output_type": "stream",
     "text": [
      "100%|██████████| 132448/132448 [00:24<00:00, 5396.04it/s]\n",
      "100%|██████████| 132448/132448 [00:01<00:00, 129566.15it/s]\n"
     ]
    },
    {
     "name": "stdout",
     "output_type": "stream",
     "text": [
      "validating...\n",
      "using 20 questions predicting diagnosis...\n"
     ]
    },
    {
     "name": "stderr",
     "output_type": "stream",
     "text": [
      "100%|██████████| 132448/132448 [00:24<00:00, 5500.01it/s]\n",
      "100%|██████████| 132448/132448 [00:01<00:00, 122356.64it/s]\n"
     ]
    },
    {
     "name": "stdout",
     "output_type": "stream",
     "text": [
      "validating...\n",
      "using 25 questions predicting diagnosis...\n"
     ]
    },
    {
     "name": "stderr",
     "output_type": "stream",
     "text": [
      "100%|██████████| 132448/132448 [00:22<00:00, 5843.71it/s]\n",
      "100%|██████████| 132448/132448 [00:00<00:00, 137014.02it/s]\n"
     ]
    },
    {
     "name": "stdout",
     "output_type": "stream",
     "text": [
      "validating...\n",
      "using 30 questions predicting diagnosis...\n"
     ]
    },
    {
     "name": "stderr",
     "output_type": "stream",
     "text": [
      "100%|██████████| 132448/132448 [00:24<00:00, 5371.50it/s]\n",
      "100%|██████████| 132448/132448 [00:00<00:00, 139970.20it/s]\n"
     ]
    },
    {
     "name": "stdout",
     "output_type": "stream",
     "text": [
      "validating...\n",
      "using 35 questions predicting diagnosis...\n"
     ]
    },
    {
     "name": "stderr",
     "output_type": "stream",
     "text": [
      "100%|██████████| 132448/132448 [00:21<00:00, 6042.63it/s]\n",
      "100%|██████████| 132448/132448 [00:00<00:00, 137062.26it/s]\n"
     ]
    },
    {
     "name": "stdout",
     "output_type": "stream",
     "text": [
      "validating...\n",
      "using 40 questions predicting diagnosis...\n"
     ]
    },
    {
     "name": "stderr",
     "output_type": "stream",
     "text": [
      "100%|██████████| 132448/132448 [00:21<00:00, 6070.93it/s]\n",
      "100%|██████████| 132448/132448 [00:00<00:00, 135587.23it/s]\n"
     ]
    },
    {
     "name": "stdout",
     "output_type": "stream",
     "text": [
      "validating...\n",
      "using 45 questions predicting diagnosis...\n"
     ]
    },
    {
     "name": "stderr",
     "output_type": "stream",
     "text": [
      "100%|██████████| 132448/132448 [00:21<00:00, 6263.66it/s]\n",
      "100%|██████████| 132448/132448 [00:00<00:00, 137190.61it/s]\n"
     ]
    },
    {
     "name": "stdout",
     "output_type": "stream",
     "text": [
      "validating...\n",
      "using 50 questions predicting diagnosis...\n"
     ]
    },
    {
     "name": "stderr",
     "output_type": "stream",
     "text": [
      "100%|██████████| 132448/132448 [00:21<00:00, 6302.25it/s]\n",
      "100%|██████████| 132448/132448 [00:00<00:00, 138783.02it/s]\n"
     ]
    },
    {
     "name": "stdout",
     "output_type": "stream",
     "text": [
      "validating...\n",
      "using 55 questions predicting diagnosis...\n"
     ]
    },
    {
     "name": "stderr",
     "output_type": "stream",
     "text": [
      "100%|██████████| 132448/132448 [00:20<00:00, 6321.56it/s]\n",
      "100%|██████████| 132448/132448 [00:00<00:00, 141653.85it/s]\n"
     ]
    },
    {
     "name": "stdout",
     "output_type": "stream",
     "text": [
      "validating...\n",
      "using 60 questions predicting diagnosis...\n"
     ]
    },
    {
     "name": "stderr",
     "output_type": "stream",
     "text": [
      "100%|██████████| 132448/132448 [00:21<00:00, 6058.01it/s]\n",
      "100%|██████████| 132448/132448 [00:00<00:00, 136605.67it/s]\n"
     ]
    },
    {
     "name": "stdout",
     "output_type": "stream",
     "text": [
      "validating...\n",
      "using 65 questions predicting diagnosis...\n"
     ]
    },
    {
     "name": "stderr",
     "output_type": "stream",
     "text": [
      "100%|██████████| 132448/132448 [00:21<00:00, 6274.63it/s]\n",
      "100%|██████████| 132448/132448 [00:00<00:00, 142126.98it/s]\n"
     ]
    },
    {
     "name": "stdout",
     "output_type": "stream",
     "text": [
      "validating...\n",
      "using 70 questions predicting diagnosis...\n"
     ]
    },
    {
     "name": "stderr",
     "output_type": "stream",
     "text": [
      "100%|██████████| 132448/132448 [00:20<00:00, 6315.84it/s]\n",
      "100%|██████████| 132448/132448 [00:00<00:00, 137757.45it/s]\n"
     ]
    },
    {
     "name": "stdout",
     "output_type": "stream",
     "text": [
      "validating...\n",
      "using 75 questions predicting diagnosis...\n"
     ]
    },
    {
     "name": "stderr",
     "output_type": "stream",
     "text": [
      "100%|██████████| 132448/132448 [00:21<00:00, 6298.89it/s]\n",
      "100%|██████████| 132448/132448 [00:00<00:00, 136613.87it/s]\n"
     ]
    },
    {
     "name": "stdout",
     "output_type": "stream",
     "text": [
      "validating...\n",
      "using 80 questions predicting diagnosis...\n"
     ]
    },
    {
     "name": "stderr",
     "output_type": "stream",
     "text": [
      "100%|██████████| 132448/132448 [00:20<00:00, 6320.21it/s]\n",
      "100%|██████████| 132448/132448 [00:01<00:00, 119631.99it/s]\n"
     ]
    },
    {
     "name": "stdout",
     "output_type": "stream",
     "text": [
      "validating...\n",
      "using 85 questions predicting diagnosis...\n"
     ]
    },
    {
     "name": "stderr",
     "output_type": "stream",
     "text": [
      "100%|██████████| 132448/132448 [00:21<00:00, 6246.39it/s]\n",
      "100%|██████████| 132448/132448 [00:00<00:00, 144445.62it/s]\n"
     ]
    },
    {
     "name": "stdout",
     "output_type": "stream",
     "text": [
      "validating...\n",
      "using 90 questions predicting diagnosis...\n"
     ]
    },
    {
     "name": "stderr",
     "output_type": "stream",
     "text": [
      "100%|██████████| 132448/132448 [00:20<00:00, 6346.45it/s]\n",
      "100%|██████████| 132448/132448 [00:00<00:00, 139648.15it/s]\n"
     ]
    },
    {
     "name": "stdout",
     "output_type": "stream",
     "text": [
      "validating...\n",
      "using 95 questions predicting diagnosis...\n"
     ]
    },
    {
     "name": "stderr",
     "output_type": "stream",
     "text": [
      "100%|██████████| 132448/132448 [00:21<00:00, 6277.77it/s]\n",
      "100%|██████████| 132448/132448 [00:00<00:00, 133085.20it/s]\n"
     ]
    },
    {
     "name": "stdout",
     "output_type": "stream",
     "text": [
      "validating...\n",
      "using 100 questions predicting diagnosis...\n"
     ]
    },
    {
     "name": "stderr",
     "output_type": "stream",
     "text": [
      "100%|██████████| 132448/132448 [00:21<00:00, 6260.23it/s]\n",
      "100%|██████████| 132448/132448 [00:00<00:00, 144967.68it/s]\n"
     ]
    },
    {
     "name": "stdout",
     "output_type": "stream",
     "text": [
      "validating...\n",
      "using 105 questions predicting diagnosis...\n"
     ]
    },
    {
     "name": "stderr",
     "output_type": "stream",
     "text": [
      "100%|██████████| 132448/132448 [00:21<00:00, 6288.15it/s]\n",
      "100%|██████████| 132448/132448 [00:01<00:00, 130703.24it/s]\n"
     ]
    },
    {
     "name": "stdout",
     "output_type": "stream",
     "text": [
      "validating...\n",
      "using 110 questions predicting diagnosis...\n"
     ]
    },
    {
     "name": "stderr",
     "output_type": "stream",
     "text": [
      "100%|██████████| 132448/132448 [00:21<00:00, 6210.08it/s]\n",
      "100%|██████████| 132448/132448 [00:00<00:00, 134459.39it/s]\n"
     ]
    },
    {
     "name": "stdout",
     "output_type": "stream",
     "text": [
      "validating...\n",
      "using 115 questions predicting diagnosis...\n"
     ]
    },
    {
     "name": "stderr",
     "output_type": "stream",
     "text": [
      "100%|██████████| 132448/132448 [00:21<00:00, 6104.97it/s]\n",
      "100%|██████████| 132448/132448 [00:00<00:00, 132963.04it/s]\n"
     ]
    },
    {
     "name": "stdout",
     "output_type": "stream",
     "text": [
      "validating...\n",
      "using 120 questions predicting diagnosis...\n"
     ]
    },
    {
     "name": "stderr",
     "output_type": "stream",
     "text": [
      "100%|██████████| 132448/132448 [00:21<00:00, 6273.45it/s]\n",
      "100%|██████████| 132448/132448 [00:00<00:00, 136694.68it/s]\n"
     ]
    },
    {
     "name": "stdout",
     "output_type": "stream",
     "text": [
      "validating...\n",
      "using 125 questions predicting diagnosis...\n"
     ]
    },
    {
     "name": "stderr",
     "output_type": "stream",
     "text": [
      "100%|██████████| 132448/132448 [00:20<00:00, 6313.38it/s]\n",
      "100%|██████████| 132448/132448 [00:00<00:00, 134686.54it/s]\n"
     ]
    },
    {
     "name": "stdout",
     "output_type": "stream",
     "text": [
      "validating...\n",
      "using 130 questions predicting diagnosis...\n"
     ]
    },
    {
     "name": "stderr",
     "output_type": "stream",
     "text": [
      "100%|██████████| 132448/132448 [00:21<00:00, 6262.60it/s]\n",
      "100%|██████████| 132448/132448 [00:00<00:00, 142145.53it/s]\n"
     ]
    },
    {
     "name": "stdout",
     "output_type": "stream",
     "text": [
      "validating...\n",
      "using 135 questions predicting diagnosis...\n"
     ]
    },
    {
     "name": "stderr",
     "output_type": "stream",
     "text": [
      "100%|██████████| 132448/132448 [00:21<00:00, 6253.99it/s]\n",
      "100%|██████████| 132448/132448 [00:00<00:00, 134898.97it/s]\n"
     ]
    },
    {
     "name": "stdout",
     "output_type": "stream",
     "text": [
      "validating...\n",
      "using 140 questions predicting diagnosis...\n"
     ]
    },
    {
     "name": "stderr",
     "output_type": "stream",
     "text": [
      "100%|██████████| 132448/132448 [00:21<00:00, 6249.44it/s]\n",
      "100%|██████████| 132448/132448 [00:00<00:00, 134759.57it/s]\n"
     ]
    },
    {
     "name": "stdout",
     "output_type": "stream",
     "text": [
      "validating...\n",
      "using 145 questions predicting diagnosis...\n"
     ]
    },
    {
     "name": "stderr",
     "output_type": "stream",
     "text": [
      "100%|██████████| 132448/132448 [00:21<00:00, 6268.91it/s]\n",
      "100%|██████████| 132448/132448 [00:00<00:00, 138114.95it/s]\n"
     ]
    },
    {
     "name": "stdout",
     "output_type": "stream",
     "text": [
      "validating...\n",
      "using 150 questions predicting diagnosis...\n"
     ]
    },
    {
     "name": "stderr",
     "output_type": "stream",
     "text": [
      "100%|██████████| 132448/132448 [00:21<00:00, 6288.94it/s]\n",
      "100%|██████████| 132448/132448 [00:00<00:00, 136542.48it/s]\n"
     ]
    },
    {
     "name": "stdout",
     "output_type": "stream",
     "text": [
      "validating...\n",
      "using 155 questions predicting diagnosis...\n"
     ]
    },
    {
     "name": "stderr",
     "output_type": "stream",
     "text": [
      "100%|██████████| 132448/132448 [00:21<00:00, 6293.12it/s]\n",
      "100%|██████████| 132448/132448 [00:01<00:00, 132236.58it/s]\n"
     ]
    },
    {
     "name": "stdout",
     "output_type": "stream",
     "text": [
      "validating...\n",
      "using 160 questions predicting diagnosis...\n"
     ]
    },
    {
     "name": "stderr",
     "output_type": "stream",
     "text": [
      "100%|██████████| 132448/132448 [00:21<00:00, 6306.20it/s]\n",
      "100%|██████████| 132448/132448 [00:00<00:00, 133538.13it/s]\n"
     ]
    },
    {
     "name": "stdout",
     "output_type": "stream",
     "text": [
      "validating...\n",
      "using 165 questions predicting diagnosis...\n"
     ]
    },
    {
     "name": "stderr",
     "output_type": "stream",
     "text": [
      "100%|██████████| 132448/132448 [00:21<00:00, 6275.22it/s]\n",
      "100%|██████████| 132448/132448 [00:00<00:00, 137172.69it/s]\n"
     ]
    },
    {
     "name": "stdout",
     "output_type": "stream",
     "text": [
      "validating...\n",
      "using 170 questions predicting diagnosis...\n"
     ]
    },
    {
     "name": "stderr",
     "output_type": "stream",
     "text": [
      "100%|██████████| 132448/132448 [00:21<00:00, 6061.35it/s]\n",
      "100%|██████████| 132448/132448 [00:00<00:00, 135102.77it/s]\n"
     ]
    },
    {
     "name": "stdout",
     "output_type": "stream",
     "text": [
      "validating...\n",
      "using 175 questions predicting diagnosis...\n"
     ]
    },
    {
     "name": "stderr",
     "output_type": "stream",
     "text": [
      "100%|██████████| 132448/132448 [00:21<00:00, 6283.75it/s]\n",
      "100%|██████████| 132448/132448 [00:01<00:00, 130368.90it/s]\n"
     ]
    },
    {
     "name": "stdout",
     "output_type": "stream",
     "text": [
      "validating...\n",
      "using 180 questions predicting diagnosis...\n"
     ]
    },
    {
     "name": "stderr",
     "output_type": "stream",
     "text": [
      "100%|██████████| 132448/132448 [00:20<00:00, 6337.32it/s]\n",
      "100%|██████████| 132448/132448 [00:00<00:00, 141295.40it/s]\n"
     ]
    },
    {
     "name": "stdout",
     "output_type": "stream",
     "text": [
      "validating...\n",
      "using 185 questions predicting diagnosis...\n"
     ]
    },
    {
     "name": "stderr",
     "output_type": "stream",
     "text": [
      "100%|██████████| 132448/132448 [00:21<00:00, 6306.54it/s]\n",
      "100%|██████████| 132448/132448 [00:00<00:00, 142189.99it/s]\n"
     ]
    },
    {
     "name": "stdout",
     "output_type": "stream",
     "text": [
      "validating...\n",
      "using 190 questions predicting diagnosis...\n"
     ]
    },
    {
     "name": "stderr",
     "output_type": "stream",
     "text": [
      "100%|██████████| 132448/132448 [00:22<00:00, 6011.13it/s]\n",
      "100%|██████████| 132448/132448 [00:01<00:00, 129227.71it/s]\n"
     ]
    },
    {
     "name": "stdout",
     "output_type": "stream",
     "text": [
      "validating...\n",
      "using 195 questions predicting diagnosis...\n"
     ]
    },
    {
     "name": "stderr",
     "output_type": "stream",
     "text": [
      "100%|██████████| 132448/132448 [00:20<00:00, 6310.70it/s]\n",
      "100%|██████████| 132448/132448 [00:00<00:00, 139444.70it/s]\n"
     ]
    },
    {
     "name": "stdout",
     "output_type": "stream",
     "text": [
      "validating...\n",
      "using 200 questions predicting diagnosis...\n"
     ]
    },
    {
     "name": "stderr",
     "output_type": "stream",
     "text": [
      "100%|██████████| 132448/132448 [00:21<00:00, 6276.10it/s]\n",
      "100%|██████████| 132448/132448 [00:00<00:00, 136988.54it/s]\n"
     ]
    },
    {
     "name": "stdout",
     "output_type": "stream",
     "text": [
      "validating...\n",
      "using 205 questions predicting diagnosis...\n"
     ]
    },
    {
     "name": "stderr",
     "output_type": "stream",
     "text": [
      "100%|██████████| 132448/132448 [00:20<00:00, 6316.82it/s]\n",
      "100%|██████████| 132448/132448 [00:01<00:00, 130337.85it/s]\n"
     ]
    },
    {
     "name": "stdout",
     "output_type": "stream",
     "text": [
      "validating...\n",
      "using 208 questions predicting diagnosis...\n"
     ]
    },
    {
     "name": "stderr",
     "output_type": "stream",
     "text": [
      "100%|██████████| 132448/132448 [00:20<00:00, 6349.67it/s]\n",
      "100%|██████████| 132448/132448 [00:00<00:00, 142440.02it/s]\n"
     ]
    },
    {
     "name": "stdout",
     "output_type": "stream",
     "text": [
      "validating...\n",
      "Evaluating gradient_boost...\n",
      "using 5 questions predicting diagnosis...\n"
     ]
    },
    {
     "name": "stderr",
     "output_type": "stream",
     "text": [
      "100%|██████████| 132448/132448 [00:19<00:00, 6629.33it/s]\n",
      "100%|██████████| 132448/132448 [00:00<00:00, 134378.27it/s]\n"
     ]
    },
    {
     "name": "stdout",
     "output_type": "stream",
     "text": [
      "validating...\n",
      "using 10 questions predicting diagnosis...\n"
     ]
    },
    {
     "name": "stderr",
     "output_type": "stream",
     "text": [
      "100%|██████████| 132448/132448 [00:17<00:00, 7782.66it/s]\n",
      "100%|██████████| 132448/132448 [00:01<00:00, 127351.84it/s]\n"
     ]
    },
    {
     "name": "stdout",
     "output_type": "stream",
     "text": [
      "validating...\n",
      "using 15 questions predicting diagnosis...\n"
     ]
    },
    {
     "name": "stderr",
     "output_type": "stream",
     "text": [
      "100%|██████████| 132448/132448 [00:19<00:00, 6875.30it/s]\n",
      "100%|██████████| 132448/132448 [00:00<00:00, 134141.21it/s]\n"
     ]
    },
    {
     "name": "stdout",
     "output_type": "stream",
     "text": [
      "validating...\n",
      "using 20 questions predicting diagnosis...\n"
     ]
    },
    {
     "name": "stderr",
     "output_type": "stream",
     "text": [
      "100%|██████████| 132448/132448 [00:21<00:00, 6256.20it/s]\n",
      "100%|██████████| 132448/132448 [00:00<00:00, 137023.04it/s]\n"
     ]
    },
    {
     "name": "stdout",
     "output_type": "stream",
     "text": [
      "validating...\n",
      "using 25 questions predicting diagnosis...\n"
     ]
    },
    {
     "name": "stderr",
     "output_type": "stream",
     "text": [
      "100%|██████████| 132448/132448 [00:21<00:00, 6209.21it/s]\n",
      "100%|██████████| 132448/132448 [00:00<00:00, 138418.13it/s]\n"
     ]
    },
    {
     "name": "stdout",
     "output_type": "stream",
     "text": [
      "validating...\n",
      "using 30 questions predicting diagnosis...\n"
     ]
    },
    {
     "name": "stderr",
     "output_type": "stream",
     "text": [
      "100%|██████████| 132448/132448 [00:21<00:00, 6183.06it/s]\n",
      "100%|██████████| 132448/132448 [00:00<00:00, 145309.37it/s]\n"
     ]
    },
    {
     "name": "stdout",
     "output_type": "stream",
     "text": [
      "validating...\n",
      "using 35 questions predicting diagnosis...\n"
     ]
    },
    {
     "name": "stderr",
     "output_type": "stream",
     "text": [
      "100%|██████████| 132448/132448 [00:21<00:00, 6069.08it/s]\n",
      "100%|██████████| 132448/132448 [00:00<00:00, 139711.89it/s]\n"
     ]
    },
    {
     "name": "stdout",
     "output_type": "stream",
     "text": [
      "validating...\n",
      "using 40 questions predicting diagnosis...\n"
     ]
    },
    {
     "name": "stderr",
     "output_type": "stream",
     "text": [
      "100%|██████████| 132448/132448 [00:21<00:00, 6095.71it/s]\n",
      "100%|██████████| 132448/132448 [00:00<00:00, 133782.96it/s]\n"
     ]
    },
    {
     "name": "stdout",
     "output_type": "stream",
     "text": [
      "validating...\n",
      "using 45 questions predicting diagnosis...\n"
     ]
    },
    {
     "name": "stderr",
     "output_type": "stream",
     "text": [
      "100%|██████████| 132448/132448 [00:21<00:00, 6239.59it/s]\n",
      "100%|██████████| 132448/132448 [00:00<00:00, 138656.96it/s]\n"
     ]
    },
    {
     "name": "stdout",
     "output_type": "stream",
     "text": [
      "validating...\n",
      "using 50 questions predicting diagnosis...\n"
     ]
    },
    {
     "name": "stderr",
     "output_type": "stream",
     "text": [
      "100%|██████████| 132448/132448 [00:21<00:00, 6296.66it/s]\n",
      "100%|██████████| 132448/132448 [00:00<00:00, 133886.36it/s]\n"
     ]
    },
    {
     "name": "stdout",
     "output_type": "stream",
     "text": [
      "validating...\n",
      "using 55 questions predicting diagnosis...\n"
     ]
    },
    {
     "name": "stderr",
     "output_type": "stream",
     "text": [
      "100%|██████████| 132448/132448 [00:21<00:00, 6201.28it/s]\n",
      "100%|██████████| 132448/132448 [00:00<00:00, 136620.75it/s]\n"
     ]
    },
    {
     "name": "stdout",
     "output_type": "stream",
     "text": [
      "validating...\n",
      "using 60 questions predicting diagnosis...\n"
     ]
    },
    {
     "name": "stderr",
     "output_type": "stream",
     "text": [
      "100%|██████████| 132448/132448 [00:21<00:00, 6228.99it/s]\n",
      "100%|██████████| 132448/132448 [00:00<00:00, 134376.65it/s]\n"
     ]
    },
    {
     "name": "stdout",
     "output_type": "stream",
     "text": [
      "validating...\n",
      "using 65 questions predicting diagnosis...\n"
     ]
    },
    {
     "name": "stderr",
     "output_type": "stream",
     "text": [
      "100%|██████████| 132448/132448 [00:21<00:00, 6053.35it/s]\n",
      "100%|██████████| 132448/132448 [00:00<00:00, 142790.84it/s]\n"
     ]
    },
    {
     "name": "stdout",
     "output_type": "stream",
     "text": [
      "validating...\n",
      "using 70 questions predicting diagnosis...\n"
     ]
    },
    {
     "name": "stderr",
     "output_type": "stream",
     "text": [
      "100%|██████████| 132448/132448 [00:21<00:00, 6164.33it/s]\n",
      "100%|██████████| 132448/132448 [00:01<00:00, 127744.55it/s]\n"
     ]
    },
    {
     "name": "stdout",
     "output_type": "stream",
     "text": [
      "validating...\n",
      "using 75 questions predicting diagnosis...\n"
     ]
    },
    {
     "name": "stderr",
     "output_type": "stream",
     "text": [
      "100%|██████████| 132448/132448 [00:21<00:00, 6295.15it/s]\n",
      "100%|██████████| 132448/132448 [00:00<00:00, 134057.14it/s]\n"
     ]
    },
    {
     "name": "stdout",
     "output_type": "stream",
     "text": [
      "validating...\n",
      "using 80 questions predicting diagnosis...\n"
     ]
    },
    {
     "name": "stderr",
     "output_type": "stream",
     "text": [
      "100%|██████████| 132448/132448 [00:21<00:00, 6256.57it/s]\n",
      "100%|██████████| 132448/132448 [00:00<00:00, 142694.34it/s]\n"
     ]
    },
    {
     "name": "stdout",
     "output_type": "stream",
     "text": [
      "validating...\n",
      "using 85 questions predicting diagnosis...\n"
     ]
    },
    {
     "name": "stderr",
     "output_type": "stream",
     "text": [
      "100%|██████████| 132448/132448 [00:21<00:00, 6204.67it/s]\n",
      "100%|██████████| 132448/132448 [00:00<00:00, 140235.35it/s]\n"
     ]
    },
    {
     "name": "stdout",
     "output_type": "stream",
     "text": [
      "validating...\n",
      "using 90 questions predicting diagnosis...\n"
     ]
    },
    {
     "name": "stderr",
     "output_type": "stream",
     "text": [
      "100%|██████████| 132448/132448 [00:21<00:00, 6195.86it/s]\n",
      "100%|██████████| 132448/132448 [00:00<00:00, 138374.58it/s]\n"
     ]
    },
    {
     "name": "stdout",
     "output_type": "stream",
     "text": [
      "validating...\n",
      "using 95 questions predicting diagnosis...\n"
     ]
    },
    {
     "name": "stderr",
     "output_type": "stream",
     "text": [
      "100%|██████████| 132448/132448 [00:21<00:00, 6141.86it/s]\n",
      "100%|██████████| 132448/132448 [00:00<00:00, 138076.87it/s]\n"
     ]
    },
    {
     "name": "stdout",
     "output_type": "stream",
     "text": [
      "validating...\n",
      "using 100 questions predicting diagnosis...\n"
     ]
    },
    {
     "name": "stderr",
     "output_type": "stream",
     "text": [
      "100%|██████████| 132448/132448 [00:21<00:00, 6182.10it/s]\n",
      "100%|██████████| 132448/132448 [00:00<00:00, 141157.72it/s]\n"
     ]
    },
    {
     "name": "stdout",
     "output_type": "stream",
     "text": [
      "validating...\n",
      "using 105 questions predicting diagnosis...\n"
     ]
    },
    {
     "name": "stderr",
     "output_type": "stream",
     "text": [
      "100%|██████████| 132448/132448 [00:21<00:00, 6247.88it/s]\n",
      "100%|██████████| 132448/132448 [00:00<00:00, 134381.85it/s]\n"
     ]
    },
    {
     "name": "stdout",
     "output_type": "stream",
     "text": [
      "validating...\n",
      "using 110 questions predicting diagnosis...\n"
     ]
    },
    {
     "name": "stderr",
     "output_type": "stream",
     "text": [
      "100%|██████████| 132448/132448 [00:21<00:00, 6244.84it/s]\n",
      "100%|██████████| 132448/132448 [00:00<00:00, 136043.68it/s]\n"
     ]
    },
    {
     "name": "stdout",
     "output_type": "stream",
     "text": [
      "validating...\n",
      "using 115 questions predicting diagnosis...\n"
     ]
    },
    {
     "name": "stderr",
     "output_type": "stream",
     "text": [
      "100%|██████████| 132448/132448 [00:21<00:00, 6206.62it/s]\n",
      "100%|██████████| 132448/132448 [00:00<00:00, 139883.36it/s]\n"
     ]
    },
    {
     "name": "stdout",
     "output_type": "stream",
     "text": [
      "validating...\n",
      "using 120 questions predicting diagnosis...\n"
     ]
    },
    {
     "name": "stderr",
     "output_type": "stream",
     "text": [
      "100%|██████████| 132448/132448 [00:21<00:00, 6035.81it/s]\n",
      "100%|██████████| 132448/132448 [00:00<00:00, 137325.55it/s]\n"
     ]
    },
    {
     "name": "stdout",
     "output_type": "stream",
     "text": [
      "validating...\n",
      "using 125 questions predicting diagnosis...\n"
     ]
    },
    {
     "name": "stderr",
     "output_type": "stream",
     "text": [
      "100%|██████████| 132448/132448 [00:21<00:00, 6241.67it/s]\n",
      "100%|██████████| 132448/132448 [00:00<00:00, 135813.99it/s]\n"
     ]
    },
    {
     "name": "stdout",
     "output_type": "stream",
     "text": [
      "validating...\n",
      "using 130 questions predicting diagnosis...\n"
     ]
    },
    {
     "name": "stderr",
     "output_type": "stream",
     "text": [
      "100%|██████████| 132448/132448 [00:21<00:00, 6251.08it/s]\n",
      "100%|██████████| 132448/132448 [00:00<00:00, 134036.77it/s]\n"
     ]
    },
    {
     "name": "stdout",
     "output_type": "stream",
     "text": [
      "validating...\n",
      "using 135 questions predicting diagnosis...\n"
     ]
    },
    {
     "name": "stderr",
     "output_type": "stream",
     "text": [
      "100%|██████████| 132448/132448 [00:21<00:00, 6285.00it/s]\n",
      "100%|██████████| 132448/132448 [00:00<00:00, 142225.52it/s]\n"
     ]
    },
    {
     "name": "stdout",
     "output_type": "stream",
     "text": [
      "validating...\n",
      "using 140 questions predicting diagnosis...\n"
     ]
    },
    {
     "name": "stderr",
     "output_type": "stream",
     "text": [
      "100%|██████████| 132448/132448 [00:21<00:00, 6287.87it/s]\n",
      "100%|██████████| 132448/132448 [00:00<00:00, 139478.52it/s]\n"
     ]
    },
    {
     "name": "stdout",
     "output_type": "stream",
     "text": [
      "validating...\n",
      "using 145 questions predicting diagnosis...\n"
     ]
    },
    {
     "name": "stderr",
     "output_type": "stream",
     "text": [
      "100%|██████████| 132448/132448 [00:21<00:00, 6236.03it/s]\n",
      "100%|██████████| 132448/132448 [00:00<00:00, 134363.58it/s]\n"
     ]
    },
    {
     "name": "stdout",
     "output_type": "stream",
     "text": [
      "validating...\n",
      "using 150 questions predicting diagnosis...\n"
     ]
    },
    {
     "name": "stderr",
     "output_type": "stream",
     "text": [
      "100%|██████████| 132448/132448 [00:21<00:00, 6244.73it/s]\n",
      "100%|██████████| 132448/132448 [00:00<00:00, 137077.61it/s]\n"
     ]
    },
    {
     "name": "stdout",
     "output_type": "stream",
     "text": [
      "validating...\n",
      "using 155 questions predicting diagnosis...\n"
     ]
    },
    {
     "name": "stderr",
     "output_type": "stream",
     "text": [
      "100%|██████████| 132448/132448 [00:21<00:00, 6269.22it/s]\n",
      "100%|██████████| 132448/132448 [00:00<00:00, 143726.60it/s]\n"
     ]
    },
    {
     "name": "stdout",
     "output_type": "stream",
     "text": [
      "validating...\n",
      "using 160 questions predicting diagnosis...\n"
     ]
    },
    {
     "name": "stderr",
     "output_type": "stream",
     "text": [
      "100%|██████████| 132448/132448 [00:22<00:00, 5876.88it/s]\n",
      "100%|██████████| 132448/132448 [00:01<00:00, 92083.64it/s]\n"
     ]
    },
    {
     "name": "stdout",
     "output_type": "stream",
     "text": [
      "validating...\n",
      "using 165 questions predicting diagnosis...\n"
     ]
    },
    {
     "name": "stderr",
     "output_type": "stream",
     "text": [
      "100%|██████████| 132448/132448 [00:23<00:00, 5730.67it/s]\n",
      "100%|██████████| 132448/132448 [00:00<00:00, 136575.11it/s]\n"
     ]
    },
    {
     "name": "stdout",
     "output_type": "stream",
     "text": [
      "validating...\n",
      "using 170 questions predicting diagnosis...\n"
     ]
    },
    {
     "name": "stderr",
     "output_type": "stream",
     "text": [
      "100%|██████████| 132448/132448 [00:21<00:00, 6240.62it/s]\n",
      "100%|██████████| 132448/132448 [00:01<00:00, 130356.36it/s]\n"
     ]
    },
    {
     "name": "stdout",
     "output_type": "stream",
     "text": [
      "validating...\n",
      "using 175 questions predicting diagnosis...\n"
     ]
    },
    {
     "name": "stderr",
     "output_type": "stream",
     "text": [
      "100%|██████████| 132448/132448 [00:22<00:00, 5971.79it/s]\n",
      "100%|██████████| 132448/132448 [00:00<00:00, 141138.71it/s]\n"
     ]
    },
    {
     "name": "stdout",
     "output_type": "stream",
     "text": [
      "validating...\n",
      "using 180 questions predicting diagnosis...\n"
     ]
    },
    {
     "name": "stderr",
     "output_type": "stream",
     "text": [
      "100%|██████████| 132448/132448 [00:21<00:00, 6189.13it/s]\n",
      "100%|██████████| 132448/132448 [00:01<00:00, 132382.16it/s]\n"
     ]
    },
    {
     "name": "stdout",
     "output_type": "stream",
     "text": [
      "validating...\n",
      "using 185 questions predicting diagnosis...\n"
     ]
    },
    {
     "name": "stderr",
     "output_type": "stream",
     "text": [
      "100%|██████████| 132448/132448 [00:21<00:00, 6238.82it/s]\n",
      "100%|██████████| 132448/132448 [00:00<00:00, 137149.59it/s]\n"
     ]
    },
    {
     "name": "stdout",
     "output_type": "stream",
     "text": [
      "validating...\n",
      "using 190 questions predicting diagnosis...\n"
     ]
    },
    {
     "name": "stderr",
     "output_type": "stream",
     "text": [
      "100%|██████████| 132448/132448 [00:21<00:00, 6204.28it/s]\n",
      "100%|██████████| 132448/132448 [00:00<00:00, 136191.94it/s]\n"
     ]
    },
    {
     "name": "stdout",
     "output_type": "stream",
     "text": [
      "validating...\n",
      "using 195 questions predicting diagnosis...\n"
     ]
    },
    {
     "name": "stderr",
     "output_type": "stream",
     "text": [
      "100%|██████████| 132448/132448 [00:23<00:00, 5671.58it/s]\n",
      "100%|██████████| 132448/132448 [00:00<00:00, 134177.98it/s]\n"
     ]
    },
    {
     "name": "stdout",
     "output_type": "stream",
     "text": [
      "validating...\n",
      "using 200 questions predicting diagnosis...\n"
     ]
    },
    {
     "name": "stderr",
     "output_type": "stream",
     "text": [
      "100%|██████████| 132448/132448 [00:21<00:00, 6150.76it/s]\n",
      "100%|██████████| 132448/132448 [00:00<00:00, 136068.94it/s]\n"
     ]
    },
    {
     "name": "stdout",
     "output_type": "stream",
     "text": [
      "validating...\n",
      "using 205 questions predicting diagnosis...\n"
     ]
    },
    {
     "name": "stderr",
     "output_type": "stream",
     "text": [
      "100%|██████████| 132448/132448 [00:21<00:00, 6177.44it/s]\n",
      "100%|██████████| 132448/132448 [00:00<00:00, 135612.25it/s]\n"
     ]
    },
    {
     "name": "stdout",
     "output_type": "stream",
     "text": [
      "validating...\n",
      "using 208 questions predicting diagnosis...\n"
     ]
    },
    {
     "name": "stderr",
     "output_type": "stream",
     "text": [
      "100%|██████████| 132448/132448 [00:21<00:00, 6218.07it/s]\n",
      "100%|██████████| 132448/132448 [00:01<00:00, 127177.90it/s]"
     ]
    },
    {
     "name": "stdout",
     "output_type": "stream",
     "text": [
      "validating...\n"
     ]
    },
    {
     "name": "stderr",
     "output_type": "stream",
     "text": [
      "\n"
     ]
    }
   ],
   "source": [
    "for model_name in model_list[\"tree-based\"]:\n",
    "    experiment(model_name)\n",
    "# 947m 50 s - 49 pathologies\n",
    "# 58m 25s - 5 pathologies"
   ]
  },
  {
   "cell_type": "markdown",
   "metadata": {},
   "source": [
    "## Logistic Regression"
   ]
  },
  {
   "cell_type": "code",
   "execution_count": 50,
   "metadata": {},
   "outputs": [
    {
     "name": "stdout",
     "output_type": "stream",
     "text": [
      "Evaluating logistic_regression...\n",
      "using 5 questions predicting diagnosis...\n"
     ]
    },
    {
     "name": "stderr",
     "output_type": "stream",
     "text": [
      "100%|██████████| 132448/132448 [00:14<00:00, 9138.27it/s] \n",
      "100%|██████████| 132448/132448 [00:01<00:00, 111195.15it/s]\n"
     ]
    },
    {
     "name": "stdout",
     "output_type": "stream",
     "text": [
      "validating...\n",
      "using 10 questions predicting diagnosis...\n"
     ]
    },
    {
     "name": "stderr",
     "output_type": "stream",
     "text": [
      "100%|██████████| 132448/132448 [00:22<00:00, 5841.91it/s]\n",
      "100%|██████████| 132448/132448 [00:00<00:00, 144589.16it/s]\n"
     ]
    },
    {
     "name": "stdout",
     "output_type": "stream",
     "text": [
      "validating...\n",
      "using 15 questions predicting diagnosis...\n"
     ]
    },
    {
     "name": "stderr",
     "output_type": "stream",
     "text": [
      "100%|██████████| 132448/132448 [00:21<00:00, 6187.98it/s]\n",
      "100%|██████████| 132448/132448 [00:00<00:00, 147328.70it/s]\n"
     ]
    },
    {
     "name": "stdout",
     "output_type": "stream",
     "text": [
      "validating...\n",
      "using 20 questions predicting diagnosis...\n"
     ]
    },
    {
     "name": "stderr",
     "output_type": "stream",
     "text": [
      "100%|██████████| 132448/132448 [00:24<00:00, 5413.00it/s]\n",
      "100%|██████████| 132448/132448 [00:00<00:00, 141443.40it/s]\n"
     ]
    },
    {
     "name": "stdout",
     "output_type": "stream",
     "text": [
      "validating...\n",
      "using 25 questions predicting diagnosis...\n"
     ]
    },
    {
     "name": "stderr",
     "output_type": "stream",
     "text": [
      "100%|██████████| 132448/132448 [00:23<00:00, 5736.47it/s]\n",
      "100%|██████████| 132448/132448 [00:01<00:00, 109783.42it/s]\n"
     ]
    },
    {
     "name": "stdout",
     "output_type": "stream",
     "text": [
      "validating...\n",
      "using 30 questions predicting diagnosis...\n"
     ]
    },
    {
     "name": "stderr",
     "output_type": "stream",
     "text": [
      "100%|██████████| 132448/132448 [00:44<00:00, 2946.16it/s]\n",
      "100%|██████████| 132448/132448 [00:02<00:00, 56851.04it/s]\n"
     ]
    },
    {
     "name": "stdout",
     "output_type": "stream",
     "text": [
      "validating...\n",
      "using 35 questions predicting diagnosis...\n"
     ]
    },
    {
     "name": "stderr",
     "output_type": "stream",
     "text": [
      "100%|██████████| 132448/132448 [00:49<00:00, 2699.27it/s]\n",
      "100%|██████████| 132448/132448 [00:02<00:00, 61135.97it/s]\n"
     ]
    },
    {
     "name": "stdout",
     "output_type": "stream",
     "text": [
      "validating...\n",
      "using 40 questions predicting diagnosis...\n"
     ]
    },
    {
     "name": "stderr",
     "output_type": "stream",
     "text": [
      "100%|██████████| 132448/132448 [00:48<00:00, 2708.40it/s]\n",
      "100%|██████████| 132448/132448 [00:02<00:00, 56324.25it/s]\n"
     ]
    },
    {
     "name": "stdout",
     "output_type": "stream",
     "text": [
      "validating...\n",
      "using 45 questions predicting diagnosis...\n"
     ]
    },
    {
     "name": "stderr",
     "output_type": "stream",
     "text": [
      "100%|██████████| 132448/132448 [00:37<00:00, 3539.71it/s]\n",
      "100%|██████████| 132448/132448 [00:01<00:00, 130249.75it/s]\n"
     ]
    },
    {
     "name": "stdout",
     "output_type": "stream",
     "text": [
      "validating...\n",
      "using 50 questions predicting diagnosis...\n"
     ]
    },
    {
     "name": "stderr",
     "output_type": "stream",
     "text": [
      "100%|██████████| 132448/132448 [01:00<00:00, 2171.72it/s]\n",
      "100%|██████████| 132448/132448 [00:02<00:00, 61186.37it/s]\n"
     ]
    },
    {
     "name": "stdout",
     "output_type": "stream",
     "text": [
      "validating...\n",
      "using 55 questions predicting diagnosis...\n"
     ]
    },
    {
     "name": "stderr",
     "output_type": "stream",
     "text": [
      "100%|██████████| 132448/132448 [00:53<00:00, 2485.45it/s]\n",
      "100%|██████████| 132448/132448 [00:01<00:00, 78967.60it/s]\n"
     ]
    },
    {
     "name": "stdout",
     "output_type": "stream",
     "text": [
      "validating...\n",
      "using 60 questions predicting diagnosis...\n"
     ]
    },
    {
     "name": "stderr",
     "output_type": "stream",
     "text": [
      "100%|██████████| 132448/132448 [00:49<00:00, 2672.03it/s]\n",
      "100%|██████████| 132448/132448 [00:02<00:00, 53793.92it/s]\n"
     ]
    },
    {
     "name": "stdout",
     "output_type": "stream",
     "text": [
      "validating...\n",
      "using 65 questions predicting diagnosis...\n"
     ]
    },
    {
     "name": "stderr",
     "output_type": "stream",
     "text": [
      "100%|██████████| 132448/132448 [00:50<00:00, 2606.56it/s]\n",
      "100%|██████████| 132448/132448 [00:02<00:00, 59596.99it/s]\n"
     ]
    },
    {
     "name": "stdout",
     "output_type": "stream",
     "text": [
      "validating...\n",
      "using 70 questions predicting diagnosis...\n"
     ]
    },
    {
     "name": "stderr",
     "output_type": "stream",
     "text": [
      "100%|██████████| 132448/132448 [00:53<00:00, 2463.22it/s]\n",
      "100%|██████████| 132448/132448 [00:02<00:00, 58860.79it/s]\n"
     ]
    },
    {
     "name": "stdout",
     "output_type": "stream",
     "text": [
      "validating...\n",
      "using 75 questions predicting diagnosis...\n"
     ]
    },
    {
     "name": "stderr",
     "output_type": "stream",
     "text": [
      "100%|██████████| 132448/132448 [00:52<00:00, 2528.29it/s]\n",
      "100%|██████████| 132448/132448 [00:02<00:00, 52321.32it/s]\n"
     ]
    },
    {
     "name": "stdout",
     "output_type": "stream",
     "text": [
      "validating...\n",
      "using 80 questions predicting diagnosis...\n"
     ]
    },
    {
     "name": "stderr",
     "output_type": "stream",
     "text": [
      "100%|██████████| 132448/132448 [00:59<00:00, 2208.79it/s]\n",
      "100%|██████████| 132448/132448 [00:02<00:00, 51964.41it/s]\n"
     ]
    },
    {
     "name": "stdout",
     "output_type": "stream",
     "text": [
      "validating...\n",
      "using 85 questions predicting diagnosis...\n"
     ]
    },
    {
     "name": "stderr",
     "output_type": "stream",
     "text": [
      "100%|██████████| 132448/132448 [00:52<00:00, 2507.78it/s]\n",
      "100%|██████████| 132448/132448 [00:02<00:00, 62506.83it/s]\n"
     ]
    },
    {
     "name": "stdout",
     "output_type": "stream",
     "text": [
      "validating...\n",
      "using 90 questions predicting diagnosis...\n"
     ]
    },
    {
     "name": "stderr",
     "output_type": "stream",
     "text": [
      "100%|██████████| 132448/132448 [00:49<00:00, 2682.11it/s]\n",
      "100%|██████████| 132448/132448 [00:02<00:00, 46307.87it/s]\n"
     ]
    },
    {
     "name": "stdout",
     "output_type": "stream",
     "text": [
      "validating...\n",
      "using 95 questions predicting diagnosis...\n"
     ]
    },
    {
     "name": "stderr",
     "output_type": "stream",
     "text": [
      "100%|██████████| 132448/132448 [00:51<00:00, 2555.84it/s]\n",
      "100%|██████████| 132448/132448 [00:02<00:00, 58497.36it/s]\n"
     ]
    },
    {
     "name": "stdout",
     "output_type": "stream",
     "text": [
      "validating...\n",
      "using 100 questions predicting diagnosis...\n"
     ]
    },
    {
     "name": "stderr",
     "output_type": "stream",
     "text": [
      "100%|██████████| 132448/132448 [00:35<00:00, 3737.41it/s]\n",
      "100%|██████████| 132448/132448 [00:01<00:00, 81710.88it/s]\n"
     ]
    },
    {
     "name": "stdout",
     "output_type": "stream",
     "text": [
      "validating...\n",
      "using 105 questions predicting diagnosis...\n"
     ]
    },
    {
     "name": "stderr",
     "output_type": "stream",
     "text": [
      "100%|██████████| 132448/132448 [00:33<00:00, 4008.93it/s]\n",
      "100%|██████████| 132448/132448 [00:01<00:00, 85182.45it/s]\n"
     ]
    },
    {
     "name": "stdout",
     "output_type": "stream",
     "text": [
      "validating...\n",
      "using 110 questions predicting diagnosis...\n"
     ]
    },
    {
     "name": "stderr",
     "output_type": "stream",
     "text": [
      "100%|██████████| 132448/132448 [00:33<00:00, 3969.28it/s]\n",
      "100%|██████████| 132448/132448 [00:01<00:00, 88919.87it/s]\n"
     ]
    },
    {
     "name": "stdout",
     "output_type": "stream",
     "text": [
      "validating...\n",
      "using 115 questions predicting diagnosis...\n"
     ]
    },
    {
     "name": "stderr",
     "output_type": "stream",
     "text": [
      "100%|██████████| 132448/132448 [00:33<00:00, 3902.86it/s]\n",
      "100%|██████████| 132448/132448 [00:01<00:00, 88247.44it/s]\n"
     ]
    },
    {
     "name": "stdout",
     "output_type": "stream",
     "text": [
      "validating...\n",
      "using 120 questions predicting diagnosis...\n"
     ]
    },
    {
     "name": "stderr",
     "output_type": "stream",
     "text": [
      "100%|██████████| 132448/132448 [00:33<00:00, 4000.81it/s]\n",
      "100%|██████████| 132448/132448 [00:01<00:00, 84058.16it/s]\n"
     ]
    },
    {
     "name": "stdout",
     "output_type": "stream",
     "text": [
      "validating...\n",
      "using 125 questions predicting diagnosis...\n"
     ]
    },
    {
     "name": "stderr",
     "output_type": "stream",
     "text": [
      "100%|██████████| 132448/132448 [00:34<00:00, 3787.11it/s]\n",
      "100%|██████████| 132448/132448 [00:01<00:00, 91555.54it/s]\n"
     ]
    },
    {
     "name": "stdout",
     "output_type": "stream",
     "text": [
      "validating...\n",
      "using 130 questions predicting diagnosis...\n"
     ]
    },
    {
     "name": "stderr",
     "output_type": "stream",
     "text": [
      "100%|██████████| 132448/132448 [00:35<00:00, 3691.08it/s]\n",
      "100%|██████████| 132448/132448 [00:01<00:00, 88995.51it/s]\n"
     ]
    },
    {
     "name": "stdout",
     "output_type": "stream",
     "text": [
      "validating...\n",
      "using 135 questions predicting diagnosis...\n"
     ]
    },
    {
     "name": "stderr",
     "output_type": "stream",
     "text": [
      "100%|██████████| 132448/132448 [00:33<00:00, 3926.90it/s]\n",
      "100%|██████████| 132448/132448 [00:01<00:00, 79430.50it/s]\n"
     ]
    },
    {
     "name": "stdout",
     "output_type": "stream",
     "text": [
      "validating...\n",
      "using 140 questions predicting diagnosis...\n"
     ]
    },
    {
     "name": "stderr",
     "output_type": "stream",
     "text": [
      "100%|██████████| 132448/132448 [00:36<00:00, 3612.54it/s]\n",
      "100%|██████████| 132448/132448 [00:01<00:00, 80986.28it/s]\n"
     ]
    },
    {
     "name": "stdout",
     "output_type": "stream",
     "text": [
      "validating...\n",
      "using 145 questions predicting diagnosis...\n"
     ]
    },
    {
     "name": "stderr",
     "output_type": "stream",
     "text": [
      "100%|██████████| 132448/132448 [00:35<00:00, 3688.92it/s]\n",
      "100%|██████████| 132448/132448 [00:01<00:00, 76201.11it/s]\n"
     ]
    },
    {
     "name": "stdout",
     "output_type": "stream",
     "text": [
      "validating...\n",
      "using 150 questions predicting diagnosis...\n"
     ]
    },
    {
     "name": "stderr",
     "output_type": "stream",
     "text": [
      "100%|██████████| 132448/132448 [00:34<00:00, 3881.72it/s]\n",
      "100%|██████████| 132448/132448 [00:01<00:00, 89726.02it/s]\n"
     ]
    },
    {
     "name": "stdout",
     "output_type": "stream",
     "text": [
      "validating...\n",
      "using 155 questions predicting diagnosis...\n"
     ]
    },
    {
     "name": "stderr",
     "output_type": "stream",
     "text": [
      "100%|██████████| 132448/132448 [00:34<00:00, 3860.84it/s]\n",
      "100%|██████████| 132448/132448 [00:01<00:00, 85380.69it/s]\n"
     ]
    },
    {
     "name": "stdout",
     "output_type": "stream",
     "text": [
      "validating...\n",
      "using 160 questions predicting diagnosis...\n"
     ]
    },
    {
     "name": "stderr",
     "output_type": "stream",
     "text": [
      "100%|██████████| 132448/132448 [00:33<00:00, 3946.62it/s]\n",
      "100%|██████████| 132448/132448 [00:01<00:00, 78609.67it/s]\n"
     ]
    },
    {
     "name": "stdout",
     "output_type": "stream",
     "text": [
      "validating...\n",
      "using 165 questions predicting diagnosis...\n"
     ]
    },
    {
     "name": "stderr",
     "output_type": "stream",
     "text": [
      "100%|██████████| 132448/132448 [00:33<00:00, 3970.72it/s]\n",
      "100%|██████████| 132448/132448 [00:01<00:00, 87795.82it/s]\n"
     ]
    },
    {
     "name": "stdout",
     "output_type": "stream",
     "text": [
      "validating...\n",
      "using 170 questions predicting diagnosis...\n"
     ]
    },
    {
     "name": "stderr",
     "output_type": "stream",
     "text": [
      "100%|██████████| 132448/132448 [00:38<00:00, 3475.04it/s]\n",
      "100%|██████████| 132448/132448 [00:01<00:00, 73992.07it/s]\n"
     ]
    },
    {
     "name": "stdout",
     "output_type": "stream",
     "text": [
      "validating...\n",
      "using 175 questions predicting diagnosis...\n"
     ]
    },
    {
     "name": "stderr",
     "output_type": "stream",
     "text": [
      "100%|██████████| 132448/132448 [00:33<00:00, 3930.74it/s]\n",
      "100%|██████████| 132448/132448 [00:01<00:00, 75600.81it/s]\n"
     ]
    },
    {
     "name": "stdout",
     "output_type": "stream",
     "text": [
      "validating...\n",
      "using 180 questions predicting diagnosis...\n"
     ]
    },
    {
     "name": "stderr",
     "output_type": "stream",
     "text": [
      "100%|██████████| 132448/132448 [00:34<00:00, 3825.21it/s]\n",
      "100%|██████████| 132448/132448 [00:01<00:00, 86762.59it/s]\n"
     ]
    },
    {
     "name": "stdout",
     "output_type": "stream",
     "text": [
      "validating...\n",
      "using 185 questions predicting diagnosis...\n"
     ]
    },
    {
     "name": "stderr",
     "output_type": "stream",
     "text": [
      "100%|██████████| 132448/132448 [00:33<00:00, 3972.57it/s]\n",
      "100%|██████████| 132448/132448 [00:01<00:00, 77203.99it/s]\n"
     ]
    },
    {
     "name": "stdout",
     "output_type": "stream",
     "text": [
      "validating...\n",
      "using 190 questions predicting diagnosis...\n"
     ]
    },
    {
     "name": "stderr",
     "output_type": "stream",
     "text": [
      "100%|██████████| 132448/132448 [00:34<00:00, 3894.63it/s]\n",
      "100%|██████████| 132448/132448 [00:01<00:00, 86988.75it/s]\n"
     ]
    },
    {
     "name": "stdout",
     "output_type": "stream",
     "text": [
      "validating...\n",
      "using 195 questions predicting diagnosis...\n"
     ]
    },
    {
     "name": "stderr",
     "output_type": "stream",
     "text": [
      "100%|██████████| 132448/132448 [00:33<00:00, 3904.42it/s]\n",
      "100%|██████████| 132448/132448 [00:01<00:00, 84135.13it/s]\n"
     ]
    },
    {
     "name": "stdout",
     "output_type": "stream",
     "text": [
      "validating...\n",
      "using 200 questions predicting diagnosis...\n"
     ]
    },
    {
     "name": "stderr",
     "output_type": "stream",
     "text": [
      "100%|██████████| 132448/132448 [00:38<00:00, 3401.56it/s]\n",
      "100%|██████████| 132448/132448 [00:01<00:00, 90701.68it/s] \n"
     ]
    },
    {
     "name": "stdout",
     "output_type": "stream",
     "text": [
      "validating...\n",
      "using 205 questions predicting diagnosis...\n"
     ]
    },
    {
     "name": "stderr",
     "output_type": "stream",
     "text": [
      "100%|██████████| 132448/132448 [00:34<00:00, 3822.70it/s]\n",
      "100%|██████████| 132448/132448 [00:01<00:00, 87920.76it/s] \n"
     ]
    },
    {
     "name": "stdout",
     "output_type": "stream",
     "text": [
      "validating...\n",
      "using 208 questions predicting diagnosis...\n"
     ]
    },
    {
     "name": "stderr",
     "output_type": "stream",
     "text": [
      "100%|██████████| 132448/132448 [00:37<00:00, 3538.84it/s]\n",
      "100%|██████████| 132448/132448 [00:01<00:00, 76521.15it/s]"
     ]
    },
    {
     "name": "stdout",
     "output_type": "stream",
     "text": [
      "validating...\n"
     ]
    },
    {
     "name": "stderr",
     "output_type": "stream",
     "text": [
      "\n"
     ]
    }
   ],
   "source": [
    "experiment(\"logistic_regression\")\n",
    "# 17m 36s - 5 pathology"
   ]
  },
  {
   "cell_type": "code",
   "execution_count": 51,
   "metadata": {},
   "outputs": [
    {
     "data": {
      "text/plain": [
       "{'decision_tree': {'n_questions_5': {True: 116110,\n",
       "   False: 16338,\n",
       "   'error_rate': 0.12335407103165015,\n",
       "   'mean_hit_rate': 0.33105369578602123,\n",
       "   'mean_hit_rate_misdiagnosed': 0.28008352463857694},\n",
       "  'n_questions_10': {True: 121690,\n",
       "   False: 10758,\n",
       "   'error_rate': 0.08122432954820005,\n",
       "   'mean_hit_rate': 0.5348788121386866,\n",
       "   'mean_hit_rate_misdiagnosed': 0.4356983877455637},\n",
       "  'n_questions_15': {True: 127360,\n",
       "   False: 5088,\n",
       "   'error_rate': 0.03841507610533945,\n",
       "   'mean_hit_rate': 0.7015726661850556,\n",
       "   'mean_hit_rate_misdiagnosed': 0.5205299289140937},\n",
       "  'n_questions_20': {True: 129530,\n",
       "   False: 2918,\n",
       "   'error_rate': 0.022031287750664413,\n",
       "   'mean_hit_rate': 0.8109909153294077,\n",
       "   'mean_hit_rate_misdiagnosed': 0.5412558725317758},\n",
       "  'n_questions_25': {True: 130564,\n",
       "   False: 1884,\n",
       "   'error_rate': 0.014224450350326165,\n",
       "   'mean_hit_rate': 0.8810154199870976,\n",
       "   'mean_hit_rate_misdiagnosed': 0.5903738454001646},\n",
       "  'n_questions_30': {True: 130879,\n",
       "   False: 1569,\n",
       "   'error_rate': 0.011846158492389467,\n",
       "   'mean_hit_rate': 0.9208837285146768,\n",
       "   'mean_hit_rate_misdiagnosed': 0.6167908419443345},\n",
       "  'n_questions_35': {True: 131040,\n",
       "   False: 1408,\n",
       "   'error_rate': 0.01063058709833293,\n",
       "   'mean_hit_rate': 0.9468731355612496,\n",
       "   'mean_hit_rate_misdiagnosed': 0.635536283549846},\n",
       "  'n_questions_40': {True: 131169,\n",
       "   False: 1279,\n",
       "   'error_rate': 0.009656619956511235,\n",
       "   'mean_hit_rate': 0.9672991290595049,\n",
       "   'mean_hit_rate_misdiagnosed': 0.661006934599585},\n",
       "  'n_questions_45': {True: 131713,\n",
       "   False: 735,\n",
       "   'error_rate': 0.005549347668518966,\n",
       "   'mean_hit_rate': 0.9809383707671537,\n",
       "   'mean_hit_rate_misdiagnosed': 0.8359674339266177},\n",
       "  'n_questions_50': {True: 131877,\n",
       "   False: 571,\n",
       "   'error_rate': 0.004311125875815414,\n",
       "   'mean_hit_rate': 0.9901947959174193,\n",
       "   'mean_hit_rate_misdiagnosed': 0.9359915770160955},\n",
       "  'n_questions_55': {True: 131886,\n",
       "   False: 562,\n",
       "   'error_rate': 0.004243174679874366,\n",
       "   'mean_hit_rate': 0.9939447442967693,\n",
       "   'mean_hit_rate_misdiagnosed': 0.9433146924250126},\n",
       "  'n_questions_60': {True: 131911,\n",
       "   False: 537,\n",
       "   'error_rate': 0.0040544213578158975,\n",
       "   'mean_hit_rate': 0.9958715827096248,\n",
       "   'mean_hit_rate_misdiagnosed': 0.9642251189737223},\n",
       "  'n_questions_65': {True: 131955,\n",
       "   False: 493,\n",
       "   'error_rate': 0.0037222155109929937,\n",
       "   'mean_hit_rate': 0.9970895046681393,\n",
       "   'mean_hit_rate_misdiagnosed': 0.9967658327698896},\n",
       "  'n_questions_70': {True: 131956,\n",
       "   False: 492,\n",
       "   'error_rate': 0.0037146653781106546,\n",
       "   'mean_hit_rate': 0.9974770661717616,\n",
       "   'mean_hit_rate_misdiagnosed': 0.9981368563685638},\n",
       "  'n_questions_75': {True: 131957,\n",
       "   False: 491,\n",
       "   'error_rate': 0.003707115245228316,\n",
       "   'mean_hit_rate': 0.9982845199265985,\n",
       "   'mean_hit_rate_misdiagnosed': 0.9984725050916496},\n",
       "  'n_questions_80': {True: 131957,\n",
       "   False: 491,\n",
       "   'error_rate': 0.003707115245228316,\n",
       "   'mean_hit_rate': 0.9987981986102002,\n",
       "   'mean_hit_rate_misdiagnosed': 0.9984725050916496},\n",
       "  'n_questions_85': {True: 131957,\n",
       "   False: 491,\n",
       "   'error_rate': 0.003707115245228316,\n",
       "   'mean_hit_rate': 0.9989152256698766,\n",
       "   'mean_hit_rate_misdiagnosed': 0.9984725050916496},\n",
       "  'n_questions_90': {True: 131957,\n",
       "   False: 491,\n",
       "   'error_rate': 0.003707115245228316,\n",
       "   'mean_hit_rate': 0.999210687536672,\n",
       "   'mean_hit_rate_misdiagnosed': 0.9984725050916496},\n",
       "  'n_questions_95': {True: 131957,\n",
       "   False: 491,\n",
       "   'error_rate': 0.003707115245228316,\n",
       "   'mean_hit_rate': 0.999210687536672,\n",
       "   'mean_hit_rate_misdiagnosed': 0.9984725050916496},\n",
       "  'n_questions_100': {True: 131957,\n",
       "   False: 491,\n",
       "   'error_rate': 0.003707115245228316,\n",
       "   'mean_hit_rate': 0.9993531333770521,\n",
       "   'mean_hit_rate_misdiagnosed': 0.9984725050916496},\n",
       "  'n_questions_105': {True: 131957,\n",
       "   False: 491,\n",
       "   'error_rate': 0.003707115245228316,\n",
       "   'mean_hit_rate': 0.9993584364465767,\n",
       "   'mean_hit_rate_misdiagnosed': 0.9984725050916496},\n",
       "  'n_questions_110': {True: 131957,\n",
       "   False: 491,\n",
       "   'error_rate': 0.003707115245228316,\n",
       "   'mean_hit_rate': 0.9993840619571096,\n",
       "   'mean_hit_rate_misdiagnosed': 0.9984725050916496},\n",
       "  'n_questions_115': {True: 131957,\n",
       "   False: 491,\n",
       "   'error_rate': 0.003707115245228316,\n",
       "   'mean_hit_rate': 0.9994297492493012,\n",
       "   'mean_hit_rate_misdiagnosed': 0.9984725050916496},\n",
       "  'n_questions_120': {True: 131957,\n",
       "   False: 491,\n",
       "   'error_rate': 0.003707115245228316,\n",
       "   'mean_hit_rate': 0.9997669885180454,\n",
       "   'mean_hit_rate_misdiagnosed': 0.9984725050916496},\n",
       "  'n_questions_125': {True: 131958,\n",
       "   False: 490,\n",
       "   'error_rate': 0.0036995651123459773,\n",
       "   'mean_hit_rate': 0.9997726511177071,\n",
       "   'mean_hit_rate_misdiagnosed': 1.0},\n",
       "  'n_questions_130': {True: 131958,\n",
       "   False: 490,\n",
       "   'error_rate': 0.0036995651123459773,\n",
       "   'mean_hit_rate': 0.9997726511177071,\n",
       "   'mean_hit_rate_misdiagnosed': 1.0},\n",
       "  'n_questions_135': {True: 131958,\n",
       "   False: 490,\n",
       "   'error_rate': 0.0036995651123459773,\n",
       "   'mean_hit_rate': 0.9997726511177071,\n",
       "   'mean_hit_rate_misdiagnosed': 1.0},\n",
       "  'n_questions_140': {True: 131958,\n",
       "   False: 490,\n",
       "   'error_rate': 0.0036995651123459773,\n",
       "   'mean_hit_rate': 0.9998899298484796,\n",
       "   'mean_hit_rate_misdiagnosed': 1.0},\n",
       "  'n_questions_145': {True: 131958,\n",
       "   False: 490,\n",
       "   'error_rate': 0.0036995651123459773,\n",
       "   'mean_hit_rate': 0.9999618538524372,\n",
       "   'mean_hit_rate_misdiagnosed': 1.0},\n",
       "  'n_questions_150': {True: 131958,\n",
       "   False: 490,\n",
       "   'error_rate': 0.0036995651123459773,\n",
       "   'mean_hit_rate': 0.9999618538524372,\n",
       "   'mean_hit_rate_misdiagnosed': 1.0},\n",
       "  'n_questions_155': {True: 131958,\n",
       "   False: 490,\n",
       "   'error_rate': 0.0036995651123459773,\n",
       "   'mean_hit_rate': 0.9999618538524372,\n",
       "   'mean_hit_rate_misdiagnosed': 1.0},\n",
       "  'n_questions_160': {True: 131958,\n",
       "   False: 490,\n",
       "   'error_rate': 0.0036995651123459773,\n",
       "   'mean_hit_rate': 0.9999618538524372,\n",
       "   'mean_hit_rate_misdiagnosed': 1.0},\n",
       "  'n_questions_165': {True: 131958,\n",
       "   False: 490,\n",
       "   'error_rate': 0.0036995651123459773,\n",
       "   'mean_hit_rate': 0.9999618538524372,\n",
       "   'mean_hit_rate_misdiagnosed': 1.0},\n",
       "  'n_questions_170': {True: 131958,\n",
       "   False: 490,\n",
       "   'error_rate': 0.0036995651123459773,\n",
       "   'mean_hit_rate': 1.0,\n",
       "   'mean_hit_rate_misdiagnosed': 1.0},\n",
       "  'n_questions_175': {True: 131958,\n",
       "   False: 490,\n",
       "   'error_rate': 0.0036995651123459773,\n",
       "   'mean_hit_rate': 1.0,\n",
       "   'mean_hit_rate_misdiagnosed': 1.0},\n",
       "  'n_questions_180': {True: 131958,\n",
       "   False: 490,\n",
       "   'error_rate': 0.0036995651123459773,\n",
       "   'mean_hit_rate': 1.0,\n",
       "   'mean_hit_rate_misdiagnosed': 1.0},\n",
       "  'n_questions_185': {True: 131958,\n",
       "   False: 490,\n",
       "   'error_rate': 0.0036995651123459773,\n",
       "   'mean_hit_rate': 1.0,\n",
       "   'mean_hit_rate_misdiagnosed': 1.0},\n",
       "  'n_questions_190': {True: 131958,\n",
       "   False: 490,\n",
       "   'error_rate': 0.0036995651123459773,\n",
       "   'mean_hit_rate': 1.0,\n",
       "   'mean_hit_rate_misdiagnosed': 1.0},\n",
       "  'n_questions_195': {True: 131958,\n",
       "   False: 490,\n",
       "   'error_rate': 0.0036995651123459773,\n",
       "   'mean_hit_rate': 1.0,\n",
       "   'mean_hit_rate_misdiagnosed': 1.0},\n",
       "  'n_questions_200': {True: 131958,\n",
       "   False: 490,\n",
       "   'error_rate': 0.0036995651123459773,\n",
       "   'mean_hit_rate': 1.0,\n",
       "   'mean_hit_rate_misdiagnosed': 1.0},\n",
       "  'n_questions_205': {True: 131958,\n",
       "   False: 490,\n",
       "   'error_rate': 0.0036995651123459773,\n",
       "   'mean_hit_rate': 1.0,\n",
       "   'mean_hit_rate_misdiagnosed': 1.0},\n",
       "  'n_questions_208': {True: 131958,\n",
       "   False: 490,\n",
       "   'error_rate': 0.0036995651123459773,\n",
       "   'mean_hit_rate': 1.0,\n",
       "   'mean_hit_rate_misdiagnosed': 1.0},\n",
       "  'plt_y': [0.12335407103165015,\n",
       "   0.08122432954820005,\n",
       "   0.03841507610533945,\n",
       "   0.022031287750664413,\n",
       "   0.014224450350326165,\n",
       "   0.011846158492389467,\n",
       "   0.01063058709833293,\n",
       "   0.009656619956511235,\n",
       "   0.005549347668518966,\n",
       "   0.004311125875815414,\n",
       "   0.004243174679874366,\n",
       "   0.0040544213578158975,\n",
       "   0.0037222155109929937,\n",
       "   0.0037146653781106546,\n",
       "   0.003707115245228316,\n",
       "   0.003707115245228316,\n",
       "   0.003707115245228316,\n",
       "   0.003707115245228316,\n",
       "   0.003707115245228316,\n",
       "   0.003707115245228316,\n",
       "   0.003707115245228316,\n",
       "   0.003707115245228316,\n",
       "   0.003707115245228316,\n",
       "   0.003707115245228316,\n",
       "   0.0036995651123459773,\n",
       "   0.0036995651123459773,\n",
       "   0.0036995651123459773,\n",
       "   0.0036995651123459773,\n",
       "   0.0036995651123459773,\n",
       "   0.0036995651123459773,\n",
       "   0.0036995651123459773,\n",
       "   0.0036995651123459773,\n",
       "   0.0036995651123459773,\n",
       "   0.0036995651123459773,\n",
       "   0.0036995651123459773,\n",
       "   0.0036995651123459773,\n",
       "   0.0036995651123459773,\n",
       "   0.0036995651123459773,\n",
       "   0.0036995651123459773,\n",
       "   0.0036995651123459773,\n",
       "   0.0036995651123459773,\n",
       "   0.0036995651123459773]},\n",
       " 'random_forest': {'n_questions_5': {True: 118901,\n",
       "   False: 13547,\n",
       "   'error_rate': 0.10228165015704277,\n",
       "   'mean_hit_rate': 0.33105369578602123,\n",
       "   'mean_hit_rate_misdiagnosed': 0.28074578972871717},\n",
       "  'n_questions_10': {True: 124964,\n",
       "   False: 7484,\n",
       "   'error_rate': 0.05650519449142305,\n",
       "   'mean_hit_rate': 0.5348788121386866,\n",
       "   'mean_hit_rate_misdiagnosed': 0.3714183642699409},\n",
       "  'n_questions_15': {True: 128768,\n",
       "   False: 3680,\n",
       "   'error_rate': 0.027784489007006523,\n",
       "   'mean_hit_rate': 0.7015726661850556,\n",
       "   'mean_hit_rate_misdiagnosed': 0.37233021331332217},\n",
       "  'n_questions_20': {True: 129880,\n",
       "   False: 2568,\n",
       "   'error_rate': 0.019388741241845857,\n",
       "   'mean_hit_rate': 0.8109909153294077,\n",
       "   'mean_hit_rate_misdiagnosed': 0.3741658885572455},\n",
       "  'n_questions_25': {True: 131059,\n",
       "   False: 1389,\n",
       "   'error_rate': 0.010487134573568495,\n",
       "   'mean_hit_rate': 0.8810154199870976,\n",
       "   'mean_hit_rate_misdiagnosed': 0.41460585350974116},\n",
       "  'n_questions_30': {True: 131196,\n",
       "   False: 1252,\n",
       "   'error_rate': 0.009452766368688088,\n",
       "   'mean_hit_rate': 0.9208837285146768,\n",
       "   'mean_hit_rate_misdiagnosed': 0.40747581647142345},\n",
       "  'n_questions_35': {True: 131561,\n",
       "   False: 887,\n",
       "   'error_rate': 0.006696967866634452,\n",
       "   'mean_hit_rate': 0.9468731355612496,\n",
       "   'mean_hit_rate_misdiagnosed': 0.4463339632308065},\n",
       "  'n_questions_40': {True: 131596,\n",
       "   False: 852,\n",
       "   'error_rate': 0.006432713215752597,\n",
       "   'mean_hit_rate': 0.9672991290595049,\n",
       "   'mean_hit_rate_misdiagnosed': 0.44856124900138983},\n",
       "  'n_questions_45': {True: 132170,\n",
       "   False: 278,\n",
       "   'error_rate': 0.0020989369412901665,\n",
       "   'mean_hit_rate': 0.9809383707671537,\n",
       "   'mean_hit_rate_misdiagnosed': 0.5546942965108433},\n",
       "  'n_questions_50': {True: 132338,\n",
       "   False: 110,\n",
       "   'error_rate': 0.0008305146170572602,\n",
       "   'mean_hit_rate': 0.9901947959174193,\n",
       "   'mean_hit_rate_misdiagnosed': 0.6635287944378855},\n",
       "  'n_questions_55': {True: 132345,\n",
       "   False: 103,\n",
       "   'error_rate': 0.0007776636868808891,\n",
       "   'mean_hit_rate': 0.9939447442967693,\n",
       "   'mean_hit_rate_misdiagnosed': 0.6759169363538297},\n",
       "  'n_questions_60': {True: 132381,\n",
       "   False: 67,\n",
       "   'error_rate': 0.0005058589031166949,\n",
       "   'mean_hit_rate': 0.9958715827096248,\n",
       "   'mean_hit_rate_misdiagnosed': 0.7960080549632789},\n",
       "  'n_questions_65': {True: 132413,\n",
       "   False: 35,\n",
       "   'error_rate': 0.00026425465088185553,\n",
       "   'mean_hit_rate': 0.9970895046681393,\n",
       "   'mean_hit_rate_misdiagnosed': 0.9547619047619047},\n",
       "  'n_questions_70': {True: 132414,\n",
       "   False: 34,\n",
       "   'error_rate': 0.0002567045179995168,\n",
       "   'mean_hit_rate': 0.9974770661717616,\n",
       "   'mean_hit_rate_misdiagnosed': 0.9681372549019607},\n",
       "  'n_questions_75': {True: 132415,\n",
       "   False: 33,\n",
       "   'error_rate': 0.0002491543851171781,\n",
       "   'mean_hit_rate': 0.9982845199265985,\n",
       "   'mean_hit_rate_misdiagnosed': 0.9772727272727273},\n",
       "  'n_questions_80': {True: 132415,\n",
       "   False: 33,\n",
       "   'error_rate': 0.0002491543851171781,\n",
       "   'mean_hit_rate': 0.9987981986102002,\n",
       "   'mean_hit_rate_misdiagnosed': 0.9772727272727273},\n",
       "  'n_questions_85': {True: 132415,\n",
       "   False: 33,\n",
       "   'error_rate': 0.0002491543851171781,\n",
       "   'mean_hit_rate': 0.9989152256698766,\n",
       "   'mean_hit_rate_misdiagnosed': 0.9772727272727273},\n",
       "  'n_questions_90': {True: 132415,\n",
       "   False: 33,\n",
       "   'error_rate': 0.0002491543851171781,\n",
       "   'mean_hit_rate': 0.999210687536672,\n",
       "   'mean_hit_rate_misdiagnosed': 0.9772727272727273},\n",
       "  'n_questions_95': {True: 132415,\n",
       "   False: 33,\n",
       "   'error_rate': 0.0002491543851171781,\n",
       "   'mean_hit_rate': 0.999210687536672,\n",
       "   'mean_hit_rate_misdiagnosed': 0.9772727272727273},\n",
       "  'n_questions_100': {True: 132415,\n",
       "   False: 33,\n",
       "   'error_rate': 0.0002491543851171781,\n",
       "   'mean_hit_rate': 0.9993531333770521,\n",
       "   'mean_hit_rate_misdiagnosed': 0.9772727272727273},\n",
       "  'n_questions_105': {True: 132415,\n",
       "   False: 33,\n",
       "   'error_rate': 0.0002491543851171781,\n",
       "   'mean_hit_rate': 0.9993584364465767,\n",
       "   'mean_hit_rate_misdiagnosed': 0.9772727272727273},\n",
       "  'n_questions_110': {True: 132415,\n",
       "   False: 33,\n",
       "   'error_rate': 0.0002491543851171781,\n",
       "   'mean_hit_rate': 0.9993840619571096,\n",
       "   'mean_hit_rate_misdiagnosed': 0.9772727272727273},\n",
       "  'n_questions_115': {True: 132415,\n",
       "   False: 33,\n",
       "   'error_rate': 0.0002491543851171781,\n",
       "   'mean_hit_rate': 0.9994297492493012,\n",
       "   'mean_hit_rate_misdiagnosed': 0.9772727272727273},\n",
       "  'n_questions_120': {True: 132415,\n",
       "   False: 33,\n",
       "   'error_rate': 0.0002491543851171781,\n",
       "   'mean_hit_rate': 0.9997669885180454,\n",
       "   'mean_hit_rate_misdiagnosed': 0.9772727272727273},\n",
       "  'n_questions_125': {True: 132416,\n",
       "   False: 32,\n",
       "   'error_rate': 0.00024160425223483932,\n",
       "   'mean_hit_rate': 0.9997726511177071,\n",
       "   'mean_hit_rate_misdiagnosed': 1.0},\n",
       "  'n_questions_130': {True: 132416,\n",
       "   False: 32,\n",
       "   'error_rate': 0.00024160425223483932,\n",
       "   'mean_hit_rate': 0.9997726511177071,\n",
       "   'mean_hit_rate_misdiagnosed': 1.0},\n",
       "  'n_questions_135': {True: 132416,\n",
       "   False: 32,\n",
       "   'error_rate': 0.00024160425223483932,\n",
       "   'mean_hit_rate': 0.9997726511177071,\n",
       "   'mean_hit_rate_misdiagnosed': 1.0},\n",
       "  'n_questions_140': {True: 132416,\n",
       "   False: 32,\n",
       "   'error_rate': 0.00024160425223483932,\n",
       "   'mean_hit_rate': 0.9998899298484796,\n",
       "   'mean_hit_rate_misdiagnosed': 1.0},\n",
       "  'n_questions_145': {True: 132416,\n",
       "   False: 32,\n",
       "   'error_rate': 0.00024160425223483932,\n",
       "   'mean_hit_rate': 0.9999618538524372,\n",
       "   'mean_hit_rate_misdiagnosed': 1.0},\n",
       "  'n_questions_150': {True: 132416,\n",
       "   False: 32,\n",
       "   'error_rate': 0.00024160425223483932,\n",
       "   'mean_hit_rate': 0.9999618538524372,\n",
       "   'mean_hit_rate_misdiagnosed': 1.0},\n",
       "  'n_questions_155': {True: 132416,\n",
       "   False: 32,\n",
       "   'error_rate': 0.00024160425223483932,\n",
       "   'mean_hit_rate': 0.9999618538524372,\n",
       "   'mean_hit_rate_misdiagnosed': 1.0},\n",
       "  'n_questions_160': {True: 132416,\n",
       "   False: 32,\n",
       "   'error_rate': 0.00024160425223483932,\n",
       "   'mean_hit_rate': 0.9999618538524372,\n",
       "   'mean_hit_rate_misdiagnosed': 1.0},\n",
       "  'n_questions_165': {True: 132416,\n",
       "   False: 32,\n",
       "   'error_rate': 0.00024160425223483932,\n",
       "   'mean_hit_rate': 0.9999618538524372,\n",
       "   'mean_hit_rate_misdiagnosed': 1.0},\n",
       "  'n_questions_170': {True: 132416,\n",
       "   False: 32,\n",
       "   'error_rate': 0.00024160425223483932,\n",
       "   'mean_hit_rate': 1.0,\n",
       "   'mean_hit_rate_misdiagnosed': 1.0},\n",
       "  'n_questions_175': {True: 132416,\n",
       "   False: 32,\n",
       "   'error_rate': 0.00024160425223483932,\n",
       "   'mean_hit_rate': 1.0,\n",
       "   'mean_hit_rate_misdiagnosed': 1.0},\n",
       "  'n_questions_180': {True: 132416,\n",
       "   False: 32,\n",
       "   'error_rate': 0.00024160425223483932,\n",
       "   'mean_hit_rate': 1.0,\n",
       "   'mean_hit_rate_misdiagnosed': 1.0},\n",
       "  'n_questions_185': {True: 132416,\n",
       "   False: 32,\n",
       "   'error_rate': 0.00024160425223483932,\n",
       "   'mean_hit_rate': 1.0,\n",
       "   'mean_hit_rate_misdiagnosed': 1.0},\n",
       "  'n_questions_190': {True: 132416,\n",
       "   False: 32,\n",
       "   'error_rate': 0.00024160425223483932,\n",
       "   'mean_hit_rate': 1.0,\n",
       "   'mean_hit_rate_misdiagnosed': 1.0},\n",
       "  'n_questions_195': {True: 132416,\n",
       "   False: 32,\n",
       "   'error_rate': 0.00024160425223483932,\n",
       "   'mean_hit_rate': 1.0,\n",
       "   'mean_hit_rate_misdiagnosed': 1.0},\n",
       "  'n_questions_200': {True: 132416,\n",
       "   False: 32,\n",
       "   'error_rate': 0.00024160425223483932,\n",
       "   'mean_hit_rate': 1.0,\n",
       "   'mean_hit_rate_misdiagnosed': 1.0},\n",
       "  'n_questions_205': {True: 132416,\n",
       "   False: 32,\n",
       "   'error_rate': 0.00024160425223483932,\n",
       "   'mean_hit_rate': 1.0,\n",
       "   'mean_hit_rate_misdiagnosed': 1.0},\n",
       "  'n_questions_208': {True: 132416,\n",
       "   False: 32,\n",
       "   'error_rate': 0.00024160425223483932,\n",
       "   'mean_hit_rate': 1.0,\n",
       "   'mean_hit_rate_misdiagnosed': 1.0},\n",
       "  'plt_y': [0.10228165015704277,\n",
       "   0.05650519449142305,\n",
       "   0.027784489007006523,\n",
       "   0.019388741241845857,\n",
       "   0.010487134573568495,\n",
       "   0.009452766368688088,\n",
       "   0.006696967866634452,\n",
       "   0.006432713215752597,\n",
       "   0.0020989369412901665,\n",
       "   0.0008305146170572602,\n",
       "   0.0007776636868808891,\n",
       "   0.0005058589031166949,\n",
       "   0.00026425465088185553,\n",
       "   0.0002567045179995168,\n",
       "   0.0002491543851171781,\n",
       "   0.0002491543851171781,\n",
       "   0.0002491543851171781,\n",
       "   0.0002491543851171781,\n",
       "   0.0002491543851171781,\n",
       "   0.0002491543851171781,\n",
       "   0.0002491543851171781,\n",
       "   0.0002491543851171781,\n",
       "   0.0002491543851171781,\n",
       "   0.0002491543851171781,\n",
       "   0.00024160425223483932,\n",
       "   0.00024160425223483932,\n",
       "   0.00024160425223483932,\n",
       "   0.00024160425223483932,\n",
       "   0.00024160425223483932,\n",
       "   0.00024160425223483932,\n",
       "   0.00024160425223483932,\n",
       "   0.00024160425223483932,\n",
       "   0.00024160425223483932,\n",
       "   0.00024160425223483932,\n",
       "   0.00024160425223483932,\n",
       "   0.00024160425223483932,\n",
       "   0.00024160425223483932,\n",
       "   0.00024160425223483932,\n",
       "   0.00024160425223483932,\n",
       "   0.00024160425223483932,\n",
       "   0.00024160425223483932,\n",
       "   0.00024160425223483932]},\n",
       " 'gradient_boost': {'n_questions_5': {True: 115495,\n",
       "   False: 16953,\n",
       "   'error_rate': 0.12799740275428848,\n",
       "   'mean_hit_rate': 0.33105369578602123,\n",
       "   'mean_hit_rate_misdiagnosed': 0.32534964578944436},\n",
       "  'n_questions_10': {True: 123825,\n",
       "   False: 8623,\n",
       "   'error_rate': 0.06510479584440686,\n",
       "   'mean_hit_rate': 0.5348788121386866,\n",
       "   'mean_hit_rate_misdiagnosed': 0.44389629930318747},\n",
       "  'n_questions_15': {True: 128207,\n",
       "   False: 4241,\n",
       "   'error_rate': 0.03202011355399855,\n",
       "   'mean_hit_rate': 0.7015726661850556,\n",
       "   'mean_hit_rate_misdiagnosed': 0.48106587092523795},\n",
       "  'n_questions_20': {True: 129808,\n",
       "   False: 2640,\n",
       "   'error_rate': 0.019932350809374246,\n",
       "   'mean_hit_rate': 0.8109909153294077,\n",
       "   'mean_hit_rate_misdiagnosed': 0.50616636842709},\n",
       "  'n_questions_25': {True: 130667,\n",
       "   False: 1781,\n",
       "   'error_rate': 0.013446786663445277,\n",
       "   'mean_hit_rate': 0.8810154199870976,\n",
       "   'mean_hit_rate_misdiagnosed': 0.5283575439745966},\n",
       "  'n_questions_30': {True: 130987,\n",
       "   False: 1461,\n",
       "   'error_rate': 0.011030744141096883,\n",
       "   'mean_hit_rate': 0.9208837285146768,\n",
       "   'mean_hit_rate_misdiagnosed': 0.522843025101752},\n",
       "  'n_questions_35': {True: 131112,\n",
       "   False: 1336,\n",
       "   'error_rate': 0.010086977530804541,\n",
       "   'mean_hit_rate': 0.9468731355612496,\n",
       "   'mean_hit_rate_misdiagnosed': 0.5243112953101065},\n",
       "  'n_questions_40': {True: 131282,\n",
       "   False: 1166,\n",
       "   'error_rate': 0.008803454940806959,\n",
       "   'mean_hit_rate': 0.9672991290595049,\n",
       "   'mean_hit_rate_misdiagnosed': 0.5251660931978256},\n",
       "  'n_questions_45': {True: 131999,\n",
       "   False: 449,\n",
       "   'error_rate': 0.0033900096641700894,\n",
       "   'mean_hit_rate': 0.9809383707671537,\n",
       "   'mean_hit_rate_misdiagnosed': 0.653759115173369},\n",
       "  'n_questions_50': {True: 132214,\n",
       "   False: 234,\n",
       "   'error_rate': 0.0017667310944672627,\n",
       "   'mean_hit_rate': 0.9901947959174193,\n",
       "   'mean_hit_rate_misdiagnosed': 0.8014245014245014},\n",
       "  'n_questions_55': {True: 132255,\n",
       "   False: 193,\n",
       "   'error_rate': 0.0014571756462913748,\n",
       "   'mean_hit_rate': 0.9939447442967693,\n",
       "   'mean_hit_rate_misdiagnosed': 0.8244016777695534},\n",
       "  'n_questions_60': {True: 132281,\n",
       "   False: 167,\n",
       "   'error_rate': 0.0012608721913505677,\n",
       "   'mean_hit_rate': 0.9958715827096248,\n",
       "   'mean_hit_rate_misdiagnosed': 0.8738522954091816},\n",
       "  'n_questions_65': {True: 132332,\n",
       "   False: 116,\n",
       "   'error_rate': 0.0008758154143512926,\n",
       "   'mean_hit_rate': 0.9970895046681393,\n",
       "   'mean_hit_rate_misdiagnosed': 0.9872126436781611},\n",
       "  'n_questions_70': {True: 132332,\n",
       "   False: 116,\n",
       "   'error_rate': 0.0008758154143512926,\n",
       "   'mean_hit_rate': 0.9974770661717616,\n",
       "   'mean_hit_rate_misdiagnosed': 0.9920977011494252},\n",
       "  'n_questions_75': {True: 132333,\n",
       "   False: 115,\n",
       "   'error_rate': 0.0008682652814689538,\n",
       "   'mean_hit_rate': 0.9982845199265985,\n",
       "   'mean_hit_rate_misdiagnosed': 0.9934782608695653},\n",
       "  'n_questions_80': {True: 132333,\n",
       "   False: 115,\n",
       "   'error_rate': 0.0008682652814689538,\n",
       "   'mean_hit_rate': 0.9987981986102002,\n",
       "   'mean_hit_rate_misdiagnosed': 0.9934782608695653},\n",
       "  'n_questions_85': {True: 132333,\n",
       "   False: 115,\n",
       "   'error_rate': 0.0008682652814689538,\n",
       "   'mean_hit_rate': 0.9989152256698766,\n",
       "   'mean_hit_rate_misdiagnosed': 0.9934782608695653},\n",
       "  'n_questions_90': {True: 132333,\n",
       "   False: 115,\n",
       "   'error_rate': 0.0008682652814689538,\n",
       "   'mean_hit_rate': 0.999210687536672,\n",
       "   'mean_hit_rate_misdiagnosed': 0.9934782608695653},\n",
       "  'n_questions_95': {True: 132333,\n",
       "   False: 115,\n",
       "   'error_rate': 0.0008682652814689538,\n",
       "   'mean_hit_rate': 0.999210687536672,\n",
       "   'mean_hit_rate_misdiagnosed': 0.9934782608695653},\n",
       "  'n_questions_100': {True: 132333,\n",
       "   False: 115,\n",
       "   'error_rate': 0.0008682652814689538,\n",
       "   'mean_hit_rate': 0.9993531333770521,\n",
       "   'mean_hit_rate_misdiagnosed': 0.9934782608695653},\n",
       "  'n_questions_105': {True: 132333,\n",
       "   False: 115,\n",
       "   'error_rate': 0.0008682652814689538,\n",
       "   'mean_hit_rate': 0.9993584364465767,\n",
       "   'mean_hit_rate_misdiagnosed': 0.9934782608695653},\n",
       "  'n_questions_110': {True: 132333,\n",
       "   False: 115,\n",
       "   'error_rate': 0.0008682652814689538,\n",
       "   'mean_hit_rate': 0.9993840619571096,\n",
       "   'mean_hit_rate_misdiagnosed': 0.9934782608695653},\n",
       "  'n_questions_115': {True: 132333,\n",
       "   False: 115,\n",
       "   'error_rate': 0.0008682652814689538,\n",
       "   'mean_hit_rate': 0.9994297492493012,\n",
       "   'mean_hit_rate_misdiagnosed': 0.9934782608695653},\n",
       "  'n_questions_120': {True: 132333,\n",
       "   False: 115,\n",
       "   'error_rate': 0.0008682652814689538,\n",
       "   'mean_hit_rate': 0.9997669885180454,\n",
       "   'mean_hit_rate_misdiagnosed': 0.9934782608695653},\n",
       "  'n_questions_125': {True: 132334,\n",
       "   False: 114,\n",
       "   'error_rate': 0.0008607151485866151,\n",
       "   'mean_hit_rate': 0.9997726511177071,\n",
       "   'mean_hit_rate_misdiagnosed': 1.0},\n",
       "  'n_questions_130': {True: 132334,\n",
       "   False: 114,\n",
       "   'error_rate': 0.0008607151485866151,\n",
       "   'mean_hit_rate': 0.9997726511177071,\n",
       "   'mean_hit_rate_misdiagnosed': 1.0},\n",
       "  'n_questions_135': {True: 132334,\n",
       "   False: 114,\n",
       "   'error_rate': 0.0008607151485866151,\n",
       "   'mean_hit_rate': 0.9997726511177071,\n",
       "   'mean_hit_rate_misdiagnosed': 1.0},\n",
       "  'n_questions_140': {True: 132334,\n",
       "   False: 114,\n",
       "   'error_rate': 0.0008607151485866151,\n",
       "   'mean_hit_rate': 0.9998899298484796,\n",
       "   'mean_hit_rate_misdiagnosed': 1.0},\n",
       "  'n_questions_145': {True: 132334,\n",
       "   False: 114,\n",
       "   'error_rate': 0.0008607151485866151,\n",
       "   'mean_hit_rate': 0.9999618538524372,\n",
       "   'mean_hit_rate_misdiagnosed': 1.0},\n",
       "  'n_questions_150': {True: 132334,\n",
       "   False: 114,\n",
       "   'error_rate': 0.0008607151485866151,\n",
       "   'mean_hit_rate': 0.9999618538524372,\n",
       "   'mean_hit_rate_misdiagnosed': 1.0},\n",
       "  'n_questions_155': {True: 132334,\n",
       "   False: 114,\n",
       "   'error_rate': 0.0008607151485866151,\n",
       "   'mean_hit_rate': 0.9999618538524372,\n",
       "   'mean_hit_rate_misdiagnosed': 1.0},\n",
       "  'n_questions_160': {True: 132334,\n",
       "   False: 114,\n",
       "   'error_rate': 0.0008607151485866151,\n",
       "   'mean_hit_rate': 0.9999618538524372,\n",
       "   'mean_hit_rate_misdiagnosed': 1.0},\n",
       "  'n_questions_165': {True: 132334,\n",
       "   False: 114,\n",
       "   'error_rate': 0.0008607151485866151,\n",
       "   'mean_hit_rate': 0.9999618538524372,\n",
       "   'mean_hit_rate_misdiagnosed': 1.0},\n",
       "  'n_questions_170': {True: 132334,\n",
       "   False: 114,\n",
       "   'error_rate': 0.0008607151485866151,\n",
       "   'mean_hit_rate': 1.0,\n",
       "   'mean_hit_rate_misdiagnosed': 1.0},\n",
       "  'n_questions_175': {True: 132334,\n",
       "   False: 114,\n",
       "   'error_rate': 0.0008607151485866151,\n",
       "   'mean_hit_rate': 1.0,\n",
       "   'mean_hit_rate_misdiagnosed': 1.0},\n",
       "  'n_questions_180': {True: 132334,\n",
       "   False: 114,\n",
       "   'error_rate': 0.0008607151485866151,\n",
       "   'mean_hit_rate': 1.0,\n",
       "   'mean_hit_rate_misdiagnosed': 1.0},\n",
       "  'n_questions_185': {True: 132334,\n",
       "   False: 114,\n",
       "   'error_rate': 0.0008607151485866151,\n",
       "   'mean_hit_rate': 1.0,\n",
       "   'mean_hit_rate_misdiagnosed': 1.0},\n",
       "  'n_questions_190': {True: 132334,\n",
       "   False: 114,\n",
       "   'error_rate': 0.0008607151485866151,\n",
       "   'mean_hit_rate': 1.0,\n",
       "   'mean_hit_rate_misdiagnosed': 1.0},\n",
       "  'n_questions_195': {True: 132334,\n",
       "   False: 114,\n",
       "   'error_rate': 0.0008607151485866151,\n",
       "   'mean_hit_rate': 1.0,\n",
       "   'mean_hit_rate_misdiagnosed': 1.0},\n",
       "  'n_questions_200': {True: 132334,\n",
       "   False: 114,\n",
       "   'error_rate': 0.0008607151485866151,\n",
       "   'mean_hit_rate': 1.0,\n",
       "   'mean_hit_rate_misdiagnosed': 1.0},\n",
       "  'n_questions_205': {True: 132334,\n",
       "   False: 114,\n",
       "   'error_rate': 0.0008607151485866151,\n",
       "   'mean_hit_rate': 1.0,\n",
       "   'mean_hit_rate_misdiagnosed': 1.0},\n",
       "  'n_questions_208': {True: 132334,\n",
       "   False: 114,\n",
       "   'error_rate': 0.0008607151485866151,\n",
       "   'mean_hit_rate': 1.0,\n",
       "   'mean_hit_rate_misdiagnosed': 1.0},\n",
       "  'plt_y': [0.12799740275428848,\n",
       "   0.06510479584440686,\n",
       "   0.03202011355399855,\n",
       "   0.019932350809374246,\n",
       "   0.013446786663445277,\n",
       "   0.011030744141096883,\n",
       "   0.010086977530804541,\n",
       "   0.008803454940806959,\n",
       "   0.0033900096641700894,\n",
       "   0.0017667310944672627,\n",
       "   0.0014571756462913748,\n",
       "   0.0012608721913505677,\n",
       "   0.0008758154143512926,\n",
       "   0.0008758154143512926,\n",
       "   0.0008682652814689538,\n",
       "   0.0008682652814689538,\n",
       "   0.0008682652814689538,\n",
       "   0.0008682652814689538,\n",
       "   0.0008682652814689538,\n",
       "   0.0008682652814689538,\n",
       "   0.0008682652814689538,\n",
       "   0.0008682652814689538,\n",
       "   0.0008682652814689538,\n",
       "   0.0008682652814689538,\n",
       "   0.0008607151485866151,\n",
       "   0.0008607151485866151,\n",
       "   0.0008607151485866151,\n",
       "   0.0008607151485866151,\n",
       "   0.0008607151485866151,\n",
       "   0.0008607151485866151,\n",
       "   0.0008607151485866151,\n",
       "   0.0008607151485866151,\n",
       "   0.0008607151485866151,\n",
       "   0.0008607151485866151,\n",
       "   0.0008607151485866151,\n",
       "   0.0008607151485866151,\n",
       "   0.0008607151485866151,\n",
       "   0.0008607151485866151,\n",
       "   0.0008607151485866151,\n",
       "   0.0008607151485866151,\n",
       "   0.0008607151485866151,\n",
       "   0.0008607151485866151]},\n",
       " 'logistic_regression': {'n_questions_5': {True: 119821,\n",
       "   False: 12627,\n",
       "   'error_rate': 0.09533552790529114,\n",
       "   'mean_hit_rate': 0.33105369578602123,\n",
       "   'mean_hit_rate_misdiagnosed': 0.28740260525883915},\n",
       "  'n_questions_10': {True: 124954,\n",
       "   False: 7494,\n",
       "   'error_rate': 0.056580695820246434,\n",
       "   'mean_hit_rate': 0.5348788121386866,\n",
       "   'mean_hit_rate_misdiagnosed': 0.39056288777609177},\n",
       "  'n_questions_15': {True: 128747,\n",
       "   False: 3701,\n",
       "   'error_rate': 0.027943041797535637,\n",
       "   'mean_hit_rate': 0.7015726661850556,\n",
       "   'mean_hit_rate_misdiagnosed': 0.4266072670950902},\n",
       "  'n_questions_20': {True: 130006,\n",
       "   False: 2442,\n",
       "   'error_rate': 0.018437424498671178,\n",
       "   'mean_hit_rate': 0.8109909153294077,\n",
       "   'mean_hit_rate_misdiagnosed': 0.45886066405521797},\n",
       "  'n_questions_25': {True: 131045,\n",
       "   False: 1403,\n",
       "   'error_rate': 0.010592836433921237,\n",
       "   'mean_hit_rate': 0.8810154199870976,\n",
       "   'mean_hit_rate_misdiagnosed': 0.4806045890785524},\n",
       "  'n_questions_30': {True: 131242,\n",
       "   False: 1206,\n",
       "   'error_rate': 0.009105460256100508,\n",
       "   'mean_hit_rate': 0.9208837285146768,\n",
       "   'mean_hit_rate_misdiagnosed': 0.46583353305990116},\n",
       "  'n_questions_35': {True: 131463,\n",
       "   False: 985,\n",
       "   'error_rate': 0.007436880889103648,\n",
       "   'mean_hit_rate': 0.9468731355612496,\n",
       "   'mean_hit_rate_misdiagnosed': 0.48433409512089715},\n",
       "  'n_questions_40': {True: 131502,\n",
       "   False: 946,\n",
       "   'error_rate': 0.007142425706692438,\n",
       "   'mean_hit_rate': 0.9672991290595049,\n",
       "   'mean_hit_rate_misdiagnosed': 0.48598519169343696},\n",
       "  'n_questions_45': {True: 132107,\n",
       "   False: 341,\n",
       "   'error_rate': 0.0025745953128775067,\n",
       "   'mean_hit_rate': 0.9809383707671537,\n",
       "   'mean_hit_rate_misdiagnosed': 0.6132523390587906},\n",
       "  'n_questions_50': {True: 132289,\n",
       "   False: 159,\n",
       "   'error_rate': 0.0012004711282918579,\n",
       "   'mean_hit_rate': 0.9901947959174193,\n",
       "   'mean_hit_rate_misdiagnosed': 0.7490491165019467},\n",
       "  'n_questions_55': {True: 132305,\n",
       "   False: 143,\n",
       "   'error_rate': 0.0010796690021744383,\n",
       "   'mean_hit_rate': 0.9939447442967693,\n",
       "   'mean_hit_rate_misdiagnosed': 0.7635614385614385},\n",
       "  'n_questions_60': {True: 132334,\n",
       "   False: 114,\n",
       "   'error_rate': 0.0008607151485866151,\n",
       "   'mean_hit_rate': 0.9958715827096248,\n",
       "   'mean_hit_rate_misdiagnosed': 0.8318713450292397},\n",
       "  'n_questions_65': {True: 132383,\n",
       "   False: 65,\n",
       "   'error_rate': 0.0004907586373520174,\n",
       "   'mean_hit_rate': 0.9970895046681393,\n",
       "   'mean_hit_rate_misdiagnosed': 0.9884615384615385},\n",
       "  'n_questions_70': {True: 132383,\n",
       "   False: 65,\n",
       "   'error_rate': 0.0004907586373520174,\n",
       "   'mean_hit_rate': 0.9974770661717616,\n",
       "   'mean_hit_rate_misdiagnosed': 0.9884615384615385},\n",
       "  'n_questions_75': {True: 132383,\n",
       "   False: 65,\n",
       "   'error_rate': 0.0004907586373520174,\n",
       "   'mean_hit_rate': 0.9982845199265985,\n",
       "   'mean_hit_rate_misdiagnosed': 0.9884615384615385},\n",
       "  'n_questions_80': {True: 132383,\n",
       "   False: 65,\n",
       "   'error_rate': 0.0004907586373520174,\n",
       "   'mean_hit_rate': 0.9987981986102002,\n",
       "   'mean_hit_rate_misdiagnosed': 0.9884615384615385},\n",
       "  'n_questions_85': {True: 132383,\n",
       "   False: 65,\n",
       "   'error_rate': 0.0004907586373520174,\n",
       "   'mean_hit_rate': 0.9989152256698766,\n",
       "   'mean_hit_rate_misdiagnosed': 0.9884615384615385},\n",
       "  'n_questions_90': {True: 132383,\n",
       "   False: 65,\n",
       "   'error_rate': 0.0004907586373520174,\n",
       "   'mean_hit_rate': 0.999210687536672,\n",
       "   'mean_hit_rate_misdiagnosed': 0.9884615384615385},\n",
       "  'n_questions_95': {True: 132383,\n",
       "   False: 65,\n",
       "   'error_rate': 0.0004907586373520174,\n",
       "   'mean_hit_rate': 0.999210687536672,\n",
       "   'mean_hit_rate_misdiagnosed': 0.9884615384615385},\n",
       "  'n_questions_100': {True: 132383,\n",
       "   False: 65,\n",
       "   'error_rate': 0.0004907586373520174,\n",
       "   'mean_hit_rate': 0.9993531333770521,\n",
       "   'mean_hit_rate_misdiagnosed': 0.9884615384615385},\n",
       "  'n_questions_105': {True: 132383,\n",
       "   False: 65,\n",
       "   'error_rate': 0.0004907586373520174,\n",
       "   'mean_hit_rate': 0.9993584364465767,\n",
       "   'mean_hit_rate_misdiagnosed': 0.9884615384615385},\n",
       "  'n_questions_110': {True: 132383,\n",
       "   False: 65,\n",
       "   'error_rate': 0.0004907586373520174,\n",
       "   'mean_hit_rate': 0.9993840619571096,\n",
       "   'mean_hit_rate_misdiagnosed': 0.9884615384615385},\n",
       "  'n_questions_115': {True: 132383,\n",
       "   False: 65,\n",
       "   'error_rate': 0.0004907586373520174,\n",
       "   'mean_hit_rate': 0.9994297492493012,\n",
       "   'mean_hit_rate_misdiagnosed': 0.9884615384615385},\n",
       "  'n_questions_120': {True: 132383,\n",
       "   False: 65,\n",
       "   'error_rate': 0.0004907586373520174,\n",
       "   'mean_hit_rate': 0.9997669885180454,\n",
       "   'mean_hit_rate_misdiagnosed': 0.9884615384615385},\n",
       "  'n_questions_125': {True: 132384,\n",
       "   False: 64,\n",
       "   'error_rate': 0.00048320850446967865,\n",
       "   'mean_hit_rate': 0.9997726511177071,\n",
       "   'mean_hit_rate_misdiagnosed': 1.0},\n",
       "  'n_questions_130': {True: 132384,\n",
       "   False: 64,\n",
       "   'error_rate': 0.00048320850446967865,\n",
       "   'mean_hit_rate': 0.9997726511177071,\n",
       "   'mean_hit_rate_misdiagnosed': 1.0},\n",
       "  'n_questions_135': {True: 132384,\n",
       "   False: 64,\n",
       "   'error_rate': 0.00048320850446967865,\n",
       "   'mean_hit_rate': 0.9997726511177071,\n",
       "   'mean_hit_rate_misdiagnosed': 1.0},\n",
       "  'n_questions_140': {True: 132384,\n",
       "   False: 64,\n",
       "   'error_rate': 0.00048320850446967865,\n",
       "   'mean_hit_rate': 0.9998899298484796,\n",
       "   'mean_hit_rate_misdiagnosed': 1.0},\n",
       "  'n_questions_145': {True: 132384,\n",
       "   False: 64,\n",
       "   'error_rate': 0.00048320850446967865,\n",
       "   'mean_hit_rate': 0.9999618538524372,\n",
       "   'mean_hit_rate_misdiagnosed': 1.0},\n",
       "  'n_questions_150': {True: 132384,\n",
       "   False: 64,\n",
       "   'error_rate': 0.00048320850446967865,\n",
       "   'mean_hit_rate': 0.9999618538524372,\n",
       "   'mean_hit_rate_misdiagnosed': 1.0},\n",
       "  'n_questions_155': {True: 132384,\n",
       "   False: 64,\n",
       "   'error_rate': 0.00048320850446967865,\n",
       "   'mean_hit_rate': 0.9999618538524372,\n",
       "   'mean_hit_rate_misdiagnosed': 1.0},\n",
       "  'n_questions_160': {True: 132384,\n",
       "   False: 64,\n",
       "   'error_rate': 0.00048320850446967865,\n",
       "   'mean_hit_rate': 0.9999618538524372,\n",
       "   'mean_hit_rate_misdiagnosed': 1.0},\n",
       "  'n_questions_165': {True: 132384,\n",
       "   False: 64,\n",
       "   'error_rate': 0.00048320850446967865,\n",
       "   'mean_hit_rate': 0.9999618538524372,\n",
       "   'mean_hit_rate_misdiagnosed': 1.0},\n",
       "  'n_questions_170': {True: 132384,\n",
       "   False: 64,\n",
       "   'error_rate': 0.00048320850446967865,\n",
       "   'mean_hit_rate': 1.0,\n",
       "   'mean_hit_rate_misdiagnosed': 1.0},\n",
       "  'n_questions_175': {True: 132384,\n",
       "   False: 64,\n",
       "   'error_rate': 0.00048320850446967865,\n",
       "   'mean_hit_rate': 1.0,\n",
       "   'mean_hit_rate_misdiagnosed': 1.0},\n",
       "  'n_questions_180': {True: 132384,\n",
       "   False: 64,\n",
       "   'error_rate': 0.00048320850446967865,\n",
       "   'mean_hit_rate': 1.0,\n",
       "   'mean_hit_rate_misdiagnosed': 1.0},\n",
       "  'n_questions_185': {True: 132384,\n",
       "   False: 64,\n",
       "   'error_rate': 0.00048320850446967865,\n",
       "   'mean_hit_rate': 1.0,\n",
       "   'mean_hit_rate_misdiagnosed': 1.0},\n",
       "  'n_questions_190': {True: 132384,\n",
       "   False: 64,\n",
       "   'error_rate': 0.00048320850446967865,\n",
       "   'mean_hit_rate': 1.0,\n",
       "   'mean_hit_rate_misdiagnosed': 1.0},\n",
       "  'n_questions_195': {True: 132384,\n",
       "   False: 64,\n",
       "   'error_rate': 0.00048320850446967865,\n",
       "   'mean_hit_rate': 1.0,\n",
       "   'mean_hit_rate_misdiagnosed': 1.0},\n",
       "  'n_questions_200': {True: 132384,\n",
       "   False: 64,\n",
       "   'error_rate': 0.00048320850446967865,\n",
       "   'mean_hit_rate': 1.0,\n",
       "   'mean_hit_rate_misdiagnosed': 1.0},\n",
       "  'n_questions_205': {True: 132384,\n",
       "   False: 64,\n",
       "   'error_rate': 0.00048320850446967865,\n",
       "   'mean_hit_rate': 1.0,\n",
       "   'mean_hit_rate_misdiagnosed': 1.0},\n",
       "  'n_questions_208': {True: 132384,\n",
       "   False: 64,\n",
       "   'error_rate': 0.00048320850446967865,\n",
       "   'mean_hit_rate': 1.0,\n",
       "   'mean_hit_rate_misdiagnosed': 1.0},\n",
       "  'plt_y': [0.09533552790529114,\n",
       "   0.056580695820246434,\n",
       "   0.027943041797535637,\n",
       "   0.018437424498671178,\n",
       "   0.010592836433921237,\n",
       "   0.009105460256100508,\n",
       "   0.007436880889103648,\n",
       "   0.007142425706692438,\n",
       "   0.0025745953128775067,\n",
       "   0.0012004711282918579,\n",
       "   0.0010796690021744383,\n",
       "   0.0008607151485866151,\n",
       "   0.0004907586373520174,\n",
       "   0.0004907586373520174,\n",
       "   0.0004907586373520174,\n",
       "   0.0004907586373520174,\n",
       "   0.0004907586373520174,\n",
       "   0.0004907586373520174,\n",
       "   0.0004907586373520174,\n",
       "   0.0004907586373520174,\n",
       "   0.0004907586373520174,\n",
       "   0.0004907586373520174,\n",
       "   0.0004907586373520174,\n",
       "   0.0004907586373520174,\n",
       "   0.00048320850446967865,\n",
       "   0.00048320850446967865,\n",
       "   0.00048320850446967865,\n",
       "   0.00048320850446967865,\n",
       "   0.00048320850446967865,\n",
       "   0.00048320850446967865,\n",
       "   0.00048320850446967865,\n",
       "   0.00048320850446967865,\n",
       "   0.00048320850446967865,\n",
       "   0.00048320850446967865,\n",
       "   0.00048320850446967865,\n",
       "   0.00048320850446967865,\n",
       "   0.00048320850446967865,\n",
       "   0.00048320850446967865,\n",
       "   0.00048320850446967865,\n",
       "   0.00048320850446967865,\n",
       "   0.00048320850446967865,\n",
       "   0.00048320850446967865]}}"
      ]
     },
     "execution_count": 51,
     "metadata": {},
     "output_type": "execute_result"
    }
   ],
   "source": [
    "# with open(f'{base_path}\\\\output\\\\error_analysis_questionnaire\\\\logistic_regression\\\\validation_metric_questionnaire_experiments.json', 'rb') as f:\n",
    "#     metrics_dict[\"logistic_regression\"] = json.load(f)\n",
    "metrics_dict"
   ]
  },
  {
   "cell_type": "code",
   "execution_count": 52,
   "metadata": {},
   "outputs": [
    {
     "data": {
      "text/plain": [
       "<Figure size 640x480 with 0 Axes>"
      ]
     },
     "metadata": {},
     "output_type": "display_data"
    }
   ],
   "source": [
    "for model_name in model_list[\"tree-based\"]:\n",
    "    plt.plot(n_questions_list, metrics_dict[model_name][\"plt_y\"], marker='o', label = model_name, alpha=0.5)\n",
    "plt.plot(n_questions_list, metrics_dict[\"logistic_regression\"][\"plt_y\"], marker='o', label = \"logistic_regression\", alpha=0.5)\n",
    "plt.xlabel('number of questions')\n",
    "plt.ylabel('misdiagnosis rate')\n",
    "plt.title('Questionnaire Experiments')\n",
    "plt.ylim(0, 0.15)\n",
    "plt.legend()\n",
    "plt.savefig(f'{base_path}\\\\output\\\\error_analysis_questionnaire\\\\questionnaire_experiments.jpg', bbox_inches='tight')\n",
    "plt.clf()"
   ]
  },
  {
   "cell_type": "code",
   "execution_count": null,
   "metadata": {},
   "outputs": [],
   "source": []
  }
 ],
 "metadata": {
  "kernelspec": {
   "display_name": "Python 3",
   "language": "python",
   "name": "python3"
  },
  "language_info": {
   "codemirror_mode": {
    "name": "ipython",
    "version": 3
   },
   "file_extension": ".py",
   "mimetype": "text/x-python",
   "name": "python",
   "nbconvert_exporter": "python",
   "pygments_lexer": "ipython3",
   "version": "3.10.0"
  }
 },
 "nbformat": 4,
 "nbformat_minor": 2
}
