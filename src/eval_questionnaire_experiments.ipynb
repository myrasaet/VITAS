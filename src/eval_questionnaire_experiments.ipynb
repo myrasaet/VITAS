{
 "cells": [
  {
   "cell_type": "code",
   "execution_count": 1,
   "metadata": {},
   "outputs": [],
   "source": [
    "import pandas as pd\n",
    "import numpy as np\n",
    "import json\n",
    "import ast\n",
    "import re\n",
    "import pickle\n",
    "from tqdm import tqdm\n",
    "from constants import base_path\n",
    "import matplotlib.pyplot as plt\n",
    "tqdm.pandas()\n",
    "import warnings\n",
    "warnings.filterwarnings(\"ignore\")\n",
    "from tqdm import tqdm\n",
    "tqdm.pandas()"
   ]
  },
  {
   "cell_type": "code",
   "execution_count": 2,
   "metadata": {},
   "outputs": [],
   "source": [
    "with open(f\"{base_path}\\\\input\\\\release_conditions.json\") as f:\n",
    "  disease_dict = json.load(f)\n",
    "disease_list = list(disease_dict.keys())"
   ]
  },
  {
   "cell_type": "code",
   "execution_count": 3,
   "metadata": {},
   "outputs": [],
   "source": [
    "with open(f\"{base_path}\\\\input\\\\release_evidences.json\") as f:\n",
    "  evidences = json.load(f)\n",
    "evidences_list = []\n",
    "evidences_dict = {}\n",
    "evidences_en_to_code = {}\n",
    "for e in evidences.keys():\n",
    "  # only binary symptoms and no antecedents\n",
    "  if (not evidences[e][\"possible-values\"]) and (not evidences[e][\"is_antecedent\"]):\n",
    "    evidences_list.append(e)\n",
    "    evidences_dict[e] = evidences[e][\"question_en\"]\n",
    "    evidences_en_to_code[evidences[e][\"question_en\"]] = e\n",
    "evidences_code_to_en = evidences_dict\n",
    "evidences_list_en = list(evidences_en_to_code.keys())\n",
    "evidences_dict[\"AGE\"] = \"AGE\"\n",
    "evidences_dict[\"SEX\"] = \"SEX\"\n",
    "feature_columns = [\"AGE\", \"SEX\"] + evidences_list"
   ]
  },
  {
   "cell_type": "code",
   "execution_count": 4,
   "metadata": {},
   "outputs": [],
   "source": [
    "def get_next_question(evidences, questionnaire, feature_embeddings_df):\n",
    "    centroid = np.array([feature_embeddings_df.loc[e].values for e in evidences]).mean(axis=0)\n",
    "    _, indices = questionnaire.kneighbors([centroid])\n",
    "    ask_list = [evidences_list_en[i] for i in indices[0] if evidences_list_en[i] not in evidences]\n",
    "    try:\n",
    "        return ask_list\n",
    "    except:\n",
    "        return []"
   ]
  },
  {
   "cell_type": "code",
   "execution_count": 5,
   "metadata": {},
   "outputs": [],
   "source": [
    "def get_evidences(answers, user_evidences, questionnaire, feature_embeddings_df, n_questions):\n",
    "    ask = True\n",
    "    question_counter = 1 # counts initial evidence sa q0\n",
    "    evidences_en = [evidences_code_to_en[e] for e in user_evidences]\n",
    "    answers_en = [evidences_code_to_en[e] for e in answers if e in evidences_list]\n",
    "    asked = evidences_en.copy()\n",
    "    while question_counter < n_questions:\n",
    "      ask =  True\n",
    "      next_question_idx = 0\n",
    "      next_question = get_next_question(evidences_en, questionnaire, feature_embeddings_df)\n",
    "      while ask and (question_counter < n_questions):\n",
    "        if next_question[next_question_idx] not in asked:\n",
    "          answer = 1 if next_question[next_question_idx] in answers_en else 0\n",
    "          asked.append(next_question[next_question_idx])\n",
    "          question_counter+=1\n",
    "          if answer==1:\n",
    "            evidences_en.append(next_question[next_question_idx])\n",
    "            ask = False\n",
    "          else:\n",
    "            next_question_idx += 1\n",
    "          if next_question_idx > n_questions:\n",
    "            break\n",
    "        else:\n",
    "            next_question_idx += 1\n",
    "    return [evidences_en_to_code[e] for e in evidences_en]"
   ]
  },
  {
   "cell_type": "code",
   "execution_count": 6,
   "metadata": {},
   "outputs": [],
   "source": [
    "def data_proc(df, questionnaire, feature_embeddings_df, n_questions):\n",
    "    df[\"binary_evidences_all\"] = df[\"EVIDENCES\"].apply(lambda x: [d for d in ast.literal_eval(x) if d in evidences_list])\n",
    "    df[\"binary_evidences_all_count\"] = df[\"binary_evidences_all\"].apply(lambda x: len(x))\n",
    "    df[\"binary_evidences\"] = df[[\"EVIDENCES\", \"INITIAL_EVIDENCE\"]].progress_apply(lambda x: get_evidences(ast.literal_eval(x[0]), [x[1]], questionnaire, feature_embeddings_df, n_questions), axis=1)\n",
    "    df[\"binary_evidences_count\"] = df[\"binary_evidences\"].apply(lambda x: len(x))\n",
    "    df[\"hit_rate\"] = df[\"binary_evidences_count\"]/df[\"binary_evidences_all_count\"]\n",
    "    hit_rate = df[\"hit_rate\"]\n",
    "    for e in evidences_list:\n",
    "        df[e] = df[\"binary_evidences\"].apply(lambda x: 1 if e in x else 0)\n",
    "    df[\"SEX\"] = df[\"SEX\"].map({'F': 0, 'M': 1})\n",
    "    ftr_df = df[feature_columns + [\"PATHOLOGY\"]]\n",
    "    questionnaire_df = df[[\"binary_evidences_all\", \"binary_evidences\", \"INITIAL_EVIDENCE\"]]\n",
    "    return ftr_df, hit_rate, questionnaire_df"
   ]
  },
  {
   "cell_type": "code",
   "execution_count": 7,
   "metadata": {},
   "outputs": [],
   "source": [
    "def pred(x):\n",
    "    pred_list = []\n",
    "    for i in range(len(disease_list)):\n",
    "        if x[i] > 0:\n",
    "            pred_list.append({\n",
    "                \"disease\": disease_list[i],\n",
    "                \"probability\": x[i]})\n",
    "    if pred_list:\n",
    "        pred_df = pd.DataFrame(pred_list).set_index('disease')\n",
    "        # return only top 1 - allows ties\n",
    "        pred_df['rank'] = pred_df['probability'].rank(method='min', ascending=False)\n",
    "        pred_df = pred_df.sort_values(by=\"rank\")\n",
    "        pred_df = pred_df[pred_df[\"rank\"]<=1][[\"probability\"]]\n",
    "        return list(pred_df.index)\n",
    "    else:\n",
    "        return []"
   ]
  },
  {
   "cell_type": "code",
   "execution_count": 8,
   "metadata": {},
   "outputs": [],
   "source": [
    "def get_missed_evidence(actual, asked):\n",
    "    return list(set(actual)^set(asked))"
   ]
  },
  {
   "cell_type": "code",
   "execution_count": 9,
   "metadata": {},
   "outputs": [],
   "source": [
    "def validate(x):\n",
    "    return [x[0]]==x[1]"
   ]
  },
  {
   "cell_type": "code",
   "execution_count": 10,
   "metadata": {},
   "outputs": [],
   "source": [
    "with open(f'{base_path}\\\\output\\\\questionnaire\\\\questionnaire.pkl', 'rb') as f:\n",
    "    questionnaire = pickle.load(f)\n",
    "feature_embeddings_df = pd.read_pickle(f'{base_path}\\\\output\\\\questionnaire\\\\questionnaire_embeddings.pkl')"
   ]
  },
  {
   "cell_type": "code",
   "execution_count": 11,
   "metadata": {},
   "outputs": [],
   "source": [
    "diagnosis_df_valid = pd.read_csv(f\"{base_path}\\\\input\\\\release_validate_patients\")"
   ]
  },
  {
   "cell_type": "code",
   "execution_count": 12,
   "metadata": {},
   "outputs": [
    {
     "name": "stderr",
     "output_type": "stream",
     "text": [
      "100%|██████████| 5/5 [00:00<00:00, 168.53it/s]\n"
     ]
    },
    {
     "data": {
      "text/plain": [
       "(   AGE  SEX  E_91  E_53  E_159  E_129  E_154  E_155  E_210  E_140  ...  E_193  \\\n",
       " 0   55    0     0     1      0      0      1      0      0      1  ...      0   \n",
       " 1   10    0     0     1      0      0      0      1      0      0  ...      0   \n",
       " 2   68    0     1     1      0      1      0      0      0      0  ...      0   \n",
       " 3   13    1     0     1      0      0      0      0      0      0  ...      0   \n",
       " 4   48    1     0     1      0      0      0      0      0      0  ...      0   \n",
       " \n",
       "    E_168  E_180  E_67  E_171  E_111  E_182  E_103  E_23     PATHOLOGY  \n",
       " 0      0      0     0      0      0      0      0     0        Anemia  \n",
       " 1      0      0     0      1      1      0      0     0  Panic attack  \n",
       " 2      0      0     0      0      0      0      0     0     Influenza  \n",
       " 3      0      0     0      0      0      0      0     0        Anemia  \n",
       " 4      0      0     0      0      0      0      0     0     Boerhaave  \n",
       " \n",
       " [5 rows x 99 columns],\n",
       " 0    1.000000\n",
       " 1    1.000000\n",
       " 2    1.000000\n",
       " 3    0.833333\n",
       " 4    0.666667\n",
       " Name: hit_rate, dtype: float64,\n",
       "                                 binary_evidences_all  \\\n",
       " 0       [E_53, E_76, E_82, E_88, E_89, E_140, E_154]   \n",
       " 1  [E_50, E_53, E_66, E_75, E_111, E_155, E_157, ...   \n",
       " 2  [E_50, E_53, E_88, E_91, E_94, E_129, E_144, E...   \n",
       " 3              [E_53, E_66, E_76, E_82, E_89, E_179]   \n",
       " 4                               [E_53, E_148, E_210]   \n",
       " \n",
       "                                     binary_evidences INITIAL_EVIDENCE  \n",
       " 0       [E_154, E_140, E_88, E_76, E_82, E_53, E_89]            E_154  \n",
       " 1  [E_171, E_111, E_75, E_157, E_177, E_155, E_50...            E_171  \n",
       " 2  [E_53, E_91, E_181, E_144, E_50, E_129, E_94, ...             E_53  \n",
       " 3                     [E_53, E_66, E_89, E_82, E_76]             E_53  \n",
       " 4                                      [E_53, E_148]             E_53  )"
      ]
     },
     "execution_count": 12,
     "metadata": {},
     "output_type": "execute_result"
    }
   ],
   "source": [
    "data_proc(diagnosis_df_valid.head(5), questionnaire, feature_embeddings_df, n_questions=20)"
   ]
  },
  {
   "cell_type": "code",
   "execution_count": 13,
   "metadata": {},
   "outputs": [
    {
     "name": "stdout",
     "output_type": "stream",
     "text": [
      "Asking 1 questions...\n"
     ]
    },
    {
     "name": "stderr",
     "output_type": "stream",
     "text": [
      "100%|██████████| 132448/132448 [00:07<00:00, 17119.25it/s]\n"
     ]
    },
    {
     "name": "stdout",
     "output_type": "stream",
     "text": [
      "Asking 2 questions...\n"
     ]
    },
    {
     "name": "stderr",
     "output_type": "stream",
     "text": [
      "100%|██████████| 132448/132448 [02:16<00:00, 970.27it/s] \n"
     ]
    },
    {
     "name": "stdout",
     "output_type": "stream",
     "text": [
      "Asking 3 questions...\n"
     ]
    },
    {
     "name": "stderr",
     "output_type": "stream",
     "text": [
      "100%|██████████| 132448/132448 [02:36<00:00, 844.00it/s]\n"
     ]
    },
    {
     "name": "stdout",
     "output_type": "stream",
     "text": [
      "Asking 4 questions...\n"
     ]
    },
    {
     "name": "stderr",
     "output_type": "stream",
     "text": [
      "100%|██████████| 132448/132448 [04:04<00:00, 540.99it/s]\n"
     ]
    },
    {
     "name": "stdout",
     "output_type": "stream",
     "text": [
      "Asking 5 questions...\n"
     ]
    },
    {
     "name": "stderr",
     "output_type": "stream",
     "text": [
      "100%|██████████| 132448/132448 [03:44<00:00, 589.00it/s]\n"
     ]
    },
    {
     "name": "stdout",
     "output_type": "stream",
     "text": [
      "Asking 6 questions...\n"
     ]
    },
    {
     "name": "stderr",
     "output_type": "stream",
     "text": [
      "100%|██████████| 132448/132448 [04:05<00:00, 538.55it/s] \n"
     ]
    },
    {
     "name": "stdout",
     "output_type": "stream",
     "text": [
      "Asking 7 questions...\n"
     ]
    },
    {
     "name": "stderr",
     "output_type": "stream",
     "text": [
      "100%|██████████| 132448/132448 [04:32<00:00, 486.63it/s]\n"
     ]
    },
    {
     "name": "stdout",
     "output_type": "stream",
     "text": [
      "Asking 8 questions...\n"
     ]
    },
    {
     "name": "stderr",
     "output_type": "stream",
     "text": [
      "100%|██████████| 132448/132448 [10:01<00:00, 220.19it/s]\n"
     ]
    },
    {
     "name": "stdout",
     "output_type": "stream",
     "text": [
      "Asking 9 questions...\n"
     ]
    },
    {
     "name": "stderr",
     "output_type": "stream",
     "text": [
      "100%|██████████| 132448/132448 [08:25<00:00, 262.17it/s]\n"
     ]
    },
    {
     "name": "stdout",
     "output_type": "stream",
     "text": [
      "Asking 10 questions...\n"
     ]
    },
    {
     "name": "stderr",
     "output_type": "stream",
     "text": [
      "100%|██████████| 132448/132448 [06:55<00:00, 318.44it/s]\n"
     ]
    },
    {
     "name": "stdout",
     "output_type": "stream",
     "text": [
      "Asking 11 questions...\n"
     ]
    },
    {
     "name": "stderr",
     "output_type": "stream",
     "text": [
      "100%|██████████| 132448/132448 [05:05<00:00, 432.85it/s]\n"
     ]
    },
    {
     "name": "stdout",
     "output_type": "stream",
     "text": [
      "Asking 12 questions...\n"
     ]
    },
    {
     "name": "stderr",
     "output_type": "stream",
     "text": [
      "100%|██████████| 132448/132448 [05:21<00:00, 412.02it/s]\n"
     ]
    },
    {
     "name": "stdout",
     "output_type": "stream",
     "text": [
      "Asking 13 questions...\n"
     ]
    },
    {
     "name": "stderr",
     "output_type": "stream",
     "text": [
      "100%|██████████| 132448/132448 [07:38<00:00, 288.99it/s]\n"
     ]
    },
    {
     "name": "stdout",
     "output_type": "stream",
     "text": [
      "Asking 14 questions...\n"
     ]
    },
    {
     "name": "stderr",
     "output_type": "stream",
     "text": [
      "100%|██████████| 132448/132448 [06:00<00:00, 367.15it/s]\n"
     ]
    },
    {
     "name": "stdout",
     "output_type": "stream",
     "text": [
      "Asking 15 questions...\n"
     ]
    },
    {
     "name": "stderr",
     "output_type": "stream",
     "text": [
      "100%|██████████| 132448/132448 [10:55<00:00, 202.10it/s]\n"
     ]
    },
    {
     "name": "stdout",
     "output_type": "stream",
     "text": [
      "Asking 16 questions...\n"
     ]
    },
    {
     "name": "stderr",
     "output_type": "stream",
     "text": [
      "100%|██████████| 132448/132448 [11:33<00:00, 191.09it/s]\n"
     ]
    },
    {
     "name": "stdout",
     "output_type": "stream",
     "text": [
      "Asking 17 questions...\n"
     ]
    },
    {
     "name": "stderr",
     "output_type": "stream",
     "text": [
      "100%|██████████| 132448/132448 [12:03<00:00, 182.97it/s]\n"
     ]
    },
    {
     "name": "stdout",
     "output_type": "stream",
     "text": [
      "Asking 18 questions...\n"
     ]
    },
    {
     "name": "stderr",
     "output_type": "stream",
     "text": [
      "100%|██████████| 132448/132448 [12:07<00:00, 182.07it/s]\n"
     ]
    },
    {
     "name": "stdout",
     "output_type": "stream",
     "text": [
      "Asking 19 questions...\n"
     ]
    },
    {
     "name": "stderr",
     "output_type": "stream",
     "text": [
      "100%|██████████| 132448/132448 [12:02<00:00, 183.30it/s]\n"
     ]
    },
    {
     "name": "stdout",
     "output_type": "stream",
     "text": [
      "Asking 20 questions...\n"
     ]
    },
    {
     "name": "stderr",
     "output_type": "stream",
     "text": [
      "100%|██████████| 132448/132448 [11:51<00:00, 186.14it/s]\n"
     ]
    },
    {
     "name": "stdout",
     "output_type": "stream",
     "text": [
      "Asking 21 questions...\n"
     ]
    },
    {
     "name": "stderr",
     "output_type": "stream",
     "text": [
      "100%|██████████| 132448/132448 [12:40<00:00, 174.12it/s]\n"
     ]
    },
    {
     "name": "stdout",
     "output_type": "stream",
     "text": [
      "Asking 22 questions...\n"
     ]
    },
    {
     "name": "stderr",
     "output_type": "stream",
     "text": [
      "100%|██████████| 132448/132448 [12:47<00:00, 172.51it/s]\n"
     ]
    },
    {
     "name": "stdout",
     "output_type": "stream",
     "text": [
      "Asking 23 questions...\n"
     ]
    },
    {
     "name": "stderr",
     "output_type": "stream",
     "text": [
      "100%|██████████| 132448/132448 [07:44<00:00, 285.02it/s]\n"
     ]
    },
    {
     "name": "stdout",
     "output_type": "stream",
     "text": [
      "Asking 24 questions...\n"
     ]
    },
    {
     "name": "stderr",
     "output_type": "stream",
     "text": [
      "100%|██████████| 132448/132448 [06:44<00:00, 327.79it/s]\n"
     ]
    },
    {
     "name": "stdout",
     "output_type": "stream",
     "text": [
      "Asking 25 questions...\n"
     ]
    },
    {
     "name": "stderr",
     "output_type": "stream",
     "text": [
      "100%|██████████| 132448/132448 [06:40<00:00, 331.01it/s]\n"
     ]
    },
    {
     "name": "stdout",
     "output_type": "stream",
     "text": [
      "Asking 26 questions...\n"
     ]
    },
    {
     "name": "stderr",
     "output_type": "stream",
     "text": [
      "100%|██████████| 132448/132448 [07:17<00:00, 302.42it/s]\n"
     ]
    },
    {
     "name": "stdout",
     "output_type": "stream",
     "text": [
      "Asking 27 questions...\n"
     ]
    },
    {
     "name": "stderr",
     "output_type": "stream",
     "text": [
      "100%|██████████| 132448/132448 [12:52<00:00, 171.41it/s]\n"
     ]
    },
    {
     "name": "stdout",
     "output_type": "stream",
     "text": [
      "Asking 28 questions...\n"
     ]
    },
    {
     "name": "stderr",
     "output_type": "stream",
     "text": [
      "100%|██████████| 132448/132448 [11:26<00:00, 193.00it/s]\n"
     ]
    },
    {
     "name": "stdout",
     "output_type": "stream",
     "text": [
      "Asking 29 questions...\n"
     ]
    },
    {
     "name": "stderr",
     "output_type": "stream",
     "text": [
      "100%|██████████| 132448/132448 [09:52<00:00, 223.38it/s]\n"
     ]
    },
    {
     "name": "stdout",
     "output_type": "stream",
     "text": [
      "Asking 30 questions...\n"
     ]
    },
    {
     "name": "stderr",
     "output_type": "stream",
     "text": [
      "100%|██████████| 132448/132448 [20:02<00:00, 110.17it/s]\n"
     ]
    }
   ],
   "source": [
    "questionnaire_dict = {}\n",
    "n_questions_list = list(range(1, 31))\n",
    "for n_questions in n_questions_list:\n",
    "    diagnosis_df_valid = pd.read_csv(f\"{base_path}\\\\input\\\\release_validate_patients\")\n",
    "    print(f\"Asking {n_questions} questions...\")\n",
    "    diagnosis_df_valid, hit_rate, questionnaire_df = data_proc(diagnosis_df_valid, questionnaire, feature_embeddings_df, n_questions)\n",
    "    questionnaire_dict[f\"questionnaire_data_{n_questions}\"] = {\n",
    "        \"diagnosis_df_valid\": diagnosis_df_valid,\n",
    "        \"hit_rate\": hit_rate,\n",
    "        \"questionnaire_df\": questionnaire_df\n",
    "    }"
   ]
  },
  {
   "cell_type": "code",
   "execution_count": 14,
   "metadata": {},
   "outputs": [],
   "source": [
    "metrics_dict = {\"Random_forest\": {}, \"Logistic_regression\":{}, \"Decision_Tree\":{}}"
   ]
  },
  {
   "cell_type": "markdown",
   "metadata": {},
   "source": [
    "## Random Forest"
   ]
  },
  {
   "cell_type": "code",
   "execution_count": 15,
   "metadata": {},
   "outputs": [],
   "source": [
    "model_dict = {}\n",
    "for disease in disease_list:\n",
    "    disease_filename = re.sub('[^a-zA-Z0-9 \\n\\.]', '', disease).replace(\" \", \"_\")\n",
    "    with open(f'{base_path}\\\\output\\\\diseases\\\\{disease_filename}\\\\{disease_filename}_model.pkl', 'rb') as f:\n",
    "        model_dict[disease] = pickle.load(f)"
   ]
  },
  {
   "cell_type": "code",
   "execution_count": 16,
   "metadata": {},
   "outputs": [
    {
     "name": "stdout",
     "output_type": "stream",
     "text": [
      "predicting diagnosis...\n"
     ]
    },
    {
     "name": "stderr",
     "output_type": "stream",
     "text": [
      "100%|██████████| 132448/132448 [10:30<00:00, 210.21it/s]\n",
      "100%|██████████| 132448/132448 [00:02<00:00, 61331.66it/s]\n"
     ]
    },
    {
     "name": "stdout",
     "output_type": "stream",
     "text": [
      "validating...\n",
      "predicting diagnosis...\n"
     ]
    },
    {
     "name": "stderr",
     "output_type": "stream",
     "text": [
      "100%|██████████| 132448/132448 [06:17<00:00, 351.31it/s]\n",
      "100%|██████████| 132448/132448 [00:03<00:00, 43442.78it/s]\n"
     ]
    },
    {
     "name": "stdout",
     "output_type": "stream",
     "text": [
      "validating...\n",
      "predicting diagnosis...\n"
     ]
    },
    {
     "name": "stderr",
     "output_type": "stream",
     "text": [
      "100%|██████████| 132448/132448 [09:47<00:00, 225.47it/s]\n",
      "100%|██████████| 132448/132448 [00:02<00:00, 49882.24it/s]\n"
     ]
    },
    {
     "name": "stdout",
     "output_type": "stream",
     "text": [
      "validating...\n",
      "predicting diagnosis...\n"
     ]
    },
    {
     "name": "stderr",
     "output_type": "stream",
     "text": [
      "100%|██████████| 132448/132448 [10:07<00:00, 218.17it/s]\n",
      "100%|██████████| 132448/132448 [00:02<00:00, 49328.80it/s]\n"
     ]
    },
    {
     "name": "stdout",
     "output_type": "stream",
     "text": [
      "validating...\n",
      "predicting diagnosis...\n"
     ]
    },
    {
     "name": "stderr",
     "output_type": "stream",
     "text": [
      "100%|██████████| 132448/132448 [09:53<00:00, 223.03it/s]\n",
      "100%|██████████| 132448/132448 [00:02<00:00, 48651.17it/s]\n"
     ]
    },
    {
     "name": "stdout",
     "output_type": "stream",
     "text": [
      "validating...\n",
      "predicting diagnosis...\n"
     ]
    },
    {
     "name": "stderr",
     "output_type": "stream",
     "text": [
      "100%|██████████| 132448/132448 [08:51<00:00, 249.17it/s]\n",
      "100%|██████████| 132448/132448 [00:02<00:00, 44633.65it/s]\n"
     ]
    },
    {
     "name": "stdout",
     "output_type": "stream",
     "text": [
      "validating...\n",
      "predicting diagnosis...\n"
     ]
    },
    {
     "name": "stderr",
     "output_type": "stream",
     "text": [
      "100%|██████████| 132448/132448 [05:06<00:00, 431.92it/s]\n",
      "100%|██████████| 132448/132448 [00:01<00:00, 96214.86it/s] \n"
     ]
    },
    {
     "name": "stdout",
     "output_type": "stream",
     "text": [
      "validating...\n",
      "predicting diagnosis...\n"
     ]
    },
    {
     "name": "stderr",
     "output_type": "stream",
     "text": [
      "100%|██████████| 132448/132448 [08:47<00:00, 250.92it/s]\n",
      "100%|██████████| 132448/132448 [00:01<00:00, 96202.43it/s] \n"
     ]
    },
    {
     "name": "stdout",
     "output_type": "stream",
     "text": [
      "validating...\n",
      "predicting diagnosis...\n"
     ]
    },
    {
     "name": "stderr",
     "output_type": "stream",
     "text": [
      "100%|██████████| 132448/132448 [11:50<00:00, 186.41it/s]\n",
      "100%|██████████| 132448/132448 [00:02<00:00, 44622.04it/s]\n"
     ]
    },
    {
     "name": "stdout",
     "output_type": "stream",
     "text": [
      "validating...\n",
      "predicting diagnosis...\n"
     ]
    },
    {
     "name": "stderr",
     "output_type": "stream",
     "text": [
      "100%|██████████| 132448/132448 [08:18<00:00, 265.84it/s]\n",
      "100%|██████████| 132448/132448 [00:02<00:00, 58615.09it/s]\n"
     ]
    },
    {
     "name": "stdout",
     "output_type": "stream",
     "text": [
      "validating...\n",
      "predicting diagnosis...\n"
     ]
    },
    {
     "name": "stderr",
     "output_type": "stream",
     "text": [
      "100%|██████████| 132448/132448 [05:29<00:00, 401.83it/s]\n",
      "100%|██████████| 132448/132448 [00:01<00:00, 67656.30it/s]\n"
     ]
    },
    {
     "name": "stdout",
     "output_type": "stream",
     "text": [
      "validating...\n",
      "predicting diagnosis...\n"
     ]
    },
    {
     "name": "stderr",
     "output_type": "stream",
     "text": [
      "100%|██████████| 132448/132448 [07:22<00:00, 299.19it/s]\n",
      "100%|██████████| 132448/132448 [00:01<00:00, 67515.41it/s]\n"
     ]
    },
    {
     "name": "stdout",
     "output_type": "stream",
     "text": [
      "validating...\n",
      "predicting diagnosis...\n"
     ]
    },
    {
     "name": "stderr",
     "output_type": "stream",
     "text": [
      "100%|██████████| 132448/132448 [05:54<00:00, 373.80it/s]\n",
      "100%|██████████| 132448/132448 [00:01<00:00, 113371.20it/s]\n"
     ]
    },
    {
     "name": "stdout",
     "output_type": "stream",
     "text": [
      "validating...\n",
      "predicting diagnosis...\n"
     ]
    },
    {
     "name": "stderr",
     "output_type": "stream",
     "text": [
      "100%|██████████| 132448/132448 [05:32<00:00, 398.24it/s]\n",
      "100%|██████████| 132448/132448 [00:01<00:00, 86016.72it/s]\n"
     ]
    },
    {
     "name": "stdout",
     "output_type": "stream",
     "text": [
      "validating...\n",
      "predicting diagnosis...\n"
     ]
    },
    {
     "name": "stderr",
     "output_type": "stream",
     "text": [
      "100%|██████████| 132448/132448 [04:53<00:00, 450.61it/s]\n",
      "100%|██████████| 132448/132448 [00:01<00:00, 89666.41it/s]\n"
     ]
    },
    {
     "name": "stdout",
     "output_type": "stream",
     "text": [
      "validating...\n",
      "predicting diagnosis...\n"
     ]
    },
    {
     "name": "stderr",
     "output_type": "stream",
     "text": [
      "100%|██████████| 132448/132448 [04:38<00:00, 475.45it/s]\n",
      "100%|██████████| 132448/132448 [00:01<00:00, 99763.56it/s] \n"
     ]
    },
    {
     "name": "stdout",
     "output_type": "stream",
     "text": [
      "validating...\n",
      "predicting diagnosis...\n"
     ]
    },
    {
     "name": "stderr",
     "output_type": "stream",
     "text": [
      "100%|██████████| 132448/132448 [04:36<00:00, 478.92it/s]\n",
      "100%|██████████| 132448/132448 [00:01<00:00, 79069.81it/s]\n"
     ]
    },
    {
     "name": "stdout",
     "output_type": "stream",
     "text": [
      "validating...\n",
      "predicting diagnosis...\n"
     ]
    },
    {
     "name": "stderr",
     "output_type": "stream",
     "text": [
      "100%|██████████| 132448/132448 [04:05<00:00, 540.26it/s]\n",
      "100%|██████████| 132448/132448 [00:01<00:00, 112739.48it/s]\n"
     ]
    },
    {
     "name": "stdout",
     "output_type": "stream",
     "text": [
      "validating...\n",
      "predicting diagnosis...\n"
     ]
    },
    {
     "name": "stderr",
     "output_type": "stream",
     "text": [
      "100%|██████████| 132448/132448 [05:54<00:00, 373.64it/s]\n",
      "100%|██████████| 132448/132448 [00:01<00:00, 86022.14it/s]\n"
     ]
    },
    {
     "name": "stdout",
     "output_type": "stream",
     "text": [
      "validating...\n",
      "predicting diagnosis...\n"
     ]
    },
    {
     "name": "stderr",
     "output_type": "stream",
     "text": [
      "100%|██████████| 132448/132448 [04:31<00:00, 488.59it/s]\n",
      "100%|██████████| 132448/132448 [00:01<00:00, 114613.88it/s]\n"
     ]
    },
    {
     "name": "stdout",
     "output_type": "stream",
     "text": [
      "validating...\n",
      "predicting diagnosis...\n"
     ]
    },
    {
     "name": "stderr",
     "output_type": "stream",
     "text": [
      "100%|██████████| 132448/132448 [04:24<00:00, 500.23it/s]\n",
      "100%|██████████| 132448/132448 [00:01<00:00, 108609.71it/s]\n"
     ]
    },
    {
     "name": "stdout",
     "output_type": "stream",
     "text": [
      "validating...\n",
      "predicting diagnosis...\n"
     ]
    },
    {
     "name": "stderr",
     "output_type": "stream",
     "text": [
      "100%|██████████| 132448/132448 [08:11<00:00, 269.39it/s]\n",
      "100%|██████████| 132448/132448 [00:02<00:00, 56565.78it/s]\n"
     ]
    },
    {
     "name": "stdout",
     "output_type": "stream",
     "text": [
      "validating...\n",
      "predicting diagnosis...\n"
     ]
    },
    {
     "name": "stderr",
     "output_type": "stream",
     "text": [
      "100%|██████████| 132448/132448 [08:44<00:00, 252.32it/s]\n",
      "100%|██████████| 132448/132448 [00:02<00:00, 52915.14it/s]\n"
     ]
    },
    {
     "name": "stdout",
     "output_type": "stream",
     "text": [
      "validating...\n",
      "predicting diagnosis...\n"
     ]
    },
    {
     "name": "stderr",
     "output_type": "stream",
     "text": [
      "100%|██████████| 132448/132448 [07:11<00:00, 307.25it/s]\n",
      "100%|██████████| 132448/132448 [00:01<00:00, 72863.00it/s]\n"
     ]
    },
    {
     "name": "stdout",
     "output_type": "stream",
     "text": [
      "validating...\n",
      "predicting diagnosis...\n"
     ]
    },
    {
     "name": "stderr",
     "output_type": "stream",
     "text": [
      "100%|██████████| 132448/132448 [05:42<00:00, 386.47it/s]\n",
      "100%|██████████| 132448/132448 [00:01<00:00, 89082.10it/s]\n"
     ]
    },
    {
     "name": "stdout",
     "output_type": "stream",
     "text": [
      "validating...\n",
      "predicting diagnosis...\n"
     ]
    },
    {
     "name": "stderr",
     "output_type": "stream",
     "text": [
      "100%|██████████| 132448/132448 [05:16<00:00, 418.09it/s]\n",
      "100%|██████████| 132448/132448 [00:01<00:00, 93153.41it/s]\n"
     ]
    },
    {
     "name": "stdout",
     "output_type": "stream",
     "text": [
      "validating...\n",
      "predicting diagnosis...\n"
     ]
    },
    {
     "name": "stderr",
     "output_type": "stream",
     "text": [
      "100%|██████████| 132448/132448 [05:01<00:00, 439.39it/s]\n",
      "100%|██████████| 132448/132448 [00:01<00:00, 93764.26it/s]\n"
     ]
    },
    {
     "name": "stdout",
     "output_type": "stream",
     "text": [
      "validating...\n",
      "predicting diagnosis...\n"
     ]
    },
    {
     "name": "stderr",
     "output_type": "stream",
     "text": [
      "100%|██████████| 132448/132448 [05:24<00:00, 407.84it/s]\n",
      "100%|██████████| 132448/132448 [00:01<00:00, 126070.62it/s]\n"
     ]
    },
    {
     "name": "stdout",
     "output_type": "stream",
     "text": [
      "validating...\n",
      "predicting diagnosis...\n"
     ]
    },
    {
     "name": "stderr",
     "output_type": "stream",
     "text": [
      "100%|██████████| 132448/132448 [04:33<00:00, 484.43it/s]\n",
      "100%|██████████| 132448/132448 [00:01<00:00, 115908.30it/s]\n"
     ]
    },
    {
     "name": "stdout",
     "output_type": "stream",
     "text": [
      "validating...\n",
      "predicting diagnosis...\n"
     ]
    },
    {
     "name": "stderr",
     "output_type": "stream",
     "text": [
      "100%|██████████| 132448/132448 [04:36<00:00, 479.86it/s]\n",
      "100%|██████████| 132448/132448 [00:01<00:00, 106680.66it/s]"
     ]
    },
    {
     "name": "stdout",
     "output_type": "stream",
     "text": [
      "validating...\n"
     ]
    },
    {
     "name": "stderr",
     "output_type": "stream",
     "text": [
      "\n"
     ]
    }
   ],
   "source": [
    "for n_questions in n_questions_list:\n",
    "    diagnosis_df_valid = questionnaire_dict[f\"questionnaire_data_{n_questions}\"][\"diagnosis_df_valid\"]\n",
    "    hit_rate = questionnaire_dict[f\"questionnaire_data_{n_questions}\"][\"hit_rate\"]\n",
    "    questionnaire_df = questionnaire_dict[f\"questionnaire_data_{n_questions}\"][\"questionnaire_df\"]\n",
    "    print(f\"using {n_questions} questions predicting diagnosis...\")\n",
    "    for disease in disease_list:\n",
    "        rf_model = model_dict[disease]\n",
    "        diagnosis_df_valid[disease] = rf_model.predict_proba(diagnosis_df_valid[feature_columns])[:,1]\n",
    "    diagnosis_df_valid[\"predicted_diagnosis\"] = diagnosis_df_valid[disease_list].progress_apply(lambda x: pred(x), axis=1)\n",
    "    diagnosis_df_valid[\"is_matched\"] = diagnosis_df_valid[[\"PATHOLOGY\", \"predicted_diagnosis\"]].progress_apply(lambda x: validate(x), axis=1)\n",
    "    diagnosis_df_valid[\"hit_rate\"] = hit_rate\n",
    "    print(\"validating...\")\n",
    "    acc = diagnosis_df_valid.is_matched.value_counts().to_dict()\n",
    "    acc[\"error_rate\"] = acc[False]/len(diagnosis_df_valid)\n",
    "    acc[\"mean_hit_rate\"] = np.mean(hit_rate)\n",
    "    hit_rate_misdiagnosed = diagnosis_df_valid[diagnosis_df_valid[\"is_matched\"]==False][\"hit_rate\"]\n",
    "    acc[\"mean_hit_rate_misdiagnosed\"] = np.mean(hit_rate_misdiagnosed)\n",
    "    metrics_dict[\"Random_forest\"][f\"n_questions_{n_questions}\"] = acc\n",
    "        \n"
   ]
  },
  {
   "cell_type": "code",
   "execution_count": 33,
   "metadata": {},
   "outputs": [],
   "source": [
    "plt_y_rf = [metrics_dict[\"Random_forest\"][f\"n_questions_{i}\"][\"error_rate\"] for i in n_questions_list]\n",
    "plt.plot(n_questions_list, plt_y_rf, marker='o')\n",
    "plt.xlabel('number of questions')\n",
    "plt.ylabel('misdiagnosis rate')\n",
    "plt.title('Random Forest - Questionnaire Experiments')\n",
    "plt.savefig(f'{base_path}\\\\output\\\\error_analysis_questionnaire\\\\random_forest_experiments.jpg', bbox_inches='tight')\n",
    "plt.clf()"
   ]
  },
  {
   "cell_type": "markdown",
   "metadata": {},
   "source": [
    "## Logistic Regression"
   ]
  },
  {
   "cell_type": "code",
   "execution_count": 21,
   "metadata": {},
   "outputs": [],
   "source": [
    "model_dict = {}\n",
    "for disease in disease_list:\n",
    "    disease_filename = re.sub('[^a-zA-Z0-9 \\n\\.]', '', disease).replace(\" \", \"_\")\n",
    "    with open(f'{base_path}\\\\output\\\\diseases\\\\{disease_filename}\\\\{disease_filename}_logreg_model.pkl', 'rb') as f:\n",
    "        model_dict[disease] = pickle.load(f)"
   ]
  },
  {
   "cell_type": "code",
   "execution_count": 22,
   "metadata": {},
   "outputs": [
    {
     "name": "stdout",
     "output_type": "stream",
     "text": [
      "using 1 questions predicting diagnosis...\n"
     ]
    },
    {
     "name": "stderr",
     "output_type": "stream",
     "text": [
      "100%|██████████| 132448/132448 [08:25<00:00, 262.14it/s]\n",
      "100%|██████████| 132448/132448 [00:01<00:00, 68009.36it/s]\n"
     ]
    },
    {
     "name": "stdout",
     "output_type": "stream",
     "text": [
      "validating...\n",
      "using 2 questions predicting diagnosis...\n"
     ]
    },
    {
     "name": "stderr",
     "output_type": "stream",
     "text": [
      "100%|██████████| 132448/132448 [07:27<00:00, 296.07it/s]\n",
      "100%|██████████| 132448/132448 [00:01<00:00, 78091.07it/s]\n"
     ]
    },
    {
     "name": "stdout",
     "output_type": "stream",
     "text": [
      "validating...\n",
      "using 3 questions predicting diagnosis...\n"
     ]
    },
    {
     "name": "stderr",
     "output_type": "stream",
     "text": [
      "100%|██████████| 132448/132448 [08:40<00:00, 254.53it/s]\n",
      "100%|██████████| 132448/132448 [00:02<00:00, 58248.41it/s]\n"
     ]
    },
    {
     "name": "stdout",
     "output_type": "stream",
     "text": [
      "validating...\n",
      "using 4 questions predicting diagnosis...\n"
     ]
    },
    {
     "name": "stderr",
     "output_type": "stream",
     "text": [
      "100%|██████████| 132448/132448 [08:57<00:00, 246.59it/s]\n",
      "100%|██████████| 132448/132448 [00:02<00:00, 61586.15it/s]\n"
     ]
    },
    {
     "name": "stdout",
     "output_type": "stream",
     "text": [
      "validating...\n",
      "using 5 questions predicting diagnosis...\n"
     ]
    },
    {
     "name": "stderr",
     "output_type": "stream",
     "text": [
      "100%|██████████| 132448/132448 [08:38<00:00, 255.42it/s]\n",
      "100%|██████████| 132448/132448 [00:02<00:00, 58883.25it/s]\n"
     ]
    },
    {
     "name": "stdout",
     "output_type": "stream",
     "text": [
      "validating...\n",
      "using 6 questions predicting diagnosis...\n"
     ]
    },
    {
     "name": "stderr",
     "output_type": "stream",
     "text": [
      "100%|██████████| 132448/132448 [05:30<00:00, 401.12it/s]\n",
      "100%|██████████| 132448/132448 [00:01<00:00, 95244.00it/s] \n"
     ]
    },
    {
     "name": "stdout",
     "output_type": "stream",
     "text": [
      "validating...\n",
      "using 7 questions predicting diagnosis...\n"
     ]
    },
    {
     "name": "stderr",
     "output_type": "stream",
     "text": [
      "100%|██████████| 132448/132448 [05:17<00:00, 417.28it/s]\n",
      "100%|██████████| 132448/132448 [00:01<00:00, 77151.63it/s]\n"
     ]
    },
    {
     "name": "stdout",
     "output_type": "stream",
     "text": [
      "validating...\n",
      "using 8 questions predicting diagnosis...\n"
     ]
    },
    {
     "name": "stderr",
     "output_type": "stream",
     "text": [
      "100%|██████████| 132448/132448 [06:01<00:00, 366.10it/s]\n",
      "100%|██████████| 132448/132448 [00:01<00:00, 93035.13it/s]\n"
     ]
    },
    {
     "name": "stdout",
     "output_type": "stream",
     "text": [
      "validating...\n",
      "using 9 questions predicting diagnosis...\n"
     ]
    },
    {
     "name": "stderr",
     "output_type": "stream",
     "text": [
      "100%|██████████| 132448/132448 [07:19<00:00, 301.02it/s]\n",
      "100%|██████████| 132448/132448 [00:02<00:00, 58084.46it/s]\n"
     ]
    },
    {
     "name": "stdout",
     "output_type": "stream",
     "text": [
      "validating...\n",
      "using 10 questions predicting diagnosis...\n"
     ]
    },
    {
     "name": "stderr",
     "output_type": "stream",
     "text": [
      "100%|██████████| 132448/132448 [06:44<00:00, 327.04it/s]\n",
      "100%|██████████| 132448/132448 [00:01<00:00, 82616.68it/s]\n"
     ]
    },
    {
     "name": "stdout",
     "output_type": "stream",
     "text": [
      "validating...\n",
      "using 11 questions predicting diagnosis...\n"
     ]
    },
    {
     "name": "stderr",
     "output_type": "stream",
     "text": [
      "100%|██████████| 132448/132448 [05:49<00:00, 379.29it/s]\n",
      "100%|██████████| 132448/132448 [00:01<00:00, 85467.99it/s]\n"
     ]
    },
    {
     "name": "stdout",
     "output_type": "stream",
     "text": [
      "validating...\n",
      "using 12 questions predicting diagnosis...\n"
     ]
    },
    {
     "name": "stderr",
     "output_type": "stream",
     "text": [
      "100%|██████████| 132448/132448 [06:39<00:00, 331.77it/s]\n",
      "100%|██████████| 132448/132448 [00:02<00:00, 50407.69it/s]\n"
     ]
    },
    {
     "name": "stdout",
     "output_type": "stream",
     "text": [
      "validating...\n",
      "using 13 questions predicting diagnosis...\n"
     ]
    },
    {
     "name": "stderr",
     "output_type": "stream",
     "text": [
      "100%|██████████| 132448/132448 [05:29<00:00, 401.73it/s]\n",
      "100%|██████████| 132448/132448 [00:00<00:00, 134228.69it/s]\n"
     ]
    },
    {
     "name": "stdout",
     "output_type": "stream",
     "text": [
      "validating...\n",
      "using 14 questions predicting diagnosis...\n"
     ]
    },
    {
     "name": "stderr",
     "output_type": "stream",
     "text": [
      "100%|██████████| 132448/132448 [06:47<00:00, 325.28it/s]\n",
      "100%|██████████| 132448/132448 [00:01<00:00, 78916.88it/s]\n"
     ]
    },
    {
     "name": "stdout",
     "output_type": "stream",
     "text": [
      "validating...\n",
      "using 15 questions predicting diagnosis...\n"
     ]
    },
    {
     "name": "stderr",
     "output_type": "stream",
     "text": [
      "100%|██████████| 132448/132448 [07:36<00:00, 289.89it/s]\n",
      "100%|██████████| 132448/132448 [00:01<00:00, 86173.95it/s]\n"
     ]
    },
    {
     "name": "stdout",
     "output_type": "stream",
     "text": [
      "validating...\n",
      "using 16 questions predicting diagnosis...\n"
     ]
    },
    {
     "name": "stderr",
     "output_type": "stream",
     "text": [
      "100%|██████████| 132448/132448 [06:05<00:00, 362.70it/s]\n",
      "100%|██████████| 132448/132448 [00:01<00:00, 81704.88it/s]\n"
     ]
    },
    {
     "name": "stdout",
     "output_type": "stream",
     "text": [
      "validating...\n",
      "using 17 questions predicting diagnosis...\n"
     ]
    },
    {
     "name": "stderr",
     "output_type": "stream",
     "text": [
      "100%|██████████| 132448/132448 [06:33<00:00, 336.20it/s]\n",
      "100%|██████████| 132448/132448 [00:01<00:00, 86400.06it/s]\n"
     ]
    },
    {
     "name": "stdout",
     "output_type": "stream",
     "text": [
      "validating...\n",
      "using 18 questions predicting diagnosis...\n"
     ]
    },
    {
     "name": "stderr",
     "output_type": "stream",
     "text": [
      "100%|██████████| 132448/132448 [05:50<00:00, 378.06it/s]\n",
      "100%|██████████| 132448/132448 [00:01<00:00, 80052.07it/s]\n"
     ]
    },
    {
     "name": "stdout",
     "output_type": "stream",
     "text": [
      "validating...\n",
      "using 19 questions predicting diagnosis...\n"
     ]
    },
    {
     "name": "stderr",
     "output_type": "stream",
     "text": [
      "100%|██████████| 132448/132448 [05:03<00:00, 436.21it/s]\n",
      "100%|██████████| 132448/132448 [00:01<00:00, 121823.62it/s]\n"
     ]
    },
    {
     "name": "stdout",
     "output_type": "stream",
     "text": [
      "validating...\n",
      "using 20 questions predicting diagnosis...\n"
     ]
    },
    {
     "name": "stderr",
     "output_type": "stream",
     "text": [
      "100%|██████████| 132448/132448 [08:35<00:00, 257.01it/s]\n",
      "100%|██████████| 132448/132448 [00:02<00:00, 59844.75it/s]\n"
     ]
    },
    {
     "name": "stdout",
     "output_type": "stream",
     "text": [
      "validating...\n",
      "using 21 questions predicting diagnosis...\n"
     ]
    },
    {
     "name": "stderr",
     "output_type": "stream",
     "text": [
      "100%|██████████| 132448/132448 [06:46<00:00, 326.09it/s]\n",
      "100%|██████████| 132448/132448 [00:01<00:00, 70165.03it/s]\n"
     ]
    },
    {
     "name": "stdout",
     "output_type": "stream",
     "text": [
      "validating...\n",
      "using 22 questions predicting diagnosis...\n"
     ]
    },
    {
     "name": "stderr",
     "output_type": "stream",
     "text": [
      "100%|██████████| 132448/132448 [08:18<00:00, 265.67it/s]\n",
      "100%|██████████| 132448/132448 [00:02<00:00, 62007.26it/s]\n"
     ]
    },
    {
     "name": "stdout",
     "output_type": "stream",
     "text": [
      "validating...\n",
      "using 23 questions predicting diagnosis...\n"
     ]
    },
    {
     "name": "stderr",
     "output_type": "stream",
     "text": [
      "100%|██████████| 132448/132448 [07:06<00:00, 310.39it/s]\n",
      "100%|██████████| 132448/132448 [00:01<00:00, 80497.57it/s]\n"
     ]
    },
    {
     "name": "stdout",
     "output_type": "stream",
     "text": [
      "validating...\n",
      "using 24 questions predicting diagnosis...\n"
     ]
    },
    {
     "name": "stderr",
     "output_type": "stream",
     "text": [
      "100%|██████████| 132448/132448 [08:53<00:00, 248.29it/s]\n",
      "100%|██████████| 132448/132448 [00:02<00:00, 46890.04it/s]\n"
     ]
    },
    {
     "name": "stdout",
     "output_type": "stream",
     "text": [
      "validating...\n",
      "using 25 questions predicting diagnosis...\n"
     ]
    },
    {
     "name": "stderr",
     "output_type": "stream",
     "text": [
      "100%|██████████| 132448/132448 [09:55<00:00, 222.55it/s]\n",
      "100%|██████████| 132448/132448 [00:01<00:00, 93787.66it/s]\n"
     ]
    },
    {
     "name": "stdout",
     "output_type": "stream",
     "text": [
      "validating...\n",
      "using 26 questions predicting diagnosis...\n"
     ]
    },
    {
     "name": "stderr",
     "output_type": "stream",
     "text": [
      "100%|██████████| 132448/132448 [08:09<00:00, 270.73it/s]\n",
      "100%|██████████| 132448/132448 [00:02<00:00, 49172.28it/s]\n"
     ]
    },
    {
     "name": "stdout",
     "output_type": "stream",
     "text": [
      "validating...\n",
      "using 27 questions predicting diagnosis...\n"
     ]
    },
    {
     "name": "stderr",
     "output_type": "stream",
     "text": [
      "100%|██████████| 132448/132448 [10:20<00:00, 213.49it/s]\n",
      "100%|██████████| 132448/132448 [00:02<00:00, 48601.63it/s]\n"
     ]
    },
    {
     "name": "stdout",
     "output_type": "stream",
     "text": [
      "validating...\n",
      "using 28 questions predicting diagnosis...\n"
     ]
    },
    {
     "name": "stderr",
     "output_type": "stream",
     "text": [
      "100%|██████████| 132448/132448 [08:41<00:00, 253.88it/s]\n",
      "100%|██████████| 132448/132448 [00:02<00:00, 49791.59it/s]\n"
     ]
    },
    {
     "name": "stdout",
     "output_type": "stream",
     "text": [
      "validating...\n",
      "using 29 questions predicting diagnosis...\n"
     ]
    },
    {
     "name": "stderr",
     "output_type": "stream",
     "text": [
      "100%|██████████| 132448/132448 [06:18<00:00, 350.04it/s]\n",
      "100%|██████████| 132448/132448 [00:01<00:00, 120851.14it/s]\n"
     ]
    },
    {
     "name": "stdout",
     "output_type": "stream",
     "text": [
      "validating...\n",
      "using 30 questions predicting diagnosis...\n"
     ]
    },
    {
     "name": "stderr",
     "output_type": "stream",
     "text": [
      "100%|██████████| 132448/132448 [06:34<00:00, 335.47it/s]\n",
      "100%|██████████| 132448/132448 [00:03<00:00, 37029.58it/s]\n"
     ]
    },
    {
     "name": "stdout",
     "output_type": "stream",
     "text": [
      "validating...\n"
     ]
    }
   ],
   "source": [
    "for n_questions in n_questions_list:\n",
    "    diagnosis_df_valid = questionnaire_dict[f\"questionnaire_data_{n_questions}\"][\"diagnosis_df_valid\"]\n",
    "    hit_rate = questionnaire_dict[f\"questionnaire_data_{n_questions}\"][\"hit_rate\"]\n",
    "    questionnaire_df = questionnaire_dict[f\"questionnaire_data_{n_questions}\"][\"questionnaire_df\"]\n",
    "    print(f\"using {n_questions} questions predicting diagnosis...\")\n",
    "    for disease in disease_list:\n",
    "        rf_model = model_dict[disease]\n",
    "        diagnosis_df_valid[disease] = rf_model.predict_proba(diagnosis_df_valid[feature_columns])[:,1]\n",
    "    diagnosis_df_valid[\"predicted_diagnosis\"] = diagnosis_df_valid[disease_list].progress_apply(lambda x: pred(x), axis=1)\n",
    "    diagnosis_df_valid[\"is_matched\"] = diagnosis_df_valid[[\"PATHOLOGY\", \"predicted_diagnosis\"]].progress_apply(lambda x: validate(x), axis=1)\n",
    "    diagnosis_df_valid[\"hit_rate\"] = hit_rate\n",
    "    print(\"validating...\")\n",
    "    acc = diagnosis_df_valid.is_matched.value_counts().to_dict()\n",
    "    acc[\"error_rate\"] = acc[False]/len(diagnosis_df_valid)\n",
    "    acc[\"mean_hit_rate\"] = np.mean(hit_rate)\n",
    "    hit_rate_misdiagnosed = diagnosis_df_valid[diagnosis_df_valid[\"is_matched\"]==False][\"hit_rate\"]\n",
    "    acc[\"mean_hit_rate_misdiagnosed\"] = np.mean(hit_rate_misdiagnosed)\n",
    "    metrics_dict[\"Logistic_regression\"][f\"n_questions_{n_questions}\"] = acc"
   ]
  },
  {
   "cell_type": "code",
   "execution_count": 32,
   "metadata": {},
   "outputs": [],
   "source": [
    "plt_y_logreg = [metrics_dict[\"Logistic_regression\"][f\"n_questions_{i}\"][\"error_rate\"] for i in n_questions_list]\n",
    "plt.plot(n_questions_list, plt_y_logreg, marker='o')\n",
    "plt.xlabel('number of questions')\n",
    "plt.ylabel('misdiagnosis rate')\n",
    "plt.title('Logistic Regression - Questionnaire Experiments')\n",
    "plt.savefig(f'{base_path}\\\\output\\\\error_analysis_questionnaire\\\\logistic_regression_experiments.jpg', bbox_inches='tight')\n",
    "plt.clf()"
   ]
  },
  {
   "cell_type": "markdown",
   "metadata": {},
   "source": [
    "## Decision Tree"
   ]
  },
  {
   "cell_type": "code",
   "execution_count": 27,
   "metadata": {},
   "outputs": [],
   "source": [
    "model_dict = {}\n",
    "for disease in disease_list:\n",
    "    disease_filename = re.sub('[^a-zA-Z0-9 \\n\\.]', '', disease).replace(\" \", \"_\")\n",
    "    with open(f'{base_path}\\\\output\\\\diseases\\\\{disease_filename}\\\\{disease_filename}_dt_model.pkl', 'rb') as f:\n",
    "        model_dict[disease] = pickle.load(f)"
   ]
  },
  {
   "cell_type": "code",
   "execution_count": 28,
   "metadata": {},
   "outputs": [
    {
     "name": "stdout",
     "output_type": "stream",
     "text": [
      "using 1 questions predicting diagnosis...\n"
     ]
    },
    {
     "name": "stderr",
     "output_type": "stream",
     "text": [
      "100%|██████████| 132448/132448 [08:33<00:00, 258.04it/s]\n",
      "100%|██████████| 132448/132448 [00:03<00:00, 42265.38it/s]\n"
     ]
    },
    {
     "name": "stdout",
     "output_type": "stream",
     "text": [
      "validating...\n",
      "using 2 questions predicting diagnosis...\n"
     ]
    },
    {
     "name": "stderr",
     "output_type": "stream",
     "text": [
      "100%|██████████| 132448/132448 [09:24<00:00, 234.83it/s]\n",
      "100%|██████████| 132448/132448 [00:01<00:00, 90102.49it/s]\n"
     ]
    },
    {
     "name": "stdout",
     "output_type": "stream",
     "text": [
      "validating...\n",
      "using 3 questions predicting diagnosis...\n"
     ]
    },
    {
     "name": "stderr",
     "output_type": "stream",
     "text": [
      "100%|██████████| 132448/132448 [04:54<00:00, 449.40it/s]\n",
      "100%|██████████| 132448/132448 [00:01<00:00, 119698.03it/s]\n"
     ]
    },
    {
     "name": "stdout",
     "output_type": "stream",
     "text": [
      "validating...\n",
      "using 4 questions predicting diagnosis...\n"
     ]
    },
    {
     "name": "stderr",
     "output_type": "stream",
     "text": [
      "100%|██████████| 132448/132448 [03:46<00:00, 585.38it/s]\n",
      "100%|██████████| 132448/132448 [00:01<00:00, 116444.34it/s]\n"
     ]
    },
    {
     "name": "stdout",
     "output_type": "stream",
     "text": [
      "validating...\n",
      "using 5 questions predicting diagnosis...\n"
     ]
    },
    {
     "name": "stderr",
     "output_type": "stream",
     "text": [
      "100%|██████████| 132448/132448 [04:41<00:00, 469.91it/s]\n",
      "100%|██████████| 132448/132448 [00:01<00:00, 92537.34it/s] \n"
     ]
    },
    {
     "name": "stdout",
     "output_type": "stream",
     "text": [
      "validating...\n",
      "using 6 questions predicting diagnosis...\n"
     ]
    },
    {
     "name": "stderr",
     "output_type": "stream",
     "text": [
      "100%|██████████| 132448/132448 [05:31<00:00, 398.94it/s]\n",
      "100%|██████████| 132448/132448 [00:03<00:00, 42781.06it/s]\n"
     ]
    },
    {
     "name": "stdout",
     "output_type": "stream",
     "text": [
      "validating...\n",
      "using 7 questions predicting diagnosis...\n"
     ]
    },
    {
     "name": "stderr",
     "output_type": "stream",
     "text": [
      "100%|██████████| 132448/132448 [11:02<00:00, 199.84it/s]\n",
      "100%|██████████| 132448/132448 [00:01<00:00, 127298.43it/s]\n"
     ]
    },
    {
     "name": "stdout",
     "output_type": "stream",
     "text": [
      "validating...\n",
      "using 8 questions predicting diagnosis...\n"
     ]
    },
    {
     "name": "stderr",
     "output_type": "stream",
     "text": [
      "100%|██████████| 132448/132448 [09:20<00:00, 236.39it/s]\n",
      "100%|██████████| 132448/132448 [00:02<00:00, 47718.05it/s]\n"
     ]
    },
    {
     "name": "stdout",
     "output_type": "stream",
     "text": [
      "validating...\n",
      "using 9 questions predicting diagnosis...\n"
     ]
    },
    {
     "name": "stderr",
     "output_type": "stream",
     "text": [
      "100%|██████████| 132448/132448 [04:56<00:00, 447.12it/s]\n",
      "100%|██████████| 132448/132448 [00:01<00:00, 90195.93it/s]\n"
     ]
    },
    {
     "name": "stdout",
     "output_type": "stream",
     "text": [
      "validating...\n",
      "using 10 questions predicting diagnosis...\n"
     ]
    },
    {
     "name": "stderr",
     "output_type": "stream",
     "text": [
      "100%|██████████| 132448/132448 [07:30<00:00, 293.69it/s]\n",
      "100%|██████████| 132448/132448 [00:03<00:00, 41861.85it/s]\n"
     ]
    },
    {
     "name": "stdout",
     "output_type": "stream",
     "text": [
      "validating...\n",
      "using 11 questions predicting diagnosis...\n"
     ]
    },
    {
     "name": "stderr",
     "output_type": "stream",
     "text": [
      "100%|██████████| 132448/132448 [10:37<00:00, 207.84it/s]\n",
      "100%|██████████| 132448/132448 [00:03<00:00, 39751.57it/s]\n"
     ]
    },
    {
     "name": "stdout",
     "output_type": "stream",
     "text": [
      "validating...\n",
      "using 12 questions predicting diagnosis...\n"
     ]
    },
    {
     "name": "stderr",
     "output_type": "stream",
     "text": [
      "100%|██████████| 132448/132448 [08:17<00:00, 266.00it/s]\n",
      "100%|██████████| 132448/132448 [00:01<00:00, 115254.03it/s]\n"
     ]
    },
    {
     "name": "stdout",
     "output_type": "stream",
     "text": [
      "validating...\n",
      "using 13 questions predicting diagnosis...\n"
     ]
    },
    {
     "name": "stderr",
     "output_type": "stream",
     "text": [
      "100%|██████████| 132448/132448 [03:45<00:00, 588.51it/s]\n",
      "100%|██████████| 132448/132448 [00:01<00:00, 118857.36it/s]\n"
     ]
    },
    {
     "name": "stdout",
     "output_type": "stream",
     "text": [
      "validating...\n",
      "using 14 questions predicting diagnosis...\n"
     ]
    },
    {
     "name": "stderr",
     "output_type": "stream",
     "text": [
      "100%|██████████| 132448/132448 [03:49<00:00, 578.14it/s]\n",
      "100%|██████████| 132448/132448 [00:01<00:00, 85127.36it/s] \n"
     ]
    },
    {
     "name": "stdout",
     "output_type": "stream",
     "text": [
      "validating...\n",
      "using 15 questions predicting diagnosis...\n"
     ]
    },
    {
     "name": "stderr",
     "output_type": "stream",
     "text": [
      "100%|██████████| 132448/132448 [04:57<00:00, 445.94it/s]\n",
      "100%|██████████| 132448/132448 [00:01<00:00, 79301.41it/s]\n"
     ]
    },
    {
     "name": "stdout",
     "output_type": "stream",
     "text": [
      "validating...\n",
      "using 16 questions predicting diagnosis...\n"
     ]
    },
    {
     "name": "stderr",
     "output_type": "stream",
     "text": [
      "100%|██████████| 132448/132448 [04:46<00:00, 462.66it/s]\n",
      "100%|██████████| 132448/132448 [00:01<00:00, 118794.20it/s]\n"
     ]
    },
    {
     "name": "stdout",
     "output_type": "stream",
     "text": [
      "validating...\n",
      "using 17 questions predicting diagnosis...\n"
     ]
    },
    {
     "name": "stderr",
     "output_type": "stream",
     "text": [
      "100%|██████████| 132448/132448 [04:19<00:00, 510.30it/s]\n",
      "100%|██████████| 132448/132448 [00:01<00:00, 115129.20it/s]\n"
     ]
    },
    {
     "name": "stdout",
     "output_type": "stream",
     "text": [
      "validating...\n",
      "using 18 questions predicting diagnosis...\n"
     ]
    },
    {
     "name": "stderr",
     "output_type": "stream",
     "text": [
      "100%|██████████| 132448/132448 [05:47<00:00, 381.05it/s]\n",
      "100%|██████████| 132448/132448 [00:01<00:00, 104488.12it/s]\n"
     ]
    },
    {
     "name": "stdout",
     "output_type": "stream",
     "text": [
      "validating...\n",
      "using 19 questions predicting diagnosis...\n"
     ]
    },
    {
     "name": "stderr",
     "output_type": "stream",
     "text": [
      "100%|██████████| 132448/132448 [05:15<00:00, 419.70it/s]\n",
      "100%|██████████| 132448/132448 [00:02<00:00, 56635.54it/s]\n"
     ]
    },
    {
     "name": "stdout",
     "output_type": "stream",
     "text": [
      "validating...\n",
      "using 20 questions predicting diagnosis...\n"
     ]
    },
    {
     "name": "stderr",
     "output_type": "stream",
     "text": [
      "100%|██████████| 132448/132448 [04:27<00:00, 495.31it/s]\n",
      "100%|██████████| 132448/132448 [00:01<00:00, 119571.14it/s]\n"
     ]
    },
    {
     "name": "stdout",
     "output_type": "stream",
     "text": [
      "validating...\n",
      "using 21 questions predicting diagnosis...\n"
     ]
    },
    {
     "name": "stderr",
     "output_type": "stream",
     "text": [
      "100%|██████████| 132448/132448 [03:47<00:00, 582.31it/s]\n",
      "100%|██████████| 132448/132448 [00:01<00:00, 96489.56it/s] \n"
     ]
    },
    {
     "name": "stdout",
     "output_type": "stream",
     "text": [
      "validating...\n",
      "using 22 questions predicting diagnosis...\n"
     ]
    },
    {
     "name": "stderr",
     "output_type": "stream",
     "text": [
      "100%|██████████| 132448/132448 [04:05<00:00, 539.63it/s]\n",
      "100%|██████████| 132448/132448 [00:01<00:00, 125332.53it/s]\n"
     ]
    },
    {
     "name": "stdout",
     "output_type": "stream",
     "text": [
      "validating...\n",
      "using 23 questions predicting diagnosis...\n"
     ]
    },
    {
     "name": "stderr",
     "output_type": "stream",
     "text": [
      "100%|██████████| 132448/132448 [03:46<00:00, 585.90it/s]\n",
      "100%|██████████| 132448/132448 [00:01<00:00, 121000.70it/s]\n"
     ]
    },
    {
     "name": "stdout",
     "output_type": "stream",
     "text": [
      "validating...\n",
      "using 24 questions predicting diagnosis...\n"
     ]
    },
    {
     "name": "stderr",
     "output_type": "stream",
     "text": [
      "100%|██████████| 132448/132448 [03:41<00:00, 598.11it/s]\n",
      "100%|██████████| 132448/132448 [00:01<00:00, 115692.00it/s]\n"
     ]
    },
    {
     "name": "stdout",
     "output_type": "stream",
     "text": [
      "validating...\n",
      "using 25 questions predicting diagnosis...\n"
     ]
    },
    {
     "name": "stderr",
     "output_type": "stream",
     "text": [
      "100%|██████████| 132448/132448 [03:42<00:00, 595.39it/s]\n",
      "100%|██████████| 132448/132448 [00:01<00:00, 123917.05it/s]\n"
     ]
    },
    {
     "name": "stdout",
     "output_type": "stream",
     "text": [
      "validating...\n",
      "using 26 questions predicting diagnosis...\n"
     ]
    },
    {
     "name": "stderr",
     "output_type": "stream",
     "text": [
      "100%|██████████| 132448/132448 [03:52<00:00, 568.87it/s]\n",
      "100%|██████████| 132448/132448 [00:01<00:00, 111002.96it/s]\n"
     ]
    },
    {
     "name": "stdout",
     "output_type": "stream",
     "text": [
      "validating...\n",
      "using 27 questions predicting diagnosis...\n"
     ]
    },
    {
     "name": "stderr",
     "output_type": "stream",
     "text": [
      "100%|██████████| 132448/132448 [04:32<00:00, 486.53it/s]\n",
      "100%|██████████| 132448/132448 [00:01<00:00, 92061.94it/s] \n"
     ]
    },
    {
     "name": "stdout",
     "output_type": "stream",
     "text": [
      "validating...\n",
      "using 28 questions predicting diagnosis...\n"
     ]
    },
    {
     "name": "stderr",
     "output_type": "stream",
     "text": [
      "100%|██████████| 132448/132448 [06:14<00:00, 353.41it/s]\n",
      "100%|██████████| 132448/132448 [00:01<00:00, 76007.45it/s]\n"
     ]
    },
    {
     "name": "stdout",
     "output_type": "stream",
     "text": [
      "validating...\n",
      "using 29 questions predicting diagnosis...\n"
     ]
    },
    {
     "name": "stderr",
     "output_type": "stream",
     "text": [
      "100%|██████████| 132448/132448 [04:42<00:00, 468.12it/s]\n",
      "100%|██████████| 132448/132448 [00:01<00:00, 120338.58it/s]\n"
     ]
    },
    {
     "name": "stdout",
     "output_type": "stream",
     "text": [
      "validating...\n",
      "using 30 questions predicting diagnosis...\n"
     ]
    },
    {
     "name": "stderr",
     "output_type": "stream",
     "text": [
      "100%|██████████| 132448/132448 [04:16<00:00, 516.18it/s]\n",
      "100%|██████████| 132448/132448 [00:01<00:00, 92367.01it/s] "
     ]
    },
    {
     "name": "stdout",
     "output_type": "stream",
     "text": [
      "validating...\n"
     ]
    },
    {
     "name": "stderr",
     "output_type": "stream",
     "text": [
      "\n"
     ]
    }
   ],
   "source": [
    "for n_questions in n_questions_list:\n",
    "    diagnosis_df_valid = questionnaire_dict[f\"questionnaire_data_{n_questions}\"][\"diagnosis_df_valid\"]\n",
    "    hit_rate = questionnaire_dict[f\"questionnaire_data_{n_questions}\"][\"hit_rate\"]\n",
    "    questionnaire_df = questionnaire_dict[f\"questionnaire_data_{n_questions}\"][\"questionnaire_df\"]\n",
    "    print(f\"using {n_questions} questions predicting diagnosis...\")\n",
    "    for disease in disease_list:\n",
    "        rf_model = model_dict[disease]\n",
    "        diagnosis_df_valid[disease] = rf_model.predict_proba(diagnosis_df_valid[feature_columns])[:,1]\n",
    "    diagnosis_df_valid[\"predicted_diagnosis\"] = diagnosis_df_valid[disease_list].progress_apply(lambda x: pred(x), axis=1)\n",
    "    diagnosis_df_valid[\"is_matched\"] = diagnosis_df_valid[[\"PATHOLOGY\", \"predicted_diagnosis\"]].progress_apply(lambda x: validate(x), axis=1)\n",
    "    diagnosis_df_valid[\"hit_rate\"] = hit_rate\n",
    "    print(\"validating...\")\n",
    "    acc = diagnosis_df_valid.is_matched.value_counts().to_dict()\n",
    "    acc[\"error_rate\"] = acc[False]/len(diagnosis_df_valid)\n",
    "    acc[\"mean_hit_rate\"] = np.mean(hit_rate)\n",
    "    hit_rate_misdiagnosed = diagnosis_df_valid[diagnosis_df_valid[\"is_matched\"]==False][\"hit_rate\"]\n",
    "    acc[\"mean_hit_rate_misdiagnosed\"] = np.mean(hit_rate_misdiagnosed)\n",
    "    metrics_dict[\"Decision_Tree\"][f\"n_questions_{n_questions}\"] = acc"
   ]
  },
  {
   "cell_type": "code",
   "execution_count": 30,
   "metadata": {},
   "outputs": [
    {
     "data": {
      "text/plain": [
       "<Figure size 640x480 with 0 Axes>"
      ]
     },
     "metadata": {},
     "output_type": "display_data"
    }
   ],
   "source": [
    "plt_y_dt = [metrics_dict[\"Decision_Tree\"][f\"n_questions_{i}\"][\"error_rate\"] for i in n_questions_list]\n",
    "plt.plot(n_questions_list, plt_y_dt, marker='o')\n",
    "plt.xlabel('number of questions')\n",
    "plt.ylabel('misdiagnosis rate')\n",
    "plt.title('Decision Tree - Questionnaire Experiments')\n",
    "plt.savefig(f'{base_path}\\\\output\\\\error_analysis_questionnaire\\\\decision_tree_experiments.jpg', bbox_inches='tight')\n",
    "plt.clf()"
   ]
  },
  {
   "cell_type": "code",
   "execution_count": 37,
   "metadata": {},
   "outputs": [
    {
     "data": {
      "text/plain": [
       "<Figure size 640x480 with 0 Axes>"
      ]
     },
     "metadata": {},
     "output_type": "display_data"
    }
   ],
   "source": [
    "plt.plot(n_questions_list, plt_y_rf, marker='o', label = \"Random Forest\")\n",
    "plt.plot(n_questions_list, plt_y_logreg, marker='o', label = \"Logistic Regression\")\n",
    "plt.plot(n_questions_list, plt_y_dt, marker='o', label = \"Decision Tree\")\n",
    "plt.xlabel('number of questions')\n",
    "plt.ylabel('misdiagnosis rate')\n",
    "plt.title('Questionnaire Experiments')\n",
    "plt.ylim(0, 1)\n",
    "plt.legend()\n",
    "plt.savefig(f'{base_path}\\\\output\\\\error_analysis_questionnaire\\\\questionnaire_experiments.jpg', bbox_inches='tight')\n",
    "plt.clf()"
   ]
  },
  {
   "cell_type": "code",
   "execution_count": 35,
   "metadata": {},
   "outputs": [],
   "source": [
    "with open(f\"{base_path}\\\\output\\\\error_analysis_questionnaire\\\\validation_metric_questionnaire_experiments.json\", \"w\") as outfile: \n",
    "    json.dump(metrics_dict, outfile, indent=True)"
   ]
  },
  {
   "cell_type": "code",
   "execution_count": null,
   "metadata": {},
   "outputs": [],
   "source": [
    "# ran for approx 920 min\n",
    "# 49 x 3 x 30 = 4410 model runs hahahaha"
   ]
  }
 ],
 "metadata": {
  "kernelspec": {
   "display_name": "Python 3",
   "language": "python",
   "name": "python3"
  },
  "language_info": {
   "codemirror_mode": {
    "name": "ipython",
    "version": 3
   },
   "file_extension": ".py",
   "mimetype": "text/x-python",
   "name": "python",
   "nbconvert_exporter": "python",
   "pygments_lexer": "ipython3",
   "version": "3.10.0"
  }
 },
 "nbformat": 4,
 "nbformat_minor": 2
}
