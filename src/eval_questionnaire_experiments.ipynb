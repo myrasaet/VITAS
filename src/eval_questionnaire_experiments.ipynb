{
 "cells": [
  {
   "cell_type": "code",
   "execution_count": 1,
   "metadata": {},
   "outputs": [
    {
     "name": "stderr",
     "output_type": "stream",
     "text": [
      "c:\\Users\\myras\\Documents\\MYMY\\ACADS\\AY 2023-2024 2ND SEM\\STAT299 - Capstone\\Repo\\VITAS\\vitas-env\\lib\\site-packages\\scipy\\__init__.py:146: UserWarning: A NumPy version >=1.16.5 and <1.23.0 is required for this version of SciPy (detected version 1.24.1\n",
      "  warnings.warn(f\"A NumPy version >={np_minversion} and <{np_maxversion}\"\n"
     ]
    }
   ],
   "source": [
    "import pandas as pd\n",
    "import numpy as np\n",
    "import json\n",
    "import ast\n",
    "import re\n",
    "import os\n",
    "import pickle\n",
    "from tqdm import tqdm\n",
    "from constants import base_path, model_list, max_n_questions\n",
    "import matplotlib.pyplot as plt\n",
    "tqdm.pandas()\n",
    "import warnings\n",
    "warnings.filterwarnings(\"ignore\")\n",
    "from tqdm import tqdm\n",
    "tqdm.pandas()"
   ]
  },
  {
   "cell_type": "code",
   "execution_count": 2,
   "metadata": {},
   "outputs": [],
   "source": [
    "with open(f\"{base_path}\\\\input\\\\release_conditions.json\") as f:\n",
    "  disease_dict = json.load(f)\n",
    "disease_list = list(disease_dict.keys())"
   ]
  },
  {
   "cell_type": "code",
   "execution_count": 3,
   "metadata": {},
   "outputs": [],
   "source": [
    "with open(f\"{base_path}\\\\input\\\\release_evidences.json\") as f:\n",
    "  evidences = json.load(f)\n",
    "evidences_list = []\n",
    "evidences_dict = {}\n",
    "evidences_en_to_code = {}\n",
    "for e in evidences.keys():\n",
    "  # only binary symptoms and antecedents\n",
    "  if (not evidences[e][\"possible-values\"]):\n",
    "    evidences_list.append(e)\n",
    "    evidences_dict[e] = evidences[e][\"question_en\"]\n",
    "    evidences_en_to_code[evidences[e][\"question_en\"]] = e\n",
    "evidences_code_to_en = evidences_dict\n",
    "evidences_list_en = list(evidences_en_to_code.keys())\n",
    "evidences_dict[\"AGE\"] = \"AGE\"\n",
    "evidences_dict[\"SEX\"] = \"SEX\"\n",
    "feature_columns = [\"AGE\", \"SEX\"] + evidences_list"
   ]
  },
  {
   "cell_type": "code",
   "execution_count": 4,
   "metadata": {},
   "outputs": [],
   "source": [
    "def get_next_question(evidences, questionnaire, feature_embeddings_df):\n",
    "    centroid = np.array([feature_embeddings_df.loc[e].values for e in evidences]).mean(axis=0)\n",
    "    _, indices = questionnaire.kneighbors([centroid])\n",
    "    ask_list = [evidences_list_en[i] for i in indices[0] if evidences_list_en[i] not in evidences]\n",
    "    try:\n",
    "        return ask_list\n",
    "    except:\n",
    "        return []"
   ]
  },
  {
   "cell_type": "code",
   "execution_count": 5,
   "metadata": {},
   "outputs": [],
   "source": [
    "def get_evidences(answers, user_evidences, questionnaire, feature_embeddings_df, n_questions):\n",
    "    ask = True\n",
    "    question_counter = 1 # counts initial evidence sa q0\n",
    "    evidences_en = [evidences_code_to_en[e] for e in user_evidences]\n",
    "    answers_en = [evidences_code_to_en[e] for e in answers if e in evidences_list]\n",
    "    asked = evidences_en.copy()\n",
    "    while question_counter < n_questions:\n",
    "      ask =  True\n",
    "      next_question_idx = 0\n",
    "      next_question = get_next_question(evidences_en, questionnaire, feature_embeddings_df)\n",
    "      while ask and (question_counter < n_questions):\n",
    "        if next_question[next_question_idx] not in asked:\n",
    "          answer = 1 if next_question[next_question_idx] in answers_en else 0\n",
    "          asked.append(next_question[next_question_idx])\n",
    "          question_counter+=1\n",
    "          if answer==1:\n",
    "            evidences_en.append(next_question[next_question_idx])\n",
    "            ask = False\n",
    "          else:\n",
    "            next_question_idx += 1\n",
    "          if next_question_idx > n_questions:\n",
    "            break\n",
    "        else:\n",
    "            next_question_idx += 1\n",
    "    return [evidences_en_to_code[e] for e in evidences_en]"
   ]
  },
  {
   "cell_type": "code",
   "execution_count": 6,
   "metadata": {},
   "outputs": [],
   "source": [
    "def data_proc(df, questionnaire, feature_embeddings_df, n_questions):\n",
    "    df[\"binary_evidences_all\"] = df[\"EVIDENCES\"].apply(lambda x: [d for d in ast.literal_eval(x) if d in evidences_list])\n",
    "    df[\"binary_evidences_all_count\"] = df[\"binary_evidences_all\"].apply(lambda x: len(x))\n",
    "    df[\"binary_evidences\"] = df[[\"EVIDENCES\", \"INITIAL_EVIDENCE\"]].progress_apply(lambda x: get_evidences(ast.literal_eval(x[0]), [x[1]], questionnaire, feature_embeddings_df, n_questions), axis=1)\n",
    "    df[\"binary_evidences_count\"] = df[\"binary_evidences\"].apply(lambda x: len(x))\n",
    "    df[\"hit_rate\"] = df[\"binary_evidences_count\"]/df[\"binary_evidences_all_count\"]\n",
    "    hit_rate = df[\"hit_rate\"]\n",
    "    for e in evidences_list:\n",
    "        df[e] = df[\"binary_evidences\"].apply(lambda x: 1 if e in x else 0)\n",
    "    df[\"SEX\"] = df[\"SEX\"].map({'F': 0, 'M': 1})\n",
    "    ftr_df = df[feature_columns + [\"PATHOLOGY\"]]\n",
    "    questionnaire_df = df[[\"binary_evidences_all\", \"binary_evidences\", \"INITIAL_EVIDENCE\"]]\n",
    "    return ftr_df, hit_rate, questionnaire_df"
   ]
  },
  {
   "cell_type": "code",
   "execution_count": 7,
   "metadata": {},
   "outputs": [],
   "source": [
    "def pred(x):\n",
    "    pred_list = []\n",
    "    for i in range(len(disease_list)):\n",
    "        if x[i] > 0:\n",
    "            pred_list.append({\n",
    "                \"disease\": disease_list[i],\n",
    "                \"probability\": x[i]})\n",
    "    if pred_list:\n",
    "        pred_df = pd.DataFrame(pred_list).set_index('disease')\n",
    "        # return only top 1 - allows ties\n",
    "        pred_df['rank'] = pred_df['probability'].rank(method='min', ascending=False)\n",
    "        pred_df = pred_df.sort_values(by=\"rank\")\n",
    "        pred_df = pred_df[pred_df[\"rank\"]<=1][[\"probability\"]]\n",
    "        return list(pred_df.index)\n",
    "    else:\n",
    "        return []"
   ]
  },
  {
   "cell_type": "code",
   "execution_count": 8,
   "metadata": {},
   "outputs": [],
   "source": [
    "def get_missed_evidence(actual, asked):\n",
    "    return list(set(actual)^set(asked))"
   ]
  },
  {
   "cell_type": "code",
   "execution_count": 9,
   "metadata": {},
   "outputs": [],
   "source": [
    "def validate(x):\n",
    "    return [x[0]]==x[1]"
   ]
  },
  {
   "cell_type": "code",
   "execution_count": 10,
   "metadata": {},
   "outputs": [],
   "source": [
    "with open(f'{base_path}\\\\output\\\\questionnaire\\\\questionnaire.pkl', 'rb') as f:\n",
    "    questionnaire = pickle.load(f)\n",
    "feature_embeddings_df = pd.read_pickle(f'{base_path}\\\\output\\\\questionnaire\\\\questionnaire_embeddings.pkl')"
   ]
  },
  {
   "cell_type": "code",
   "execution_count": 11,
   "metadata": {},
   "outputs": [],
   "source": [
    "diagnosis_df_valid = pd.read_csv(f\"{base_path}\\\\input\\\\release_validate_patients\")"
   ]
  },
  {
   "cell_type": "code",
   "execution_count": 12,
   "metadata": {},
   "outputs": [
    {
     "name": "stderr",
     "output_type": "stream",
     "text": [
      "  0%|          | 0/5 [00:00<?, ?it/s]"
     ]
    },
    {
     "name": "stderr",
     "output_type": "stream",
     "text": [
      "100%|██████████| 5/5 [00:00<00:00, 89.81it/s]\n"
     ]
    },
    {
     "data": {
      "text/plain": [
       "(   AGE  SEX  E_91  E_53  E_159  E_129  E_154  E_155  E_210  E_140  ...  E_199  \\\n",
       " 0   55    0     0     1      0      0      1      0      0      1  ...      0   \n",
       " 1   10    0     0     1      0      0      0      1      0      0  ...      0   \n",
       " 2   68    0     1     1      0      1      0      0      0      0  ...      0   \n",
       " 3   13    1     0     1      0      0      0      0      0      0  ...      0   \n",
       " 4   48    1     0     1      0      0      0      0      1      0  ...      0   \n",
       " \n",
       "    E_121  E_120  E_142  E_195  E_183  E_224  E_223  E_5     PATHOLOGY  \n",
       " 0      0      0      0      0      0      0      0    0        Anemia  \n",
       " 1      0      0      0      0      0      0      0    0  Panic attack  \n",
       " 2      0      0      0      0      0      0      0    0     Influenza  \n",
       " 3      0      0      0      0      0      0      0    0        Anemia  \n",
       " 4      0      0      0      0      0      0      0    0     Boerhaave  \n",
       " \n",
       " [5 rows x 211 columns],\n",
       " 0    1.000000\n",
       " 1    0.933333\n",
       " 2    1.000000\n",
       " 3    0.250000\n",
       " 4    1.000000\n",
       " Name: hit_rate, dtype: float64,\n",
       "                                 binary_evidences_all  \\\n",
       " 0  [E_7, E_24, E_26, E_53, E_76, E_82, E_88, E_89...   \n",
       " 1  [E_16, E_29, E_50, E_53, E_66, E_75, E_80, E_8...   \n",
       " 2  [E_50, E_53, E_79, E_88, E_91, E_94, E_129, E_...   \n",
       " 3  [E_7, E_24, E_26, E_53, E_66, E_76, E_82, E_89...   \n",
       " 4                         [E_53, E_78, E_148, E_210]   \n",
       " \n",
       "                                     binary_evidences INITIAL_EVIDENCE  \n",
       " 0  [E_154, E_113, E_26, E_24, E_7, E_146, E_140, ...            E_154  \n",
       " 1  [E_171, E_185, E_81, E_75, E_80, E_111, E_29, ...            E_171  \n",
       " 2  [E_53, E_79, E_91, E_181, E_144, E_50, E_161, ...             E_53  \n",
       " 3                                 [E_53, E_66, E_89]             E_53  \n",
       " 4                         [E_53, E_78, E_148, E_210]             E_53  )"
      ]
     },
     "execution_count": 12,
     "metadata": {},
     "output_type": "execute_result"
    }
   ],
   "source": [
    "# test\n",
    "data_proc(diagnosis_df_valid.head(5), questionnaire, feature_embeddings_df, n_questions=20)"
   ]
  },
  {
   "cell_type": "code",
   "execution_count": 13,
   "metadata": {},
   "outputs": [],
   "source": [
    "questionnaire_dict = {}\n",
    "n_questions_list = list(range(5, max_n_questions, 5))\n",
    "if max_n_questions not in n_questions_list:\n",
    "    n_questions_list.append(max_n_questions)"
   ]
  },
  {
   "cell_type": "code",
   "execution_count": 14,
   "metadata": {},
   "outputs": [
    {
     "name": "stdout",
     "output_type": "stream",
     "text": [
      "Asking 5 questions...\n",
      "Asking 10 questions...\n",
      "Asking 15 questions...\n",
      "Asking 20 questions...\n",
      "Asking 25 questions...\n",
      "Asking 30 questions...\n",
      "Asking 35 questions...\n",
      "Asking 40 questions...\n",
      "Asking 45 questions...\n",
      "Asking 50 questions...\n",
      "Asking 55 questions...\n",
      "Asking 60 questions...\n",
      "Asking 65 questions...\n",
      "Asking 70 questions...\n",
      "Asking 75 questions...\n",
      "Asking 80 questions...\n",
      "Asking 85 questions...\n",
      "Asking 90 questions...\n",
      "Asking 95 questions...\n",
      "Asking 100 questions...\n",
      "Asking 105 questions...\n",
      "Asking 110 questions...\n",
      "Asking 115 questions...\n",
      "Asking 120 questions...\n",
      "Asking 125 questions...\n",
      "Asking 130 questions...\n",
      "Asking 135 questions...\n",
      "Asking 140 questions...\n",
      "Asking 145 questions...\n",
      "Asking 150 questions...\n",
      "Asking 155 questions...\n",
      "Asking 160 questions...\n",
      "Asking 165 questions...\n",
      "Asking 170 questions...\n",
      "Asking 175 questions...\n",
      "Asking 180 questions...\n",
      "Asking 185 questions...\n",
      "Asking 190 questions...\n",
      "Asking 195 questions...\n",
      "Asking 200 questions...\n",
      "Asking 205 questions...\n",
      "Asking 208 questions...\n"
     ]
    }
   ],
   "source": [
    "data_path = f\"{base_path}\\\\processed\\\\questionnaire_experiments\"\n",
    "if not os.path.exists(data_path):\n",
    "    os.makedirs(data_path)\n",
    "\n",
    "# is_load_data default is False\n",
    "# if data is already available in processed folder, change to True\n",
    "is_load_data = False\n",
    "    \n",
    "for n_questions in n_questions_list:\n",
    "    diagnosis_df_valid = pd.read_csv(f\"{base_path}\\\\input\\\\release_validate_patients\")\n",
    "    print(f\"Asking {n_questions} questions...\")\n",
    "    if not is_load_data:\n",
    "        diagnosis_df_valid, hit_rate, questionnaire_df = data_proc(diagnosis_df_valid, questionnaire, feature_embeddings_df, n_questions)\n",
    "        with open(f\"{data_path}\\\\diagnosis_df_valid_{n_questions}.pkl\",'wb') as f:\n",
    "            pickle.dump(diagnosis_df_valid, f)\n",
    "        with open(f\"{data_path}\\\\hit_rate_{n_questions}.pkl\",'wb') as f:\n",
    "            pickle.dump(hit_rate, f)\n",
    "    else:\n",
    "        with open(f'{data_path}\\\\diagnosis_df_valid_{n_questions}.pkl', 'rb') as f:\n",
    "            diagnosis_df_valid = pickle.load(f)\n",
    "        with open(f'{data_path}\\\\hit_rate_{n_questions}.pkl', 'rb') as f:\n",
    "            hit_rate = pickle.load(f)\n",
    "    questionnaire_dict[f\"questionnaire_data_{n_questions}\"] = {\n",
    "        \"diagnosis_df_valid\": diagnosis_df_valid,\n",
    "        \"hit_rate\": hit_rate,\n",
    "    }\n"
   ]
  },
  {
   "cell_type": "code",
   "execution_count": 15,
   "metadata": {},
   "outputs": [],
   "source": [
    "metrics_dict = {model_name:{} for model_name in model_list[\"tree-based\"]}\n",
    "metrics_dict[\"logistic_regression\"] = {}"
   ]
  },
  {
   "cell_type": "code",
   "execution_count": 16,
   "metadata": {},
   "outputs": [],
   "source": [
    "experiment_path = f\"{base_path}\\\\output\\\\error_analysis_questionnaire\"\n",
    "if not os.path.exists(experiment_path):\n",
    "    os.makedirs(experiment_path)"
   ]
  },
  {
   "cell_type": "code",
   "execution_count": 17,
   "metadata": {},
   "outputs": [],
   "source": [
    "def experiment(model_name):\n",
    "    print(f\"Evaluating {model_name}...\")\n",
    "    model_dict = {}\n",
    "    for disease in disease_list:\n",
    "        disease_filename = re.sub('[^a-zA-Z0-9 \\n\\.]', '', disease).replace(\" \", \"_\")\n",
    "        with open(f'{base_path}\\\\output\\\\diseases\\\\{disease_filename}\\\\{model_name}\\\\{disease_filename}_model.pkl', 'rb') as f:\n",
    "            model_dict[disease] = pickle.load(f)\n",
    "    for n_questions in n_questions_list:\n",
    "        diagnosis_df_valid = questionnaire_dict[f\"questionnaire_data_{n_questions}\"][\"diagnosis_df_valid\"]\n",
    "        hit_rate = questionnaire_dict[f\"questionnaire_data_{n_questions}\"][\"hit_rate\"]\n",
    "        print(f\"using {n_questions} questions predicting diagnosis...\")\n",
    "        for disease in disease_list:\n",
    "            clf_model = model_dict[disease]\n",
    "            diagnosis_df_valid[disease] = clf_model.predict_proba(diagnosis_df_valid[feature_columns])[:,1]\n",
    "        diagnosis_df_valid[\"predicted_diagnosis\"] = diagnosis_df_valid[disease_list].progress_apply(lambda x: pred(x), axis=1)\n",
    "        diagnosis_df_valid[\"is_matched\"] = diagnosis_df_valid[[\"PATHOLOGY\", \"predicted_diagnosis\"]].progress_apply(lambda x: validate(x), axis=1)\n",
    "        diagnosis_df_valid[\"hit_rate\"] = hit_rate\n",
    "        print(\"validating...\")\n",
    "        acc = diagnosis_df_valid.is_matched.value_counts().to_dict()\n",
    "        acc[\"error_rate\"] = acc[False]/len(diagnosis_df_valid)\n",
    "        acc[\"mean_hit_rate\"] = np.mean(hit_rate)\n",
    "        hit_rate_misdiagnosed = diagnosis_df_valid[diagnosis_df_valid[\"is_matched\"]==False][\"hit_rate\"]\n",
    "        acc[\"mean_hit_rate_misdiagnosed\"] = np.mean(hit_rate_misdiagnosed)\n",
    "        metrics_dict[model_name][f\"n_questions_{n_questions}\"] = acc      \n",
    "    metrics_dict[model_name][\"plt_y\"] = [metrics_dict[model_name][f\"n_questions_{i}\"][\"error_rate\"] for i in n_questions_list]\n",
    "    if not os.path.exists(f\"{experiment_path}\\\\{model_name}\"):\n",
    "        os.makedirs(f\"{experiment_path}\\\\{model_name}\")\n",
    "    with open(f\"{experiment_path}\\\\{model_name}\\\\validation_metric_questionnaire_experiments.json\", \"w\") as outfile: \n",
    "        json.dump(metrics_dict[model_name], outfile, indent=True)\n",
    "    "
   ]
  },
  {
   "cell_type": "markdown",
   "metadata": {},
   "source": [
    "## Tree-based models"
   ]
  },
  {
   "cell_type": "code",
   "execution_count": 18,
   "metadata": {},
   "outputs": [
    {
     "name": "stdout",
     "output_type": "stream",
     "text": [
      "Evaluating decision_tree...\n",
      "using 5 questions predicting diagnosis...\n"
     ]
    },
    {
     "name": "stderr",
     "output_type": "stream",
     "text": [
      "100%|██████████| 132448/132448 [08:03<00:00, 273.83it/s]\n",
      "100%|██████████| 132448/132448 [00:02<00:00, 47621.69it/s]\n"
     ]
    },
    {
     "name": "stdout",
     "output_type": "stream",
     "text": [
      "validating...\n",
      "using 10 questions predicting diagnosis...\n"
     ]
    },
    {
     "name": "stderr",
     "output_type": "stream",
     "text": [
      "100%|██████████| 132448/132448 [09:38<00:00, 228.98it/s]\n",
      "100%|██████████| 132448/132448 [00:02<00:00, 46138.18it/s]\n"
     ]
    },
    {
     "name": "stdout",
     "output_type": "stream",
     "text": [
      "validating...\n",
      "using 15 questions predicting diagnosis...\n"
     ]
    },
    {
     "name": "stderr",
     "output_type": "stream",
     "text": [
      "100%|██████████| 132448/132448 [09:59<00:00, 220.97it/s]\n",
      "100%|██████████| 132448/132448 [00:02<00:00, 45254.48it/s]\n"
     ]
    },
    {
     "name": "stdout",
     "output_type": "stream",
     "text": [
      "validating...\n",
      "using 20 questions predicting diagnosis...\n"
     ]
    },
    {
     "name": "stderr",
     "output_type": "stream",
     "text": [
      "100%|██████████| 132448/132448 [10:15<00:00, 215.27it/s]\n",
      "100%|██████████| 132448/132448 [00:02<00:00, 45169.03it/s]\n"
     ]
    },
    {
     "name": "stdout",
     "output_type": "stream",
     "text": [
      "validating...\n",
      "using 25 questions predicting diagnosis...\n"
     ]
    },
    {
     "name": "stderr",
     "output_type": "stream",
     "text": [
      "100%|██████████| 132448/132448 [10:28<00:00, 210.58it/s]\n",
      "100%|██████████| 132448/132448 [00:02<00:00, 44429.52it/s]\n"
     ]
    },
    {
     "name": "stdout",
     "output_type": "stream",
     "text": [
      "validating...\n",
      "using 30 questions predicting diagnosis...\n"
     ]
    },
    {
     "name": "stderr",
     "output_type": "stream",
     "text": [
      "100%|██████████| 132448/132448 [08:16<00:00, 266.94it/s]\n",
      "100%|██████████| 132448/132448 [00:02<00:00, 56660.11it/s]\n"
     ]
    },
    {
     "name": "stdout",
     "output_type": "stream",
     "text": [
      "validating...\n",
      "using 35 questions predicting diagnosis...\n"
     ]
    },
    {
     "name": "stderr",
     "output_type": "stream",
     "text": [
      "100%|██████████| 132448/132448 [08:06<00:00, 272.23it/s]\n",
      "100%|██████████| 132448/132448 [00:02<00:00, 60388.86it/s]\n"
     ]
    },
    {
     "name": "stdout",
     "output_type": "stream",
     "text": [
      "validating...\n",
      "using 40 questions predicting diagnosis...\n"
     ]
    },
    {
     "name": "stderr",
     "output_type": "stream",
     "text": [
      "100%|██████████| 132448/132448 [07:08<00:00, 308.86it/s]\n",
      "100%|██████████| 132448/132448 [00:01<00:00, 81728.35it/s]\n"
     ]
    },
    {
     "name": "stdout",
     "output_type": "stream",
     "text": [
      "validating...\n",
      "using 45 questions predicting diagnosis...\n"
     ]
    },
    {
     "name": "stderr",
     "output_type": "stream",
     "text": [
      "100%|██████████| 132448/132448 [05:54<00:00, 373.47it/s]\n",
      "100%|██████████| 132448/132448 [00:01<00:00, 81206.11it/s] \n"
     ]
    },
    {
     "name": "stdout",
     "output_type": "stream",
     "text": [
      "validating...\n",
      "using 50 questions predicting diagnosis...\n"
     ]
    },
    {
     "name": "stderr",
     "output_type": "stream",
     "text": [
      "100%|██████████| 132448/132448 [05:37<00:00, 391.87it/s]\n",
      "100%|██████████| 132448/132448 [00:01<00:00, 77476.34it/s]\n"
     ]
    },
    {
     "name": "stdout",
     "output_type": "stream",
     "text": [
      "validating...\n",
      "using 55 questions predicting diagnosis...\n"
     ]
    },
    {
     "name": "stderr",
     "output_type": "stream",
     "text": [
      "100%|██████████| 132448/132448 [05:45<00:00, 383.54it/s]\n",
      "100%|██████████| 132448/132448 [00:01<00:00, 80911.72it/s]\n"
     ]
    },
    {
     "name": "stdout",
     "output_type": "stream",
     "text": [
      "validating...\n",
      "using 60 questions predicting diagnosis...\n"
     ]
    },
    {
     "name": "stderr",
     "output_type": "stream",
     "text": [
      "100%|██████████| 132448/132448 [05:29<00:00, 402.55it/s]\n",
      "100%|██████████| 132448/132448 [00:01<00:00, 83943.29it/s]\n"
     ]
    },
    {
     "name": "stdout",
     "output_type": "stream",
     "text": [
      "validating...\n",
      "using 65 questions predicting diagnosis...\n"
     ]
    },
    {
     "name": "stderr",
     "output_type": "stream",
     "text": [
      "100%|██████████| 132448/132448 [05:16<00:00, 418.99it/s]\n",
      "100%|██████████| 132448/132448 [00:01<00:00, 89816.91it/s] \n"
     ]
    },
    {
     "name": "stdout",
     "output_type": "stream",
     "text": [
      "validating...\n",
      "using 70 questions predicting diagnosis...\n"
     ]
    },
    {
     "name": "stderr",
     "output_type": "stream",
     "text": [
      "100%|██████████| 132448/132448 [05:23<00:00, 408.93it/s]\n",
      "100%|██████████| 132448/132448 [00:01<00:00, 95682.36it/s] \n"
     ]
    },
    {
     "name": "stdout",
     "output_type": "stream",
     "text": [
      "validating...\n",
      "using 75 questions predicting diagnosis...\n"
     ]
    },
    {
     "name": "stderr",
     "output_type": "stream",
     "text": [
      "100%|██████████| 132448/132448 [05:32<00:00, 397.81it/s]\n",
      "100%|██████████| 132448/132448 [00:01<00:00, 81138.67it/s]\n"
     ]
    },
    {
     "name": "stdout",
     "output_type": "stream",
     "text": [
      "validating...\n",
      "using 80 questions predicting diagnosis...\n"
     ]
    },
    {
     "name": "stderr",
     "output_type": "stream",
     "text": [
      "100%|██████████| 132448/132448 [05:24<00:00, 408.27it/s]\n",
      "100%|██████████| 132448/132448 [00:01<00:00, 88213.07it/s] \n"
     ]
    },
    {
     "name": "stdout",
     "output_type": "stream",
     "text": [
      "validating...\n",
      "using 85 questions predicting diagnosis...\n"
     ]
    },
    {
     "name": "stderr",
     "output_type": "stream",
     "text": [
      "100%|██████████| 132448/132448 [06:03<00:00, 363.92it/s]\n",
      "100%|██████████| 132448/132448 [00:01<00:00, 74977.87it/s]\n"
     ]
    },
    {
     "name": "stdout",
     "output_type": "stream",
     "text": [
      "validating...\n",
      "using 90 questions predicting diagnosis...\n"
     ]
    },
    {
     "name": "stderr",
     "output_type": "stream",
     "text": [
      "100%|██████████| 132448/132448 [07:50<00:00, 281.31it/s]\n",
      "100%|██████████| 132448/132448 [00:02<00:00, 64929.27it/s]\n"
     ]
    },
    {
     "name": "stdout",
     "output_type": "stream",
     "text": [
      "validating...\n",
      "using 95 questions predicting diagnosis...\n"
     ]
    },
    {
     "name": "stderr",
     "output_type": "stream",
     "text": [
      "100%|██████████| 132448/132448 [08:51<00:00, 249.23it/s]\n",
      "100%|██████████| 132448/132448 [00:02<00:00, 51163.60it/s]\n"
     ]
    },
    {
     "name": "stdout",
     "output_type": "stream",
     "text": [
      "validating...\n",
      "using 100 questions predicting diagnosis...\n"
     ]
    },
    {
     "name": "stderr",
     "output_type": "stream",
     "text": [
      "100%|██████████| 132448/132448 [06:03<00:00, 363.99it/s]\n",
      "100%|██████████| 132448/132448 [00:02<00:00, 64593.64it/s]\n"
     ]
    },
    {
     "name": "stdout",
     "output_type": "stream",
     "text": [
      "validating...\n",
      "using 105 questions predicting diagnosis...\n"
     ]
    },
    {
     "name": "stderr",
     "output_type": "stream",
     "text": [
      "100%|██████████| 132448/132448 [07:07<00:00, 309.49it/s]\n",
      "100%|██████████| 132448/132448 [00:01<00:00, 92373.73it/s]\n"
     ]
    },
    {
     "name": "stdout",
     "output_type": "stream",
     "text": [
      "validating...\n",
      "using 110 questions predicting diagnosis...\n"
     ]
    },
    {
     "name": "stderr",
     "output_type": "stream",
     "text": [
      "100%|██████████| 132448/132448 [07:25<00:00, 297.16it/s]\n",
      "100%|██████████| 132448/132448 [00:02<00:00, 61299.63it/s]\n"
     ]
    },
    {
     "name": "stdout",
     "output_type": "stream",
     "text": [
      "validating...\n",
      "using 115 questions predicting diagnosis...\n"
     ]
    },
    {
     "name": "stderr",
     "output_type": "stream",
     "text": [
      "100%|██████████| 132448/132448 [08:00<00:00, 275.79it/s]\n",
      "100%|██████████| 132448/132448 [00:02<00:00, 55377.60it/s]\n"
     ]
    },
    {
     "name": "stdout",
     "output_type": "stream",
     "text": [
      "validating...\n",
      "using 120 questions predicting diagnosis...\n"
     ]
    },
    {
     "name": "stderr",
     "output_type": "stream",
     "text": [
      "100%|██████████| 132448/132448 [08:07<00:00, 271.88it/s]\n",
      "100%|██████████| 132448/132448 [00:02<00:00, 58741.37it/s]\n"
     ]
    },
    {
     "name": "stdout",
     "output_type": "stream",
     "text": [
      "validating...\n",
      "using 125 questions predicting diagnosis...\n"
     ]
    },
    {
     "name": "stderr",
     "output_type": "stream",
     "text": [
      "100%|██████████| 132448/132448 [06:30<00:00, 339.21it/s]\n",
      "100%|██████████| 132448/132448 [00:01<00:00, 67867.17it/s]\n"
     ]
    },
    {
     "name": "stdout",
     "output_type": "stream",
     "text": [
      "validating...\n",
      "using 130 questions predicting diagnosis...\n"
     ]
    },
    {
     "name": "stderr",
     "output_type": "stream",
     "text": [
      "100%|██████████| 132448/132448 [06:35<00:00, 334.71it/s]\n",
      "100%|██████████| 132448/132448 [00:01<00:00, 68782.99it/s]\n"
     ]
    },
    {
     "name": "stdout",
     "output_type": "stream",
     "text": [
      "validating...\n",
      "using 135 questions predicting diagnosis...\n"
     ]
    },
    {
     "name": "stderr",
     "output_type": "stream",
     "text": [
      "100%|██████████| 132448/132448 [06:22<00:00, 345.86it/s]\n",
      "100%|██████████| 132448/132448 [00:01<00:00, 82186.69it/s]\n"
     ]
    },
    {
     "name": "stdout",
     "output_type": "stream",
     "text": [
      "validating...\n",
      "using 140 questions predicting diagnosis...\n"
     ]
    },
    {
     "name": "stderr",
     "output_type": "stream",
     "text": [
      "100%|██████████| 132448/132448 [05:45<00:00, 383.89it/s]\n",
      "100%|██████████| 132448/132448 [00:00<00:00, 141895.30it/s]\n"
     ]
    },
    {
     "name": "stdout",
     "output_type": "stream",
     "text": [
      "validating...\n",
      "using 145 questions predicting diagnosis...\n"
     ]
    },
    {
     "name": "stderr",
     "output_type": "stream",
     "text": [
      "100%|██████████| 132448/132448 [05:13<00:00, 422.69it/s]\n",
      "100%|██████████| 132448/132448 [00:01<00:00, 89941.46it/s]\n"
     ]
    },
    {
     "name": "stdout",
     "output_type": "stream",
     "text": [
      "validating...\n",
      "using 150 questions predicting diagnosis...\n"
     ]
    },
    {
     "name": "stderr",
     "output_type": "stream",
     "text": [
      "100%|██████████| 132448/132448 [04:59<00:00, 442.44it/s]\n",
      "100%|██████████| 132448/132448 [00:01<00:00, 97402.42it/s] \n"
     ]
    },
    {
     "name": "stdout",
     "output_type": "stream",
     "text": [
      "validating...\n",
      "using 155 questions predicting diagnosis...\n"
     ]
    },
    {
     "name": "stderr",
     "output_type": "stream",
     "text": [
      "100%|██████████| 132448/132448 [04:52<00:00, 452.39it/s]\n",
      "100%|██████████| 132448/132448 [00:01<00:00, 67182.51it/s]\n"
     ]
    },
    {
     "name": "stdout",
     "output_type": "stream",
     "text": [
      "validating...\n",
      "using 160 questions predicting diagnosis...\n"
     ]
    },
    {
     "name": "stderr",
     "output_type": "stream",
     "text": [
      "100%|██████████| 132448/132448 [05:52<00:00, 375.32it/s]\n",
      "100%|██████████| 132448/132448 [00:02<00:00, 64918.05it/s]\n"
     ]
    },
    {
     "name": "stdout",
     "output_type": "stream",
     "text": [
      "validating...\n",
      "using 165 questions predicting diagnosis...\n"
     ]
    },
    {
     "name": "stderr",
     "output_type": "stream",
     "text": [
      "100%|██████████| 132448/132448 [06:48<00:00, 323.97it/s]\n",
      "100%|██████████| 132448/132448 [00:01<00:00, 90764.06it/s] \n"
     ]
    },
    {
     "name": "stdout",
     "output_type": "stream",
     "text": [
      "validating...\n",
      "using 170 questions predicting diagnosis...\n"
     ]
    },
    {
     "name": "stderr",
     "output_type": "stream",
     "text": [
      "100%|██████████| 132448/132448 [05:35<00:00, 394.93it/s]\n",
      "100%|██████████| 132448/132448 [00:02<00:00, 44244.92it/s]\n"
     ]
    },
    {
     "name": "stdout",
     "output_type": "stream",
     "text": [
      "validating...\n",
      "using 175 questions predicting diagnosis...\n"
     ]
    },
    {
     "name": "stderr",
     "output_type": "stream",
     "text": [
      "100%|██████████| 132448/132448 [10:40<00:00, 206.76it/s]\n",
      "100%|██████████| 132448/132448 [00:00<00:00, 132469.44it/s]\n"
     ]
    },
    {
     "name": "stdout",
     "output_type": "stream",
     "text": [
      "validating...\n",
      "using 180 questions predicting diagnosis...\n"
     ]
    },
    {
     "name": "stderr",
     "output_type": "stream",
     "text": [
      "100%|██████████| 132448/132448 [08:19<00:00, 265.21it/s]\n",
      "100%|██████████| 132448/132448 [00:01<00:00, 89856.31it/s]\n"
     ]
    },
    {
     "name": "stdout",
     "output_type": "stream",
     "text": [
      "validating...\n",
      "using 185 questions predicting diagnosis...\n"
     ]
    },
    {
     "name": "stderr",
     "output_type": "stream",
     "text": [
      "100%|██████████| 132448/132448 [05:50<00:00, 378.14it/s]\n",
      "100%|██████████| 132448/132448 [00:01<00:00, 75885.02it/s]\n"
     ]
    },
    {
     "name": "stdout",
     "output_type": "stream",
     "text": [
      "validating...\n",
      "using 190 questions predicting diagnosis...\n"
     ]
    },
    {
     "name": "stderr",
     "output_type": "stream",
     "text": [
      "100%|██████████| 132448/132448 [08:13<00:00, 268.22it/s]\n",
      "100%|██████████| 132448/132448 [00:02<00:00, 49862.82it/s]\n"
     ]
    },
    {
     "name": "stdout",
     "output_type": "stream",
     "text": [
      "validating...\n",
      "using 195 questions predicting diagnosis...\n"
     ]
    },
    {
     "name": "stderr",
     "output_type": "stream",
     "text": [
      "100%|██████████| 132448/132448 [09:25<00:00, 234.14it/s]\n",
      "100%|██████████| 132448/132448 [00:02<00:00, 48767.02it/s]\n"
     ]
    },
    {
     "name": "stdout",
     "output_type": "stream",
     "text": [
      "validating...\n",
      "using 200 questions predicting diagnosis...\n"
     ]
    },
    {
     "name": "stderr",
     "output_type": "stream",
     "text": [
      "100%|██████████| 132448/132448 [05:53<00:00, 374.20it/s]\n",
      "100%|██████████| 132448/132448 [00:01<00:00, 115411.72it/s]\n"
     ]
    },
    {
     "name": "stdout",
     "output_type": "stream",
     "text": [
      "validating...\n",
      "using 205 questions predicting diagnosis...\n"
     ]
    },
    {
     "name": "stderr",
     "output_type": "stream",
     "text": [
      "100%|██████████| 132448/132448 [05:09<00:00, 428.57it/s]\n",
      "100%|██████████| 132448/132448 [00:01<00:00, 98853.85it/s] \n"
     ]
    },
    {
     "name": "stdout",
     "output_type": "stream",
     "text": [
      "validating...\n",
      "using 208 questions predicting diagnosis...\n"
     ]
    },
    {
     "name": "stderr",
     "output_type": "stream",
     "text": [
      "100%|██████████| 132448/132448 [04:49<00:00, 457.40it/s]\n",
      "100%|██████████| 132448/132448 [00:01<00:00, 98687.19it/s] \n"
     ]
    },
    {
     "name": "stdout",
     "output_type": "stream",
     "text": [
      "validating...\n",
      "Evaluating random_forest...\n",
      "using 5 questions predicting diagnosis...\n"
     ]
    },
    {
     "name": "stderr",
     "output_type": "stream",
     "text": [
      "100%|██████████| 132448/132448 [10:01<00:00, 220.35it/s]\n",
      "100%|██████████| 132448/132448 [00:02<00:00, 47251.10it/s]\n"
     ]
    },
    {
     "name": "stdout",
     "output_type": "stream",
     "text": [
      "validating...\n",
      "using 10 questions predicting diagnosis...\n"
     ]
    },
    {
     "name": "stderr",
     "output_type": "stream",
     "text": [
      "100%|██████████| 132448/132448 [09:50<00:00, 224.21it/s]\n",
      "100%|██████████| 132448/132448 [00:02<00:00, 49074.91it/s]\n"
     ]
    },
    {
     "name": "stdout",
     "output_type": "stream",
     "text": [
      "validating...\n",
      "using 15 questions predicting diagnosis...\n"
     ]
    },
    {
     "name": "stderr",
     "output_type": "stream",
     "text": [
      "100%|██████████| 132448/132448 [06:46<00:00, 325.74it/s]\n",
      "100%|██████████| 132448/132448 [00:03<00:00, 43961.08it/s]\n"
     ]
    },
    {
     "name": "stdout",
     "output_type": "stream",
     "text": [
      "validating...\n",
      "using 20 questions predicting diagnosis...\n"
     ]
    },
    {
     "name": "stderr",
     "output_type": "stream",
     "text": [
      "100%|██████████| 132448/132448 [11:15<00:00, 196.03it/s]\n",
      "100%|██████████| 132448/132448 [00:02<00:00, 44824.31it/s]\n"
     ]
    },
    {
     "name": "stdout",
     "output_type": "stream",
     "text": [
      "validating...\n",
      "using 25 questions predicting diagnosis...\n"
     ]
    },
    {
     "name": "stderr",
     "output_type": "stream",
     "text": [
      "100%|██████████| 132448/132448 [03:46<00:00, 584.90it/s]\n",
      "100%|██████████| 132448/132448 [00:01<00:00, 124194.30it/s]\n"
     ]
    },
    {
     "name": "stdout",
     "output_type": "stream",
     "text": [
      "validating...\n",
      "using 30 questions predicting diagnosis...\n"
     ]
    },
    {
     "name": "stderr",
     "output_type": "stream",
     "text": [
      "100%|██████████| 132448/132448 [03:31<00:00, 627.17it/s]\n",
      "100%|██████████| 132448/132448 [00:01<00:00, 131050.57it/s]\n"
     ]
    },
    {
     "name": "stdout",
     "output_type": "stream",
     "text": [
      "validating...\n",
      "using 35 questions predicting diagnosis...\n"
     ]
    },
    {
     "name": "stderr",
     "output_type": "stream",
     "text": [
      "100%|██████████| 132448/132448 [03:31<00:00, 626.90it/s]\n",
      "100%|██████████| 132448/132448 [00:00<00:00, 134190.30it/s]\n"
     ]
    },
    {
     "name": "stdout",
     "output_type": "stream",
     "text": [
      "validating...\n",
      "using 40 questions predicting diagnosis...\n"
     ]
    },
    {
     "name": "stderr",
     "output_type": "stream",
     "text": [
      "100%|██████████| 132448/132448 [03:29<00:00, 632.76it/s]\n",
      "100%|██████████| 132448/132448 [00:00<00:00, 137301.25it/s]\n"
     ]
    },
    {
     "name": "stdout",
     "output_type": "stream",
     "text": [
      "validating...\n",
      "using 45 questions predicting diagnosis...\n"
     ]
    },
    {
     "name": "stderr",
     "output_type": "stream",
     "text": [
      "100%|██████████| 132448/132448 [03:28<00:00, 634.00it/s]\n",
      "100%|██████████| 132448/132448 [00:00<00:00, 133161.38it/s]\n"
     ]
    },
    {
     "name": "stdout",
     "output_type": "stream",
     "text": [
      "validating...\n",
      "using 50 questions predicting diagnosis...\n"
     ]
    },
    {
     "name": "stderr",
     "output_type": "stream",
     "text": [
      "100%|██████████| 132448/132448 [03:28<00:00, 634.25it/s]\n",
      "100%|██████████| 132448/132448 [00:00<00:00, 140846.07it/s]\n"
     ]
    },
    {
     "name": "stdout",
     "output_type": "stream",
     "text": [
      "validating...\n",
      "using 55 questions predicting diagnosis...\n"
     ]
    },
    {
     "name": "stderr",
     "output_type": "stream",
     "text": [
      "100%|██████████| 132448/132448 [03:29<00:00, 631.26it/s]\n",
      "100%|██████████| 132448/132448 [00:00<00:00, 133910.21it/s]\n"
     ]
    },
    {
     "name": "stdout",
     "output_type": "stream",
     "text": [
      "validating...\n",
      "using 60 questions predicting diagnosis...\n"
     ]
    },
    {
     "name": "stderr",
     "output_type": "stream",
     "text": [
      "100%|██████████| 132448/132448 [03:30<00:00, 628.81it/s]\n",
      "100%|██████████| 132448/132448 [00:00<00:00, 138854.44it/s]\n"
     ]
    },
    {
     "name": "stdout",
     "output_type": "stream",
     "text": [
      "validating...\n",
      "using 65 questions predicting diagnosis...\n"
     ]
    },
    {
     "name": "stderr",
     "output_type": "stream",
     "text": [
      "100%|██████████| 132448/132448 [03:28<00:00, 634.32it/s]\n",
      "100%|██████████| 132448/132448 [00:00<00:00, 135104.21it/s]\n"
     ]
    },
    {
     "name": "stdout",
     "output_type": "stream",
     "text": [
      "validating...\n",
      "using 70 questions predicting diagnosis...\n"
     ]
    },
    {
     "name": "stderr",
     "output_type": "stream",
     "text": [
      "100%|██████████| 132448/132448 [03:27<00:00, 638.68it/s]\n",
      "100%|██████████| 132448/132448 [00:00<00:00, 138771.71it/s]\n"
     ]
    },
    {
     "name": "stdout",
     "output_type": "stream",
     "text": [
      "validating...\n",
      "using 75 questions predicting diagnosis...\n"
     ]
    },
    {
     "name": "stderr",
     "output_type": "stream",
     "text": [
      "100%|██████████| 132448/132448 [03:28<00:00, 636.07it/s]\n",
      "100%|██████████| 132448/132448 [00:00<00:00, 132858.87it/s]\n"
     ]
    },
    {
     "name": "stdout",
     "output_type": "stream",
     "text": [
      "validating...\n",
      "using 80 questions predicting diagnosis...\n"
     ]
    },
    {
     "name": "stderr",
     "output_type": "stream",
     "text": [
      "100%|██████████| 132448/132448 [07:57<00:00, 277.41it/s]\n",
      "100%|██████████| 132448/132448 [00:01<00:00, 66304.38it/s]\n"
     ]
    },
    {
     "name": "stdout",
     "output_type": "stream",
     "text": [
      "validating...\n",
      "using 85 questions predicting diagnosis...\n"
     ]
    },
    {
     "name": "stderr",
     "output_type": "stream",
     "text": [
      "100%|██████████| 132448/132448 [08:54<00:00, 247.82it/s]\n",
      "100%|██████████| 132448/132448 [00:02<00:00, 58241.49it/s]\n"
     ]
    },
    {
     "name": "stdout",
     "output_type": "stream",
     "text": [
      "validating...\n",
      "using 90 questions predicting diagnosis...\n"
     ]
    },
    {
     "name": "stderr",
     "output_type": "stream",
     "text": [
      "100%|██████████| 132448/132448 [08:19<00:00, 265.35it/s]\n",
      "100%|██████████| 132448/132448 [00:02<00:00, 63376.47it/s]\n"
     ]
    },
    {
     "name": "stdout",
     "output_type": "stream",
     "text": [
      "validating...\n",
      "using 95 questions predicting diagnosis...\n"
     ]
    },
    {
     "name": "stderr",
     "output_type": "stream",
     "text": [
      "100%|██████████| 132448/132448 [06:00<00:00, 367.09it/s]\n",
      "100%|██████████| 132448/132448 [00:01<00:00, 81990.82it/s]\n"
     ]
    },
    {
     "name": "stdout",
     "output_type": "stream",
     "text": [
      "validating...\n",
      "using 100 questions predicting diagnosis...\n"
     ]
    },
    {
     "name": "stderr",
     "output_type": "stream",
     "text": [
      "100%|██████████| 132448/132448 [05:38<00:00, 390.71it/s]\n",
      "100%|██████████| 132448/132448 [00:01<00:00, 83840.69it/s]\n"
     ]
    },
    {
     "name": "stdout",
     "output_type": "stream",
     "text": [
      "validating...\n",
      "using 105 questions predicting diagnosis...\n"
     ]
    },
    {
     "name": "stderr",
     "output_type": "stream",
     "text": [
      "100%|██████████| 132448/132448 [05:30<00:00, 400.51it/s]\n",
      "100%|██████████| 132448/132448 [00:01<00:00, 82899.61it/s]\n"
     ]
    },
    {
     "name": "stdout",
     "output_type": "stream",
     "text": [
      "validating...\n",
      "using 110 questions predicting diagnosis...\n"
     ]
    },
    {
     "name": "stderr",
     "output_type": "stream",
     "text": [
      "100%|██████████| 132448/132448 [07:49<00:00, 282.14it/s]\n",
      "100%|██████████| 132448/132448 [00:02<00:00, 53073.78it/s]\n"
     ]
    },
    {
     "name": "stdout",
     "output_type": "stream",
     "text": [
      "validating...\n",
      "using 115 questions predicting diagnosis...\n"
     ]
    },
    {
     "name": "stderr",
     "output_type": "stream",
     "text": [
      "100%|██████████| 132448/132448 [08:41<00:00, 253.90it/s]\n",
      "100%|██████████| 132448/132448 [00:02<00:00, 52828.75it/s]\n"
     ]
    },
    {
     "name": "stdout",
     "output_type": "stream",
     "text": [
      "validating...\n",
      "using 120 questions predicting diagnosis...\n"
     ]
    },
    {
     "name": "stderr",
     "output_type": "stream",
     "text": [
      "100%|██████████| 132448/132448 [09:17<00:00, 237.52it/s]\n",
      "100%|██████████| 132448/132448 [00:02<00:00, 57513.57it/s]\n"
     ]
    },
    {
     "name": "stdout",
     "output_type": "stream",
     "text": [
      "validating...\n",
      "using 125 questions predicting diagnosis...\n"
     ]
    },
    {
     "name": "stderr",
     "output_type": "stream",
     "text": [
      "100%|██████████| 132448/132448 [08:26<00:00, 261.55it/s]\n",
      "100%|██████████| 132448/132448 [00:02<00:00, 54208.40it/s]\n"
     ]
    },
    {
     "name": "stdout",
     "output_type": "stream",
     "text": [
      "validating...\n",
      "using 130 questions predicting diagnosis...\n"
     ]
    },
    {
     "name": "stderr",
     "output_type": "stream",
     "text": [
      "100%|██████████| 132448/132448 [09:19<00:00, 236.75it/s]\n",
      "100%|██████████| 132448/132448 [00:02<00:00, 55299.38it/s]\n"
     ]
    },
    {
     "name": "stdout",
     "output_type": "stream",
     "text": [
      "validating...\n",
      "using 135 questions predicting diagnosis...\n"
     ]
    },
    {
     "name": "stderr",
     "output_type": "stream",
     "text": [
      "100%|██████████| 132448/132448 [09:03<00:00, 243.84it/s]\n",
      "100%|██████████| 132448/132448 [00:02<00:00, 58782.17it/s]\n"
     ]
    },
    {
     "name": "stdout",
     "output_type": "stream",
     "text": [
      "validating...\n",
      "using 140 questions predicting diagnosis...\n"
     ]
    },
    {
     "name": "stderr",
     "output_type": "stream",
     "text": [
      "100%|██████████| 132448/132448 [08:08<00:00, 270.91it/s]\n",
      "100%|██████████| 132448/132448 [00:01<00:00, 69401.85it/s]\n"
     ]
    },
    {
     "name": "stdout",
     "output_type": "stream",
     "text": [
      "validating...\n",
      "using 145 questions predicting diagnosis...\n"
     ]
    },
    {
     "name": "stderr",
     "output_type": "stream",
     "text": [
      "100%|██████████| 132448/132448 [06:24<00:00, 344.25it/s]\n",
      "100%|██████████| 132448/132448 [00:01<00:00, 79503.31it/s]\n"
     ]
    },
    {
     "name": "stdout",
     "output_type": "stream",
     "text": [
      "validating...\n",
      "using 150 questions predicting diagnosis...\n"
     ]
    },
    {
     "name": "stderr",
     "output_type": "stream",
     "text": [
      "100%|██████████| 132448/132448 [06:33<00:00, 336.66it/s]\n",
      "100%|██████████| 132448/132448 [00:01<00:00, 76187.23it/s]\n"
     ]
    },
    {
     "name": "stdout",
     "output_type": "stream",
     "text": [
      "validating...\n",
      "using 155 questions predicting diagnosis...\n"
     ]
    },
    {
     "name": "stderr",
     "output_type": "stream",
     "text": [
      "100%|██████████| 132448/132448 [06:42<00:00, 328.86it/s]\n",
      "100%|██████████| 132448/132448 [00:02<00:00, 63878.45it/s]\n"
     ]
    },
    {
     "name": "stdout",
     "output_type": "stream",
     "text": [
      "validating...\n",
      "using 160 questions predicting diagnosis...\n"
     ]
    },
    {
     "name": "stderr",
     "output_type": "stream",
     "text": [
      "100%|██████████| 132448/132448 [07:38<00:00, 288.84it/s]\n",
      "100%|██████████| 132448/132448 [00:01<00:00, 84050.03it/s]\n"
     ]
    },
    {
     "name": "stdout",
     "output_type": "stream",
     "text": [
      "validating...\n",
      "using 165 questions predicting diagnosis...\n"
     ]
    },
    {
     "name": "stderr",
     "output_type": "stream",
     "text": [
      "100%|██████████| 132448/132448 [05:16<00:00, 417.94it/s]\n",
      "100%|██████████| 132448/132448 [00:01<00:00, 88491.19it/s]\n"
     ]
    },
    {
     "name": "stdout",
     "output_type": "stream",
     "text": [
      "validating...\n",
      "using 170 questions predicting diagnosis...\n"
     ]
    },
    {
     "name": "stderr",
     "output_type": "stream",
     "text": [
      "100%|██████████| 132448/132448 [05:17<00:00, 417.26it/s]\n",
      "100%|██████████| 132448/132448 [00:01<00:00, 77789.33it/s]\n"
     ]
    },
    {
     "name": "stdout",
     "output_type": "stream",
     "text": [
      "validating...\n",
      "using 175 questions predicting diagnosis...\n"
     ]
    },
    {
     "name": "stderr",
     "output_type": "stream",
     "text": [
      "100%|██████████| 132448/132448 [04:25<00:00, 499.19it/s]\n",
      "100%|██████████| 132448/132448 [00:01<00:00, 101954.86it/s]\n"
     ]
    },
    {
     "name": "stdout",
     "output_type": "stream",
     "text": [
      "validating...\n",
      "using 180 questions predicting diagnosis...\n"
     ]
    },
    {
     "name": "stderr",
     "output_type": "stream",
     "text": [
      "100%|██████████| 132448/132448 [04:52<00:00, 453.52it/s]\n",
      "100%|██████████| 132448/132448 [00:01<00:00, 90553.15it/s]\n"
     ]
    },
    {
     "name": "stdout",
     "output_type": "stream",
     "text": [
      "validating...\n",
      "using 185 questions predicting diagnosis...\n"
     ]
    },
    {
     "name": "stderr",
     "output_type": "stream",
     "text": [
      "100%|██████████| 132448/132448 [05:05<00:00, 433.77it/s]\n",
      "100%|██████████| 132448/132448 [00:01<00:00, 92047.50it/s] \n"
     ]
    },
    {
     "name": "stdout",
     "output_type": "stream",
     "text": [
      "validating...\n",
      "using 190 questions predicting diagnosis...\n"
     ]
    },
    {
     "name": "stderr",
     "output_type": "stream",
     "text": [
      "100%|██████████| 132448/132448 [05:00<00:00, 441.34it/s]\n",
      "100%|██████████| 132448/132448 [00:01<00:00, 98357.04it/s] \n"
     ]
    },
    {
     "name": "stdout",
     "output_type": "stream",
     "text": [
      "validating...\n",
      "using 195 questions predicting diagnosis...\n"
     ]
    },
    {
     "name": "stderr",
     "output_type": "stream",
     "text": [
      "100%|██████████| 132448/132448 [08:56<00:00, 246.81it/s]\n",
      "100%|██████████| 132448/132448 [00:02<00:00, 57949.13it/s]\n"
     ]
    },
    {
     "name": "stdout",
     "output_type": "stream",
     "text": [
      "validating...\n",
      "using 200 questions predicting diagnosis...\n"
     ]
    },
    {
     "name": "stderr",
     "output_type": "stream",
     "text": [
      "100%|██████████| 132448/132448 [09:04<00:00, 243.13it/s]\n",
      "100%|██████████| 132448/132448 [00:01<00:00, 67130.51it/s]\n"
     ]
    },
    {
     "name": "stdout",
     "output_type": "stream",
     "text": [
      "validating...\n",
      "using 205 questions predicting diagnosis...\n"
     ]
    },
    {
     "name": "stderr",
     "output_type": "stream",
     "text": [
      "100%|██████████| 132448/132448 [11:28<00:00, 192.40it/s]\n",
      "100%|██████████| 132448/132448 [00:03<00:00, 42362.78it/s]\n"
     ]
    },
    {
     "name": "stdout",
     "output_type": "stream",
     "text": [
      "validating...\n",
      "using 208 questions predicting diagnosis...\n"
     ]
    },
    {
     "name": "stderr",
     "output_type": "stream",
     "text": [
      "100%|██████████| 132448/132448 [11:30<00:00, 191.81it/s]\n",
      "100%|██████████| 132448/132448 [00:03<00:00, 42581.61it/s]\n"
     ]
    },
    {
     "name": "stdout",
     "output_type": "stream",
     "text": [
      "validating...\n",
      "Evaluating gradient_boost...\n",
      "using 5 questions predicting diagnosis...\n"
     ]
    },
    {
     "name": "stderr",
     "output_type": "stream",
     "text": [
      "100%|██████████| 132448/132448 [11:46<00:00, 187.50it/s]\n",
      "100%|██████████| 132448/132448 [00:02<00:00, 44448.88it/s]\n"
     ]
    },
    {
     "name": "stdout",
     "output_type": "stream",
     "text": [
      "validating...\n",
      "using 10 questions predicting diagnosis...\n"
     ]
    },
    {
     "name": "stderr",
     "output_type": "stream",
     "text": [
      "100%|██████████| 132448/132448 [12:07<00:00, 182.18it/s]\n",
      "100%|██████████| 132448/132448 [00:03<00:00, 43659.50it/s]\n"
     ]
    },
    {
     "name": "stdout",
     "output_type": "stream",
     "text": [
      "validating...\n",
      "using 15 questions predicting diagnosis...\n"
     ]
    },
    {
     "name": "stderr",
     "output_type": "stream",
     "text": [
      "100%|██████████| 132448/132448 [12:32<00:00, 175.95it/s]\n",
      "100%|██████████| 132448/132448 [00:03<00:00, 42650.28it/s]\n"
     ]
    },
    {
     "name": "stdout",
     "output_type": "stream",
     "text": [
      "validating...\n",
      "using 20 questions predicting diagnosis...\n"
     ]
    },
    {
     "name": "stderr",
     "output_type": "stream",
     "text": [
      "100%|██████████| 132448/132448 [11:55<00:00, 185.22it/s]\n",
      "100%|██████████| 132448/132448 [00:03<00:00, 43626.93it/s]\n"
     ]
    },
    {
     "name": "stdout",
     "output_type": "stream",
     "text": [
      "validating...\n",
      "using 25 questions predicting diagnosis...\n"
     ]
    },
    {
     "name": "stderr",
     "output_type": "stream",
     "text": [
      "100%|██████████| 132448/132448 [06:34<00:00, 336.11it/s]\n",
      "100%|██████████| 132448/132448 [00:01<00:00, 125533.62it/s]\n"
     ]
    },
    {
     "name": "stdout",
     "output_type": "stream",
     "text": [
      "validating...\n",
      "using 30 questions predicting diagnosis...\n"
     ]
    },
    {
     "name": "stderr",
     "output_type": "stream",
     "text": [
      "100%|██████████| 132448/132448 [05:04<00:00, 435.45it/s]\n",
      "100%|██████████| 132448/132448 [00:01<00:00, 127125.16it/s]\n"
     ]
    },
    {
     "name": "stdout",
     "output_type": "stream",
     "text": [
      "validating...\n",
      "using 35 questions predicting diagnosis...\n"
     ]
    },
    {
     "name": "stderr",
     "output_type": "stream",
     "text": [
      "100%|██████████| 132448/132448 [03:57<00:00, 556.82it/s]\n",
      "100%|██████████| 132448/132448 [00:01<00:00, 124830.78it/s]\n"
     ]
    },
    {
     "name": "stdout",
     "output_type": "stream",
     "text": [
      "validating...\n",
      "using 40 questions predicting diagnosis...\n"
     ]
    },
    {
     "name": "stderr",
     "output_type": "stream",
     "text": [
      "100%|██████████| 132448/132448 [03:56<00:00, 560.96it/s]\n",
      "100%|██████████| 132448/132448 [00:01<00:00, 119147.05it/s]\n"
     ]
    },
    {
     "name": "stdout",
     "output_type": "stream",
     "text": [
      "validating...\n",
      "using 45 questions predicting diagnosis...\n"
     ]
    },
    {
     "name": "stderr",
     "output_type": "stream",
     "text": [
      "100%|██████████| 132448/132448 [03:56<00:00, 559.88it/s]\n",
      "100%|██████████| 132448/132448 [00:01<00:00, 109879.25it/s]\n"
     ]
    },
    {
     "name": "stdout",
     "output_type": "stream",
     "text": [
      "validating...\n",
      "using 50 questions predicting diagnosis...\n"
     ]
    },
    {
     "name": "stderr",
     "output_type": "stream",
     "text": [
      "100%|██████████| 132448/132448 [03:54<00:00, 564.94it/s]\n",
      "100%|██████████| 132448/132448 [00:01<00:00, 123629.14it/s]\n"
     ]
    },
    {
     "name": "stdout",
     "output_type": "stream",
     "text": [
      "validating...\n",
      "using 55 questions predicting diagnosis...\n"
     ]
    },
    {
     "name": "stderr",
     "output_type": "stream",
     "text": [
      "100%|██████████| 132448/132448 [03:54<00:00, 564.10it/s]\n",
      "100%|██████████| 132448/132448 [00:01<00:00, 126789.33it/s]\n"
     ]
    },
    {
     "name": "stdout",
     "output_type": "stream",
     "text": [
      "validating...\n",
      "using 60 questions predicting diagnosis...\n"
     ]
    },
    {
     "name": "stderr",
     "output_type": "stream",
     "text": [
      "100%|██████████| 132448/132448 [03:54<00:00, 565.46it/s]\n",
      "100%|██████████| 132448/132448 [00:01<00:00, 121888.90it/s]\n"
     ]
    },
    {
     "name": "stdout",
     "output_type": "stream",
     "text": [
      "validating...\n",
      "using 65 questions predicting diagnosis...\n"
     ]
    },
    {
     "name": "stderr",
     "output_type": "stream",
     "text": [
      "100%|██████████| 132448/132448 [05:50<00:00, 377.57it/s]\n",
      "100%|██████████| 132448/132448 [00:03<00:00, 41596.09it/s]\n"
     ]
    },
    {
     "name": "stdout",
     "output_type": "stream",
     "text": [
      "validating...\n",
      "using 70 questions predicting diagnosis...\n"
     ]
    },
    {
     "name": "stderr",
     "output_type": "stream",
     "text": [
      "100%|██████████| 132448/132448 [12:22<00:00, 178.40it/s]\n",
      "100%|██████████| 132448/132448 [00:03<00:00, 42537.06it/s]\n"
     ]
    },
    {
     "name": "stdout",
     "output_type": "stream",
     "text": [
      "validating...\n",
      "using 75 questions predicting diagnosis...\n"
     ]
    },
    {
     "name": "stderr",
     "output_type": "stream",
     "text": [
      "100%|██████████| 132448/132448 [12:11<00:00, 181.09it/s]\n",
      "100%|██████████| 132448/132448 [00:02<00:00, 50510.96it/s]\n"
     ]
    },
    {
     "name": "stdout",
     "output_type": "stream",
     "text": [
      "validating...\n",
      "using 80 questions predicting diagnosis...\n"
     ]
    },
    {
     "name": "stderr",
     "output_type": "stream",
     "text": [
      "100%|██████████| 132448/132448 [09:26<00:00, 233.79it/s]\n",
      "100%|██████████| 132448/132448 [00:02<00:00, 47749.91it/s]\n"
     ]
    },
    {
     "name": "stdout",
     "output_type": "stream",
     "text": [
      "validating...\n",
      "using 85 questions predicting diagnosis...\n"
     ]
    },
    {
     "name": "stderr",
     "output_type": "stream",
     "text": [
      "100%|██████████| 132448/132448 [09:10<00:00, 240.54it/s]\n",
      "100%|██████████| 132448/132448 [00:02<00:00, 60678.48it/s]\n"
     ]
    },
    {
     "name": "stdout",
     "output_type": "stream",
     "text": [
      "validating...\n",
      "using 90 questions predicting diagnosis...\n"
     ]
    },
    {
     "name": "stderr",
     "output_type": "stream",
     "text": [
      "100%|██████████| 132448/132448 [09:08<00:00, 241.63it/s]\n",
      "100%|██████████| 132448/132448 [00:02<00:00, 64497.61it/s]\n"
     ]
    },
    {
     "name": "stdout",
     "output_type": "stream",
     "text": [
      "validating...\n",
      "using 95 questions predicting diagnosis...\n"
     ]
    },
    {
     "name": "stderr",
     "output_type": "stream",
     "text": [
      "100%|██████████| 132448/132448 [08:50<00:00, 249.55it/s]\n",
      "100%|██████████| 132448/132448 [00:02<00:00, 59098.38it/s]\n"
     ]
    },
    {
     "name": "stdout",
     "output_type": "stream",
     "text": [
      "validating...\n",
      "using 100 questions predicting diagnosis...\n"
     ]
    },
    {
     "name": "stderr",
     "output_type": "stream",
     "text": [
      "100%|██████████| 132448/132448 [06:24<00:00, 344.57it/s]\n",
      "100%|██████████| 132448/132448 [00:01<00:00, 91576.31it/s]\n"
     ]
    },
    {
     "name": "stdout",
     "output_type": "stream",
     "text": [
      "validating...\n",
      "using 105 questions predicting diagnosis...\n"
     ]
    },
    {
     "name": "stderr",
     "output_type": "stream",
     "text": [
      "100%|██████████| 132448/132448 [04:52<00:00, 453.00it/s]\n",
      "100%|██████████| 132448/132448 [00:01<00:00, 128146.66it/s]\n"
     ]
    },
    {
     "name": "stdout",
     "output_type": "stream",
     "text": [
      "validating...\n",
      "using 110 questions predicting diagnosis...\n"
     ]
    },
    {
     "name": "stderr",
     "output_type": "stream",
     "text": [
      "100%|██████████| 132448/132448 [03:40<00:00, 599.41it/s]\n",
      "100%|██████████| 132448/132448 [00:01<00:00, 128895.22it/s]\n"
     ]
    },
    {
     "name": "stdout",
     "output_type": "stream",
     "text": [
      "validating...\n",
      "using 115 questions predicting diagnosis...\n"
     ]
    },
    {
     "name": "stderr",
     "output_type": "stream",
     "text": [
      "100%|██████████| 132448/132448 [03:43<00:00, 592.81it/s]\n",
      "100%|██████████| 132448/132448 [00:00<00:00, 136441.07it/s]\n"
     ]
    },
    {
     "name": "stdout",
     "output_type": "stream",
     "text": [
      "validating...\n",
      "using 120 questions predicting diagnosis...\n"
     ]
    },
    {
     "name": "stderr",
     "output_type": "stream",
     "text": [
      "100%|██████████| 132448/132448 [03:39<00:00, 602.70it/s]\n",
      "100%|██████████| 132448/132448 [00:00<00:00, 133203.75it/s]\n"
     ]
    },
    {
     "name": "stdout",
     "output_type": "stream",
     "text": [
      "validating...\n",
      "using 125 questions predicting diagnosis...\n"
     ]
    },
    {
     "name": "stderr",
     "output_type": "stream",
     "text": [
      "100%|██████████| 132448/132448 [03:39<00:00, 603.17it/s]\n",
      "100%|██████████| 132448/132448 [00:00<00:00, 134644.24it/s]\n"
     ]
    },
    {
     "name": "stdout",
     "output_type": "stream",
     "text": [
      "validating...\n",
      "using 130 questions predicting diagnosis...\n"
     ]
    },
    {
     "name": "stderr",
     "output_type": "stream",
     "text": [
      "100%|██████████| 132448/132448 [03:39<00:00, 603.87it/s]\n",
      "100%|██████████| 132448/132448 [00:01<00:00, 130431.22it/s]\n"
     ]
    },
    {
     "name": "stdout",
     "output_type": "stream",
     "text": [
      "validating...\n",
      "using 135 questions predicting diagnosis...\n"
     ]
    },
    {
     "name": "stderr",
     "output_type": "stream",
     "text": [
      "100%|██████████| 132448/132448 [03:39<00:00, 603.55it/s]\n",
      "100%|██████████| 132448/132448 [00:01<00:00, 102468.75it/s]\n"
     ]
    },
    {
     "name": "stdout",
     "output_type": "stream",
     "text": [
      "validating...\n",
      "using 140 questions predicting diagnosis...\n"
     ]
    },
    {
     "name": "stderr",
     "output_type": "stream",
     "text": [
      "100%|██████████| 132448/132448 [10:04<00:00, 219.16it/s]\n",
      "100%|██████████| 132448/132448 [00:02<00:00, 61412.38it/s]\n"
     ]
    },
    {
     "name": "stdout",
     "output_type": "stream",
     "text": [
      "validating...\n",
      "using 145 questions predicting diagnosis...\n"
     ]
    },
    {
     "name": "stderr",
     "output_type": "stream",
     "text": [
      "100%|██████████| 132448/132448 [09:11<00:00, 240.31it/s]\n",
      "100%|██████████| 132448/132448 [00:01<00:00, 68757.21it/s]\n"
     ]
    },
    {
     "name": "stdout",
     "output_type": "stream",
     "text": [
      "validating...\n",
      "using 150 questions predicting diagnosis...\n"
     ]
    },
    {
     "name": "stderr",
     "output_type": "stream",
     "text": [
      "100%|██████████| 132448/132448 [06:10<00:00, 357.84it/s]\n",
      "100%|██████████| 132448/132448 [00:01<00:00, 84150.21it/s] \n"
     ]
    },
    {
     "name": "stdout",
     "output_type": "stream",
     "text": [
      "validating...\n",
      "using 155 questions predicting diagnosis...\n"
     ]
    },
    {
     "name": "stderr",
     "output_type": "stream",
     "text": [
      "100%|██████████| 132448/132448 [05:45<00:00, 383.60it/s]\n",
      "100%|██████████| 132448/132448 [00:01<00:00, 90037.45it/s] \n"
     ]
    },
    {
     "name": "stdout",
     "output_type": "stream",
     "text": [
      "validating...\n",
      "using 160 questions predicting diagnosis...\n"
     ]
    },
    {
     "name": "stderr",
     "output_type": "stream",
     "text": [
      "100%|██████████| 132448/132448 [05:39<00:00, 390.35it/s]\n",
      "100%|██████████| 132448/132448 [00:01<00:00, 82931.02it/s] \n"
     ]
    },
    {
     "name": "stdout",
     "output_type": "stream",
     "text": [
      "validating...\n",
      "using 165 questions predicting diagnosis...\n"
     ]
    },
    {
     "name": "stderr",
     "output_type": "stream",
     "text": [
      "100%|██████████| 132448/132448 [07:24<00:00, 297.80it/s]\n",
      "100%|██████████| 132448/132448 [00:01<00:00, 67517.64it/s]\n"
     ]
    },
    {
     "name": "stdout",
     "output_type": "stream",
     "text": [
      "validating...\n",
      "using 170 questions predicting diagnosis...\n"
     ]
    },
    {
     "name": "stderr",
     "output_type": "stream",
     "text": [
      "100%|██████████| 132448/132448 [06:34<00:00, 336.07it/s]\n",
      "100%|██████████| 132448/132448 [00:01<00:00, 75019.51it/s]\n"
     ]
    },
    {
     "name": "stdout",
     "output_type": "stream",
     "text": [
      "validating...\n",
      "using 175 questions predicting diagnosis...\n"
     ]
    },
    {
     "name": "stderr",
     "output_type": "stream",
     "text": [
      "100%|██████████| 132448/132448 [05:40<00:00, 389.06it/s]\n",
      "100%|██████████| 132448/132448 [00:01<00:00, 85523.65it/s]\n"
     ]
    },
    {
     "name": "stdout",
     "output_type": "stream",
     "text": [
      "validating...\n",
      "using 180 questions predicting diagnosis...\n"
     ]
    },
    {
     "name": "stderr",
     "output_type": "stream",
     "text": [
      "100%|██████████| 132448/132448 [05:35<00:00, 395.20it/s]\n",
      "100%|██████████| 132448/132448 [00:01<00:00, 86214.99it/s]\n"
     ]
    },
    {
     "name": "stdout",
     "output_type": "stream",
     "text": [
      "validating...\n",
      "using 185 questions predicting diagnosis...\n"
     ]
    },
    {
     "name": "stderr",
     "output_type": "stream",
     "text": [
      "100%|██████████| 132448/132448 [03:47<00:00, 582.68it/s]\n",
      "100%|██████████| 132448/132448 [00:00<00:00, 154589.22it/s]\n"
     ]
    },
    {
     "name": "stdout",
     "output_type": "stream",
     "text": [
      "validating...\n",
      "using 190 questions predicting diagnosis...\n"
     ]
    },
    {
     "name": "stderr",
     "output_type": "stream",
     "text": [
      "100%|██████████| 132448/132448 [03:20<00:00, 660.61it/s]\n",
      "100%|██████████| 132448/132448 [00:00<00:00, 143880.86it/s]\n"
     ]
    },
    {
     "name": "stdout",
     "output_type": "stream",
     "text": [
      "validating...\n",
      "using 195 questions predicting diagnosis...\n"
     ]
    },
    {
     "name": "stderr",
     "output_type": "stream",
     "text": [
      "100%|██████████| 132448/132448 [03:20<00:00, 659.50it/s]\n",
      "100%|██████████| 132448/132448 [00:00<00:00, 149306.08it/s]\n"
     ]
    },
    {
     "name": "stdout",
     "output_type": "stream",
     "text": [
      "validating...\n",
      "using 200 questions predicting diagnosis...\n"
     ]
    },
    {
     "name": "stderr",
     "output_type": "stream",
     "text": [
      "100%|██████████| 132448/132448 [03:33<00:00, 619.55it/s]\n",
      "100%|██████████| 132448/132448 [00:01<00:00, 85552.88it/s]\n"
     ]
    },
    {
     "name": "stdout",
     "output_type": "stream",
     "text": [
      "validating...\n",
      "using 205 questions predicting diagnosis...\n"
     ]
    },
    {
     "name": "stderr",
     "output_type": "stream",
     "text": [
      "100%|██████████| 132448/132448 [03:38<00:00, 604.83it/s]\n",
      "100%|██████████| 132448/132448 [00:01<00:00, 125741.81it/s]\n"
     ]
    },
    {
     "name": "stdout",
     "output_type": "stream",
     "text": [
      "validating...\n",
      "using 208 questions predicting diagnosis...\n"
     ]
    },
    {
     "name": "stderr",
     "output_type": "stream",
     "text": [
      "100%|██████████| 132448/132448 [06:51<00:00, 321.62it/s]\n",
      "100%|██████████| 132448/132448 [00:01<00:00, 74024.13it/s]\n"
     ]
    },
    {
     "name": "stdout",
     "output_type": "stream",
     "text": [
      "validating...\n"
     ]
    }
   ],
   "source": [
    "for model_name in model_list[\"tree-based\"]:\n",
    "    experiment(model_name)\n",
    "# 947m 50 s"
   ]
  },
  {
   "cell_type": "markdown",
   "metadata": {},
   "source": [
    "## Logistic Regression"
   ]
  },
  {
   "cell_type": "code",
   "execution_count": 22,
   "metadata": {},
   "outputs": [
    {
     "name": "stdout",
     "output_type": "stream",
     "text": [
      "Evaluating logistic_regression...\n",
      "using 5 questions predicting diagnosis...\n"
     ]
    },
    {
     "name": "stderr",
     "output_type": "stream",
     "text": [
      "100%|██████████| 132448/132448 [03:59<00:00, 552.33it/s]\n",
      "100%|██████████| 132448/132448 [00:01<00:00, 122277.84it/s]\n"
     ]
    },
    {
     "name": "stdout",
     "output_type": "stream",
     "text": [
      "validating...\n",
      "using 10 questions predicting diagnosis...\n"
     ]
    },
    {
     "name": "stderr",
     "output_type": "stream",
     "text": [
      "100%|██████████| 132448/132448 [04:05<00:00, 539.99it/s]\n",
      "100%|██████████| 132448/132448 [00:01<00:00, 126940.70it/s]\n"
     ]
    },
    {
     "name": "stdout",
     "output_type": "stream",
     "text": [
      "validating...\n",
      "using 15 questions predicting diagnosis...\n"
     ]
    },
    {
     "name": "stderr",
     "output_type": "stream",
     "text": [
      "100%|██████████| 132448/132448 [04:02<00:00, 546.55it/s]\n",
      "100%|██████████| 132448/132448 [00:01<00:00, 124725.90it/s]\n"
     ]
    },
    {
     "name": "stdout",
     "output_type": "stream",
     "text": [
      "validating...\n",
      "using 20 questions predicting diagnosis...\n"
     ]
    },
    {
     "name": "stderr",
     "output_type": "stream",
     "text": [
      "100%|██████████| 132448/132448 [04:01<00:00, 547.90it/s]\n",
      "100%|██████████| 132448/132448 [00:01<00:00, 126227.00it/s]\n"
     ]
    },
    {
     "name": "stdout",
     "output_type": "stream",
     "text": [
      "validating...\n",
      "using 25 questions predicting diagnosis...\n"
     ]
    },
    {
     "name": "stderr",
     "output_type": "stream",
     "text": [
      "100%|██████████| 132448/132448 [04:01<00:00, 548.35it/s]\n",
      "100%|██████████| 132448/132448 [00:01<00:00, 126290.33it/s]\n"
     ]
    },
    {
     "name": "stdout",
     "output_type": "stream",
     "text": [
      "validating...\n",
      "using 30 questions predicting diagnosis...\n"
     ]
    },
    {
     "name": "stderr",
     "output_type": "stream",
     "text": [
      "100%|██████████| 132448/132448 [04:02<00:00, 546.63it/s]\n",
      "100%|██████████| 132448/132448 [00:01<00:00, 120828.19it/s]\n"
     ]
    },
    {
     "name": "stdout",
     "output_type": "stream",
     "text": [
      "validating...\n",
      "using 35 questions predicting diagnosis...\n"
     ]
    },
    {
     "name": "stderr",
     "output_type": "stream",
     "text": [
      "100%|██████████| 132448/132448 [04:02<00:00, 546.52it/s]\n",
      "100%|██████████| 132448/132448 [00:01<00:00, 123109.58it/s]\n"
     ]
    },
    {
     "name": "stdout",
     "output_type": "stream",
     "text": [
      "validating...\n",
      "using 40 questions predicting diagnosis...\n"
     ]
    },
    {
     "name": "stderr",
     "output_type": "stream",
     "text": [
      "100%|██████████| 132448/132448 [04:01<00:00, 547.65it/s]\n",
      "100%|██████████| 132448/132448 [00:01<00:00, 116967.89it/s]\n"
     ]
    },
    {
     "name": "stdout",
     "output_type": "stream",
     "text": [
      "validating...\n",
      "using 45 questions predicting diagnosis...\n"
     ]
    },
    {
     "name": "stderr",
     "output_type": "stream",
     "text": [
      "100%|██████████| 132448/132448 [04:03<00:00, 543.75it/s]\n",
      "100%|██████████| 132448/132448 [00:01<00:00, 124282.01it/s]\n"
     ]
    },
    {
     "name": "stdout",
     "output_type": "stream",
     "text": [
      "validating...\n",
      "using 50 questions predicting diagnosis...\n"
     ]
    },
    {
     "name": "stderr",
     "output_type": "stream",
     "text": [
      "100%|██████████| 132448/132448 [04:01<00:00, 548.82it/s]\n",
      "100%|██████████| 132448/132448 [00:01<00:00, 123966.90it/s]\n"
     ]
    },
    {
     "name": "stdout",
     "output_type": "stream",
     "text": [
      "validating...\n",
      "using 55 questions predicting diagnosis...\n"
     ]
    },
    {
     "name": "stderr",
     "output_type": "stream",
     "text": [
      "100%|██████████| 132448/132448 [04:01<00:00, 549.34it/s]\n",
      "100%|██████████| 132448/132448 [00:01<00:00, 124023.06it/s]\n"
     ]
    },
    {
     "name": "stdout",
     "output_type": "stream",
     "text": [
      "validating...\n",
      "using 60 questions predicting diagnosis...\n"
     ]
    },
    {
     "name": "stderr",
     "output_type": "stream",
     "text": [
      "100%|██████████| 132448/132448 [04:01<00:00, 547.90it/s]\n",
      "100%|██████████| 132448/132448 [00:01<00:00, 125953.46it/s]\n"
     ]
    },
    {
     "name": "stdout",
     "output_type": "stream",
     "text": [
      "validating...\n",
      "using 65 questions predicting diagnosis...\n"
     ]
    },
    {
     "name": "stderr",
     "output_type": "stream",
     "text": [
      "100%|██████████| 132448/132448 [04:02<00:00, 546.89it/s]\n",
      "100%|██████████| 132448/132448 [00:01<00:00, 125853.76it/s]\n"
     ]
    },
    {
     "name": "stdout",
     "output_type": "stream",
     "text": [
      "validating...\n",
      "using 70 questions predicting diagnosis...\n"
     ]
    },
    {
     "name": "stderr",
     "output_type": "stream",
     "text": [
      "100%|██████████| 132448/132448 [04:02<00:00, 547.11it/s]\n",
      "100%|██████████| 132448/132448 [00:01<00:00, 126238.56it/s]\n"
     ]
    },
    {
     "name": "stdout",
     "output_type": "stream",
     "text": [
      "validating...\n",
      "using 75 questions predicting diagnosis...\n"
     ]
    },
    {
     "name": "stderr",
     "output_type": "stream",
     "text": [
      "100%|██████████| 132448/132448 [04:01<00:00, 548.40it/s]\n",
      "100%|██████████| 132448/132448 [00:01<00:00, 124801.45it/s]\n"
     ]
    },
    {
     "name": "stdout",
     "output_type": "stream",
     "text": [
      "validating...\n",
      "using 80 questions predicting diagnosis...\n"
     ]
    },
    {
     "name": "stderr",
     "output_type": "stream",
     "text": [
      "100%|██████████| 132448/132448 [04:02<00:00, 545.57it/s]\n",
      "100%|██████████| 132448/132448 [00:01<00:00, 122434.87it/s]\n"
     ]
    },
    {
     "name": "stdout",
     "output_type": "stream",
     "text": [
      "validating...\n",
      "using 85 questions predicting diagnosis...\n"
     ]
    },
    {
     "name": "stderr",
     "output_type": "stream",
     "text": [
      "100%|██████████| 132448/132448 [04:01<00:00, 548.85it/s]\n",
      "100%|██████████| 132448/132448 [00:01<00:00, 114095.72it/s]\n"
     ]
    },
    {
     "name": "stdout",
     "output_type": "stream",
     "text": [
      "validating...\n",
      "using 90 questions predicting diagnosis...\n"
     ]
    },
    {
     "name": "stderr",
     "output_type": "stream",
     "text": [
      "100%|██████████| 132448/132448 [04:02<00:00, 546.01it/s]\n",
      "100%|██████████| 132448/132448 [00:01<00:00, 124670.90it/s]\n"
     ]
    },
    {
     "name": "stdout",
     "output_type": "stream",
     "text": [
      "validating...\n",
      "using 95 questions predicting diagnosis...\n"
     ]
    },
    {
     "name": "stderr",
     "output_type": "stream",
     "text": [
      "100%|██████████| 132448/132448 [04:02<00:00, 546.52it/s]\n",
      "100%|██████████| 132448/132448 [00:01<00:00, 126754.12it/s]\n"
     ]
    },
    {
     "name": "stdout",
     "output_type": "stream",
     "text": [
      "validating...\n",
      "using 100 questions predicting diagnosis...\n"
     ]
    },
    {
     "name": "stderr",
     "output_type": "stream",
     "text": [
      "100%|██████████| 132448/132448 [04:02<00:00, 545.48it/s]\n",
      "100%|██████████| 132448/132448 [00:01<00:00, 122722.30it/s]\n"
     ]
    },
    {
     "name": "stdout",
     "output_type": "stream",
     "text": [
      "validating...\n",
      "using 105 questions predicting diagnosis...\n"
     ]
    },
    {
     "name": "stderr",
     "output_type": "stream",
     "text": [
      "100%|██████████| 132448/132448 [04:00<00:00, 551.10it/s]\n",
      "100%|██████████| 132448/132448 [00:01<00:00, 128912.81it/s]\n"
     ]
    },
    {
     "name": "stdout",
     "output_type": "stream",
     "text": [
      "validating...\n",
      "using 110 questions predicting diagnosis...\n"
     ]
    },
    {
     "name": "stderr",
     "output_type": "stream",
     "text": [
      "100%|██████████| 132448/132448 [04:00<00:00, 550.84it/s]\n",
      "100%|██████████| 132448/132448 [00:01<00:00, 122187.88it/s]\n"
     ]
    },
    {
     "name": "stdout",
     "output_type": "stream",
     "text": [
      "validating...\n",
      "using 115 questions predicting diagnosis...\n"
     ]
    },
    {
     "name": "stderr",
     "output_type": "stream",
     "text": [
      "100%|██████████| 132448/132448 [03:59<00:00, 552.43it/s]\n",
      "100%|██████████| 132448/132448 [00:01<00:00, 124052.30it/s]\n"
     ]
    },
    {
     "name": "stdout",
     "output_type": "stream",
     "text": [
      "validating...\n",
      "using 120 questions predicting diagnosis...\n"
     ]
    },
    {
     "name": "stderr",
     "output_type": "stream",
     "text": [
      "100%|██████████| 132448/132448 [03:59<00:00, 553.55it/s]\n",
      "100%|██████████| 132448/132448 [00:01<00:00, 122990.77it/s]\n"
     ]
    },
    {
     "name": "stdout",
     "output_type": "stream",
     "text": [
      "validating...\n",
      "using 125 questions predicting diagnosis...\n"
     ]
    },
    {
     "name": "stderr",
     "output_type": "stream",
     "text": [
      "100%|██████████| 132448/132448 [04:00<00:00, 551.86it/s]\n",
      "100%|██████████| 132448/132448 [00:01<00:00, 123938.55it/s]\n"
     ]
    },
    {
     "name": "stdout",
     "output_type": "stream",
     "text": [
      "validating...\n",
      "using 130 questions predicting diagnosis...\n"
     ]
    },
    {
     "name": "stderr",
     "output_type": "stream",
     "text": [
      "100%|██████████| 132448/132448 [03:58<00:00, 556.18it/s]\n",
      "100%|██████████| 132448/132448 [00:01<00:00, 126263.69it/s]\n"
     ]
    },
    {
     "name": "stdout",
     "output_type": "stream",
     "text": [
      "validating...\n",
      "using 135 questions predicting diagnosis...\n"
     ]
    },
    {
     "name": "stderr",
     "output_type": "stream",
     "text": [
      "100%|██████████| 132448/132448 [03:58<00:00, 556.00it/s]\n",
      "100%|██████████| 132448/132448 [00:01<00:00, 120446.13it/s]\n"
     ]
    },
    {
     "name": "stdout",
     "output_type": "stream",
     "text": [
      "validating...\n",
      "using 140 questions predicting diagnosis...\n"
     ]
    },
    {
     "name": "stderr",
     "output_type": "stream",
     "text": [
      "100%|██████████| 132448/132448 [04:02<00:00, 546.63it/s]\n",
      "100%|██████████| 132448/132448 [00:01<00:00, 121584.91it/s]\n"
     ]
    },
    {
     "name": "stdout",
     "output_type": "stream",
     "text": [
      "validating...\n",
      "using 145 questions predicting diagnosis...\n"
     ]
    },
    {
     "name": "stderr",
     "output_type": "stream",
     "text": [
      "100%|██████████| 132448/132448 [04:02<00:00, 547.19it/s]\n",
      "100%|██████████| 132448/132448 [00:01<00:00, 122537.71it/s]\n"
     ]
    },
    {
     "name": "stdout",
     "output_type": "stream",
     "text": [
      "validating...\n",
      "using 150 questions predicting diagnosis...\n"
     ]
    },
    {
     "name": "stderr",
     "output_type": "stream",
     "text": [
      "100%|██████████| 132448/132448 [04:00<00:00, 550.22it/s]\n",
      "100%|██████████| 132448/132448 [00:01<00:00, 116980.80it/s]\n"
     ]
    },
    {
     "name": "stdout",
     "output_type": "stream",
     "text": [
      "validating...\n",
      "using 155 questions predicting diagnosis...\n"
     ]
    },
    {
     "name": "stderr",
     "output_type": "stream",
     "text": [
      "100%|██████████| 132448/132448 [04:01<00:00, 548.89it/s]\n",
      "100%|██████████| 132448/132448 [00:01<00:00, 117795.99it/s]\n"
     ]
    },
    {
     "name": "stdout",
     "output_type": "stream",
     "text": [
      "validating...\n",
      "using 160 questions predicting diagnosis...\n"
     ]
    },
    {
     "name": "stderr",
     "output_type": "stream",
     "text": [
      "100%|██████████| 132448/132448 [03:59<00:00, 553.55it/s]\n",
      "100%|██████████| 132448/132448 [00:01<00:00, 126335.83it/s]\n"
     ]
    },
    {
     "name": "stdout",
     "output_type": "stream",
     "text": [
      "validating...\n",
      "using 165 questions predicting diagnosis...\n"
     ]
    },
    {
     "name": "stderr",
     "output_type": "stream",
     "text": [
      "100%|██████████| 132448/132448 [03:59<00:00, 551.90it/s]\n",
      "100%|██████████| 132448/132448 [00:01<00:00, 124255.05it/s]\n"
     ]
    },
    {
     "name": "stdout",
     "output_type": "stream",
     "text": [
      "validating...\n",
      "using 170 questions predicting diagnosis...\n"
     ]
    },
    {
     "name": "stderr",
     "output_type": "stream",
     "text": [
      "100%|██████████| 132448/132448 [04:00<00:00, 551.10it/s]\n",
      "100%|██████████| 132448/132448 [00:01<00:00, 122405.41it/s]\n"
     ]
    },
    {
     "name": "stdout",
     "output_type": "stream",
     "text": [
      "validating...\n",
      "using 175 questions predicting diagnosis...\n"
     ]
    },
    {
     "name": "stderr",
     "output_type": "stream",
     "text": [
      "100%|██████████| 132448/132448 [04:01<00:00, 549.24it/s]\n",
      "100%|██████████| 132448/132448 [00:01<00:00, 119439.83it/s]\n"
     ]
    },
    {
     "name": "stdout",
     "output_type": "stream",
     "text": [
      "validating...\n",
      "using 180 questions predicting diagnosis...\n"
     ]
    },
    {
     "name": "stderr",
     "output_type": "stream",
     "text": [
      "100%|██████████| 132448/132448 [04:00<00:00, 550.65it/s]\n",
      "100%|██████████| 132448/132448 [00:01<00:00, 125792.43it/s]\n"
     ]
    },
    {
     "name": "stdout",
     "output_type": "stream",
     "text": [
      "validating...\n",
      "using 185 questions predicting diagnosis...\n"
     ]
    },
    {
     "name": "stderr",
     "output_type": "stream",
     "text": [
      "100%|██████████| 132448/132448 [03:58<00:00, 554.75it/s]\n",
      "100%|██████████| 132448/132448 [00:01<00:00, 122921.89it/s]\n"
     ]
    },
    {
     "name": "stdout",
     "output_type": "stream",
     "text": [
      "validating...\n",
      "using 190 questions predicting diagnosis...\n"
     ]
    },
    {
     "name": "stderr",
     "output_type": "stream",
     "text": [
      "100%|██████████| 132448/132448 [03:58<00:00, 554.52it/s]\n",
      "100%|██████████| 132448/132448 [00:01<00:00, 125621.02it/s]\n"
     ]
    },
    {
     "name": "stdout",
     "output_type": "stream",
     "text": [
      "validating...\n",
      "using 195 questions predicting diagnosis...\n"
     ]
    },
    {
     "name": "stderr",
     "output_type": "stream",
     "text": [
      "100%|██████████| 132448/132448 [03:59<00:00, 553.36it/s]\n",
      "100%|██████████| 132448/132448 [00:01<00:00, 124739.65it/s]\n"
     ]
    },
    {
     "name": "stdout",
     "output_type": "stream",
     "text": [
      "validating...\n",
      "using 200 questions predicting diagnosis...\n"
     ]
    },
    {
     "name": "stderr",
     "output_type": "stream",
     "text": [
      "100%|██████████| 132448/132448 [04:03<00:00, 544.09it/s]\n",
      "100%|██████████| 132448/132448 [00:01<00:00, 122308.72it/s]\n"
     ]
    },
    {
     "name": "stdout",
     "output_type": "stream",
     "text": [
      "validating...\n",
      "using 205 questions predicting diagnosis...\n"
     ]
    },
    {
     "name": "stderr",
     "output_type": "stream",
     "text": [
      "100%|██████████| 132448/132448 [03:58<00:00, 555.60it/s]\n",
      "100%|██████████| 132448/132448 [00:01<00:00, 114979.03it/s]\n"
     ]
    },
    {
     "name": "stdout",
     "output_type": "stream",
     "text": [
      "validating...\n",
      "using 208 questions predicting diagnosis...\n"
     ]
    },
    {
     "name": "stderr",
     "output_type": "stream",
     "text": [
      "100%|██████████| 132448/132448 [04:02<00:00, 545.77it/s]\n",
      "100%|██████████| 132448/132448 [00:01<00:00, 116037.13it/s]\n"
     ]
    },
    {
     "name": "stdout",
     "output_type": "stream",
     "text": [
      "validating...\n"
     ]
    }
   ],
   "source": [
    "experiment(\"logistic_regression\")"
   ]
  },
  {
   "cell_type": "code",
   "execution_count": 24,
   "metadata": {},
   "outputs": [
    {
     "data": {
      "text/plain": [
       "{'decision_tree': {'n_questions_5': {False: 94080,\n",
       "   True: 38368,\n",
       "   'error_rate': 0.7103165015704277,\n",
       "   'mean_hit_rate': 0.33105369578602123,\n",
       "   'mean_hit_rate_misdiagnosed': 0.2886861233365244},\n",
       "  'n_questions_10': {False: 77696,\n",
       "   True: 54752,\n",
       "   'error_rate': 0.5866151244261899,\n",
       "   'mean_hit_rate': 0.5348788121386866,\n",
       "   'mean_hit_rate_misdiagnosed': 0.44139503255762713},\n",
       "  'n_questions_15': {True: 79010,\n",
       "   False: 53438,\n",
       "   'error_rate': 0.403464000966417,\n",
       "   'mean_hit_rate': 0.7015726661850556,\n",
       "   'mean_hit_rate_misdiagnosed': 0.5291734348047398},\n",
       "  'n_questions_20': {True: 97850,\n",
       "   False: 34598,\n",
       "   'error_rate': 0.26121949746315537,\n",
       "   'mean_hit_rate': 0.8109909153294077,\n",
       "   'mean_hit_rate_misdiagnosed': 0.5816529367222822},\n",
       "  'n_questions_25': {True: 108763,\n",
       "   False: 23685,\n",
       "   'error_rate': 0.1788248973181928,\n",
       "   'mean_hit_rate': 0.8810154199870976,\n",
       "   'mean_hit_rate_misdiagnosed': 0.6377917163772117},\n",
       "  'n_questions_30': {True: 112857,\n",
       "   False: 19591,\n",
       "   'error_rate': 0.14791465329789805,\n",
       "   'mean_hit_rate': 0.9208837285146768,\n",
       "   'mean_hit_rate_misdiagnosed': 0.6879921101322858},\n",
       "  'n_questions_35': {True: 117440,\n",
       "   False: 15008,\n",
       "   'error_rate': 0.11331239429813965,\n",
       "   'mean_hit_rate': 0.9468731355612496,\n",
       "   'mean_hit_rate_misdiagnosed': 0.7792652593971121},\n",
       "  'n_questions_40': {True: 119320,\n",
       "   False: 13128,\n",
       "   'error_rate': 0.09911814447934283,\n",
       "   'mean_hit_rate': 0.9672991290595049,\n",
       "   'mean_hit_rate_misdiagnosed': 0.8286205239479785},\n",
       "  'n_questions_45': {True: 120825,\n",
       "   False: 11623,\n",
       "   'error_rate': 0.08775519449142305,\n",
       "   'mean_hit_rate': 0.9809383707671537,\n",
       "   'mean_hit_rate_misdiagnosed': 0.87644165512616},\n",
       "  'n_questions_50': {True: 121736,\n",
       "   False: 10712,\n",
       "   'error_rate': 0.08087702343561247,\n",
       "   'mean_hit_rate': 0.9901947959174193,\n",
       "   'mean_hit_rate_misdiagnosed': 0.9108921573820752},\n",
       "  'n_questions_55': {True: 122395,\n",
       "   False: 10053,\n",
       "   'error_rate': 0.07590148586615124,\n",
       "   'mean_hit_rate': 0.9939447442967693,\n",
       "   'mean_hit_rate_misdiagnosed': 0.9380289372530494},\n",
       "  'n_questions_60': {True: 122768,\n",
       "   False: 9680,\n",
       "   'error_rate': 0.0730852863010389,\n",
       "   'mean_hit_rate': 0.9958715827096248,\n",
       "   'mean_hit_rate_misdiagnosed': 0.9569633428440246},\n",
       "  'n_questions_65': {True: 122921,\n",
       "   False: 9527,\n",
       "   'error_rate': 0.07193011597004108,\n",
       "   'mean_hit_rate': 0.9970895046681393,\n",
       "   'mean_hit_rate_misdiagnosed': 0.9639625308854867},\n",
       "  'n_questions_70': {True: 122979,\n",
       "   False: 9469,\n",
       "   'error_rate': 0.07149220826286543,\n",
       "   'mean_hit_rate': 0.9974770661717616,\n",
       "   'mean_hit_rate_misdiagnosed': 0.9677835945868474},\n",
       "  'n_questions_75': {True: 123107,\n",
       "   False: 9341,\n",
       "   'error_rate': 0.07052579125392607,\n",
       "   'mean_hit_rate': 0.9982845199265985,\n",
       "   'mean_hit_rate_misdiagnosed': 0.9771840477974725},\n",
       "  'n_questions_80': {True: 123209,\n",
       "   False: 9239,\n",
       "   'error_rate': 0.06975567769992752,\n",
       "   'mean_hit_rate': 0.9987981986102002,\n",
       "   'mean_hit_rate_misdiagnosed': 0.9840938258624154},\n",
       "  'n_questions_85': {True: 123238,\n",
       "   False: 9210,\n",
       "   'error_rate': 0.0695367238463397,\n",
       "   'mean_hit_rate': 0.9989152256698766,\n",
       "   'mean_hit_rate_misdiagnosed': 0.985618116953622},\n",
       "  'n_questions_90': {True: 123310,\n",
       "   False: 9138,\n",
       "   'error_rate': 0.0689931142788113,\n",
       "   'mean_hit_rate': 0.999210687536672,\n",
       "   'mean_hit_rate_misdiagnosed': 0.9897872828273355},\n",
       "  'n_questions_95': {True: 123310,\n",
       "   False: 9138,\n",
       "   'error_rate': 0.0689931142788113,\n",
       "   'mean_hit_rate': 0.999210687536672,\n",
       "   'mean_hit_rate_misdiagnosed': 0.9897872828273355},\n",
       "  'n_questions_100': {True: 123348,\n",
       "   False: 9100,\n",
       "   'error_rate': 0.06870620922928243,\n",
       "   'mean_hit_rate': 0.9993531333770521,\n",
       "   'mean_hit_rate_misdiagnosed': 0.9918178963893249},\n",
       "  'n_questions_105': {True: 123350,\n",
       "   False: 9098,\n",
       "   'error_rate': 0.06869110896351775,\n",
       "   'mean_hit_rate': 0.9993584364465767,\n",
       "   'mean_hit_rate_misdiagnosed': 0.9919953626647404},\n",
       "  'n_questions_110': {True: 123350,\n",
       "   False: 9098,\n",
       "   'error_rate': 0.06869110896351775,\n",
       "   'mean_hit_rate': 0.9993840619571096,\n",
       "   'mean_hit_rate_misdiagnosed': 0.9922957949941902},\n",
       "  'n_questions_115': {True: 123357,\n",
       "   False: 9091,\n",
       "   'error_rate': 0.06863825803334139,\n",
       "   'mean_hit_rate': 0.9994297492493012,\n",
       "   'mean_hit_rate_misdiagnosed': 0.9929260231207211},\n",
       "  'n_questions_120': {True: 123425,\n",
       "   False: 9023,\n",
       "   'error_rate': 0.06812484899734235,\n",
       "   'mean_hit_rate': 0.9997669885180454,\n",
       "   'mean_hit_rate_misdiagnosed': 0.9971395850815113},\n",
       "  'n_questions_125': {True: 123425,\n",
       "   False: 9023,\n",
       "   'error_rate': 0.06812484899734235,\n",
       "   'mean_hit_rate': 0.9997726511177071,\n",
       "   'mean_hit_rate_misdiagnosed': 0.9972227059947332},\n",
       "  'n_questions_130': {True: 123425,\n",
       "   False: 9023,\n",
       "   'error_rate': 0.06812484899734235,\n",
       "   'mean_hit_rate': 0.9997726511177071,\n",
       "   'mean_hit_rate_misdiagnosed': 0.9972227059947332},\n",
       "  'n_questions_135': {True: 123425,\n",
       "   False: 9023,\n",
       "   'error_rate': 0.06812484899734235,\n",
       "   'mean_hit_rate': 0.9997726511177071,\n",
       "   'mean_hit_rate_misdiagnosed': 0.9972227059947332},\n",
       "  'n_questions_140': {True: 123455,\n",
       "   False: 8993,\n",
       "   'error_rate': 0.06789834501087219,\n",
       "   'mean_hit_rate': 0.9998899298484796,\n",
       "   'mean_hit_rate_misdiagnosed': 0.9999629341339562},\n",
       "  'n_questions_145': {True: 123456,\n",
       "   False: 8992,\n",
       "   'error_rate': 0.06789079487798985,\n",
       "   'mean_hit_rate': 0.9999618538524372,\n",
       "   'mean_hit_rate_misdiagnosed': 1.0},\n",
       "  'n_questions_150': {True: 123456,\n",
       "   False: 8992,\n",
       "   'error_rate': 0.06789079487798985,\n",
       "   'mean_hit_rate': 0.9999618538524372,\n",
       "   'mean_hit_rate_misdiagnosed': 1.0},\n",
       "  'n_questions_155': {True: 123456,\n",
       "   False: 8992,\n",
       "   'error_rate': 0.06789079487798985,\n",
       "   'mean_hit_rate': 0.9999618538524372,\n",
       "   'mean_hit_rate_misdiagnosed': 1.0},\n",
       "  'n_questions_160': {True: 123456,\n",
       "   False: 8992,\n",
       "   'error_rate': 0.06789079487798985,\n",
       "   'mean_hit_rate': 0.9999618538524372,\n",
       "   'mean_hit_rate_misdiagnosed': 1.0},\n",
       "  'n_questions_165': {True: 123456,\n",
       "   False: 8992,\n",
       "   'error_rate': 0.06789079487798985,\n",
       "   'mean_hit_rate': 0.9999618538524372,\n",
       "   'mean_hit_rate_misdiagnosed': 1.0},\n",
       "  'n_questions_170': {True: 123456,\n",
       "   False: 8992,\n",
       "   'error_rate': 0.06789079487798985,\n",
       "   'mean_hit_rate': 1.0,\n",
       "   'mean_hit_rate_misdiagnosed': 1.0},\n",
       "  'n_questions_175': {True: 123456,\n",
       "   False: 8992,\n",
       "   'error_rate': 0.06789079487798985,\n",
       "   'mean_hit_rate': 1.0,\n",
       "   'mean_hit_rate_misdiagnosed': 1.0},\n",
       "  'n_questions_180': {True: 123456,\n",
       "   False: 8992,\n",
       "   'error_rate': 0.06789079487798985,\n",
       "   'mean_hit_rate': 1.0,\n",
       "   'mean_hit_rate_misdiagnosed': 1.0},\n",
       "  'n_questions_185': {True: 123456,\n",
       "   False: 8992,\n",
       "   'error_rate': 0.06789079487798985,\n",
       "   'mean_hit_rate': 1.0,\n",
       "   'mean_hit_rate_misdiagnosed': 1.0},\n",
       "  'n_questions_190': {True: 123456,\n",
       "   False: 8992,\n",
       "   'error_rate': 0.06789079487798985,\n",
       "   'mean_hit_rate': 1.0,\n",
       "   'mean_hit_rate_misdiagnosed': 1.0},\n",
       "  'n_questions_195': {True: 123456,\n",
       "   False: 8992,\n",
       "   'error_rate': 0.06789079487798985,\n",
       "   'mean_hit_rate': 1.0,\n",
       "   'mean_hit_rate_misdiagnosed': 1.0},\n",
       "  'n_questions_200': {True: 123456,\n",
       "   False: 8992,\n",
       "   'error_rate': 0.06789079487798985,\n",
       "   'mean_hit_rate': 1.0,\n",
       "   'mean_hit_rate_misdiagnosed': 1.0},\n",
       "  'n_questions_205': {True: 123456,\n",
       "   False: 8992,\n",
       "   'error_rate': 0.06789079487798985,\n",
       "   'mean_hit_rate': 1.0,\n",
       "   'mean_hit_rate_misdiagnosed': 1.0},\n",
       "  'n_questions_208': {True: 123456,\n",
       "   False: 8992,\n",
       "   'error_rate': 0.06789079487798985,\n",
       "   'mean_hit_rate': 1.0,\n",
       "   'mean_hit_rate_misdiagnosed': 1.0},\n",
       "  'plt_y': [0.7103165015704277,\n",
       "   0.5866151244261899,\n",
       "   0.403464000966417,\n",
       "   0.26121949746315537,\n",
       "   0.1788248973181928,\n",
       "   0.14791465329789805,\n",
       "   0.11331239429813965,\n",
       "   0.09911814447934283,\n",
       "   0.08775519449142305,\n",
       "   0.08087702343561247,\n",
       "   0.07590148586615124,\n",
       "   0.0730852863010389,\n",
       "   0.07193011597004108,\n",
       "   0.07149220826286543,\n",
       "   0.07052579125392607,\n",
       "   0.06975567769992752,\n",
       "   0.0695367238463397,\n",
       "   0.0689931142788113,\n",
       "   0.0689931142788113,\n",
       "   0.06870620922928243,\n",
       "   0.06869110896351775,\n",
       "   0.06869110896351775,\n",
       "   0.06863825803334139,\n",
       "   0.06812484899734235,\n",
       "   0.06812484899734235,\n",
       "   0.06812484899734235,\n",
       "   0.06812484899734235,\n",
       "   0.06789834501087219,\n",
       "   0.06789079487798985,\n",
       "   0.06789079487798985,\n",
       "   0.06789079487798985,\n",
       "   0.06789079487798985,\n",
       "   0.06789079487798985,\n",
       "   0.06789079487798985,\n",
       "   0.06789079487798985,\n",
       "   0.06789079487798985,\n",
       "   0.06789079487798985,\n",
       "   0.06789079487798985,\n",
       "   0.06789079487798985,\n",
       "   0.06789079487798985,\n",
       "   0.06789079487798985,\n",
       "   0.06789079487798985]},\n",
       " 'random_forest': {'n_questions_5': {False: 72304,\n",
       "   True: 60144,\n",
       "   'error_rate': 0.5459048079246195,\n",
       "   'mean_hit_rate': 0.33105369578602123,\n",
       "   'mean_hit_rate_misdiagnosed': 0.2570334547933039},\n",
       "  'n_questions_10': {True: 87951,\n",
       "   False: 44497,\n",
       "   'error_rate': 0.3359582628654264,\n",
       "   'mean_hit_rate': 0.5348788121386866,\n",
       "   'mean_hit_rate_misdiagnosed': 0.35058526222161024},\n",
       "  'n_questions_15': {True: 104647,\n",
       "   False: 27801,\n",
       "   'error_rate': 0.20990124426189902,\n",
       "   'mean_hit_rate': 0.7015726661850556,\n",
       "   'mean_hit_rate_misdiagnosed': 0.3952241584103561},\n",
       "  'n_questions_20': {True: 116841,\n",
       "   False: 15607,\n",
       "   'error_rate': 0.11783492389466055,\n",
       "   'mean_hit_rate': 0.8109909153294077,\n",
       "   'mean_hit_rate_misdiagnosed': 0.4298153746252845},\n",
       "  'n_questions_25': {True: 122696,\n",
       "   False: 9752,\n",
       "   'error_rate': 0.07362889586856729,\n",
       "   'mean_hit_rate': 0.8810154199870976,\n",
       "   'mean_hit_rate_misdiagnosed': 0.4772435624600069},\n",
       "  'n_questions_30': {True: 125187,\n",
       "   False: 7261,\n",
       "   'error_rate': 0.05482151485866151,\n",
       "   'mean_hit_rate': 0.9208837285146768,\n",
       "   'mean_hit_rate_misdiagnosed': 0.5235319747592203},\n",
       "  'n_questions_35': {True: 127712,\n",
       "   False: 4736,\n",
       "   'error_rate': 0.03575742933075622,\n",
       "   'mean_hit_rate': 0.9468731355612496,\n",
       "   'mean_hit_rate_misdiagnosed': 0.6382743974540849},\n",
       "  'n_questions_40': {True: 128452,\n",
       "   False: 3996,\n",
       "   'error_rate': 0.03017033099782556,\n",
       "   'mean_hit_rate': 0.9672991290595049,\n",
       "   'mean_hit_rate_misdiagnosed': 0.675273369023369},\n",
       "  'n_questions_45': {True: 128962,\n",
       "   False: 3486,\n",
       "   'error_rate': 0.02631976322783281,\n",
       "   'mean_hit_rate': 0.9809383707671537,\n",
       "   'mean_hit_rate_misdiagnosed': 0.7143471599796901},\n",
       "  'n_questions_50': {True: 129390,\n",
       "   False: 3058,\n",
       "   'error_rate': 0.023088306354191835,\n",
       "   'mean_hit_rate': 0.9901947959174193,\n",
       "   'mean_hit_rate_misdiagnosed': 0.7663128411084592},\n",
       "  'n_questions_55': {True: 129792,\n",
       "   False: 2656,\n",
       "   'error_rate': 0.020053152935491664,\n",
       "   'mean_hit_rate': 0.9939447442967693,\n",
       "   'mean_hit_rate_misdiagnosed': 0.8117223357716581},\n",
       "  'n_questions_60': {True: 130146,\n",
       "   False: 2302,\n",
       "   'error_rate': 0.017380405895143756,\n",
       "   'mean_hit_rate': 0.9958715827096248,\n",
       "   'mean_hit_rate_misdiagnosed': 0.8644892984706191},\n",
       "  'n_questions_65': {True: 130213,\n",
       "   False: 2235,\n",
       "   'error_rate': 0.01687454699202706,\n",
       "   'mean_hit_rate': 0.9970895046681393,\n",
       "   'mean_hit_rate_misdiagnosed': 0.8731124604950108},\n",
       "  'n_questions_70': {True: 130246,\n",
       "   False: 2202,\n",
       "   'error_rate': 0.016625392606909883,\n",
       "   'mean_hit_rate': 0.9974770661717616,\n",
       "   'mean_hit_rate_misdiagnosed': 0.8807739717140263},\n",
       "  'n_questions_75': {True: 130368,\n",
       "   False: 2080,\n",
       "   'error_rate': 0.015704276395264557,\n",
       "   'mean_hit_rate': 0.9982845199265985,\n",
       "   'mean_hit_rate_misdiagnosed': 0.915164835164835},\n",
       "  'n_questions_80': {True: 130466,\n",
       "   False: 1982,\n",
       "   'error_rate': 0.014964363372795362,\n",
       "   'mean_hit_rate': 0.9987981986102002,\n",
       "   'mean_hit_rate_misdiagnosed': 0.9424198741050406},\n",
       "  'n_questions_85': {True: 130493,\n",
       "   False: 1955,\n",
       "   'error_rate': 0.014760509784972215,\n",
       "   'mean_hit_rate': 0.9989152256698766,\n",
       "   'mean_hit_rate_misdiagnosed': 0.9485300207039338},\n",
       "  'n_questions_90': {True: 130565,\n",
       "   False: 1883,\n",
       "   'error_rate': 0.014216900217443826,\n",
       "   'mean_hit_rate': 0.999210687536672,\n",
       "   'mean_hit_rate_misdiagnosed': 0.9673444098829124},\n",
       "  'n_questions_95': {True: 130565,\n",
       "   False: 1883,\n",
       "   'error_rate': 0.014216900217443826,\n",
       "   'mean_hit_rate': 0.999210687536672,\n",
       "   'mean_hit_rate_misdiagnosed': 0.9673444098829124},\n",
       "  'n_questions_100': {True: 130609,\n",
       "   False: 1839,\n",
       "   'error_rate': 0.013884694370620922,\n",
       "   'mean_hit_rate': 0.9993531333770521,\n",
       "   'mean_hit_rate_misdiagnosed': 0.9768222895465962},\n",
       "  'n_questions_105': {True: 130612,\n",
       "   False: 1836,\n",
       "   'error_rate': 0.013862043971973907,\n",
       "   'mean_hit_rate': 0.9993584364465767,\n",
       "   'mean_hit_rate_misdiagnosed': 0.9779450669156551},\n",
       "  'n_questions_110': {True: 130620,\n",
       "   False: 1828,\n",
       "   'error_rate': 0.013801642908915198,\n",
       "   'mean_hit_rate': 0.9993840619571096,\n",
       "   'mean_hit_rate_misdiagnosed': 0.9810031780764823},\n",
       "  'n_questions_115': {True: 130622,\n",
       "   False: 1826,\n",
       "   'error_rate': 0.01378654264315052,\n",
       "   'mean_hit_rate': 0.9994297492493012,\n",
       "   'mean_hit_rate_misdiagnosed': 0.98166692745006},\n",
       "  'n_questions_120': {True: 130636,\n",
       "   False: 1812,\n",
       "   'error_rate': 0.013680840782797778,\n",
       "   'mean_hit_rate': 0.9997669885180454,\n",
       "   'mean_hit_rate_misdiagnosed': 0.9857563334384526},\n",
       "  'n_questions_125': {True: 130637,\n",
       "   False: 1811,\n",
       "   'error_rate': 0.013673290649915439,\n",
       "   'mean_hit_rate': 0.9997726511177071,\n",
       "   'mean_hit_rate_misdiagnosed': 0.9861626041913176},\n",
       "  'n_questions_130': {True: 130637,\n",
       "   False: 1811,\n",
       "   'error_rate': 0.013673290649915439,\n",
       "   'mean_hit_rate': 0.9997726511177071,\n",
       "   'mean_hit_rate_misdiagnosed': 0.9861626041913176},\n",
       "  'n_questions_135': {True: 130637,\n",
       "   False: 1811,\n",
       "   'error_rate': 0.013673290649915439,\n",
       "   'mean_hit_rate': 0.9997726511177071,\n",
       "   'mean_hit_rate_misdiagnosed': 0.9861626041913176},\n",
       "  'n_questions_140': {True: 130668,\n",
       "   False: 1780,\n",
       "   'error_rate': 0.013439236530562938,\n",
       "   'mean_hit_rate': 0.9998899298484796,\n",
       "   'mean_hit_rate_misdiagnosed': 1.0},\n",
       "  'n_questions_145': {True: 130668,\n",
       "   False: 1780,\n",
       "   'error_rate': 0.013439236530562938,\n",
       "   'mean_hit_rate': 0.9999618538524372,\n",
       "   'mean_hit_rate_misdiagnosed': 1.0},\n",
       "  'n_questions_150': {True: 130668,\n",
       "   False: 1780,\n",
       "   'error_rate': 0.013439236530562938,\n",
       "   'mean_hit_rate': 0.9999618538524372,\n",
       "   'mean_hit_rate_misdiagnosed': 1.0},\n",
       "  'n_questions_155': {True: 130668,\n",
       "   False: 1780,\n",
       "   'error_rate': 0.013439236530562938,\n",
       "   'mean_hit_rate': 0.9999618538524372,\n",
       "   'mean_hit_rate_misdiagnosed': 1.0},\n",
       "  'n_questions_160': {True: 130668,\n",
       "   False: 1780,\n",
       "   'error_rate': 0.013439236530562938,\n",
       "   'mean_hit_rate': 0.9999618538524372,\n",
       "   'mean_hit_rate_misdiagnosed': 1.0},\n",
       "  'n_questions_165': {True: 130668,\n",
       "   False: 1780,\n",
       "   'error_rate': 0.013439236530562938,\n",
       "   'mean_hit_rate': 0.9999618538524372,\n",
       "   'mean_hit_rate_misdiagnosed': 1.0},\n",
       "  'n_questions_170': {True: 130668,\n",
       "   False: 1780,\n",
       "   'error_rate': 0.013439236530562938,\n",
       "   'mean_hit_rate': 1.0,\n",
       "   'mean_hit_rate_misdiagnosed': 1.0},\n",
       "  'n_questions_175': {True: 130668,\n",
       "   False: 1780,\n",
       "   'error_rate': 0.013439236530562938,\n",
       "   'mean_hit_rate': 1.0,\n",
       "   'mean_hit_rate_misdiagnosed': 1.0},\n",
       "  'n_questions_180': {True: 130668,\n",
       "   False: 1780,\n",
       "   'error_rate': 0.013439236530562938,\n",
       "   'mean_hit_rate': 1.0,\n",
       "   'mean_hit_rate_misdiagnosed': 1.0},\n",
       "  'n_questions_185': {True: 130668,\n",
       "   False: 1780,\n",
       "   'error_rate': 0.013439236530562938,\n",
       "   'mean_hit_rate': 1.0,\n",
       "   'mean_hit_rate_misdiagnosed': 1.0},\n",
       "  'n_questions_190': {True: 130668,\n",
       "   False: 1780,\n",
       "   'error_rate': 0.013439236530562938,\n",
       "   'mean_hit_rate': 1.0,\n",
       "   'mean_hit_rate_misdiagnosed': 1.0},\n",
       "  'n_questions_195': {True: 130668,\n",
       "   False: 1780,\n",
       "   'error_rate': 0.013439236530562938,\n",
       "   'mean_hit_rate': 1.0,\n",
       "   'mean_hit_rate_misdiagnosed': 1.0},\n",
       "  'n_questions_200': {True: 130668,\n",
       "   False: 1780,\n",
       "   'error_rate': 0.013439236530562938,\n",
       "   'mean_hit_rate': 1.0,\n",
       "   'mean_hit_rate_misdiagnosed': 1.0},\n",
       "  'n_questions_205': {True: 130668,\n",
       "   False: 1780,\n",
       "   'error_rate': 0.013439236530562938,\n",
       "   'mean_hit_rate': 1.0,\n",
       "   'mean_hit_rate_misdiagnosed': 1.0},\n",
       "  'n_questions_208': {True: 130668,\n",
       "   False: 1780,\n",
       "   'error_rate': 0.013439236530562938,\n",
       "   'mean_hit_rate': 1.0,\n",
       "   'mean_hit_rate_misdiagnosed': 1.0},\n",
       "  'plt_y': [0.5459048079246195,\n",
       "   0.3359582628654264,\n",
       "   0.20990124426189902,\n",
       "   0.11783492389466055,\n",
       "   0.07362889586856729,\n",
       "   0.05482151485866151,\n",
       "   0.03575742933075622,\n",
       "   0.03017033099782556,\n",
       "   0.02631976322783281,\n",
       "   0.023088306354191835,\n",
       "   0.020053152935491664,\n",
       "   0.017380405895143756,\n",
       "   0.01687454699202706,\n",
       "   0.016625392606909883,\n",
       "   0.015704276395264557,\n",
       "   0.014964363372795362,\n",
       "   0.014760509784972215,\n",
       "   0.014216900217443826,\n",
       "   0.014216900217443826,\n",
       "   0.013884694370620922,\n",
       "   0.013862043971973907,\n",
       "   0.013801642908915198,\n",
       "   0.01378654264315052,\n",
       "   0.013680840782797778,\n",
       "   0.013673290649915439,\n",
       "   0.013673290649915439,\n",
       "   0.013673290649915439,\n",
       "   0.013439236530562938,\n",
       "   0.013439236530562938,\n",
       "   0.013439236530562938,\n",
       "   0.013439236530562938,\n",
       "   0.013439236530562938,\n",
       "   0.013439236530562938,\n",
       "   0.013439236530562938,\n",
       "   0.013439236530562938,\n",
       "   0.013439236530562938,\n",
       "   0.013439236530562938,\n",
       "   0.013439236530562938,\n",
       "   0.013439236530562938,\n",
       "   0.013439236530562938,\n",
       "   0.013439236530562938,\n",
       "   0.013439236530562938]},\n",
       " 'gradient_boost': {'n_questions_5': {False: 80142,\n",
       "   True: 52306,\n",
       "   'error_rate': 0.6050827494563904,\n",
       "   'mean_hit_rate': 0.33105369578602123,\n",
       "   'mean_hit_rate_misdiagnosed': 0.2706119253151845},\n",
       "  'n_questions_10': {True: 77493,\n",
       "   False: 54955,\n",
       "   'error_rate': 0.4149175525489249,\n",
       "   'mean_hit_rate': 0.5348788121386866,\n",
       "   'mean_hit_rate_misdiagnosed': 0.3803975500911146},\n",
       "  'n_questions_15': {True: 97341,\n",
       "   False: 35107,\n",
       "   'error_rate': 0.26506251510026574,\n",
       "   'mean_hit_rate': 0.7015726661850556,\n",
       "   'mean_hit_rate_misdiagnosed': 0.4256375411226311},\n",
       "  'n_questions_20': {True: 111938,\n",
       "   False: 20510,\n",
       "   'error_rate': 0.15485322541676733,\n",
       "   'mean_hit_rate': 0.8109909153294077,\n",
       "   'mean_hit_rate_misdiagnosed': 0.4575286384934861},\n",
       "  'n_questions_25': {True: 119432,\n",
       "   False: 13016,\n",
       "   'error_rate': 0.0982725295965209,\n",
       "   'mean_hit_rate': 0.8810154199870976,\n",
       "   'mean_hit_rate_misdiagnosed': 0.4841363562963303},\n",
       "  'n_questions_30': {True: 122868,\n",
       "   False: 9580,\n",
       "   'error_rate': 0.07233027301280502,\n",
       "   'mean_hit_rate': 0.9208837285146768,\n",
       "   'mean_hit_rate_misdiagnosed': 0.5176140391001799},\n",
       "  'n_questions_35': {True: 126892,\n",
       "   False: 5556,\n",
       "   'error_rate': 0.04194853829427398,\n",
       "   'mean_hit_rate': 0.9468731355612496,\n",
       "   'mean_hit_rate_misdiagnosed': 0.6147003987756433},\n",
       "  'n_questions_40': {True: 128009,\n",
       "   False: 4439,\n",
       "   'error_rate': 0.03351503986470162,\n",
       "   'mean_hit_rate': 0.9672991290595049,\n",
       "   'mean_hit_rate_misdiagnosed': 0.654301318194385},\n",
       "  'n_questions_45': {True: 128808,\n",
       "   False: 3640,\n",
       "   'error_rate': 0.027482483691712974,\n",
       "   'mean_hit_rate': 0.9809383707671537,\n",
       "   'mean_hit_rate_misdiagnosed': 0.6925617377128367},\n",
       "  'n_questions_50': {True: 129421,\n",
       "   False: 3027,\n",
       "   'error_rate': 0.022854252234839334,\n",
       "   'mean_hit_rate': 0.9901947959174193,\n",
       "   'mean_hit_rate_misdiagnosed': 0.7482781735754978},\n",
       "  'n_questions_55': {True: 129900,\n",
       "   False: 2548,\n",
       "   'error_rate': 0.019237738584199082,\n",
       "   'mean_hit_rate': 0.9939447442967693,\n",
       "   'mean_hit_rate_misdiagnosed': 0.8007432618402006},\n",
       "  'n_questions_60': {True: 130254,\n",
       "   False: 2194,\n",
       "   'error_rate': 0.01656499154385117,\n",
       "   'mean_hit_rate': 0.9958715827096248,\n",
       "   'mean_hit_rate_misdiagnosed': 0.8561931168699628},\n",
       "  'n_questions_65': {True: 130334,\n",
       "   False: 2114,\n",
       "   'error_rate': 0.015960980913264075,\n",
       "   'mean_hit_rate': 0.9970895046681393,\n",
       "   'mean_hit_rate_misdiagnosed': 0.8661256776441262},\n",
       "  'n_questions_70': {True: 130367,\n",
       "   False: 2081,\n",
       "   'error_rate': 0.015711826528146896,\n",
       "   'mean_hit_rate': 0.9974770661717616,\n",
       "   'mean_hit_rate_misdiagnosed': 0.8744079082858516},\n",
       "  'n_questions_75': {True: 130487,\n",
       "   False: 1961,\n",
       "   'error_rate': 0.014805810582266248,\n",
       "   'mean_hit_rate': 0.9982845199265985,\n",
       "   'mean_hit_rate_misdiagnosed': 0.9102717272528592},\n",
       "  'n_questions_80': {True: 130593,\n",
       "   False: 1855,\n",
       "   'error_rate': 0.014005496496738342,\n",
       "   'mean_hit_rate': 0.9987981986102002,\n",
       "   'mean_hit_rate_misdiagnosed': 0.9415325375433192},\n",
       "  'n_questions_85': {True: 130624,\n",
       "   False: 1824,\n",
       "   'error_rate': 0.013771442377385841,\n",
       "   'mean_hit_rate': 0.9989152256698766,\n",
       "   'mean_hit_rate_misdiagnosed': 0.9490366541353383},\n",
       "  'n_questions_90': {True: 130696,\n",
       "   False: 1752,\n",
       "   'error_rate': 0.013227832809857454,\n",
       "   'mean_hit_rate': 0.999210687536672,\n",
       "   'mean_hit_rate_misdiagnosed': 0.9692786475320722},\n",
       "  'n_questions_95': {True: 130696,\n",
       "   False: 1752,\n",
       "   'error_rate': 0.013227832809857454,\n",
       "   'mean_hit_rate': 0.999210687536672,\n",
       "   'mean_hit_rate_misdiagnosed': 0.9692786475320722},\n",
       "  'n_questions_100': {True: 130740,\n",
       "   False: 1708,\n",
       "   'error_rate': 0.01289562696303455,\n",
       "   'mean_hit_rate': 0.9993531333770521,\n",
       "   'mean_hit_rate_misdiagnosed': 0.9795332887253261},\n",
       "  'n_questions_105': {True: 130742,\n",
       "   False: 1706,\n",
       "   'error_rate': 0.012880526697269872,\n",
       "   'mean_hit_rate': 0.9993584364465767,\n",
       "   'mean_hit_rate_misdiagnosed': 0.9804653045274381},\n",
       "  'n_questions_110': {True: 130751,\n",
       "   False: 1697,\n",
       "   'error_rate': 0.012812575501328824,\n",
       "   'mean_hit_rate': 0.9993840619571096,\n",
       "   'mean_hit_rate_misdiagnosed': 0.9840544939248533},\n",
       "  'n_questions_115': {True: 130753,\n",
       "   False: 1695,\n",
       "   'error_rate': 0.012797475235564145,\n",
       "   'mean_hit_rate': 0.9994297492493012,\n",
       "   'mean_hit_rate_misdiagnosed': 0.9847731422952661},\n",
       "  'n_questions_120': {True: 130753,\n",
       "   False: 1695,\n",
       "   'error_rate': 0.012797475235564145,\n",
       "   'mean_hit_rate': 0.9997669885180454,\n",
       "   'mean_hit_rate_misdiagnosed': 0.9847731422952661},\n",
       "  'n_questions_125': {True: 130754,\n",
       "   False: 1694,\n",
       "   'error_rate': 0.012789925102681806,\n",
       "   'mean_hit_rate': 0.9997726511177071,\n",
       "   'mean_hit_rate_misdiagnosed': 0.9852068926744251},\n",
       "  'n_questions_130': {True: 130754,\n",
       "   False: 1694,\n",
       "   'error_rate': 0.012789925102681806,\n",
       "   'mean_hit_rate': 0.9997726511177071,\n",
       "   'mean_hit_rate_misdiagnosed': 0.9852068926744251},\n",
       "  'n_questions_135': {True: 130754,\n",
       "   False: 1694,\n",
       "   'error_rate': 0.012789925102681806,\n",
       "   'mean_hit_rate': 0.9997726511177071,\n",
       "   'mean_hit_rate_misdiagnosed': 0.9852068926744251},\n",
       "  'n_questions_140': {True: 130785,\n",
       "   False: 1663,\n",
       "   'error_rate': 0.012555870983329307,\n",
       "   'mean_hit_rate': 0.9998899298484796,\n",
       "   'mean_hit_rate_misdiagnosed': 1.0},\n",
       "  'n_questions_145': {True: 130785,\n",
       "   False: 1663,\n",
       "   'error_rate': 0.012555870983329307,\n",
       "   'mean_hit_rate': 0.9999618538524372,\n",
       "   'mean_hit_rate_misdiagnosed': 1.0},\n",
       "  'n_questions_150': {True: 130785,\n",
       "   False: 1663,\n",
       "   'error_rate': 0.012555870983329307,\n",
       "   'mean_hit_rate': 0.9999618538524372,\n",
       "   'mean_hit_rate_misdiagnosed': 1.0},\n",
       "  'n_questions_155': {True: 130785,\n",
       "   False: 1663,\n",
       "   'error_rate': 0.012555870983329307,\n",
       "   'mean_hit_rate': 0.9999618538524372,\n",
       "   'mean_hit_rate_misdiagnosed': 1.0},\n",
       "  'n_questions_160': {True: 130785,\n",
       "   False: 1663,\n",
       "   'error_rate': 0.012555870983329307,\n",
       "   'mean_hit_rate': 0.9999618538524372,\n",
       "   'mean_hit_rate_misdiagnosed': 1.0},\n",
       "  'n_questions_165': {True: 130785,\n",
       "   False: 1663,\n",
       "   'error_rate': 0.012555870983329307,\n",
       "   'mean_hit_rate': 0.9999618538524372,\n",
       "   'mean_hit_rate_misdiagnosed': 1.0},\n",
       "  'n_questions_170': {True: 130785,\n",
       "   False: 1663,\n",
       "   'error_rate': 0.012555870983329307,\n",
       "   'mean_hit_rate': 1.0,\n",
       "   'mean_hit_rate_misdiagnosed': 1.0},\n",
       "  'n_questions_175': {True: 130785,\n",
       "   False: 1663,\n",
       "   'error_rate': 0.012555870983329307,\n",
       "   'mean_hit_rate': 1.0,\n",
       "   'mean_hit_rate_misdiagnosed': 1.0},\n",
       "  'n_questions_180': {True: 130785,\n",
       "   False: 1663,\n",
       "   'error_rate': 0.012555870983329307,\n",
       "   'mean_hit_rate': 1.0,\n",
       "   'mean_hit_rate_misdiagnosed': 1.0},\n",
       "  'n_questions_185': {True: 130785,\n",
       "   False: 1663,\n",
       "   'error_rate': 0.012555870983329307,\n",
       "   'mean_hit_rate': 1.0,\n",
       "   'mean_hit_rate_misdiagnosed': 1.0},\n",
       "  'n_questions_190': {True: 130785,\n",
       "   False: 1663,\n",
       "   'error_rate': 0.012555870983329307,\n",
       "   'mean_hit_rate': 1.0,\n",
       "   'mean_hit_rate_misdiagnosed': 1.0},\n",
       "  'n_questions_195': {True: 130785,\n",
       "   False: 1663,\n",
       "   'error_rate': 0.012555870983329307,\n",
       "   'mean_hit_rate': 1.0,\n",
       "   'mean_hit_rate_misdiagnosed': 1.0},\n",
       "  'n_questions_200': {True: 130785,\n",
       "   False: 1663,\n",
       "   'error_rate': 0.012555870983329307,\n",
       "   'mean_hit_rate': 1.0,\n",
       "   'mean_hit_rate_misdiagnosed': 1.0},\n",
       "  'n_questions_205': {True: 130785,\n",
       "   False: 1663,\n",
       "   'error_rate': 0.012555870983329307,\n",
       "   'mean_hit_rate': 1.0,\n",
       "   'mean_hit_rate_misdiagnosed': 1.0},\n",
       "  'n_questions_208': {True: 130785,\n",
       "   False: 1663,\n",
       "   'error_rate': 0.012555870983329307,\n",
       "   'mean_hit_rate': 1.0,\n",
       "   'mean_hit_rate_misdiagnosed': 1.0},\n",
       "  'plt_y': [0.6050827494563904,\n",
       "   0.4149175525489249,\n",
       "   0.26506251510026574,\n",
       "   0.15485322541676733,\n",
       "   0.0982725295965209,\n",
       "   0.07233027301280502,\n",
       "   0.04194853829427398,\n",
       "   0.03351503986470162,\n",
       "   0.027482483691712974,\n",
       "   0.022854252234839334,\n",
       "   0.019237738584199082,\n",
       "   0.01656499154385117,\n",
       "   0.015960980913264075,\n",
       "   0.015711826528146896,\n",
       "   0.014805810582266248,\n",
       "   0.014005496496738342,\n",
       "   0.013771442377385841,\n",
       "   0.013227832809857454,\n",
       "   0.013227832809857454,\n",
       "   0.01289562696303455,\n",
       "   0.012880526697269872,\n",
       "   0.012812575501328824,\n",
       "   0.012797475235564145,\n",
       "   0.012797475235564145,\n",
       "   0.012789925102681806,\n",
       "   0.012789925102681806,\n",
       "   0.012789925102681806,\n",
       "   0.012555870983329307,\n",
       "   0.012555870983329307,\n",
       "   0.012555870983329307,\n",
       "   0.012555870983329307,\n",
       "   0.012555870983329307,\n",
       "   0.012555870983329307,\n",
       "   0.012555870983329307,\n",
       "   0.012555870983329307,\n",
       "   0.012555870983329307,\n",
       "   0.012555870983329307,\n",
       "   0.012555870983329307,\n",
       "   0.012555870983329307,\n",
       "   0.012555870983329307,\n",
       "   0.012555870983329307,\n",
       "   0.012555870983329307]},\n",
       " 'logistic_regression': {'n_questions_5': {'false': 77862,\n",
       "   'true': 54586,\n",
       "   'error_rate': 0.5878684464846581,\n",
       "   'mean_hit_rate': 0.33105369578602123,\n",
       "   'mean_hit_rate_misdiagnosed': 0.2596648281095475},\n",
       "  'n_questions_10': {'true': 84330,\n",
       "   'false': 48118,\n",
       "   'error_rate': 0.363297294032375,\n",
       "   'mean_hit_rate': 0.5348788121386866,\n",
       "   'mean_hit_rate_misdiagnosed': 0.3520496596281361},\n",
       "  'n_questions_15': {'true': 101907,\n",
       "   'false': 30541,\n",
       "   'error_rate': 0.23058860835950712,\n",
       "   'mean_hit_rate': 0.7015726661850556,\n",
       "   'mean_hit_rate_misdiagnosed': 0.4022435957271332},\n",
       "  'n_questions_20': {'true': 115873,\n",
       "   'false': 16575,\n",
       "   'error_rate': 0.12514345252476444,\n",
       "   'mean_hit_rate': 0.8109909153294077,\n",
       "   'mean_hit_rate_misdiagnosed': 0.41484677283423516},\n",
       "  'n_questions_25': {'true': 121748,\n",
       "   'false': 10700,\n",
       "   'error_rate': 0.0807864218410244,\n",
       "   'mean_hit_rate': 0.8810154199870976,\n",
       "   'mean_hit_rate_misdiagnosed': 0.4277322815795805},\n",
       "  'n_questions_30': {'true': 125216,\n",
       "   'false': 7232,\n",
       "   'error_rate': 0.05460256100507369,\n",
       "   'mean_hit_rate': 0.9208837285146768,\n",
       "   'mean_hit_rate_misdiagnosed': 0.4630506462062903},\n",
       "  'n_questions_35': {'true': 128227,\n",
       "   'false': 4221,\n",
       "   'error_rate': 0.03186911089635178,\n",
       "   'mean_hit_rate': 0.9468731355612496,\n",
       "   'mean_hit_rate_misdiagnosed': 0.5552018847061492},\n",
       "  'n_questions_40': {'true': 129173,\n",
       "   'false': 3275,\n",
       "   'error_rate': 0.02472668518965934,\n",
       "   'mean_hit_rate': 0.9672991290595049,\n",
       "   'mean_hit_rate_misdiagnosed': 0.5895309042102935},\n",
       "  'n_questions_45': {'true': 129715,\n",
       "   'false': 2733,\n",
       "   'error_rate': 0.020634513167431746,\n",
       "   'mean_hit_rate': 0.9809383707671537,\n",
       "   'mean_hit_rate_misdiagnosed': 0.6208288570802292},\n",
       "  'n_questions_50': {'true': 130141,\n",
       "   'false': 2307,\n",
       "   'error_rate': 0.017418156559555448,\n",
       "   'mean_hit_rate': 0.9901947959174193,\n",
       "   'mean_hit_rate_misdiagnosed': 0.673531028765099},\n",
       "  'n_questions_55': {'true': 130597,\n",
       "   'false': 1851,\n",
       "   'error_rate': 0.013975295965208988,\n",
       "   'mean_hit_rate': 0.9939447442967693,\n",
       "   'mean_hit_rate_misdiagnosed': 0.7266283464419607},\n",
       "  'n_questions_60': {'true': 130948,\n",
       "   'false': 1500,\n",
       "   'error_rate': 0.011325199323508093,\n",
       "   'mean_hit_rate': 0.9958715827096248,\n",
       "   'mean_hit_rate_misdiagnosed': 0.7907986772486771},\n",
       "  'n_questions_65': {'true': 131013,\n",
       "   'false': 1435,\n",
       "   'error_rate': 0.010834440686156077,\n",
       "   'mean_hit_rate': 0.9970895046681393,\n",
       "   'mean_hit_rate_misdiagnosed': 0.8023931198495659},\n",
       "  'n_questions_70': {'true': 131046,\n",
       "   'false': 1402,\n",
       "   'error_rate': 0.010585286301038898,\n",
       "   'mean_hit_rate': 0.9974770661717616,\n",
       "   'mean_hit_rate_misdiagnosed': 0.8128014401195571},\n",
       "  'n_questions_75': {'true': 131168,\n",
       "   'false': 1280,\n",
       "   'error_rate': 0.009664170089393574,\n",
       "   'mean_hit_rate': 0.9982845199265985,\n",
       "   'mean_hit_rate_misdiagnosed': 0.862533482142857},\n",
       "  'n_questions_80': {'true': 131274,\n",
       "   'false': 1174,\n",
       "   'error_rate': 0.008863856003865668,\n",
       "   'mean_hit_rate': 0.9987981986102002,\n",
       "   'mean_hit_rate_misdiagnosed': 0.9076174251642734},\n",
       "  'n_questions_85': {'true': 131305,\n",
       "   'false': 1143,\n",
       "   'error_rate': 0.008629801884513167,\n",
       "   'mean_hit_rate': 0.9989152256698766,\n",
       "   'mean_hit_rate_misdiagnosed': 0.9186726659167604},\n",
       "  'n_questions_90': {'true': 131377,\n",
       "   'false': 1071,\n",
       "   'error_rate': 0.00808619231698478,\n",
       "   'mean_hit_rate': 0.999210687536672,\n",
       "   'mean_hit_rate_misdiagnosed': 0.9497443421813169},\n",
       "  'n_questions_95': {'true': 131377,\n",
       "   'false': 1071,\n",
       "   'error_rate': 0.00808619231698478,\n",
       "   'mean_hit_rate': 0.999210687536672,\n",
       "   'mean_hit_rate_misdiagnosed': 0.9497443421813169},\n",
       "  'n_questions_100': {'true': 131421,\n",
       "   'false': 1027,\n",
       "   'error_rate': 0.007753986470161875,\n",
       "   'mean_hit_rate': 0.9993531333770521,\n",
       "   'mean_hit_rate_misdiagnosed': 0.9659618862150507},\n",
       "  'n_questions_105': {'true': 131423,\n",
       "   'false': 1025,\n",
       "   'error_rate': 0.0077388862043971975,\n",
       "   'mean_hit_rate': 0.9993584364465767,\n",
       "   'mean_hit_rate_misdiagnosed': 0.967486643437863},\n",
       "  'n_questions_110': {'true': 131432,\n",
       "   'false': 1016,\n",
       "   'error_rate': 0.007670935008456149,\n",
       "   'mean_hit_rate': 0.9993840619571096,\n",
       "   'mean_hit_rate_misdiagnosed': 0.973366610423697},\n",
       "  'n_questions_115': {'true': 131434,\n",
       "   'false': 1014,\n",
       "   'error_rate': 0.007655834742691471,\n",
       "   'mean_hit_rate': 0.9994297492493012,\n",
       "   'mean_hit_rate_misdiagnosed': 0.9745468207006668},\n",
       "  'n_questions_120': {'true': 131434,\n",
       "   'false': 1014,\n",
       "   'error_rate': 0.007655834742691471,\n",
       "   'mean_hit_rate': 0.9997669885180454,\n",
       "   'mean_hit_rate_misdiagnosed': 0.9745468207006668},\n",
       "  'n_questions_125': {'true': 131435,\n",
       "   'false': 1013,\n",
       "   'error_rate': 0.007648284609809133,\n",
       "   'mean_hit_rate': 0.9997726511177071,\n",
       "   'mean_hit_rate_misdiagnosed': 0.9752620692897099},\n",
       "  'n_questions_130': {'true': 131435,\n",
       "   'false': 1013,\n",
       "   'error_rate': 0.007648284609809133,\n",
       "   'mean_hit_rate': 0.9997726511177071,\n",
       "   'mean_hit_rate_misdiagnosed': 0.9752620692897099},\n",
       "  'n_questions_135': {'true': 131435,\n",
       "   'false': 1013,\n",
       "   'error_rate': 0.007648284609809133,\n",
       "   'mean_hit_rate': 0.9997726511177071,\n",
       "   'mean_hit_rate_misdiagnosed': 0.9752620692897099},\n",
       "  'n_questions_140': {'true': 131466,\n",
       "   'false': 982,\n",
       "   'error_rate': 0.007414230490456632,\n",
       "   'mean_hit_rate': 0.9998899298484796,\n",
       "   'mean_hit_rate_misdiagnosed': 1.0},\n",
       "  'n_questions_145': {'true': 131466,\n",
       "   'false': 982,\n",
       "   'error_rate': 0.007414230490456632,\n",
       "   'mean_hit_rate': 0.9999618538524372,\n",
       "   'mean_hit_rate_misdiagnosed': 1.0},\n",
       "  'n_questions_150': {'true': 131466,\n",
       "   'false': 982,\n",
       "   'error_rate': 0.007414230490456632,\n",
       "   'mean_hit_rate': 0.9999618538524372,\n",
       "   'mean_hit_rate_misdiagnosed': 1.0},\n",
       "  'n_questions_155': {'true': 131466,\n",
       "   'false': 982,\n",
       "   'error_rate': 0.007414230490456632,\n",
       "   'mean_hit_rate': 0.9999618538524372,\n",
       "   'mean_hit_rate_misdiagnosed': 1.0},\n",
       "  'n_questions_160': {'true': 131466,\n",
       "   'false': 982,\n",
       "   'error_rate': 0.007414230490456632,\n",
       "   'mean_hit_rate': 0.9999618538524372,\n",
       "   'mean_hit_rate_misdiagnosed': 1.0},\n",
       "  'n_questions_165': {'true': 131466,\n",
       "   'false': 982,\n",
       "   'error_rate': 0.007414230490456632,\n",
       "   'mean_hit_rate': 0.9999618538524372,\n",
       "   'mean_hit_rate_misdiagnosed': 1.0},\n",
       "  'n_questions_170': {'true': 131466,\n",
       "   'false': 982,\n",
       "   'error_rate': 0.007414230490456632,\n",
       "   'mean_hit_rate': 1.0,\n",
       "   'mean_hit_rate_misdiagnosed': 1.0},\n",
       "  'n_questions_175': {'true': 131466,\n",
       "   'false': 982,\n",
       "   'error_rate': 0.007414230490456632,\n",
       "   'mean_hit_rate': 1.0,\n",
       "   'mean_hit_rate_misdiagnosed': 1.0},\n",
       "  'n_questions_180': {'true': 131466,\n",
       "   'false': 982,\n",
       "   'error_rate': 0.007414230490456632,\n",
       "   'mean_hit_rate': 1.0,\n",
       "   'mean_hit_rate_misdiagnosed': 1.0},\n",
       "  'n_questions_185': {'true': 131466,\n",
       "   'false': 982,\n",
       "   'error_rate': 0.007414230490456632,\n",
       "   'mean_hit_rate': 1.0,\n",
       "   'mean_hit_rate_misdiagnosed': 1.0},\n",
       "  'n_questions_190': {'true': 131466,\n",
       "   'false': 982,\n",
       "   'error_rate': 0.007414230490456632,\n",
       "   'mean_hit_rate': 1.0,\n",
       "   'mean_hit_rate_misdiagnosed': 1.0},\n",
       "  'n_questions_195': {'true': 131466,\n",
       "   'false': 982,\n",
       "   'error_rate': 0.007414230490456632,\n",
       "   'mean_hit_rate': 1.0,\n",
       "   'mean_hit_rate_misdiagnosed': 1.0},\n",
       "  'n_questions_200': {'true': 131466,\n",
       "   'false': 982,\n",
       "   'error_rate': 0.007414230490456632,\n",
       "   'mean_hit_rate': 1.0,\n",
       "   'mean_hit_rate_misdiagnosed': 1.0},\n",
       "  'n_questions_205': {'true': 131466,\n",
       "   'false': 982,\n",
       "   'error_rate': 0.007414230490456632,\n",
       "   'mean_hit_rate': 1.0,\n",
       "   'mean_hit_rate_misdiagnosed': 1.0},\n",
       "  'n_questions_208': {'true': 131466,\n",
       "   'false': 982,\n",
       "   'error_rate': 0.007414230490456632,\n",
       "   'mean_hit_rate': 1.0,\n",
       "   'mean_hit_rate_misdiagnosed': 1.0},\n",
       "  'plt_y': [0.5878684464846581,\n",
       "   0.363297294032375,\n",
       "   0.23058860835950712,\n",
       "   0.12514345252476444,\n",
       "   0.0807864218410244,\n",
       "   0.05460256100507369,\n",
       "   0.03186911089635178,\n",
       "   0.02472668518965934,\n",
       "   0.020634513167431746,\n",
       "   0.017418156559555448,\n",
       "   0.013975295965208988,\n",
       "   0.011325199323508093,\n",
       "   0.010834440686156077,\n",
       "   0.010585286301038898,\n",
       "   0.009664170089393574,\n",
       "   0.008863856003865668,\n",
       "   0.008629801884513167,\n",
       "   0.00808619231698478,\n",
       "   0.00808619231698478,\n",
       "   0.007753986470161875,\n",
       "   0.0077388862043971975,\n",
       "   0.007670935008456149,\n",
       "   0.007655834742691471,\n",
       "   0.007655834742691471,\n",
       "   0.007648284609809133,\n",
       "   0.007648284609809133,\n",
       "   0.007648284609809133,\n",
       "   0.007414230490456632,\n",
       "   0.007414230490456632,\n",
       "   0.007414230490456632,\n",
       "   0.007414230490456632,\n",
       "   0.007414230490456632,\n",
       "   0.007414230490456632,\n",
       "   0.007414230490456632,\n",
       "   0.007414230490456632,\n",
       "   0.007414230490456632,\n",
       "   0.007414230490456632,\n",
       "   0.007414230490456632,\n",
       "   0.007414230490456632,\n",
       "   0.007414230490456632,\n",
       "   0.007414230490456632,\n",
       "   0.007414230490456632]}}"
      ]
     },
     "execution_count": 24,
     "metadata": {},
     "output_type": "execute_result"
    }
   ],
   "source": [
    "with open(f'{base_path}\\\\output\\\\error_analysis_questionnaire\\\\logistic_regression\\\\validation_metric_questionnaire_experiments.json', 'rb') as f:\n",
    "    metrics_dict[\"logistic_regression\"] = json.load(f)\n",
    "metrics_dict"
   ]
  },
  {
   "cell_type": "code",
   "execution_count": 29,
   "metadata": {},
   "outputs": [
    {
     "data": {
      "text/plain": [
       "<Figure size 640x480 with 0 Axes>"
      ]
     },
     "metadata": {},
     "output_type": "display_data"
    }
   ],
   "source": [
    "for model_name in model_list[\"tree-based\"]:\n",
    "    plt.plot(n_questions_list, metrics_dict[model_name][\"plt_y\"], marker='o', label = model_name, alpha=0.5)\n",
    "plt.plot(n_questions_list, metrics_dict[\"logistic_regression\"][\"plt_y\"], marker='o', label = \"logistic_regression\", alpha=0.5)\n",
    "plt.xlabel('number of questions')\n",
    "plt.ylabel('misdiagnosis rate')\n",
    "plt.title('Questionnaire Experiments')\n",
    "plt.ylim(0, 0.8)\n",
    "plt.legend()\n",
    "plt.savefig(f'{base_path}\\\\output\\\\error_analysis_questionnaire\\\\questionnaire_experiments.jpg', bbox_inches='tight')\n",
    "plt.clf()"
   ]
  },
  {
   "cell_type": "code",
   "execution_count": null,
   "metadata": {},
   "outputs": [],
   "source": []
  }
 ],
 "metadata": {
  "kernelspec": {
   "display_name": "Python 3",
   "language": "python",
   "name": "python3"
  },
  "language_info": {
   "codemirror_mode": {
    "name": "ipython",
    "version": 3
   },
   "file_extension": ".py",
   "mimetype": "text/x-python",
   "name": "python",
   "nbconvert_exporter": "python",
   "pygments_lexer": "ipython3",
   "version": "3.10.0"
  }
 },
 "nbformat": 4,
 "nbformat_minor": 2
}
