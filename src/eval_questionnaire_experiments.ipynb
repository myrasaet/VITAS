{
 "cells": [
  {
   "cell_type": "code",
   "execution_count": 24,
   "metadata": {},
   "outputs": [],
   "source": [
    "import pandas as pd\n",
    "import numpy as np\n",
    "import json\n",
    "import ast\n",
    "import re\n",
    "import os\n",
    "import pickle\n",
    "from tqdm import tqdm\n",
    "from constants import base_path, model_list, max_n_questions, pathology_scope, positive_threshold\n",
    "import matplotlib.pyplot as plt\n",
    "tqdm.pandas()\n",
    "import warnings\n",
    "warnings.filterwarnings(\"ignore\")\n",
    "from tqdm import tqdm\n",
    "tqdm.pandas()"
   ]
  },
  {
   "cell_type": "code",
   "execution_count": 25,
   "metadata": {},
   "outputs": [],
   "source": [
    "with open(f\"{base_path}\\\\input\\\\release_conditions.json\") as f:\n",
    "  disease_dict = json.load(f)\n",
    "if pathology_scope:\n",
    "  disease_list =  pathology_scope + [\"NA\"]\n",
    "else:\n",
    "  disease_list = list(disease_dict.keys()) + [\"NA\"]"
   ]
  },
  {
   "cell_type": "code",
   "execution_count": 26,
   "metadata": {},
   "outputs": [],
   "source": [
    "with open(f\"{base_path}\\\\input\\\\release_evidences.json\") as f:\n",
    "  evidences = json.load(f)\n",
    "evidences_list = []\n",
    "evidences_dict = {}\n",
    "evidences_en_to_code = {}\n",
    "for e in evidences.keys():\n",
    "  # only binary symptoms and antecedents\n",
    "  if (not evidences[e][\"possible-values\"]):\n",
    "    evidences_list.append(e)\n",
    "    evidences_dict[e] = evidences[e][\"question_en\"]\n",
    "    evidences_en_to_code[evidences[e][\"question_en\"]] = e\n",
    "evidences_code_to_en = evidences_dict\n",
    "evidences_list_en = list(evidences_en_to_code.keys())\n",
    "evidences_dict[\"AGE\"] = \"AGE\"\n",
    "evidences_dict[\"SEX\"] = \"SEX\"\n",
    "feature_columns = [\"AGE\", \"SEX\"] + evidences_list"
   ]
  },
  {
   "cell_type": "code",
   "execution_count": 27,
   "metadata": {},
   "outputs": [],
   "source": [
    "def get_next_question(evidences, questionnaire, feature_embeddings_df):\n",
    "    centroid = np.array([feature_embeddings_df.loc[e].values for e in evidences]).mean(axis=0)\n",
    "    _, indices = questionnaire.kneighbors([centroid])\n",
    "    ask_list = [evidences_list_en[i] for i in indices[0] if evidences_list_en[i] not in evidences]\n",
    "    try:\n",
    "        return ask_list\n",
    "    except:\n",
    "        return []"
   ]
  },
  {
   "cell_type": "code",
   "execution_count": 28,
   "metadata": {},
   "outputs": [],
   "source": [
    "def get_evidences(answers, user_evidences, questionnaire, feature_embeddings_df, n_questions):\n",
    "    ask = True\n",
    "    question_counter = 1 # counts initial evidence sa q0\n",
    "    evidences_en = [evidences_code_to_en[e] for e in user_evidences]\n",
    "    answers_en = [evidences_code_to_en[e] for e in answers if e in evidences_list]\n",
    "    asked = evidences_en.copy()\n",
    "    while question_counter < n_questions:\n",
    "      ask =  True\n",
    "      next_question_idx = 0\n",
    "      next_question = get_next_question(evidences_en, questionnaire, feature_embeddings_df)\n",
    "      while ask and (question_counter < n_questions):\n",
    "        if next_question[next_question_idx] not in asked:\n",
    "          answer = 1 if next_question[next_question_idx] in answers_en else 0\n",
    "          asked.append(next_question[next_question_idx])\n",
    "          question_counter+=1\n",
    "          if answer==1:\n",
    "            evidences_en.append(next_question[next_question_idx])\n",
    "            ask = False\n",
    "          else:\n",
    "            next_question_idx += 1\n",
    "          if next_question_idx > n_questions:\n",
    "            break\n",
    "        else:\n",
    "            next_question_idx += 1\n",
    "    return [evidences_en_to_code[e] for e in evidences_en]"
   ]
  },
  {
   "cell_type": "code",
   "execution_count": 29,
   "metadata": {},
   "outputs": [],
   "source": [
    "def data_proc(df, questionnaire, feature_embeddings_df, n_questions):\n",
    "    df[\"binary_evidences_all\"] = df[\"EVIDENCES\"].apply(lambda x: [d for d in ast.literal_eval(x) if d in evidences_list])\n",
    "    df[\"binary_evidences_all_count\"] = df[\"binary_evidences_all\"].apply(lambda x: len(x))\n",
    "    df[\"binary_evidences\"] = df[[\"EVIDENCES\", \"INITIAL_EVIDENCE\"]].progress_apply(lambda x: get_evidences(ast.literal_eval(x[0]), [x[1]], questionnaire, feature_embeddings_df, n_questions), axis=1)\n",
    "    df[\"binary_evidences_count\"] = df[\"binary_evidences\"].apply(lambda x: len(x))\n",
    "    df[\"hit_rate\"] = df[\"binary_evidences_count\"]/df[\"binary_evidences_all_count\"]\n",
    "    hit_rate = df[\"hit_rate\"]\n",
    "    for e in evidences_list:\n",
    "        df[e] = df[\"binary_evidences\"].apply(lambda x: 1 if e in x else 0)\n",
    "    df[\"SEX\"] = df[\"SEX\"].map({'F': 0, 'M': 1})\n",
    "    ftr_df = df[feature_columns + [\"PATHOLOGY\"]]\n",
    "    questionnaire_df = df[[\"binary_evidences_all\", \"binary_evidences\", \"INITIAL_EVIDENCE\"]]\n",
    "    return ftr_df, hit_rate, questionnaire_df"
   ]
  },
  {
   "cell_type": "code",
   "execution_count": 30,
   "metadata": {},
   "outputs": [],
   "source": [
    "def pred(x):\n",
    "    pred_list = []\n",
    "    for i in range(len(disease_list)):\n",
    "        if x[i] >= positive_threshold:\n",
    "            pred_list.append({\n",
    "                \"disease\": disease_list[i],\n",
    "                \"probability\": x[i]})\n",
    "    if pred_list:\n",
    "        pred_df = pd.DataFrame(pred_list).set_index('disease')\n",
    "        # return only top 1 - allows ties\n",
    "        pred_df['rank'] = pred_df['probability'].rank(method='min', ascending=False)\n",
    "        pred_df = pred_df.sort_values(by=\"rank\")\n",
    "        pred_df = pred_df[pred_df[\"rank\"]<=1][[\"probability\"]]\n",
    "        return list(pred_df.index)\n",
    "    else:\n",
    "        return []"
   ]
  },
  {
   "cell_type": "code",
   "execution_count": 31,
   "metadata": {},
   "outputs": [],
   "source": [
    "def get_missed_evidence(actual, asked):\n",
    "    return list(set(actual)^set(asked))"
   ]
  },
  {
   "cell_type": "code",
   "execution_count": 32,
   "metadata": {},
   "outputs": [],
   "source": [
    "def validate(x):\n",
    "    if x[0]:\n",
    "        return [x[0]]==x[1]\n",
    "    else:\n",
    "        return not x[1]"
   ]
  },
  {
   "cell_type": "code",
   "execution_count": 33,
   "metadata": {},
   "outputs": [],
   "source": [
    "with open(f'{base_path}\\\\output\\\\questionnaire\\\\questionnaire.pkl', 'rb') as f:\n",
    "    questionnaire = pickle.load(f)\n",
    "feature_embeddings_df = pd.read_pickle(f'{base_path}\\\\output\\\\questionnaire\\\\questionnaire_embeddings.pkl')"
   ]
  },
  {
   "cell_type": "code",
   "execution_count": 34,
   "metadata": {},
   "outputs": [
    {
     "data": {
      "text/html": [
       "<div>\n",
       "<style scoped>\n",
       "    .dataframe tbody tr th:only-of-type {\n",
       "        vertical-align: middle;\n",
       "    }\n",
       "\n",
       "    .dataframe tbody tr th {\n",
       "        vertical-align: top;\n",
       "    }\n",
       "\n",
       "    .dataframe thead th {\n",
       "        text-align: right;\n",
       "    }\n",
       "</style>\n",
       "<table border=\"1\" class=\"dataframe\">\n",
       "  <thead>\n",
       "    <tr style=\"text-align: right;\">\n",
       "      <th></th>\n",
       "      <th>AGE</th>\n",
       "      <th>DIFFERENTIAL_DIAGNOSIS</th>\n",
       "      <th>SEX</th>\n",
       "      <th>PATHOLOGY</th>\n",
       "      <th>EVIDENCES</th>\n",
       "      <th>INITIAL_EVIDENCE</th>\n",
       "    </tr>\n",
       "  </thead>\n",
       "  <tbody>\n",
       "    <tr>\n",
       "      <th>0</th>\n",
       "      <td>55</td>\n",
       "      <td>[['Anemia', 0.25071110167158567], ['Atrial fib...</td>\n",
       "      <td>F</td>\n",
       "      <td></td>\n",
       "      <td>['E_7', 'E_24', 'E_26', 'E_53', 'E_54_@_V_180'...</td>\n",
       "      <td>E_154</td>\n",
       "    </tr>\n",
       "    <tr>\n",
       "      <th>1</th>\n",
       "      <td>10</td>\n",
       "      <td>[['Guillain-Barré syndrome', 0.135558991316712...</td>\n",
       "      <td>F</td>\n",
       "      <td></td>\n",
       "      <td>['E_16', 'E_29', 'E_50', 'E_53', 'E_54_@_V_182...</td>\n",
       "      <td>E_171</td>\n",
       "    </tr>\n",
       "    <tr>\n",
       "      <th>2</th>\n",
       "      <td>68</td>\n",
       "      <td>[['Influenza', 0.1900250899717378], ['Viral ph...</td>\n",
       "      <td>F</td>\n",
       "      <td></td>\n",
       "      <td>['E_50', 'E_53', 'E_54_@_V_183', 'E_54_@_V_198...</td>\n",
       "      <td>E_53</td>\n",
       "    </tr>\n",
       "    <tr>\n",
       "      <th>3</th>\n",
       "      <td>13</td>\n",
       "      <td>[['Anemia', 0.18697604010451876], ['Atrial fib...</td>\n",
       "      <td>M</td>\n",
       "      <td></td>\n",
       "      <td>['E_7', 'E_24', 'E_26', 'E_53', 'E_54_@_V_180'...</td>\n",
       "      <td>E_53</td>\n",
       "    </tr>\n",
       "    <tr>\n",
       "      <th>4</th>\n",
       "      <td>48</td>\n",
       "      <td>[['Boerhaave', 1.0]]</td>\n",
       "      <td>M</td>\n",
       "      <td></td>\n",
       "      <td>['E_53', 'E_54_@_V_71', 'E_54_@_V_112', 'E_54_...</td>\n",
       "      <td>E_53</td>\n",
       "    </tr>\n",
       "    <tr>\n",
       "      <th>...</th>\n",
       "      <td>...</td>\n",
       "      <td>...</td>\n",
       "      <td>...</td>\n",
       "      <td>...</td>\n",
       "      <td>...</td>\n",
       "      <td>...</td>\n",
       "    </tr>\n",
       "    <tr>\n",
       "      <th>132443</th>\n",
       "      <td>27</td>\n",
       "      <td>[['Viral pharyngitis', 0.22702125813983617], [...</td>\n",
       "      <td>M</td>\n",
       "      <td></td>\n",
       "      <td>['E_41', 'E_48', 'E_53', 'E_54_@_V_161', 'E_55...</td>\n",
       "      <td>E_201</td>\n",
       "    </tr>\n",
       "    <tr>\n",
       "      <th>132444</th>\n",
       "      <td>57</td>\n",
       "      <td>[['Acute pulmonary edema', 0.12078088376840804...</td>\n",
       "      <td>M</td>\n",
       "      <td></td>\n",
       "      <td>['E_5', 'E_53', 'E_54_@_V_154', 'E_54_@_V_183'...</td>\n",
       "      <td>E_151</td>\n",
       "    </tr>\n",
       "    <tr>\n",
       "      <th>132445</th>\n",
       "      <td>52</td>\n",
       "      <td>[['GERD', 0.24494427036287517], ['Bronchitis',...</td>\n",
       "      <td>F</td>\n",
       "      <td>GERD</td>\n",
       "      <td>['E_53', 'E_54_@_V_112', 'E_54_@_V_161', 'E_54...</td>\n",
       "      <td>E_173</td>\n",
       "    </tr>\n",
       "    <tr>\n",
       "      <th>132446</th>\n",
       "      <td>10</td>\n",
       "      <td>[['Epiglottitis', 0.2969684152571116], ['HIV (...</td>\n",
       "      <td>M</td>\n",
       "      <td></td>\n",
       "      <td>['E_53', 'E_54_@_V_179', 'E_54_@_V_192', 'E_55...</td>\n",
       "      <td>E_91</td>\n",
       "    </tr>\n",
       "    <tr>\n",
       "      <th>132447</th>\n",
       "      <td>7</td>\n",
       "      <td>[['Myocarditis', 0.31486179044904566], ['Anemi...</td>\n",
       "      <td>F</td>\n",
       "      <td></td>\n",
       "      <td>['E_0', 'E_53', 'E_54_@_V_161', 'E_55_@_V_29',...</td>\n",
       "      <td>E_53</td>\n",
       "    </tr>\n",
       "  </tbody>\n",
       "</table>\n",
       "<p>132448 rows × 6 columns</p>\n",
       "</div>"
      ],
      "text/plain": [
       "        AGE                             DIFFERENTIAL_DIAGNOSIS SEX PATHOLOGY  \\\n",
       "0        55  [['Anemia', 0.25071110167158567], ['Atrial fib...   F             \n",
       "1        10  [['Guillain-Barré syndrome', 0.135558991316712...   F             \n",
       "2        68  [['Influenza', 0.1900250899717378], ['Viral ph...   F             \n",
       "3        13  [['Anemia', 0.18697604010451876], ['Atrial fib...   M             \n",
       "4        48                               [['Boerhaave', 1.0]]   M             \n",
       "...     ...                                                ...  ..       ...   \n",
       "132443   27  [['Viral pharyngitis', 0.22702125813983617], [...   M             \n",
       "132444   57  [['Acute pulmonary edema', 0.12078088376840804...   M             \n",
       "132445   52  [['GERD', 0.24494427036287517], ['Bronchitis',...   F      GERD   \n",
       "132446   10  [['Epiglottitis', 0.2969684152571116], ['HIV (...   M             \n",
       "132447    7  [['Myocarditis', 0.31486179044904566], ['Anemi...   F             \n",
       "\n",
       "                                                EVIDENCES INITIAL_EVIDENCE  \n",
       "0       ['E_7', 'E_24', 'E_26', 'E_53', 'E_54_@_V_180'...            E_154  \n",
       "1       ['E_16', 'E_29', 'E_50', 'E_53', 'E_54_@_V_182...            E_171  \n",
       "2       ['E_50', 'E_53', 'E_54_@_V_183', 'E_54_@_V_198...             E_53  \n",
       "3       ['E_7', 'E_24', 'E_26', 'E_53', 'E_54_@_V_180'...             E_53  \n",
       "4       ['E_53', 'E_54_@_V_71', 'E_54_@_V_112', 'E_54_...             E_53  \n",
       "...                                                   ...              ...  \n",
       "132443  ['E_41', 'E_48', 'E_53', 'E_54_@_V_161', 'E_55...            E_201  \n",
       "132444  ['E_5', 'E_53', 'E_54_@_V_154', 'E_54_@_V_183'...            E_151  \n",
       "132445  ['E_53', 'E_54_@_V_112', 'E_54_@_V_161', 'E_54...            E_173  \n",
       "132446  ['E_53', 'E_54_@_V_179', 'E_54_@_V_192', 'E_55...             E_91  \n",
       "132447  ['E_0', 'E_53', 'E_54_@_V_161', 'E_55_@_V_29',...             E_53  \n",
       "\n",
       "[132448 rows x 6 columns]"
      ]
     },
     "execution_count": 34,
     "metadata": {},
     "output_type": "execute_result"
    }
   ],
   "source": [
    "diagnosis_df_valid = pd.read_csv(f\"{base_path}\\\\input\\\\release_validate_patients\")\n",
    "diagnosis_df_valid[\"PATHOLOGY\"] = [i if i in disease_list else \"\" for i in diagnosis_df_valid[\"PATHOLOGY\"]]\n",
    "diagnosis_df_valid"
   ]
  },
  {
   "cell_type": "code",
   "execution_count": 35,
   "metadata": {},
   "outputs": [
    {
     "name": "stderr",
     "output_type": "stream",
     "text": [
      "100%|██████████| 5/5 [00:00<00:00, 86.91it/s]\n"
     ]
    },
    {
     "data": {
      "text/plain": [
       "(   AGE  SEX  E_91  E_53  E_159  E_129  E_154  E_155  E_210  E_140  ...  E_199  \\\n",
       " 0   55    0     0     1      0      0      1      0      0      1  ...      0   \n",
       " 1   10    0     0     1      0      0      0      1      0      0  ...      0   \n",
       " 2   68    0     1     1      0      1      0      0      0      0  ...      0   \n",
       " 3   13    1     0     1      0      0      0      0      0      0  ...      0   \n",
       " 4   48    1     0     1      0      0      0      0      1      0  ...      0   \n",
       " \n",
       "    E_121  E_120  E_142  E_195  E_183  E_224  E_223  E_5  PATHOLOGY  \n",
       " 0      0      0      0      0      0      0      0    0             \n",
       " 1      0      0      0      0      0      0      0    0             \n",
       " 2      0      0      0      0      0      0      0    0             \n",
       " 3      0      0      0      0      0      0      0    0             \n",
       " 4      0      0      0      0      0      0      0    0             \n",
       " \n",
       " [5 rows x 211 columns],\n",
       " 0    1.000000\n",
       " 1    0.933333\n",
       " 2    1.000000\n",
       " 3    0.250000\n",
       " 4    1.000000\n",
       " Name: hit_rate, dtype: float64,\n",
       "                                 binary_evidences_all  \\\n",
       " 0  [E_7, E_24, E_26, E_53, E_76, E_82, E_88, E_89...   \n",
       " 1  [E_16, E_29, E_50, E_53, E_66, E_75, E_80, E_8...   \n",
       " 2  [E_50, E_53, E_79, E_88, E_91, E_94, E_129, E_...   \n",
       " 3  [E_7, E_24, E_26, E_53, E_66, E_76, E_82, E_89...   \n",
       " 4                         [E_53, E_78, E_148, E_210]   \n",
       " \n",
       "                                     binary_evidences INITIAL_EVIDENCE  \n",
       " 0  [E_154, E_113, E_26, E_24, E_7, E_146, E_140, ...            E_154  \n",
       " 1  [E_171, E_185, E_81, E_75, E_80, E_111, E_29, ...            E_171  \n",
       " 2  [E_53, E_79, E_91, E_181, E_144, E_50, E_161, ...             E_53  \n",
       " 3                                 [E_53, E_66, E_89]             E_53  \n",
       " 4                         [E_53, E_78, E_148, E_210]             E_53  )"
      ]
     },
     "execution_count": 35,
     "metadata": {},
     "output_type": "execute_result"
    }
   ],
   "source": [
    "# test\n",
    "data_proc(diagnosis_df_valid.head(5), questionnaire, feature_embeddings_df, n_questions=20)"
   ]
  },
  {
   "cell_type": "code",
   "execution_count": 36,
   "metadata": {},
   "outputs": [],
   "source": [
    "questionnaire_dict = {}\n",
    "n_questions_list = list(range(5, max_n_questions, 5))\n",
    "if max_n_questions not in n_questions_list:\n",
    "    n_questions_list.append(max_n_questions)"
   ]
  },
  {
   "cell_type": "code",
   "execution_count": 38,
   "metadata": {},
   "outputs": [
    {
     "name": "stdout",
     "output_type": "stream",
     "text": [
      "Asking 5 questions...\n",
      "Asking 10 questions...\n",
      "Asking 15 questions...\n",
      "Asking 20 questions...\n",
      "Asking 25 questions...\n",
      "Asking 30 questions...\n",
      "Asking 35 questions...\n",
      "Asking 40 questions...\n",
      "Asking 45 questions...\n",
      "Asking 50 questions...\n",
      "Asking 55 questions...\n",
      "Asking 60 questions...\n",
      "Asking 65 questions...\n",
      "Asking 70 questions...\n",
      "Asking 75 questions...\n",
      "Asking 80 questions...\n",
      "Asking 85 questions...\n",
      "Asking 90 questions...\n",
      "Asking 95 questions...\n",
      "Asking 100 questions...\n",
      "Asking 105 questions...\n",
      "Asking 110 questions...\n",
      "Asking 115 questions...\n",
      "Asking 120 questions...\n",
      "Asking 125 questions...\n",
      "Asking 130 questions...\n",
      "Asking 135 questions...\n",
      "Asking 140 questions...\n",
      "Asking 145 questions...\n",
      "Asking 150 questions...\n",
      "Asking 155 questions...\n",
      "Asking 160 questions...\n",
      "Asking 165 questions...\n",
      "Asking 170 questions...\n",
      "Asking 175 questions...\n",
      "Asking 180 questions...\n",
      "Asking 185 questions...\n",
      "Asking 190 questions...\n",
      "Asking 195 questions...\n",
      "Asking 200 questions...\n",
      "Asking 205 questions...\n",
      "Asking 208 questions...\n"
     ]
    }
   ],
   "source": [
    "data_path = f\"{base_path}\\\\processed\\\\questionnaire_experiments\"\n",
    "if not os.path.exists(data_path):\n",
    "    os.makedirs(data_path)\n",
    "\n",
    "# is_load_data default is False\n",
    "# if data is already available in processed folder, change to True\n",
    "is_load_data = False\n",
    "    \n",
    "for n_questions in n_questions_list:\n",
    "    diagnosis_df_valid = pd.read_csv(f\"{base_path}\\\\input\\\\release_validate_patients\")\n",
    "    print(f\"Asking {n_questions} questions...\")\n",
    "    if not is_load_data:\n",
    "        diagnosis_df_valid, hit_rate, questionnaire_df = data_proc(diagnosis_df_valid, questionnaire, feature_embeddings_df, n_questions)\n",
    "        with open(f\"{data_path}\\\\diagnosis_df_valid_{n_questions}.pkl\",'wb') as f:\n",
    "            pickle.dump(diagnosis_df_valid, f)\n",
    "        with open(f\"{data_path}\\\\hit_rate_{n_questions}.pkl\",'wb') as f:\n",
    "            pickle.dump(hit_rate, f)\n",
    "    else:\n",
    "        with open(f'{data_path}\\\\diagnosis_df_valid_{n_questions}.pkl', 'rb') as f:\n",
    "            diagnosis_df_valid = pickle.load(f)\n",
    "        with open(f'{data_path}\\\\hit_rate_{n_questions}.pkl', 'rb') as f:\n",
    "            hit_rate = pickle.load(f)\n",
    "    questionnaire_dict[f\"questionnaire_data_{n_questions}\"] = {\n",
    "        \"diagnosis_df_valid\": diagnosis_df_valid,\n",
    "        \"hit_rate\": hit_rate,\n",
    "    }\n"
   ]
  },
  {
   "cell_type": "code",
   "execution_count": null,
   "metadata": {},
   "outputs": [],
   "source": [
    "metrics_dict = {model_name:{} for model_name in model_list[\"tree-based\"]}\n",
    "metrics_dict[\"logistic_regression\"] = {}"
   ]
  },
  {
   "cell_type": "code",
   "execution_count": null,
   "metadata": {},
   "outputs": [],
   "source": [
    "experiment_path = f\"{base_path}\\\\output\\\\error_analysis_questionnaire\"\n",
    "if not os.path.exists(experiment_path):\n",
    "    os.makedirs(experiment_path)"
   ]
  },
  {
   "cell_type": "code",
   "execution_count": null,
   "metadata": {},
   "outputs": [],
   "source": [
    "def experiment(model_name):\n",
    "    print(f\"Evaluating {model_name}...\")\n",
    "    model_dict = {}\n",
    "    for disease in disease_list:\n",
    "        disease_filename = re.sub('[^a-zA-Z0-9 \\n\\.]', '', disease).replace(\" \", \"_\")\n",
    "        with open(f'{base_path}\\\\output\\\\diseases\\\\{disease_filename}\\\\{model_name}\\\\{disease_filename}_model.pkl', 'rb') as f:\n",
    "            model_dict[disease] = pickle.load(f)\n",
    "    for n_questions in n_questions_list:\n",
    "        diagnosis_df_valid = questionnaire_dict[f\"questionnaire_data_{n_questions}\"][\"diagnosis_df_valid\"]\n",
    "        diagnosis_df_valid[\"PATHOLOGY\"] = [i if i in disease_list else \"\" for i in diagnosis_df_valid[\"PATHOLOGY\"]]\n",
    "        hit_rate = questionnaire_dict[f\"questionnaire_data_{n_questions}\"][\"hit_rate\"]\n",
    "        print(f\"using {n_questions} questions predicting diagnosis...\")\n",
    "        for disease in disease_list:\n",
    "            clf_model = model_dict[disease]\n",
    "            diagnosis_df_valid[disease] = np.round(clf_model.predict_proba(diagnosis_df_valid[feature_columns])[:,1], 2)\n",
    "        diagnosis_df_valid[\"predicted_diagnosis\"] = diagnosis_df_valid[disease_list].progress_apply(lambda x: pred(x), axis=1)\n",
    "        diagnosis_df_valid[\"is_matched\"] = diagnosis_df_valid[[\"PATHOLOGY\", \"predicted_diagnosis\"]].progress_apply(lambda x: validate(x), axis=1)\n",
    "        diagnosis_df_valid[\"hit_rate\"] = hit_rate\n",
    "        print(\"validating...\")\n",
    "        acc = diagnosis_df_valid.is_matched.value_counts().to_dict()\n",
    "        if False not in acc:\n",
    "            acc[False] = 0\n",
    "        acc[\"error_rate\"] = acc[False]/len(diagnosis_df_valid)\n",
    "        acc[\"mean_hit_rate\"] = np.mean(hit_rate)\n",
    "        hit_rate_misdiagnosed = diagnosis_df_valid[diagnosis_df_valid[\"is_matched\"]==False][\"hit_rate\"]\n",
    "        acc[\"mean_hit_rate_misdiagnosed\"] = np.mean(hit_rate_misdiagnosed)\n",
    "        metrics_dict[model_name][f\"n_questions_{n_questions}\"] = acc      \n",
    "    metrics_dict[model_name][\"plt_y\"] = [metrics_dict[model_name][f\"n_questions_{i}\"][\"error_rate\"] for i in n_questions_list]\n",
    "    if not os.path.exists(f\"{experiment_path}\\\\{model_name}\"):\n",
    "        os.makedirs(f\"{experiment_path}\\\\{model_name}\")\n",
    "    with open(f\"{experiment_path}\\\\{model_name}\\\\validation_metric_questionnaire_experiments.json\", \"w\") as outfile: \n",
    "        json.dump(metrics_dict[model_name], outfile, indent=True)\n",
    "    "
   ]
  },
  {
   "cell_type": "markdown",
   "metadata": {},
   "source": [
    "## Tree-based models"
   ]
  },
  {
   "cell_type": "code",
   "execution_count": null,
   "metadata": {},
   "outputs": [
    {
     "name": "stdout",
     "output_type": "stream",
     "text": [
      "Evaluating decision_tree...\n",
      "using 5 questions predicting diagnosis...\n"
     ]
    },
    {
     "name": "stderr",
     "output_type": "stream",
     "text": [
      "100%|██████████| 132448/132448 [00:26<00:00, 5060.69it/s]\n",
      "100%|██████████| 132448/132448 [00:01<00:00, 122510.47it/s]\n"
     ]
    },
    {
     "name": "stdout",
     "output_type": "stream",
     "text": [
      "validating...\n",
      "using 10 questions predicting diagnosis...\n"
     ]
    },
    {
     "name": "stderr",
     "output_type": "stream",
     "text": [
      "100%|██████████| 132448/132448 [00:25<00:00, 5241.21it/s]\n",
      "100%|██████████| 132448/132448 [00:01<00:00, 125381.13it/s]\n"
     ]
    },
    {
     "name": "stdout",
     "output_type": "stream",
     "text": [
      "validating...\n",
      "using 15 questions predicting diagnosis...\n"
     ]
    },
    {
     "name": "stderr",
     "output_type": "stream",
     "text": [
      "100%|██████████| 132448/132448 [00:26<00:00, 5038.69it/s]\n",
      "100%|██████████| 132448/132448 [00:01<00:00, 131179.31it/s]\n"
     ]
    },
    {
     "name": "stdout",
     "output_type": "stream",
     "text": [
      "validating...\n",
      "using 20 questions predicting diagnosis...\n"
     ]
    },
    {
     "name": "stderr",
     "output_type": "stream",
     "text": [
      "100%|██████████| 132448/132448 [00:25<00:00, 5104.11it/s]\n",
      "100%|██████████| 132448/132448 [00:01<00:00, 128158.84it/s]\n"
     ]
    },
    {
     "name": "stdout",
     "output_type": "stream",
     "text": [
      "validating...\n",
      "using 25 questions predicting diagnosis...\n"
     ]
    },
    {
     "name": "stderr",
     "output_type": "stream",
     "text": [
      "100%|██████████| 132448/132448 [00:24<00:00, 5365.29it/s]\n",
      "100%|██████████| 132448/132448 [00:01<00:00, 115422.71it/s]\n"
     ]
    },
    {
     "name": "stdout",
     "output_type": "stream",
     "text": [
      "validating...\n",
      "using 30 questions predicting diagnosis...\n"
     ]
    },
    {
     "name": "stderr",
     "output_type": "stream",
     "text": [
      "100%|██████████| 132448/132448 [00:24<00:00, 5377.88it/s]\n",
      "100%|██████████| 132448/132448 [00:01<00:00, 110518.45it/s]\n"
     ]
    },
    {
     "name": "stdout",
     "output_type": "stream",
     "text": [
      "validating...\n",
      "using 35 questions predicting diagnosis...\n"
     ]
    },
    {
     "name": "stderr",
     "output_type": "stream",
     "text": [
      "100%|██████████| 132448/132448 [00:24<00:00, 5495.99it/s]\n",
      "100%|██████████| 132448/132448 [00:01<00:00, 119850.21it/s]\n"
     ]
    },
    {
     "name": "stdout",
     "output_type": "stream",
     "text": [
      "validating...\n",
      "using 40 questions predicting diagnosis...\n"
     ]
    },
    {
     "name": "stderr",
     "output_type": "stream",
     "text": [
      "100%|██████████| 132448/132448 [00:24<00:00, 5390.43it/s]\n",
      "100%|██████████| 132448/132448 [00:01<00:00, 115195.90it/s]\n"
     ]
    },
    {
     "name": "stdout",
     "output_type": "stream",
     "text": [
      "validating...\n",
      "using 45 questions predicting diagnosis...\n"
     ]
    },
    {
     "name": "stderr",
     "output_type": "stream",
     "text": [
      "100%|██████████| 132448/132448 [00:23<00:00, 5576.34it/s]\n",
      "100%|██████████| 132448/132448 [00:01<00:00, 128225.46it/s]\n"
     ]
    },
    {
     "name": "stdout",
     "output_type": "stream",
     "text": [
      "validating...\n",
      "using 50 questions predicting diagnosis...\n"
     ]
    },
    {
     "name": "stderr",
     "output_type": "stream",
     "text": [
      "100%|██████████| 132448/132448 [00:23<00:00, 5555.07it/s]\n",
      "100%|██████████| 132448/132448 [00:01<00:00, 112041.50it/s]\n"
     ]
    },
    {
     "name": "stdout",
     "output_type": "stream",
     "text": [
      "validating...\n",
      "using 55 questions predicting diagnosis...\n"
     ]
    },
    {
     "name": "stderr",
     "output_type": "stream",
     "text": [
      "100%|██████████| 132448/132448 [00:24<00:00, 5513.84it/s]\n",
      "100%|██████████| 132448/132448 [00:01<00:00, 117592.00it/s]\n"
     ]
    },
    {
     "name": "stdout",
     "output_type": "stream",
     "text": [
      "validating...\n",
      "using 60 questions predicting diagnosis...\n"
     ]
    },
    {
     "name": "stderr",
     "output_type": "stream",
     "text": [
      "100%|██████████| 132448/132448 [00:23<00:00, 5524.84it/s]\n",
      "100%|██████████| 132448/132448 [00:01<00:00, 117074.55it/s]\n"
     ]
    },
    {
     "name": "stdout",
     "output_type": "stream",
     "text": [
      "validating...\n",
      "using 65 questions predicting diagnosis...\n"
     ]
    },
    {
     "name": "stderr",
     "output_type": "stream",
     "text": [
      "100%|██████████| 132448/132448 [00:24<00:00, 5481.38it/s]\n",
      "100%|██████████| 132448/132448 [00:01<00:00, 122323.64it/s]\n"
     ]
    },
    {
     "name": "stdout",
     "output_type": "stream",
     "text": [
      "validating...\n",
      "using 70 questions predicting diagnosis...\n"
     ]
    },
    {
     "name": "stderr",
     "output_type": "stream",
     "text": [
      "100%|██████████| 132448/132448 [00:23<00:00, 5563.01it/s]\n",
      "100%|██████████| 132448/132448 [00:01<00:00, 120345.59it/s]\n"
     ]
    },
    {
     "name": "stdout",
     "output_type": "stream",
     "text": [
      "validating...\n",
      "using 75 questions predicting diagnosis...\n"
     ]
    },
    {
     "name": "stderr",
     "output_type": "stream",
     "text": [
      "100%|██████████| 132448/132448 [00:23<00:00, 5602.47it/s]\n",
      "100%|██████████| 132448/132448 [00:01<00:00, 122399.02it/s]\n"
     ]
    },
    {
     "name": "stdout",
     "output_type": "stream",
     "text": [
      "validating...\n",
      "using 80 questions predicting diagnosis...\n"
     ]
    },
    {
     "name": "stderr",
     "output_type": "stream",
     "text": [
      "100%|██████████| 132448/132448 [00:24<00:00, 5514.77it/s]\n",
      "100%|██████████| 132448/132448 [00:01<00:00, 122387.99it/s]\n"
     ]
    },
    {
     "name": "stdout",
     "output_type": "stream",
     "text": [
      "validating...\n",
      "using 85 questions predicting diagnosis...\n"
     ]
    },
    {
     "name": "stderr",
     "output_type": "stream",
     "text": [
      "100%|██████████| 132448/132448 [00:23<00:00, 5632.58it/s]\n",
      "100%|██████████| 132448/132448 [00:01<00:00, 124191.88it/s]\n"
     ]
    },
    {
     "name": "stdout",
     "output_type": "stream",
     "text": [
      "validating...\n",
      "using 90 questions predicting diagnosis...\n"
     ]
    },
    {
     "name": "stderr",
     "output_type": "stream",
     "text": [
      "100%|██████████| 132448/132448 [00:23<00:00, 5614.67it/s]\n",
      "100%|██████████| 132448/132448 [00:01<00:00, 117431.84it/s]\n"
     ]
    },
    {
     "name": "stdout",
     "output_type": "stream",
     "text": [
      "validating...\n",
      "using 95 questions predicting diagnosis...\n"
     ]
    },
    {
     "name": "stderr",
     "output_type": "stream",
     "text": [
      "100%|██████████| 132448/132448 [00:23<00:00, 5542.33it/s]\n",
      "100%|██████████| 132448/132448 [00:01<00:00, 120530.64it/s]\n"
     ]
    },
    {
     "name": "stdout",
     "output_type": "stream",
     "text": [
      "validating...\n",
      "using 100 questions predicting diagnosis...\n"
     ]
    },
    {
     "name": "stderr",
     "output_type": "stream",
     "text": [
      "100%|██████████| 132448/132448 [00:24<00:00, 5455.78it/s]\n",
      "100%|██████████| 132448/132448 [00:01<00:00, 105012.23it/s]\n"
     ]
    },
    {
     "name": "stdout",
     "output_type": "stream",
     "text": [
      "validating...\n",
      "using 105 questions predicting diagnosis...\n"
     ]
    },
    {
     "name": "stderr",
     "output_type": "stream",
     "text": [
      "100%|██████████| 132448/132448 [00:26<00:00, 5066.10it/s]\n",
      "100%|██████████| 132448/132448 [00:01<00:00, 112466.48it/s]\n"
     ]
    },
    {
     "name": "stdout",
     "output_type": "stream",
     "text": [
      "validating...\n",
      "using 110 questions predicting diagnosis...\n"
     ]
    },
    {
     "name": "stderr",
     "output_type": "stream",
     "text": [
      "100%|██████████| 132448/132448 [00:24<00:00, 5361.97it/s]\n",
      "100%|██████████| 132448/132448 [00:01<00:00, 127202.42it/s]\n"
     ]
    },
    {
     "name": "stdout",
     "output_type": "stream",
     "text": [
      "validating...\n",
      "using 115 questions predicting diagnosis...\n"
     ]
    },
    {
     "name": "stderr",
     "output_type": "stream",
     "text": [
      "100%|██████████| 132448/132448 [00:23<00:00, 5550.55it/s]\n",
      "100%|██████████| 132448/132448 [00:01<00:00, 123930.34it/s]\n"
     ]
    },
    {
     "name": "stdout",
     "output_type": "stream",
     "text": [
      "validating...\n",
      "using 120 questions predicting diagnosis...\n"
     ]
    },
    {
     "name": "stderr",
     "output_type": "stream",
     "text": [
      "100%|██████████| 132448/132448 [00:23<00:00, 5559.30it/s]\n",
      "100%|██████████| 132448/132448 [00:01<00:00, 116819.08it/s]\n"
     ]
    },
    {
     "name": "stdout",
     "output_type": "stream",
     "text": [
      "validating...\n",
      "using 125 questions predicting diagnosis...\n"
     ]
    },
    {
     "name": "stderr",
     "output_type": "stream",
     "text": [
      "100%|██████████| 132448/132448 [00:23<00:00, 5549.25it/s]\n",
      "100%|██████████| 132448/132448 [00:01<00:00, 116164.39it/s]\n"
     ]
    },
    {
     "name": "stdout",
     "output_type": "stream",
     "text": [
      "validating...\n",
      "using 130 questions predicting diagnosis...\n"
     ]
    },
    {
     "name": "stderr",
     "output_type": "stream",
     "text": [
      "100%|██████████| 132448/132448 [00:23<00:00, 5630.63it/s]\n",
      "100%|██████████| 132448/132448 [00:01<00:00, 126879.94it/s]\n"
     ]
    },
    {
     "name": "stdout",
     "output_type": "stream",
     "text": [
      "validating...\n",
      "using 135 questions predicting diagnosis...\n"
     ]
    },
    {
     "name": "stderr",
     "output_type": "stream",
     "text": [
      "100%|██████████| 132448/132448 [00:23<00:00, 5612.85it/s]\n",
      "100%|██████████| 132448/132448 [00:01<00:00, 120095.18it/s]\n"
     ]
    },
    {
     "name": "stdout",
     "output_type": "stream",
     "text": [
      "validating...\n",
      "using 140 questions predicting diagnosis...\n"
     ]
    },
    {
     "name": "stderr",
     "output_type": "stream",
     "text": [
      "100%|██████████| 132448/132448 [00:23<00:00, 5648.85it/s]\n",
      "100%|██████████| 132448/132448 [00:01<00:00, 120230.73it/s]\n"
     ]
    },
    {
     "name": "stdout",
     "output_type": "stream",
     "text": [
      "validating...\n",
      "using 145 questions predicting diagnosis...\n"
     ]
    },
    {
     "name": "stderr",
     "output_type": "stream",
     "text": [
      "100%|██████████| 132448/132448 [00:23<00:00, 5589.35it/s]\n",
      "100%|██████████| 132448/132448 [00:01<00:00, 124416.62it/s]\n"
     ]
    },
    {
     "name": "stdout",
     "output_type": "stream",
     "text": [
      "validating...\n",
      "using 150 questions predicting diagnosis...\n"
     ]
    },
    {
     "name": "stderr",
     "output_type": "stream",
     "text": [
      "100%|██████████| 132448/132448 [00:23<00:00, 5667.63it/s]\n",
      "100%|██████████| 132448/132448 [00:01<00:00, 115011.57it/s]\n"
     ]
    },
    {
     "name": "stdout",
     "output_type": "stream",
     "text": [
      "validating...\n",
      "using 155 questions predicting diagnosis...\n"
     ]
    },
    {
     "name": "stderr",
     "output_type": "stream",
     "text": [
      "100%|██████████| 132448/132448 [00:23<00:00, 5554.24it/s]\n",
      "100%|██████████| 132448/132448 [00:01<00:00, 120724.86it/s]\n"
     ]
    },
    {
     "name": "stdout",
     "output_type": "stream",
     "text": [
      "validating...\n",
      "using 160 questions predicting diagnosis...\n"
     ]
    },
    {
     "name": "stderr",
     "output_type": "stream",
     "text": [
      "100%|██████████| 132448/132448 [00:24<00:00, 5516.46it/s]\n",
      "100%|██████████| 132448/132448 [00:01<00:00, 113657.87it/s]\n"
     ]
    },
    {
     "name": "stdout",
     "output_type": "stream",
     "text": [
      "validating...\n",
      "using 165 questions predicting diagnosis...\n"
     ]
    },
    {
     "name": "stderr",
     "output_type": "stream",
     "text": [
      "100%|██████████| 132448/132448 [00:23<00:00, 5656.92it/s]\n",
      "100%|██████████| 132448/132448 [00:01<00:00, 122340.74it/s]\n"
     ]
    },
    {
     "name": "stdout",
     "output_type": "stream",
     "text": [
      "validating...\n",
      "using 170 questions predicting diagnosis...\n"
     ]
    },
    {
     "name": "stderr",
     "output_type": "stream",
     "text": [
      "100%|██████████| 132448/132448 [00:23<00:00, 5557.91it/s]\n",
      "100%|██████████| 132448/132448 [00:01<00:00, 121169.48it/s]\n"
     ]
    },
    {
     "name": "stdout",
     "output_type": "stream",
     "text": [
      "validating...\n",
      "using 175 questions predicting diagnosis...\n"
     ]
    },
    {
     "name": "stderr",
     "output_type": "stream",
     "text": [
      "100%|██████████| 132448/132448 [00:23<00:00, 5633.01it/s]\n",
      "100%|██████████| 132448/132448 [00:01<00:00, 118802.30it/s]\n"
     ]
    },
    {
     "name": "stdout",
     "output_type": "stream",
     "text": [
      "validating...\n",
      "using 180 questions predicting diagnosis...\n"
     ]
    },
    {
     "name": "stderr",
     "output_type": "stream",
     "text": [
      "100%|██████████| 132448/132448 [00:23<00:00, 5593.98it/s]\n",
      "100%|██████████| 132448/132448 [00:01<00:00, 120523.48it/s]\n"
     ]
    },
    {
     "name": "stdout",
     "output_type": "stream",
     "text": [
      "validating...\n",
      "using 185 questions predicting diagnosis...\n"
     ]
    },
    {
     "name": "stderr",
     "output_type": "stream",
     "text": [
      "100%|██████████| 132448/132448 [00:23<00:00, 5602.15it/s]\n",
      "100%|██████████| 132448/132448 [00:01<00:00, 113149.78it/s]\n"
     ]
    },
    {
     "name": "stdout",
     "output_type": "stream",
     "text": [
      "validating...\n",
      "using 190 questions predicting diagnosis...\n"
     ]
    },
    {
     "name": "stderr",
     "output_type": "stream",
     "text": [
      "100%|██████████| 132448/132448 [00:23<00:00, 5662.65it/s]\n",
      "100%|██████████| 132448/132448 [00:01<00:00, 120014.34it/s]\n"
     ]
    },
    {
     "name": "stdout",
     "output_type": "stream",
     "text": [
      "validating...\n",
      "using 195 questions predicting diagnosis...\n"
     ]
    },
    {
     "name": "stderr",
     "output_type": "stream",
     "text": [
      "100%|██████████| 132448/132448 [00:23<00:00, 5644.55it/s]\n",
      "100%|██████████| 132448/132448 [00:01<00:00, 118736.84it/s]\n"
     ]
    },
    {
     "name": "stdout",
     "output_type": "stream",
     "text": [
      "validating...\n",
      "using 200 questions predicting diagnosis...\n"
     ]
    },
    {
     "name": "stderr",
     "output_type": "stream",
     "text": [
      "100%|██████████| 132448/132448 [00:23<00:00, 5523.41it/s]\n",
      "100%|██████████| 132448/132448 [00:01<00:00, 116994.64it/s]\n"
     ]
    },
    {
     "name": "stdout",
     "output_type": "stream",
     "text": [
      "validating...\n",
      "using 205 questions predicting diagnosis...\n"
     ]
    },
    {
     "name": "stderr",
     "output_type": "stream",
     "text": [
      "100%|██████████| 132448/132448 [00:23<00:00, 5604.99it/s]\n",
      "100%|██████████| 132448/132448 [00:01<00:00, 120844.64it/s]\n"
     ]
    },
    {
     "name": "stdout",
     "output_type": "stream",
     "text": [
      "validating...\n",
      "using 208 questions predicting diagnosis...\n"
     ]
    },
    {
     "name": "stderr",
     "output_type": "stream",
     "text": [
      "100%|██████████| 132448/132448 [00:23<00:00, 5630.15it/s]\n",
      "100%|██████████| 132448/132448 [00:01<00:00, 109095.67it/s]\n"
     ]
    },
    {
     "name": "stdout",
     "output_type": "stream",
     "text": [
      "validating...\n",
      "Evaluating random_forest...\n",
      "using 5 questions predicting diagnosis...\n"
     ]
    },
    {
     "name": "stderr",
     "output_type": "stream",
     "text": [
      "100%|██████████| 132448/132448 [00:20<00:00, 6447.11it/s]\n",
      "100%|██████████| 132448/132448 [00:01<00:00, 117012.51it/s]\n"
     ]
    },
    {
     "name": "stdout",
     "output_type": "stream",
     "text": [
      "validating...\n",
      "using 10 questions predicting diagnosis...\n"
     ]
    },
    {
     "name": "stderr",
     "output_type": "stream",
     "text": [
      "100%|██████████| 132448/132448 [00:26<00:00, 5059.40it/s]\n",
      "100%|██████████| 132448/132448 [00:01<00:00, 124039.45it/s]\n"
     ]
    },
    {
     "name": "stdout",
     "output_type": "stream",
     "text": [
      "validating...\n",
      "using 15 questions predicting diagnosis...\n"
     ]
    },
    {
     "name": "stderr",
     "output_type": "stream",
     "text": [
      "100%|██████████| 132448/132448 [00:26<00:00, 4983.57it/s]\n",
      "100%|██████████| 132448/132448 [00:01<00:00, 119120.56it/s]\n"
     ]
    },
    {
     "name": "stdout",
     "output_type": "stream",
     "text": [
      "validating...\n",
      "using 20 questions predicting diagnosis...\n"
     ]
    },
    {
     "name": "stderr",
     "output_type": "stream",
     "text": [
      "100%|██████████| 132448/132448 [00:26<00:00, 5063.15it/s]\n",
      "100%|██████████| 132448/132448 [00:01<00:00, 104629.75it/s]\n"
     ]
    },
    {
     "name": "stdout",
     "output_type": "stream",
     "text": [
      "validating...\n",
      "using 25 questions predicting diagnosis...\n"
     ]
    },
    {
     "name": "stderr",
     "output_type": "stream",
     "text": [
      "100%|██████████| 132448/132448 [00:24<00:00, 5377.20it/s]\n",
      "100%|██████████| 132448/132448 [00:01<00:00, 104703.70it/s]\n"
     ]
    },
    {
     "name": "stdout",
     "output_type": "stream",
     "text": [
      "validating...\n",
      "using 30 questions predicting diagnosis...\n"
     ]
    },
    {
     "name": "stderr",
     "output_type": "stream",
     "text": [
      "100%|██████████| 132448/132448 [00:24<00:00, 5427.03it/s]\n",
      "100%|██████████| 132448/132448 [00:01<00:00, 112343.80it/s]\n"
     ]
    },
    {
     "name": "stdout",
     "output_type": "stream",
     "text": [
      "validating...\n",
      "using 35 questions predicting diagnosis...\n"
     ]
    },
    {
     "name": "stderr",
     "output_type": "stream",
     "text": [
      "100%|██████████| 132448/132448 [00:24<00:00, 5510.49it/s]\n",
      "100%|██████████| 132448/132448 [00:01<00:00, 116263.66it/s]\n"
     ]
    },
    {
     "name": "stdout",
     "output_type": "stream",
     "text": [
      "validating...\n",
      "using 40 questions predicting diagnosis...\n"
     ]
    },
    {
     "name": "stderr",
     "output_type": "stream",
     "text": [
      "100%|██████████| 132448/132448 [00:24<00:00, 5414.35it/s]\n",
      "100%|██████████| 132448/132448 [00:01<00:00, 120517.88it/s]\n"
     ]
    },
    {
     "name": "stdout",
     "output_type": "stream",
     "text": [
      "validating...\n",
      "using 45 questions predicting diagnosis...\n"
     ]
    },
    {
     "name": "stderr",
     "output_type": "stream",
     "text": [
      "100%|██████████| 132448/132448 [00:23<00:00, 5730.02it/s]\n",
      "100%|██████████| 132448/132448 [00:01<00:00, 111697.99it/s]\n"
     ]
    },
    {
     "name": "stdout",
     "output_type": "stream",
     "text": [
      "validating...\n",
      "using 50 questions predicting diagnosis...\n"
     ]
    },
    {
     "name": "stderr",
     "output_type": "stream",
     "text": [
      "100%|██████████| 132448/132448 [00:22<00:00, 5801.45it/s]\n",
      "100%|██████████| 132448/132448 [00:01<00:00, 116984.24it/s]\n"
     ]
    },
    {
     "name": "stdout",
     "output_type": "stream",
     "text": [
      "validating...\n",
      "using 55 questions predicting diagnosis...\n"
     ]
    },
    {
     "name": "stderr",
     "output_type": "stream",
     "text": [
      "100%|██████████| 132448/132448 [00:23<00:00, 5758.02it/s]\n",
      "100%|██████████| 132448/132448 [00:01<00:00, 122690.16it/s]\n"
     ]
    },
    {
     "name": "stdout",
     "output_type": "stream",
     "text": [
      "validating...\n",
      "using 60 questions predicting diagnosis...\n"
     ]
    },
    {
     "name": "stderr",
     "output_type": "stream",
     "text": [
      "100%|██████████| 132448/132448 [00:23<00:00, 5592.04it/s]\n",
      "100%|██████████| 132448/132448 [00:01<00:00, 115305.46it/s]\n"
     ]
    },
    {
     "name": "stdout",
     "output_type": "stream",
     "text": [
      "validating...\n",
      "using 65 questions predicting diagnosis...\n"
     ]
    },
    {
     "name": "stderr",
     "output_type": "stream",
     "text": [
      "100%|██████████| 132448/132448 [00:23<00:00, 5529.38it/s]\n",
      "100%|██████████| 132448/132448 [00:01<00:00, 115331.58it/s]\n"
     ]
    },
    {
     "name": "stdout",
     "output_type": "stream",
     "text": [
      "validating...\n",
      "using 70 questions predicting diagnosis...\n"
     ]
    },
    {
     "name": "stderr",
     "output_type": "stream",
     "text": [
      "100%|██████████| 132448/132448 [00:22<00:00, 5772.12it/s]\n",
      "100%|██████████| 132448/132448 [00:01<00:00, 116894.52it/s]\n"
     ]
    },
    {
     "name": "stdout",
     "output_type": "stream",
     "text": [
      "validating...\n",
      "using 75 questions predicting diagnosis...\n"
     ]
    },
    {
     "name": "stderr",
     "output_type": "stream",
     "text": [
      "100%|██████████| 132448/132448 [00:22<00:00, 5771.96it/s]\n",
      "100%|██████████| 132448/132448 [00:01<00:00, 117462.83it/s]\n"
     ]
    },
    {
     "name": "stdout",
     "output_type": "stream",
     "text": [
      "validating...\n",
      "using 80 questions predicting diagnosis...\n"
     ]
    },
    {
     "name": "stderr",
     "output_type": "stream",
     "text": [
      "100%|██████████| 132448/132448 [00:22<00:00, 5793.02it/s]\n",
      "100%|██████████| 132448/132448 [00:01<00:00, 120820.15it/s]\n"
     ]
    },
    {
     "name": "stdout",
     "output_type": "stream",
     "text": [
      "validating...\n",
      "using 85 questions predicting diagnosis...\n"
     ]
    },
    {
     "name": "stderr",
     "output_type": "stream",
     "text": [
      "100%|██████████| 132448/132448 [00:22<00:00, 5801.83it/s]\n",
      "100%|██████████| 132448/132448 [00:01<00:00, 122360.79it/s]\n"
     ]
    },
    {
     "name": "stdout",
     "output_type": "stream",
     "text": [
      "validating...\n",
      "using 90 questions predicting diagnosis...\n"
     ]
    },
    {
     "name": "stderr",
     "output_type": "stream",
     "text": [
      "100%|██████████| 132448/132448 [00:22<00:00, 5830.00it/s]\n",
      "100%|██████████| 132448/132448 [00:01<00:00, 116933.94it/s]\n"
     ]
    },
    {
     "name": "stdout",
     "output_type": "stream",
     "text": [
      "validating...\n",
      "using 95 questions predicting diagnosis...\n"
     ]
    },
    {
     "name": "stderr",
     "output_type": "stream",
     "text": [
      "100%|██████████| 132448/132448 [00:23<00:00, 5666.72it/s]\n",
      "100%|██████████| 132448/132448 [00:01<00:00, 119776.67it/s]\n"
     ]
    },
    {
     "name": "stdout",
     "output_type": "stream",
     "text": [
      "validating...\n",
      "using 100 questions predicting diagnosis...\n"
     ]
    },
    {
     "name": "stderr",
     "output_type": "stream",
     "text": [
      "100%|██████████| 132448/132448 [00:22<00:00, 5812.75it/s]\n",
      "100%|██████████| 132448/132448 [00:01<00:00, 118741.31it/s]\n"
     ]
    },
    {
     "name": "stdout",
     "output_type": "stream",
     "text": [
      "validating...\n",
      "using 105 questions predicting diagnosis...\n"
     ]
    },
    {
     "name": "stderr",
     "output_type": "stream",
     "text": [
      "100%|██████████| 132448/132448 [00:23<00:00, 5726.26it/s]\n",
      "100%|██████████| 132448/132448 [00:01<00:00, 116953.07it/s]\n"
     ]
    },
    {
     "name": "stdout",
     "output_type": "stream",
     "text": [
      "validating...\n",
      "using 110 questions predicting diagnosis...\n"
     ]
    },
    {
     "name": "stderr",
     "output_type": "stream",
     "text": [
      "100%|██████████| 132448/132448 [00:23<00:00, 5743.29it/s]\n",
      "100%|██████████| 132448/132448 [00:01<00:00, 120560.51it/s]\n"
     ]
    },
    {
     "name": "stdout",
     "output_type": "stream",
     "text": [
      "validating...\n",
      "using 115 questions predicting diagnosis...\n"
     ]
    },
    {
     "name": "stderr",
     "output_type": "stream",
     "text": [
      "100%|██████████| 132448/132448 [00:22<00:00, 5816.43it/s]\n",
      "100%|██████████| 132448/132448 [00:01<00:00, 122326.41it/s]\n"
     ]
    },
    {
     "name": "stdout",
     "output_type": "stream",
     "text": [
      "validating...\n",
      "using 120 questions predicting diagnosis...\n"
     ]
    },
    {
     "name": "stderr",
     "output_type": "stream",
     "text": [
      "100%|██████████| 132448/132448 [00:22<00:00, 5774.83it/s]\n",
      "100%|██████████| 132448/132448 [00:01<00:00, 121130.78it/s]\n"
     ]
    },
    {
     "name": "stdout",
     "output_type": "stream",
     "text": [
      "validating...\n",
      "using 125 questions predicting diagnosis...\n"
     ]
    },
    {
     "name": "stderr",
     "output_type": "stream",
     "text": [
      "100%|██████████| 132448/132448 [00:22<00:00, 5767.75it/s]\n",
      "100%|██████████| 132448/132448 [00:01<00:00, 118101.99it/s]\n"
     ]
    },
    {
     "name": "stdout",
     "output_type": "stream",
     "text": [
      "validating...\n",
      "using 130 questions predicting diagnosis...\n"
     ]
    },
    {
     "name": "stderr",
     "output_type": "stream",
     "text": [
      "100%|██████████| 132448/132448 [00:22<00:00, 5791.16it/s]\n",
      "100%|██████████| 132448/132448 [00:01<00:00, 119119.18it/s]\n"
     ]
    },
    {
     "name": "stdout",
     "output_type": "stream",
     "text": [
      "validating...\n",
      "using 135 questions predicting diagnosis...\n"
     ]
    },
    {
     "name": "stderr",
     "output_type": "stream",
     "text": [
      "100%|██████████| 132448/132448 [00:22<00:00, 5784.66it/s]\n",
      "100%|██████████| 132448/132448 [00:01<00:00, 113538.10it/s]\n"
     ]
    },
    {
     "name": "stdout",
     "output_type": "stream",
     "text": [
      "validating...\n",
      "using 140 questions predicting diagnosis...\n"
     ]
    },
    {
     "name": "stderr",
     "output_type": "stream",
     "text": [
      "100%|██████████| 132448/132448 [00:23<00:00, 5735.71it/s]\n",
      "100%|██████████| 132448/132448 [00:01<00:00, 121837.36it/s]\n"
     ]
    },
    {
     "name": "stdout",
     "output_type": "stream",
     "text": [
      "validating...\n",
      "using 145 questions predicting diagnosis...\n"
     ]
    },
    {
     "name": "stderr",
     "output_type": "stream",
     "text": [
      "100%|██████████| 132448/132448 [00:22<00:00, 5775.39it/s]\n",
      "100%|██████████| 132448/132448 [00:01<00:00, 116099.33it/s]\n"
     ]
    },
    {
     "name": "stdout",
     "output_type": "stream",
     "text": [
      "validating...\n",
      "using 150 questions predicting diagnosis...\n"
     ]
    },
    {
     "name": "stderr",
     "output_type": "stream",
     "text": [
      "100%|██████████| 132448/132448 [00:23<00:00, 5640.80it/s]\n",
      "100%|██████████| 132448/132448 [00:01<00:00, 119500.41it/s]\n"
     ]
    },
    {
     "name": "stdout",
     "output_type": "stream",
     "text": [
      "validating...\n",
      "using 155 questions predicting diagnosis...\n"
     ]
    },
    {
     "name": "stderr",
     "output_type": "stream",
     "text": [
      "100%|██████████| 132448/132448 [00:22<00:00, 5759.31it/s]\n",
      "100%|██████████| 132448/132448 [00:01<00:00, 125652.79it/s]\n"
     ]
    },
    {
     "name": "stdout",
     "output_type": "stream",
     "text": [
      "validating...\n",
      "using 160 questions predicting diagnosis...\n"
     ]
    },
    {
     "name": "stderr",
     "output_type": "stream",
     "text": [
      "100%|██████████| 132448/132448 [00:23<00:00, 5730.33it/s]\n",
      "100%|██████████| 132448/132448 [00:01<00:00, 117389.51it/s]\n"
     ]
    },
    {
     "name": "stdout",
     "output_type": "stream",
     "text": [
      "validating...\n",
      "using 165 questions predicting diagnosis...\n"
     ]
    },
    {
     "name": "stderr",
     "output_type": "stream",
     "text": [
      "100%|██████████| 132448/132448 [00:23<00:00, 5723.81it/s]\n",
      "100%|██████████| 132448/132448 [00:01<00:00, 115213.77it/s]\n"
     ]
    },
    {
     "name": "stdout",
     "output_type": "stream",
     "text": [
      "validating...\n",
      "using 170 questions predicting diagnosis...\n"
     ]
    },
    {
     "name": "stderr",
     "output_type": "stream",
     "text": [
      "100%|██████████| 132448/132448 [00:22<00:00, 5809.63it/s]\n",
      "100%|██████████| 132448/132448 [00:01<00:00, 117828.17it/s]\n"
     ]
    },
    {
     "name": "stdout",
     "output_type": "stream",
     "text": [
      "validating...\n",
      "using 175 questions predicting diagnosis...\n"
     ]
    },
    {
     "name": "stderr",
     "output_type": "stream",
     "text": [
      "100%|██████████| 132448/132448 [00:23<00:00, 5745.86it/s]\n",
      "100%|██████████| 132448/132448 [00:01<00:00, 117456.84it/s]\n"
     ]
    },
    {
     "name": "stdout",
     "output_type": "stream",
     "text": [
      "validating...\n",
      "using 180 questions predicting diagnosis...\n"
     ]
    },
    {
     "name": "stderr",
     "output_type": "stream",
     "text": [
      "100%|██████████| 132448/132448 [00:22<00:00, 5769.43it/s]\n",
      "100%|██████████| 132448/132448 [00:01<00:00, 117030.40it/s]\n"
     ]
    },
    {
     "name": "stdout",
     "output_type": "stream",
     "text": [
      "validating...\n",
      "using 185 questions predicting diagnosis...\n"
     ]
    },
    {
     "name": "stderr",
     "output_type": "stream",
     "text": [
      "100%|██████████| 132448/132448 [00:22<00:00, 5776.01it/s]\n",
      "100%|██████████| 132448/132448 [00:01<00:00, 120356.15it/s]\n"
     ]
    },
    {
     "name": "stdout",
     "output_type": "stream",
     "text": [
      "validating...\n",
      "using 190 questions predicting diagnosis...\n"
     ]
    },
    {
     "name": "stderr",
     "output_type": "stream",
     "text": [
      "100%|██████████| 132448/132448 [00:22<00:00, 5777.53it/s]\n",
      "100%|██████████| 132448/132448 [00:01<00:00, 110043.04it/s]\n"
     ]
    },
    {
     "name": "stdout",
     "output_type": "stream",
     "text": [
      "validating...\n",
      "using 195 questions predicting diagnosis...\n"
     ]
    },
    {
     "name": "stderr",
     "output_type": "stream",
     "text": [
      "100%|██████████| 132448/132448 [00:22<00:00, 5788.49it/s]\n",
      "100%|██████████| 132448/132448 [00:01<00:00, 112095.58it/s]\n"
     ]
    },
    {
     "name": "stdout",
     "output_type": "stream",
     "text": [
      "validating...\n",
      "using 200 questions predicting diagnosis...\n"
     ]
    },
    {
     "name": "stderr",
     "output_type": "stream",
     "text": [
      "100%|██████████| 132448/132448 [00:22<00:00, 5801.00it/s]\n",
      "100%|██████████| 132448/132448 [00:01<00:00, 124251.71it/s]\n"
     ]
    },
    {
     "name": "stdout",
     "output_type": "stream",
     "text": [
      "validating...\n",
      "using 205 questions predicting diagnosis...\n"
     ]
    },
    {
     "name": "stderr",
     "output_type": "stream",
     "text": [
      "100%|██████████| 132448/132448 [00:23<00:00, 5596.40it/s]\n",
      "100%|██████████| 132448/132448 [00:01<00:00, 122784.47it/s]\n"
     ]
    },
    {
     "name": "stdout",
     "output_type": "stream",
     "text": [
      "validating...\n",
      "using 208 questions predicting diagnosis...\n"
     ]
    },
    {
     "name": "stderr",
     "output_type": "stream",
     "text": [
      "100%|██████████| 132448/132448 [00:23<00:00, 5606.52it/s]\n",
      "100%|██████████| 132448/132448 [00:01<00:00, 115272.68it/s]\n"
     ]
    },
    {
     "name": "stdout",
     "output_type": "stream",
     "text": [
      "validating...\n",
      "Evaluating gradient_boost...\n",
      "using 5 questions predicting diagnosis...\n"
     ]
    },
    {
     "name": "stderr",
     "output_type": "stream",
     "text": [
      "100%|██████████| 132448/132448 [00:22<00:00, 5886.77it/s]\n",
      "100%|██████████| 132448/132448 [00:01<00:00, 111789.59it/s]\n"
     ]
    },
    {
     "name": "stdout",
     "output_type": "stream",
     "text": [
      "validating...\n",
      "using 10 questions predicting diagnosis...\n"
     ]
    },
    {
     "name": "stderr",
     "output_type": "stream",
     "text": [
      "100%|██████████| 132448/132448 [00:17<00:00, 7443.91it/s]\n",
      "100%|██████████| 132448/132448 [00:01<00:00, 118087.48it/s]\n"
     ]
    },
    {
     "name": "stdout",
     "output_type": "stream",
     "text": [
      "validating...\n",
      "using 15 questions predicting diagnosis...\n"
     ]
    },
    {
     "name": "stderr",
     "output_type": "stream",
     "text": [
      "100%|██████████| 132448/132448 [00:21<00:00, 6237.81it/s]\n",
      "100%|██████████| 132448/132448 [00:01<00:00, 116994.20it/s]\n"
     ]
    },
    {
     "name": "stdout",
     "output_type": "stream",
     "text": [
      "validating...\n",
      "using 20 questions predicting diagnosis...\n"
     ]
    },
    {
     "name": "stderr",
     "output_type": "stream",
     "text": [
      "100%|██████████| 132448/132448 [00:23<00:00, 5669.63it/s]\n",
      "100%|██████████| 132448/132448 [00:01<00:00, 107428.31it/s]\n"
     ]
    },
    {
     "name": "stdout",
     "output_type": "stream",
     "text": [
      "validating...\n",
      "using 25 questions predicting diagnosis...\n"
     ]
    },
    {
     "name": "stderr",
     "output_type": "stream",
     "text": [
      "100%|██████████| 132448/132448 [00:23<00:00, 5693.29it/s]\n",
      "100%|██████████| 132448/132448 [00:01<00:00, 118668.33it/s]\n"
     ]
    },
    {
     "name": "stdout",
     "output_type": "stream",
     "text": [
      "validating...\n",
      "using 30 questions predicting diagnosis...\n"
     ]
    },
    {
     "name": "stderr",
     "output_type": "stream",
     "text": [
      "100%|██████████| 132448/132448 [00:23<00:00, 5594.39it/s]\n",
      "100%|██████████| 132448/132448 [00:01<00:00, 119649.64it/s]\n"
     ]
    },
    {
     "name": "stdout",
     "output_type": "stream",
     "text": [
      "validating...\n",
      "using 35 questions predicting diagnosis...\n"
     ]
    },
    {
     "name": "stderr",
     "output_type": "stream",
     "text": [
      "100%|██████████| 132448/132448 [00:24<00:00, 5363.12it/s]\n",
      "100%|██████████| 132448/132448 [00:01<00:00, 103312.61it/s]\n"
     ]
    },
    {
     "name": "stdout",
     "output_type": "stream",
     "text": [
      "validating...\n",
      "using 40 questions predicting diagnosis...\n"
     ]
    },
    {
     "name": "stderr",
     "output_type": "stream",
     "text": [
      "100%|██████████| 132448/132448 [00:26<00:00, 4949.67it/s]\n",
      "100%|██████████| 132448/132448 [00:01<00:00, 100331.86it/s]\n"
     ]
    },
    {
     "name": "stdout",
     "output_type": "stream",
     "text": [
      "validating...\n",
      "using 45 questions predicting diagnosis...\n"
     ]
    },
    {
     "name": "stderr",
     "output_type": "stream",
     "text": [
      "100%|██████████| 132448/132448 [00:22<00:00, 5924.01it/s]\n",
      "100%|██████████| 132448/132448 [00:01<00:00, 130679.07it/s]\n"
     ]
    },
    {
     "name": "stdout",
     "output_type": "stream",
     "text": [
      "validating...\n",
      "using 50 questions predicting diagnosis...\n"
     ]
    },
    {
     "name": "stderr",
     "output_type": "stream",
     "text": [
      "100%|██████████| 132448/132448 [00:23<00:00, 5725.06it/s]\n",
      "100%|██████████| 132448/132448 [00:01<00:00, 123201.70it/s]\n"
     ]
    },
    {
     "name": "stdout",
     "output_type": "stream",
     "text": [
      "validating...\n",
      "using 55 questions predicting diagnosis...\n"
     ]
    },
    {
     "name": "stderr",
     "output_type": "stream",
     "text": [
      "100%|██████████| 132448/132448 [00:22<00:00, 5896.55it/s]\n",
      "100%|██████████| 132448/132448 [00:01<00:00, 117589.43it/s]\n"
     ]
    },
    {
     "name": "stdout",
     "output_type": "stream",
     "text": [
      "validating...\n",
      "using 60 questions predicting diagnosis...\n"
     ]
    },
    {
     "name": "stderr",
     "output_type": "stream",
     "text": [
      "100%|██████████| 132448/132448 [00:22<00:00, 5854.85it/s]\n",
      "100%|██████████| 132448/132448 [00:01<00:00, 121516.22it/s]\n"
     ]
    },
    {
     "name": "stdout",
     "output_type": "stream",
     "text": [
      "validating...\n",
      "using 65 questions predicting diagnosis...\n"
     ]
    },
    {
     "name": "stderr",
     "output_type": "stream",
     "text": [
      "100%|██████████| 132448/132448 [00:22<00:00, 5842.96it/s]\n",
      "100%|██████████| 132448/132448 [00:01<00:00, 122493.94it/s]\n"
     ]
    },
    {
     "name": "stdout",
     "output_type": "stream",
     "text": [
      "validating...\n",
      "using 70 questions predicting diagnosis...\n"
     ]
    },
    {
     "name": "stderr",
     "output_type": "stream",
     "text": [
      "100%|██████████| 132448/132448 [00:22<00:00, 5886.69it/s]\n",
      "100%|██████████| 132448/132448 [00:01<00:00, 126620.73it/s]\n"
     ]
    },
    {
     "name": "stdout",
     "output_type": "stream",
     "text": [
      "validating...\n",
      "using 75 questions predicting diagnosis...\n"
     ]
    },
    {
     "name": "stderr",
     "output_type": "stream",
     "text": [
      "100%|██████████| 132448/132448 [00:22<00:00, 5912.69it/s]\n",
      "100%|██████████| 132448/132448 [00:01<00:00, 120951.25it/s]\n"
     ]
    },
    {
     "name": "stdout",
     "output_type": "stream",
     "text": [
      "validating...\n",
      "using 80 questions predicting diagnosis...\n"
     ]
    },
    {
     "name": "stderr",
     "output_type": "stream",
     "text": [
      "100%|██████████| 132448/132448 [00:22<00:00, 5786.72it/s]\n",
      "100%|██████████| 132448/132448 [00:01<00:00, 117675.34it/s]\n"
     ]
    },
    {
     "name": "stdout",
     "output_type": "stream",
     "text": [
      "validating...\n",
      "using 85 questions predicting diagnosis...\n"
     ]
    },
    {
     "name": "stderr",
     "output_type": "stream",
     "text": [
      "100%|██████████| 132448/132448 [00:22<00:00, 5764.21it/s]\n",
      "100%|██████████| 132448/132448 [00:01<00:00, 112852.48it/s]\n"
     ]
    },
    {
     "name": "stdout",
     "output_type": "stream",
     "text": [
      "validating...\n",
      "using 90 questions predicting diagnosis...\n"
     ]
    },
    {
     "name": "stderr",
     "output_type": "stream",
     "text": [
      "100%|██████████| 132448/132448 [00:22<00:00, 5764.36it/s]\n",
      "100%|██████████| 132448/132448 [00:01<00:00, 107523.84it/s]\n"
     ]
    },
    {
     "name": "stdout",
     "output_type": "stream",
     "text": [
      "validating...\n",
      "using 95 questions predicting diagnosis...\n"
     ]
    },
    {
     "name": "stderr",
     "output_type": "stream",
     "text": [
      "100%|██████████| 132448/132448 [00:23<00:00, 5724.02it/s]\n",
      "100%|██████████| 132448/132448 [00:01<00:00, 115083.58it/s]\n"
     ]
    },
    {
     "name": "stdout",
     "output_type": "stream",
     "text": [
      "validating...\n",
      "using 100 questions predicting diagnosis...\n"
     ]
    },
    {
     "name": "stderr",
     "output_type": "stream",
     "text": [
      "100%|██████████| 132448/132448 [00:23<00:00, 5709.71it/s]\n",
      "100%|██████████| 132448/132448 [00:01<00:00, 106001.79it/s]\n"
     ]
    },
    {
     "name": "stdout",
     "output_type": "stream",
     "text": [
      "validating...\n",
      "using 105 questions predicting diagnosis...\n"
     ]
    },
    {
     "name": "stderr",
     "output_type": "stream",
     "text": [
      "100%|██████████| 132448/132448 [00:24<00:00, 5501.07it/s]\n",
      "100%|██████████| 132448/132448 [00:01<00:00, 117748.95it/s]\n"
     ]
    },
    {
     "name": "stdout",
     "output_type": "stream",
     "text": [
      "validating...\n",
      "using 110 questions predicting diagnosis...\n"
     ]
    },
    {
     "name": "stderr",
     "output_type": "stream",
     "text": [
      "100%|██████████| 132448/132448 [00:24<00:00, 5498.00it/s]\n",
      "100%|██████████| 132448/132448 [00:01<00:00, 112765.80it/s]\n"
     ]
    },
    {
     "name": "stdout",
     "output_type": "stream",
     "text": [
      "validating...\n",
      "using 115 questions predicting diagnosis...\n"
     ]
    },
    {
     "name": "stderr",
     "output_type": "stream",
     "text": [
      "100%|██████████| 132448/132448 [00:23<00:00, 5726.44it/s]\n",
      "100%|██████████| 132448/132448 [00:01<00:00, 116825.17it/s]\n"
     ]
    },
    {
     "name": "stdout",
     "output_type": "stream",
     "text": [
      "validating...\n",
      "using 120 questions predicting diagnosis...\n"
     ]
    },
    {
     "name": "stderr",
     "output_type": "stream",
     "text": [
      "100%|██████████| 132448/132448 [00:22<00:00, 5771.80it/s]\n",
      "100%|██████████| 132448/132448 [00:01<00:00, 120667.46it/s]\n"
     ]
    },
    {
     "name": "stdout",
     "output_type": "stream",
     "text": [
      "validating...\n",
      "using 125 questions predicting diagnosis...\n"
     ]
    },
    {
     "name": "stderr",
     "output_type": "stream",
     "text": [
      "100%|██████████| 132448/132448 [00:25<00:00, 5154.19it/s]\n",
      "100%|██████████| 132448/132448 [00:01<00:00, 123662.39it/s]\n"
     ]
    },
    {
     "name": "stdout",
     "output_type": "stream",
     "text": [
      "validating...\n",
      "using 130 questions predicting diagnosis...\n"
     ]
    },
    {
     "name": "stderr",
     "output_type": "stream",
     "text": [
      "100%|██████████| 132448/132448 [00:23<00:00, 5671.45it/s]\n",
      "100%|██████████| 132448/132448 [00:01<00:00, 114773.55it/s]\n"
     ]
    },
    {
     "name": "stdout",
     "output_type": "stream",
     "text": [
      "validating...\n",
      "using 135 questions predicting diagnosis...\n"
     ]
    },
    {
     "name": "stderr",
     "output_type": "stream",
     "text": [
      "100%|██████████| 132448/132448 [00:23<00:00, 5735.14it/s]\n",
      "100%|██████████| 132448/132448 [00:01<00:00, 115833.24it/s]\n"
     ]
    },
    {
     "name": "stdout",
     "output_type": "stream",
     "text": [
      "validating...\n",
      "using 140 questions predicting diagnosis...\n"
     ]
    },
    {
     "name": "stderr",
     "output_type": "stream",
     "text": [
      "100%|██████████| 132448/132448 [00:22<00:00, 5788.55it/s]\n",
      "100%|██████████| 132448/132448 [00:01<00:00, 131177.94it/s]\n"
     ]
    },
    {
     "name": "stdout",
     "output_type": "stream",
     "text": [
      "validating...\n",
      "using 145 questions predicting diagnosis...\n"
     ]
    },
    {
     "name": "stderr",
     "output_type": "stream",
     "text": [
      "100%|██████████| 132448/132448 [00:23<00:00, 5694.95it/s]\n",
      "100%|██████████| 132448/132448 [00:01<00:00, 118500.05it/s]\n"
     ]
    },
    {
     "name": "stdout",
     "output_type": "stream",
     "text": [
      "validating...\n",
      "using 150 questions predicting diagnosis...\n"
     ]
    },
    {
     "name": "stderr",
     "output_type": "stream",
     "text": [
      "100%|██████████| 132448/132448 [00:23<00:00, 5717.83it/s]\n",
      "100%|██████████| 132448/132448 [00:01<00:00, 115342.52it/s]\n"
     ]
    },
    {
     "name": "stdout",
     "output_type": "stream",
     "text": [
      "validating...\n",
      "using 155 questions predicting diagnosis...\n"
     ]
    },
    {
     "name": "stderr",
     "output_type": "stream",
     "text": [
      "100%|██████████| 132448/132448 [00:23<00:00, 5709.53it/s]\n",
      "100%|██████████| 132448/132448 [00:01<00:00, 115617.98it/s]\n"
     ]
    },
    {
     "name": "stdout",
     "output_type": "stream",
     "text": [
      "validating...\n",
      "using 160 questions predicting diagnosis...\n"
     ]
    },
    {
     "name": "stderr",
     "output_type": "stream",
     "text": [
      "100%|██████████| 132448/132448 [00:23<00:00, 5558.90it/s]\n",
      "100%|██████████| 132448/132448 [00:01<00:00, 119608.45it/s]\n"
     ]
    },
    {
     "name": "stdout",
     "output_type": "stream",
     "text": [
      "validating...\n",
      "using 165 questions predicting diagnosis...\n"
     ]
    },
    {
     "name": "stderr",
     "output_type": "stream",
     "text": [
      "100%|██████████| 132448/132448 [00:23<00:00, 5690.20it/s]\n",
      "100%|██████████| 132448/132448 [00:01<00:00, 118722.68it/s]\n"
     ]
    },
    {
     "name": "stdout",
     "output_type": "stream",
     "text": [
      "validating...\n",
      "using 170 questions predicting diagnosis...\n"
     ]
    },
    {
     "name": "stderr",
     "output_type": "stream",
     "text": [
      "100%|██████████| 132448/132448 [00:23<00:00, 5706.76it/s]\n",
      "100%|██████████| 132448/132448 [00:01<00:00, 123742.90it/s]\n"
     ]
    },
    {
     "name": "stdout",
     "output_type": "stream",
     "text": [
      "validating...\n",
      "using 175 questions predicting diagnosis...\n"
     ]
    },
    {
     "name": "stderr",
     "output_type": "stream",
     "text": [
      "100%|██████████| 132448/132448 [00:23<00:00, 5552.96it/s]\n",
      "100%|██████████| 132448/132448 [00:01<00:00, 115278.73it/s]\n"
     ]
    },
    {
     "name": "stdout",
     "output_type": "stream",
     "text": [
      "validating...\n",
      "using 180 questions predicting diagnosis...\n"
     ]
    },
    {
     "name": "stderr",
     "output_type": "stream",
     "text": [
      "100%|██████████| 132448/132448 [00:23<00:00, 5701.39it/s]\n",
      "100%|██████████| 132448/132448 [00:01<00:00, 122421.06it/s]\n"
     ]
    },
    {
     "name": "stdout",
     "output_type": "stream",
     "text": [
      "validating...\n",
      "using 185 questions predicting diagnosis...\n"
     ]
    },
    {
     "name": "stderr",
     "output_type": "stream",
     "text": [
      "100%|██████████| 132448/132448 [00:23<00:00, 5698.24it/s]\n",
      "100%|██████████| 132448/132448 [00:01<00:00, 126219.37it/s]\n"
     ]
    },
    {
     "name": "stdout",
     "output_type": "stream",
     "text": [
      "validating...\n",
      "using 190 questions predicting diagnosis...\n"
     ]
    },
    {
     "name": "stderr",
     "output_type": "stream",
     "text": [
      "100%|██████████| 132448/132448 [00:23<00:00, 5734.07it/s]\n",
      "100%|██████████| 132448/132448 [00:01<00:00, 114803.37it/s]\n"
     ]
    },
    {
     "name": "stdout",
     "output_type": "stream",
     "text": [
      "validating...\n",
      "using 195 questions predicting diagnosis...\n"
     ]
    },
    {
     "name": "stderr",
     "output_type": "stream",
     "text": [
      "100%|██████████| 132448/132448 [00:23<00:00, 5710.67it/s]\n",
      "100%|██████████| 132448/132448 [00:01<00:00, 117505.32it/s]\n"
     ]
    },
    {
     "name": "stdout",
     "output_type": "stream",
     "text": [
      "validating...\n",
      "using 200 questions predicting diagnosis...\n"
     ]
    },
    {
     "name": "stderr",
     "output_type": "stream",
     "text": [
      "100%|██████████| 132448/132448 [00:23<00:00, 5642.73it/s]\n",
      "100%|██████████| 132448/132448 [00:01<00:00, 115590.05it/s]\n"
     ]
    },
    {
     "name": "stdout",
     "output_type": "stream",
     "text": [
      "validating...\n",
      "using 205 questions predicting diagnosis...\n"
     ]
    },
    {
     "name": "stderr",
     "output_type": "stream",
     "text": [
      "100%|██████████| 132448/132448 [00:22<00:00, 5769.37it/s]\n",
      "100%|██████████| 132448/132448 [00:01<00:00, 100688.14it/s]\n"
     ]
    },
    {
     "name": "stdout",
     "output_type": "stream",
     "text": [
      "validating...\n",
      "using 208 questions predicting diagnosis...\n"
     ]
    },
    {
     "name": "stderr",
     "output_type": "stream",
     "text": [
      "100%|██████████| 132448/132448 [00:23<00:00, 5705.47it/s]\n",
      "100%|██████████| 132448/132448 [00:01<00:00, 117505.64it/s]"
     ]
    },
    {
     "name": "stdout",
     "output_type": "stream",
     "text": [
      "validating...\n"
     ]
    },
    {
     "name": "stderr",
     "output_type": "stream",
     "text": [
      "\n"
     ]
    }
   ],
   "source": [
    "for model_name in model_list[\"tree-based\"]:\n",
    "    experiment(model_name)\n",
    "# 947m 50 s - 49 pathologies\n",
    "# 58m 25s - 5 pathologies"
   ]
  },
  {
   "cell_type": "markdown",
   "metadata": {},
   "source": [
    "## Logistic Regression"
   ]
  },
  {
   "cell_type": "code",
   "execution_count": null,
   "metadata": {},
   "outputs": [
    {
     "name": "stdout",
     "output_type": "stream",
     "text": [
      "Evaluating logistic_regression...\n",
      "using 5 questions predicting diagnosis...\n"
     ]
    },
    {
     "name": "stderr",
     "output_type": "stream",
     "text": [
      "100%|██████████| 132448/132448 [00:14<00:00, 9079.47it/s] \n",
      "100%|██████████| 132448/132448 [00:01<00:00, 124177.86it/s]\n"
     ]
    },
    {
     "name": "stdout",
     "output_type": "stream",
     "text": [
      "validating...\n",
      "using 10 questions predicting diagnosis...\n"
     ]
    },
    {
     "name": "stderr",
     "output_type": "stream",
     "text": [
      "100%|██████████| 132448/132448 [00:22<00:00, 5962.21it/s]\n",
      "100%|██████████| 132448/132448 [00:01<00:00, 128247.51it/s]\n"
     ]
    },
    {
     "name": "stdout",
     "output_type": "stream",
     "text": [
      "validating...\n",
      "using 15 questions predicting diagnosis...\n"
     ]
    },
    {
     "name": "stderr",
     "output_type": "stream",
     "text": [
      "100%|██████████| 132448/132448 [00:26<00:00, 4996.07it/s]\n",
      "100%|██████████| 132448/132448 [00:01<00:00, 114217.47it/s]\n"
     ]
    },
    {
     "name": "stdout",
     "output_type": "stream",
     "text": [
      "validating...\n",
      "using 20 questions predicting diagnosis...\n"
     ]
    },
    {
     "name": "stderr",
     "output_type": "stream",
     "text": [
      "100%|██████████| 132448/132448 [00:25<00:00, 5176.21it/s]\n",
      "100%|██████████| 132448/132448 [00:01<00:00, 117037.83it/s]\n"
     ]
    },
    {
     "name": "stdout",
     "output_type": "stream",
     "text": [
      "validating...\n",
      "using 25 questions predicting diagnosis...\n"
     ]
    },
    {
     "name": "stderr",
     "output_type": "stream",
     "text": [
      "100%|██████████| 132448/132448 [00:24<00:00, 5363.13it/s]\n",
      "100%|██████████| 132448/132448 [00:01<00:00, 116968.23it/s]\n"
     ]
    },
    {
     "name": "stdout",
     "output_type": "stream",
     "text": [
      "validating...\n",
      "using 30 questions predicting diagnosis...\n"
     ]
    },
    {
     "name": "stderr",
     "output_type": "stream",
     "text": [
      "100%|██████████| 132448/132448 [00:24<00:00, 5423.26it/s]\n",
      "100%|██████████| 132448/132448 [00:01<00:00, 119767.81it/s]\n"
     ]
    },
    {
     "name": "stdout",
     "output_type": "stream",
     "text": [
      "validating...\n",
      "using 35 questions predicting diagnosis...\n"
     ]
    },
    {
     "name": "stderr",
     "output_type": "stream",
     "text": [
      "100%|██████████| 132448/132448 [00:23<00:00, 5527.52it/s]\n",
      "100%|██████████| 132448/132448 [00:01<00:00, 117460.17it/s]\n"
     ]
    },
    {
     "name": "stdout",
     "output_type": "stream",
     "text": [
      "validating...\n",
      "using 40 questions predicting diagnosis...\n"
     ]
    },
    {
     "name": "stderr",
     "output_type": "stream",
     "text": [
      "100%|██████████| 132448/132448 [00:24<00:00, 5429.14it/s]\n",
      "100%|██████████| 132448/132448 [00:01<00:00, 119510.87it/s]\n"
     ]
    },
    {
     "name": "stdout",
     "output_type": "stream",
     "text": [
      "validating...\n",
      "using 45 questions predicting diagnosis...\n"
     ]
    },
    {
     "name": "stderr",
     "output_type": "stream",
     "text": [
      "100%|██████████| 132448/132448 [00:23<00:00, 5758.17it/s]\n",
      "100%|██████████| 132448/132448 [00:01<00:00, 119373.66it/s]\n"
     ]
    },
    {
     "name": "stdout",
     "output_type": "stream",
     "text": [
      "validating...\n",
      "using 50 questions predicting diagnosis...\n"
     ]
    },
    {
     "name": "stderr",
     "output_type": "stream",
     "text": [
      "100%|██████████| 132448/132448 [00:22<00:00, 5781.10it/s]\n",
      "100%|██████████| 132448/132448 [00:01<00:00, 119193.53it/s]\n"
     ]
    },
    {
     "name": "stdout",
     "output_type": "stream",
     "text": [
      "validating...\n",
      "using 55 questions predicting diagnosis...\n"
     ]
    },
    {
     "name": "stderr",
     "output_type": "stream",
     "text": [
      "100%|██████████| 132448/132448 [00:23<00:00, 5551.42it/s]\n",
      "100%|██████████| 132448/132448 [00:01<00:00, 115546.85it/s]\n"
     ]
    },
    {
     "name": "stdout",
     "output_type": "stream",
     "text": [
      "validating...\n",
      "using 60 questions predicting diagnosis...\n"
     ]
    },
    {
     "name": "stderr",
     "output_type": "stream",
     "text": [
      "100%|██████████| 132448/132448 [00:22<00:00, 5798.60it/s]\n",
      "100%|██████████| 132448/132448 [00:01<00:00, 114062.65it/s]\n"
     ]
    },
    {
     "name": "stdout",
     "output_type": "stream",
     "text": [
      "validating...\n",
      "using 65 questions predicting diagnosis...\n"
     ]
    },
    {
     "name": "stderr",
     "output_type": "stream",
     "text": [
      "100%|██████████| 132448/132448 [00:23<00:00, 5681.48it/s]\n",
      "100%|██████████| 132448/132448 [00:01<00:00, 121997.68it/s]\n"
     ]
    },
    {
     "name": "stdout",
     "output_type": "stream",
     "text": [
      "validating...\n",
      "using 70 questions predicting diagnosis...\n"
     ]
    },
    {
     "name": "stderr",
     "output_type": "stream",
     "text": [
      "100%|██████████| 132448/132448 [00:22<00:00, 5801.17it/s]\n",
      "100%|██████████| 132448/132448 [00:01<00:00, 122143.79it/s]\n"
     ]
    },
    {
     "name": "stdout",
     "output_type": "stream",
     "text": [
      "validating...\n",
      "using 75 questions predicting diagnosis...\n"
     ]
    },
    {
     "name": "stderr",
     "output_type": "stream",
     "text": [
      "100%|██████████| 132448/132448 [00:23<00:00, 5677.12it/s]\n",
      "100%|██████████| 132448/132448 [00:01<00:00, 116503.22it/s]\n"
     ]
    },
    {
     "name": "stdout",
     "output_type": "stream",
     "text": [
      "validating...\n",
      "using 80 questions predicting diagnosis...\n"
     ]
    },
    {
     "name": "stderr",
     "output_type": "stream",
     "text": [
      "100%|██████████| 132448/132448 [00:22<00:00, 5779.51it/s]\n",
      "100%|██████████| 132448/132448 [00:01<00:00, 124733.49it/s]\n"
     ]
    },
    {
     "name": "stdout",
     "output_type": "stream",
     "text": [
      "validating...\n",
      "using 85 questions predicting diagnosis...\n"
     ]
    },
    {
     "name": "stderr",
     "output_type": "stream",
     "text": [
      "100%|██████████| 132448/132448 [00:23<00:00, 5658.24it/s]\n",
      "100%|██████████| 132448/132448 [00:01<00:00, 113131.51it/s]\n"
     ]
    },
    {
     "name": "stdout",
     "output_type": "stream",
     "text": [
      "validating...\n",
      "using 90 questions predicting diagnosis...\n"
     ]
    },
    {
     "name": "stderr",
     "output_type": "stream",
     "text": [
      "100%|██████████| 132448/132448 [00:23<00:00, 5750.90it/s]\n",
      "100%|██████████| 132448/132448 [00:01<00:00, 119126.51it/s]\n"
     ]
    },
    {
     "name": "stdout",
     "output_type": "stream",
     "text": [
      "validating...\n",
      "using 95 questions predicting diagnosis...\n"
     ]
    },
    {
     "name": "stderr",
     "output_type": "stream",
     "text": [
      "100%|██████████| 132448/132448 [00:22<00:00, 5783.53it/s]\n",
      "100%|██████████| 132448/132448 [00:01<00:00, 125002.32it/s]\n"
     ]
    },
    {
     "name": "stdout",
     "output_type": "stream",
     "text": [
      "validating...\n",
      "using 100 questions predicting diagnosis...\n"
     ]
    },
    {
     "name": "stderr",
     "output_type": "stream",
     "text": [
      "100%|██████████| 132448/132448 [00:23<00:00, 5735.97it/s]\n",
      "100%|██████████| 132448/132448 [00:01<00:00, 126424.75it/s]\n"
     ]
    },
    {
     "name": "stdout",
     "output_type": "stream",
     "text": [
      "validating...\n",
      "using 105 questions predicting diagnosis...\n"
     ]
    },
    {
     "name": "stderr",
     "output_type": "stream",
     "text": [
      "100%|██████████| 132448/132448 [00:22<00:00, 5800.90it/s]\n",
      "100%|██████████| 132448/132448 [00:01<00:00, 116647.18it/s]\n"
     ]
    },
    {
     "name": "stdout",
     "output_type": "stream",
     "text": [
      "validating...\n",
      "using 110 questions predicting diagnosis...\n"
     ]
    },
    {
     "name": "stderr",
     "output_type": "stream",
     "text": [
      "100%|██████████| 132448/132448 [00:23<00:00, 5538.50it/s]\n",
      "100%|██████████| 132448/132448 [00:01<00:00, 124169.17it/s]\n"
     ]
    },
    {
     "name": "stdout",
     "output_type": "stream",
     "text": [
      "validating...\n",
      "using 115 questions predicting diagnosis...\n"
     ]
    },
    {
     "name": "stderr",
     "output_type": "stream",
     "text": [
      "100%|██████████| 132448/132448 [00:22<00:00, 5792.87it/s]\n",
      "100%|██████████| 132448/132448 [00:01<00:00, 125511.21it/s]\n"
     ]
    },
    {
     "name": "stdout",
     "output_type": "stream",
     "text": [
      "validating...\n",
      "using 120 questions predicting diagnosis...\n"
     ]
    },
    {
     "name": "stderr",
     "output_type": "stream",
     "text": [
      "100%|██████████| 132448/132448 [00:22<00:00, 5775.85it/s]\n",
      "100%|██████████| 132448/132448 [00:01<00:00, 122850.26it/s]\n"
     ]
    },
    {
     "name": "stdout",
     "output_type": "stream",
     "text": [
      "validating...\n",
      "using 125 questions predicting diagnosis...\n"
     ]
    },
    {
     "name": "stderr",
     "output_type": "stream",
     "text": [
      "100%|██████████| 132448/132448 [00:22<00:00, 5758.90it/s]\n",
      "100%|██████████| 132448/132448 [00:01<00:00, 115667.77it/s]\n"
     ]
    },
    {
     "name": "stdout",
     "output_type": "stream",
     "text": [
      "validating...\n",
      "using 130 questions predicting diagnosis...\n"
     ]
    },
    {
     "name": "stderr",
     "output_type": "stream",
     "text": [
      "100%|██████████| 132448/132448 [00:22<00:00, 5769.22it/s]\n",
      "100%|██████████| 132448/132448 [00:01<00:00, 120566.35it/s]\n"
     ]
    },
    {
     "name": "stdout",
     "output_type": "stream",
     "text": [
      "validating...\n",
      "using 135 questions predicting diagnosis...\n"
     ]
    },
    {
     "name": "stderr",
     "output_type": "stream",
     "text": [
      "100%|██████████| 132448/132448 [00:23<00:00, 5565.83it/s]\n",
      "100%|██████████| 132448/132448 [00:01<00:00, 122888.53it/s]\n"
     ]
    },
    {
     "name": "stdout",
     "output_type": "stream",
     "text": [
      "validating...\n",
      "using 140 questions predicting diagnosis...\n"
     ]
    },
    {
     "name": "stderr",
     "output_type": "stream",
     "text": [
      "100%|██████████| 132448/132448 [00:23<00:00, 5571.67it/s]\n",
      "100%|██████████| 132448/132448 [00:01<00:00, 119051.17it/s]\n"
     ]
    },
    {
     "name": "stdout",
     "output_type": "stream",
     "text": [
      "validating...\n",
      "using 145 questions predicting diagnosis...\n"
     ]
    },
    {
     "name": "stderr",
     "output_type": "stream",
     "text": [
      "100%|██████████| 132448/132448 [00:22<00:00, 5781.62it/s]\n",
      "100%|██████████| 132448/132448 [00:01<00:00, 119956.50it/s]\n"
     ]
    },
    {
     "name": "stdout",
     "output_type": "stream",
     "text": [
      "validating...\n",
      "using 150 questions predicting diagnosis...\n"
     ]
    },
    {
     "name": "stderr",
     "output_type": "stream",
     "text": [
      "100%|██████████| 132448/132448 [00:22<00:00, 5782.15it/s]\n",
      "100%|██████████| 132448/132448 [00:01<00:00, 121596.99it/s]\n"
     ]
    },
    {
     "name": "stdout",
     "output_type": "stream",
     "text": [
      "validating...\n",
      "using 155 questions predicting diagnosis...\n"
     ]
    },
    {
     "name": "stderr",
     "output_type": "stream",
     "text": [
      "100%|██████████| 132448/132448 [00:22<00:00, 5763.49it/s]\n",
      "100%|██████████| 132448/132448 [00:01<00:00, 119616.28it/s]\n"
     ]
    },
    {
     "name": "stdout",
     "output_type": "stream",
     "text": [
      "validating...\n",
      "using 160 questions predicting diagnosis...\n"
     ]
    },
    {
     "name": "stderr",
     "output_type": "stream",
     "text": [
      "100%|██████████| 132448/132448 [00:23<00:00, 5747.36it/s]\n",
      "100%|██████████| 132448/132448 [00:01<00:00, 120574.59it/s]\n"
     ]
    },
    {
     "name": "stdout",
     "output_type": "stream",
     "text": [
      "validating...\n",
      "using 165 questions predicting diagnosis...\n"
     ]
    },
    {
     "name": "stderr",
     "output_type": "stream",
     "text": [
      "100%|██████████| 132448/132448 [00:23<00:00, 5612.81it/s]\n",
      "100%|██████████| 132448/132448 [00:01<00:00, 120166.47it/s]\n"
     ]
    },
    {
     "name": "stdout",
     "output_type": "stream",
     "text": [
      "validating...\n",
      "using 170 questions predicting diagnosis...\n"
     ]
    },
    {
     "name": "stderr",
     "output_type": "stream",
     "text": [
      "100%|██████████| 132448/132448 [00:23<00:00, 5734.14it/s]\n",
      "100%|██████████| 132448/132448 [00:01<00:00, 118505.56it/s]\n"
     ]
    },
    {
     "name": "stdout",
     "output_type": "stream",
     "text": [
      "validating...\n",
      "using 175 questions predicting diagnosis...\n"
     ]
    },
    {
     "name": "stderr",
     "output_type": "stream",
     "text": [
      "100%|██████████| 132448/132448 [00:22<00:00, 5768.02it/s]\n",
      "100%|██████████| 132448/132448 [00:01<00:00, 120985.31it/s]\n"
     ]
    },
    {
     "name": "stdout",
     "output_type": "stream",
     "text": [
      "validating...\n",
      "using 180 questions predicting diagnosis...\n"
     ]
    },
    {
     "name": "stderr",
     "output_type": "stream",
     "text": [
      "100%|██████████| 132448/132448 [00:23<00:00, 5728.73it/s]\n",
      "100%|██████████| 132448/132448 [00:01<00:00, 120813.50it/s]\n"
     ]
    },
    {
     "name": "stdout",
     "output_type": "stream",
     "text": [
      "validating...\n",
      "using 185 questions predicting diagnosis...\n"
     ]
    },
    {
     "name": "stderr",
     "output_type": "stream",
     "text": [
      "100%|██████████| 132448/132448 [00:23<00:00, 5728.31it/s]\n",
      "100%|██████████| 132448/132448 [00:01<00:00, 123738.41it/s]\n"
     ]
    },
    {
     "name": "stdout",
     "output_type": "stream",
     "text": [
      "validating...\n",
      "using 190 questions predicting diagnosis...\n"
     ]
    },
    {
     "name": "stderr",
     "output_type": "stream",
     "text": [
      "100%|██████████| 132448/132448 [00:23<00:00, 5742.66it/s]\n",
      "100%|██████████| 132448/132448 [00:01<00:00, 120727.65it/s]\n"
     ]
    },
    {
     "name": "stdout",
     "output_type": "stream",
     "text": [
      "validating...\n",
      "using 195 questions predicting diagnosis...\n"
     ]
    },
    {
     "name": "stderr",
     "output_type": "stream",
     "text": [
      "100%|██████████| 132448/132448 [00:23<00:00, 5658.39it/s]\n",
      "100%|██████████| 132448/132448 [00:01<00:00, 117731.36it/s]\n"
     ]
    },
    {
     "name": "stdout",
     "output_type": "stream",
     "text": [
      "validating...\n",
      "using 200 questions predicting diagnosis...\n"
     ]
    },
    {
     "name": "stderr",
     "output_type": "stream",
     "text": [
      "100%|██████████| 132448/132448 [00:23<00:00, 5754.20it/s]\n",
      "100%|██████████| 132448/132448 [00:01<00:00, 118714.92it/s]\n"
     ]
    },
    {
     "name": "stdout",
     "output_type": "stream",
     "text": [
      "validating...\n",
      "using 205 questions predicting diagnosis...\n"
     ]
    },
    {
     "name": "stderr",
     "output_type": "stream",
     "text": [
      "100%|██████████| 132448/132448 [00:23<00:00, 5710.46it/s]\n",
      "100%|██████████| 132448/132448 [00:01<00:00, 120002.60it/s]\n"
     ]
    },
    {
     "name": "stdout",
     "output_type": "stream",
     "text": [
      "validating...\n",
      "using 208 questions predicting diagnosis...\n"
     ]
    },
    {
     "name": "stderr",
     "output_type": "stream",
     "text": [
      "100%|██████████| 132448/132448 [00:23<00:00, 5733.33it/s]\n",
      "100%|██████████| 132448/132448 [00:01<00:00, 112553.23it/s]"
     ]
    },
    {
     "name": "stdout",
     "output_type": "stream",
     "text": [
      "validating...\n"
     ]
    },
    {
     "name": "stderr",
     "output_type": "stream",
     "text": [
      "\n"
     ]
    }
   ],
   "source": [
    "experiment(\"logistic_regression\")\n",
    "# 17m 36s - 5 pathology"
   ]
  },
  {
   "cell_type": "code",
   "execution_count": null,
   "metadata": {},
   "outputs": [
    {
     "data": {
      "text/plain": [
       "{'decision_tree': {'n_questions_5': {True: 116106,\n",
       "   False: 16342,\n",
       "   'error_rate': 0.1233842715631795,\n",
       "   'mean_hit_rate': 0.33105369578602123,\n",
       "   'mean_hit_rate_misdiagnosed': 0.28006654526299885},\n",
       "  'n_questions_10': {True: 121684,\n",
       "   False: 10764,\n",
       "   'error_rate': 0.08126963034549409,\n",
       "   'mean_hit_rate': 0.5348788121386866,\n",
       "   'mean_hit_rate_misdiagnosed': 0.4356453095976989},\n",
       "  'n_questions_15': {True: 127356,\n",
       "   False: 5092,\n",
       "   'error_rate': 0.03844527663686881,\n",
       "   'mean_hit_rate': 0.7015726661850556,\n",
       "   'mean_hit_rate_misdiagnosed': 0.5205007092789162},\n",
       "  'n_questions_20': {True: 129524,\n",
       "   False: 2924,\n",
       "   'error_rate': 0.022076588547958444,\n",
       "   'mean_hit_rate': 0.8109909153294077,\n",
       "   'mean_hit_rate_misdiagnosed': 0.5416669641406596},\n",
       "  'n_questions_25': {True: 130555,\n",
       "   False: 1893,\n",
       "   'error_rate': 0.014292401546267213,\n",
       "   'mean_hit_rate': 0.8810154199870976,\n",
       "   'mean_hit_rate_misdiagnosed': 0.5918937141703045},\n",
       "  'n_questions_30': {True: 130870,\n",
       "   False: 1578,\n",
       "   'error_rate': 0.011914109688330515,\n",
       "   'mean_hit_rate': 0.9208837285146768,\n",
       "   'mean_hit_rate_misdiagnosed': 0.6185690582178731},\n",
       "  'n_questions_35': {True: 131030,\n",
       "   False: 1418,\n",
       "   'error_rate': 0.010706088427156318,\n",
       "   'mean_hit_rate': 0.9468731355612496,\n",
       "   'mean_hit_rate_misdiagnosed': 0.6376531947075642},\n",
       "  'n_questions_40': {True: 131158,\n",
       "   False: 1290,\n",
       "   'error_rate': 0.009739671418216961,\n",
       "   'mean_hit_rate': 0.9672991290595049,\n",
       "   'mean_hit_rate_misdiagnosed': 0.6637037746921468},\n",
       "  'n_questions_45': {True: 131702,\n",
       "   False: 746,\n",
       "   'error_rate': 0.005632399130224692,\n",
       "   'mean_hit_rate': 0.9809383707671537,\n",
       "   'mean_hit_rate_misdiagnosed': 0.838051024042981},\n",
       "  'n_questions_50': {True: 131866,\n",
       "   False: 582,\n",
       "   'error_rate': 0.00439417733752114,\n",
       "   'mean_hit_rate': 0.9901947959174193,\n",
       "   'mean_hit_rate_misdiagnosed': 0.9372013582065127},\n",
       "  'n_questions_55': {True: 131875,\n",
       "   False: 573,\n",
       "   'error_rate': 0.004326226141580092,\n",
       "   'mean_hit_rate': 0.9939447442967693,\n",
       "   'mean_hit_rate_misdiagnosed': 0.944402892046871},\n",
       "  'n_questions_60': {True: 131900,\n",
       "   False: 548,\n",
       "   'error_rate': 0.004137472819521624,\n",
       "   'mean_hit_rate': 0.9958715827096248,\n",
       "   'mean_hit_rate_misdiagnosed': 0.9649432278994323},\n",
       "  'n_questions_65': {True: 131944,\n",
       "   False: 504,\n",
       "   'error_rate': 0.0038052669726987196,\n",
       "   'mean_hit_rate': 0.9970895046681393,\n",
       "   'mean_hit_rate_misdiagnosed': 0.9968364197530865},\n",
       "  'n_questions_70': {True: 131945,\n",
       "   False: 503,\n",
       "   'error_rate': 0.003797716839816381,\n",
       "   'mean_hit_rate': 0.9974770661717616,\n",
       "   'mean_hit_rate_misdiagnosed': 0.998177601060305},\n",
       "  'n_questions_75': {True: 131946,\n",
       "   False: 502,\n",
       "   'error_rate': 0.003790166706934042,\n",
       "   'mean_hit_rate': 0.9982845199265985,\n",
       "   'mean_hit_rate_misdiagnosed': 0.9985059760956175},\n",
       "  'n_questions_80': {True: 131946,\n",
       "   False: 502,\n",
       "   'error_rate': 0.003790166706934042,\n",
       "   'mean_hit_rate': 0.9987981986102002,\n",
       "   'mean_hit_rate_misdiagnosed': 0.9985059760956175},\n",
       "  'n_questions_85': {True: 131946,\n",
       "   False: 502,\n",
       "   'error_rate': 0.003790166706934042,\n",
       "   'mean_hit_rate': 0.9989152256698766,\n",
       "   'mean_hit_rate_misdiagnosed': 0.9985059760956175},\n",
       "  'n_questions_90': {True: 131946,\n",
       "   False: 502,\n",
       "   'error_rate': 0.003790166706934042,\n",
       "   'mean_hit_rate': 0.999210687536672,\n",
       "   'mean_hit_rate_misdiagnosed': 0.9985059760956175},\n",
       "  'n_questions_95': {True: 131946,\n",
       "   False: 502,\n",
       "   'error_rate': 0.003790166706934042,\n",
       "   'mean_hit_rate': 0.999210687536672,\n",
       "   'mean_hit_rate_misdiagnosed': 0.9985059760956175},\n",
       "  'n_questions_100': {True: 131946,\n",
       "   False: 502,\n",
       "   'error_rate': 0.003790166706934042,\n",
       "   'mean_hit_rate': 0.9993531333770521,\n",
       "   'mean_hit_rate_misdiagnosed': 0.9985059760956175},\n",
       "  'n_questions_105': {True: 131946,\n",
       "   False: 502,\n",
       "   'error_rate': 0.003790166706934042,\n",
       "   'mean_hit_rate': 0.9993584364465767,\n",
       "   'mean_hit_rate_misdiagnosed': 0.9985059760956175},\n",
       "  'n_questions_110': {True: 131946,\n",
       "   False: 502,\n",
       "   'error_rate': 0.003790166706934042,\n",
       "   'mean_hit_rate': 0.9993840619571096,\n",
       "   'mean_hit_rate_misdiagnosed': 0.9985059760956175},\n",
       "  'n_questions_115': {True: 131946,\n",
       "   False: 502,\n",
       "   'error_rate': 0.003790166706934042,\n",
       "   'mean_hit_rate': 0.9994297492493012,\n",
       "   'mean_hit_rate_misdiagnosed': 0.9985059760956175},\n",
       "  'n_questions_120': {True: 131946,\n",
       "   False: 502,\n",
       "   'error_rate': 0.003790166706934042,\n",
       "   'mean_hit_rate': 0.9997669885180454,\n",
       "   'mean_hit_rate_misdiagnosed': 0.9985059760956175},\n",
       "  'n_questions_125': {True: 131947,\n",
       "   False: 501,\n",
       "   'error_rate': 0.0037826165740517032,\n",
       "   'mean_hit_rate': 0.9997726511177071,\n",
       "   'mean_hit_rate_misdiagnosed': 1.0},\n",
       "  'n_questions_130': {True: 131947,\n",
       "   False: 501,\n",
       "   'error_rate': 0.0037826165740517032,\n",
       "   'mean_hit_rate': 0.9997726511177071,\n",
       "   'mean_hit_rate_misdiagnosed': 1.0},\n",
       "  'n_questions_135': {True: 131947,\n",
       "   False: 501,\n",
       "   'error_rate': 0.0037826165740517032,\n",
       "   'mean_hit_rate': 0.9997726511177071,\n",
       "   'mean_hit_rate_misdiagnosed': 1.0},\n",
       "  'n_questions_140': {True: 131947,\n",
       "   False: 501,\n",
       "   'error_rate': 0.0037826165740517032,\n",
       "   'mean_hit_rate': 0.9998899298484796,\n",
       "   'mean_hit_rate_misdiagnosed': 1.0},\n",
       "  'n_questions_145': {True: 131947,\n",
       "   False: 501,\n",
       "   'error_rate': 0.0037826165740517032,\n",
       "   'mean_hit_rate': 0.9999618538524372,\n",
       "   'mean_hit_rate_misdiagnosed': 1.0},\n",
       "  'n_questions_150': {True: 131947,\n",
       "   False: 501,\n",
       "   'error_rate': 0.0037826165740517032,\n",
       "   'mean_hit_rate': 0.9999618538524372,\n",
       "   'mean_hit_rate_misdiagnosed': 1.0},\n",
       "  'n_questions_155': {True: 131947,\n",
       "   False: 501,\n",
       "   'error_rate': 0.0037826165740517032,\n",
       "   'mean_hit_rate': 0.9999618538524372,\n",
       "   'mean_hit_rate_misdiagnosed': 1.0},\n",
       "  'n_questions_160': {True: 131947,\n",
       "   False: 501,\n",
       "   'error_rate': 0.0037826165740517032,\n",
       "   'mean_hit_rate': 0.9999618538524372,\n",
       "   'mean_hit_rate_misdiagnosed': 1.0},\n",
       "  'n_questions_165': {True: 131947,\n",
       "   False: 501,\n",
       "   'error_rate': 0.0037826165740517032,\n",
       "   'mean_hit_rate': 0.9999618538524372,\n",
       "   'mean_hit_rate_misdiagnosed': 1.0},\n",
       "  'n_questions_170': {True: 131947,\n",
       "   False: 501,\n",
       "   'error_rate': 0.0037826165740517032,\n",
       "   'mean_hit_rate': 1.0,\n",
       "   'mean_hit_rate_misdiagnosed': 1.0},\n",
       "  'n_questions_175': {True: 131947,\n",
       "   False: 501,\n",
       "   'error_rate': 0.0037826165740517032,\n",
       "   'mean_hit_rate': 1.0,\n",
       "   'mean_hit_rate_misdiagnosed': 1.0},\n",
       "  'n_questions_180': {True: 131947,\n",
       "   False: 501,\n",
       "   'error_rate': 0.0037826165740517032,\n",
       "   'mean_hit_rate': 1.0,\n",
       "   'mean_hit_rate_misdiagnosed': 1.0},\n",
       "  'n_questions_185': {True: 131947,\n",
       "   False: 501,\n",
       "   'error_rate': 0.0037826165740517032,\n",
       "   'mean_hit_rate': 1.0,\n",
       "   'mean_hit_rate_misdiagnosed': 1.0},\n",
       "  'n_questions_190': {True: 131947,\n",
       "   False: 501,\n",
       "   'error_rate': 0.0037826165740517032,\n",
       "   'mean_hit_rate': 1.0,\n",
       "   'mean_hit_rate_misdiagnosed': 1.0},\n",
       "  'n_questions_195': {True: 131947,\n",
       "   False: 501,\n",
       "   'error_rate': 0.0037826165740517032,\n",
       "   'mean_hit_rate': 1.0,\n",
       "   'mean_hit_rate_misdiagnosed': 1.0},\n",
       "  'n_questions_200': {True: 131947,\n",
       "   False: 501,\n",
       "   'error_rate': 0.0037826165740517032,\n",
       "   'mean_hit_rate': 1.0,\n",
       "   'mean_hit_rate_misdiagnosed': 1.0},\n",
       "  'n_questions_205': {True: 131947,\n",
       "   False: 501,\n",
       "   'error_rate': 0.0037826165740517032,\n",
       "   'mean_hit_rate': 1.0,\n",
       "   'mean_hit_rate_misdiagnosed': 1.0},\n",
       "  'n_questions_208': {True: 131947,\n",
       "   False: 501,\n",
       "   'error_rate': 0.0037826165740517032,\n",
       "   'mean_hit_rate': 1.0,\n",
       "   'mean_hit_rate_misdiagnosed': 1.0},\n",
       "  'plt_y': [0.1233842715631795,\n",
       "   0.08126963034549409,\n",
       "   0.03844527663686881,\n",
       "   0.022076588547958444,\n",
       "   0.014292401546267213,\n",
       "   0.011914109688330515,\n",
       "   0.010706088427156318,\n",
       "   0.009739671418216961,\n",
       "   0.005632399130224692,\n",
       "   0.00439417733752114,\n",
       "   0.004326226141580092,\n",
       "   0.004137472819521624,\n",
       "   0.0038052669726987196,\n",
       "   0.003797716839816381,\n",
       "   0.003790166706934042,\n",
       "   0.003790166706934042,\n",
       "   0.003790166706934042,\n",
       "   0.003790166706934042,\n",
       "   0.003790166706934042,\n",
       "   0.003790166706934042,\n",
       "   0.003790166706934042,\n",
       "   0.003790166706934042,\n",
       "   0.003790166706934042,\n",
       "   0.003790166706934042,\n",
       "   0.0037826165740517032,\n",
       "   0.0037826165740517032,\n",
       "   0.0037826165740517032,\n",
       "   0.0037826165740517032,\n",
       "   0.0037826165740517032,\n",
       "   0.0037826165740517032,\n",
       "   0.0037826165740517032,\n",
       "   0.0037826165740517032,\n",
       "   0.0037826165740517032,\n",
       "   0.0037826165740517032,\n",
       "   0.0037826165740517032,\n",
       "   0.0037826165740517032,\n",
       "   0.0037826165740517032,\n",
       "   0.0037826165740517032,\n",
       "   0.0037826165740517032,\n",
       "   0.0037826165740517032,\n",
       "   0.0037826165740517032,\n",
       "   0.0037826165740517032]},\n",
       " 'random_forest': {'n_questions_5': {True: 118893,\n",
       "   False: 13555,\n",
       "   'error_rate': 0.10234205122010147,\n",
       "   'mean_hit_rate': 0.33105369578602123,\n",
       "   'mean_hit_rate_misdiagnosed': 0.28085411281218864},\n",
       "  'n_questions_10': {True: 124956,\n",
       "   False: 7492,\n",
       "   'error_rate': 0.056565595554481755,\n",
       "   'mean_hit_rate': 0.5348788121386866,\n",
       "   'mean_hit_rate_misdiagnosed': 0.37151752855185843},\n",
       "  'n_questions_15': {True: 128760,\n",
       "   False: 3688,\n",
       "   'error_rate': 0.027844890070065232,\n",
       "   'mean_hit_rate': 0.7015726661850556,\n",
       "   'mean_hit_rate_misdiagnosed': 0.37252968294666794},\n",
       "  'n_questions_20': {True: 129880,\n",
       "   False: 2568,\n",
       "   'error_rate': 0.019388741241845857,\n",
       "   'mean_hit_rate': 0.8109909153294077,\n",
       "   'mean_hit_rate_misdiagnosed': 0.3741658885572455},\n",
       "  'n_questions_25': {True: 131059,\n",
       "   False: 1389,\n",
       "   'error_rate': 0.010487134573568495,\n",
       "   'mean_hit_rate': 0.8810154199870976,\n",
       "   'mean_hit_rate_misdiagnosed': 0.41460585350974116},\n",
       "  'n_questions_30': {True: 131196,\n",
       "   False: 1252,\n",
       "   'error_rate': 0.009452766368688088,\n",
       "   'mean_hit_rate': 0.9208837285146768,\n",
       "   'mean_hit_rate_misdiagnosed': 0.40747581647142345},\n",
       "  'n_questions_35': {True: 131561,\n",
       "   False: 887,\n",
       "   'error_rate': 0.006696967866634452,\n",
       "   'mean_hit_rate': 0.9468731355612496,\n",
       "   'mean_hit_rate_misdiagnosed': 0.4463339632308065},\n",
       "  'n_questions_40': {True: 131596,\n",
       "   False: 852,\n",
       "   'error_rate': 0.006432713215752597,\n",
       "   'mean_hit_rate': 0.9672991290595049,\n",
       "   'mean_hit_rate_misdiagnosed': 0.44856124900138983},\n",
       "  'n_questions_45': {True: 132170,\n",
       "   False: 278,\n",
       "   'error_rate': 0.0020989369412901665,\n",
       "   'mean_hit_rate': 0.9809383707671537,\n",
       "   'mean_hit_rate_misdiagnosed': 0.5546942965108433},\n",
       "  'n_questions_50': {True: 132338,\n",
       "   False: 110,\n",
       "   'error_rate': 0.0008305146170572602,\n",
       "   'mean_hit_rate': 0.9901947959174193,\n",
       "   'mean_hit_rate_misdiagnosed': 0.6635287944378855},\n",
       "  'n_questions_55': {True: 132345,\n",
       "   False: 103,\n",
       "   'error_rate': 0.0007776636868808891,\n",
       "   'mean_hit_rate': 0.9939447442967693,\n",
       "   'mean_hit_rate_misdiagnosed': 0.6759169363538297},\n",
       "  'n_questions_60': {True: 132381,\n",
       "   False: 67,\n",
       "   'error_rate': 0.0005058589031166949,\n",
       "   'mean_hit_rate': 0.9958715827096248,\n",
       "   'mean_hit_rate_misdiagnosed': 0.7960080549632789},\n",
       "  'n_questions_65': {True: 132413,\n",
       "   False: 35,\n",
       "   'error_rate': 0.00026425465088185553,\n",
       "   'mean_hit_rate': 0.9970895046681393,\n",
       "   'mean_hit_rate_misdiagnosed': 0.9547619047619047},\n",
       "  'n_questions_70': {True: 132414,\n",
       "   False: 34,\n",
       "   'error_rate': 0.0002567045179995168,\n",
       "   'mean_hit_rate': 0.9974770661717616,\n",
       "   'mean_hit_rate_misdiagnosed': 0.9681372549019607},\n",
       "  'n_questions_75': {True: 132415,\n",
       "   False: 33,\n",
       "   'error_rate': 0.0002491543851171781,\n",
       "   'mean_hit_rate': 0.9982845199265985,\n",
       "   'mean_hit_rate_misdiagnosed': 0.9772727272727273},\n",
       "  'n_questions_80': {True: 132415,\n",
       "   False: 33,\n",
       "   'error_rate': 0.0002491543851171781,\n",
       "   'mean_hit_rate': 0.9987981986102002,\n",
       "   'mean_hit_rate_misdiagnosed': 0.9772727272727273},\n",
       "  'n_questions_85': {True: 132415,\n",
       "   False: 33,\n",
       "   'error_rate': 0.0002491543851171781,\n",
       "   'mean_hit_rate': 0.9989152256698766,\n",
       "   'mean_hit_rate_misdiagnosed': 0.9772727272727273},\n",
       "  'n_questions_90': {True: 132415,\n",
       "   False: 33,\n",
       "   'error_rate': 0.0002491543851171781,\n",
       "   'mean_hit_rate': 0.999210687536672,\n",
       "   'mean_hit_rate_misdiagnosed': 0.9772727272727273},\n",
       "  'n_questions_95': {True: 132415,\n",
       "   False: 33,\n",
       "   'error_rate': 0.0002491543851171781,\n",
       "   'mean_hit_rate': 0.999210687536672,\n",
       "   'mean_hit_rate_misdiagnosed': 0.9772727272727273},\n",
       "  'n_questions_100': {True: 132415,\n",
       "   False: 33,\n",
       "   'error_rate': 0.0002491543851171781,\n",
       "   'mean_hit_rate': 0.9993531333770521,\n",
       "   'mean_hit_rate_misdiagnosed': 0.9772727272727273},\n",
       "  'n_questions_105': {True: 132415,\n",
       "   False: 33,\n",
       "   'error_rate': 0.0002491543851171781,\n",
       "   'mean_hit_rate': 0.9993584364465767,\n",
       "   'mean_hit_rate_misdiagnosed': 0.9772727272727273},\n",
       "  'n_questions_110': {True: 132415,\n",
       "   False: 33,\n",
       "   'error_rate': 0.0002491543851171781,\n",
       "   'mean_hit_rate': 0.9993840619571096,\n",
       "   'mean_hit_rate_misdiagnosed': 0.9772727272727273},\n",
       "  'n_questions_115': {True: 132415,\n",
       "   False: 33,\n",
       "   'error_rate': 0.0002491543851171781,\n",
       "   'mean_hit_rate': 0.9994297492493012,\n",
       "   'mean_hit_rate_misdiagnosed': 0.9772727272727273},\n",
       "  'n_questions_120': {True: 132415,\n",
       "   False: 33,\n",
       "   'error_rate': 0.0002491543851171781,\n",
       "   'mean_hit_rate': 0.9997669885180454,\n",
       "   'mean_hit_rate_misdiagnosed': 0.9772727272727273},\n",
       "  'n_questions_125': {True: 132416,\n",
       "   False: 32,\n",
       "   'error_rate': 0.00024160425223483932,\n",
       "   'mean_hit_rate': 0.9997726511177071,\n",
       "   'mean_hit_rate_misdiagnosed': 1.0},\n",
       "  'n_questions_130': {True: 132416,\n",
       "   False: 32,\n",
       "   'error_rate': 0.00024160425223483932,\n",
       "   'mean_hit_rate': 0.9997726511177071,\n",
       "   'mean_hit_rate_misdiagnosed': 1.0},\n",
       "  'n_questions_135': {True: 132416,\n",
       "   False: 32,\n",
       "   'error_rate': 0.00024160425223483932,\n",
       "   'mean_hit_rate': 0.9997726511177071,\n",
       "   'mean_hit_rate_misdiagnosed': 1.0},\n",
       "  'n_questions_140': {True: 132416,\n",
       "   False: 32,\n",
       "   'error_rate': 0.00024160425223483932,\n",
       "   'mean_hit_rate': 0.9998899298484796,\n",
       "   'mean_hit_rate_misdiagnosed': 1.0},\n",
       "  'n_questions_145': {True: 132416,\n",
       "   False: 32,\n",
       "   'error_rate': 0.00024160425223483932,\n",
       "   'mean_hit_rate': 0.9999618538524372,\n",
       "   'mean_hit_rate_misdiagnosed': 1.0},\n",
       "  'n_questions_150': {True: 132416,\n",
       "   False: 32,\n",
       "   'error_rate': 0.00024160425223483932,\n",
       "   'mean_hit_rate': 0.9999618538524372,\n",
       "   'mean_hit_rate_misdiagnosed': 1.0},\n",
       "  'n_questions_155': {True: 132416,\n",
       "   False: 32,\n",
       "   'error_rate': 0.00024160425223483932,\n",
       "   'mean_hit_rate': 0.9999618538524372,\n",
       "   'mean_hit_rate_misdiagnosed': 1.0},\n",
       "  'n_questions_160': {True: 132416,\n",
       "   False: 32,\n",
       "   'error_rate': 0.00024160425223483932,\n",
       "   'mean_hit_rate': 0.9999618538524372,\n",
       "   'mean_hit_rate_misdiagnosed': 1.0},\n",
       "  'n_questions_165': {True: 132416,\n",
       "   False: 32,\n",
       "   'error_rate': 0.00024160425223483932,\n",
       "   'mean_hit_rate': 0.9999618538524372,\n",
       "   'mean_hit_rate_misdiagnosed': 1.0},\n",
       "  'n_questions_170': {True: 132416,\n",
       "   False: 32,\n",
       "   'error_rate': 0.00024160425223483932,\n",
       "   'mean_hit_rate': 1.0,\n",
       "   'mean_hit_rate_misdiagnosed': 1.0},\n",
       "  'n_questions_175': {True: 132416,\n",
       "   False: 32,\n",
       "   'error_rate': 0.00024160425223483932,\n",
       "   'mean_hit_rate': 1.0,\n",
       "   'mean_hit_rate_misdiagnosed': 1.0},\n",
       "  'n_questions_180': {True: 132416,\n",
       "   False: 32,\n",
       "   'error_rate': 0.00024160425223483932,\n",
       "   'mean_hit_rate': 1.0,\n",
       "   'mean_hit_rate_misdiagnosed': 1.0},\n",
       "  'n_questions_185': {True: 132416,\n",
       "   False: 32,\n",
       "   'error_rate': 0.00024160425223483932,\n",
       "   'mean_hit_rate': 1.0,\n",
       "   'mean_hit_rate_misdiagnosed': 1.0},\n",
       "  'n_questions_190': {True: 132416,\n",
       "   False: 32,\n",
       "   'error_rate': 0.00024160425223483932,\n",
       "   'mean_hit_rate': 1.0,\n",
       "   'mean_hit_rate_misdiagnosed': 1.0},\n",
       "  'n_questions_195': {True: 132416,\n",
       "   False: 32,\n",
       "   'error_rate': 0.00024160425223483932,\n",
       "   'mean_hit_rate': 1.0,\n",
       "   'mean_hit_rate_misdiagnosed': 1.0},\n",
       "  'n_questions_200': {True: 132416,\n",
       "   False: 32,\n",
       "   'error_rate': 0.00024160425223483932,\n",
       "   'mean_hit_rate': 1.0,\n",
       "   'mean_hit_rate_misdiagnosed': 1.0},\n",
       "  'n_questions_205': {True: 132416,\n",
       "   False: 32,\n",
       "   'error_rate': 0.00024160425223483932,\n",
       "   'mean_hit_rate': 1.0,\n",
       "   'mean_hit_rate_misdiagnosed': 1.0},\n",
       "  'n_questions_208': {True: 132416,\n",
       "   False: 32,\n",
       "   'error_rate': 0.00024160425223483932,\n",
       "   'mean_hit_rate': 1.0,\n",
       "   'mean_hit_rate_misdiagnosed': 1.0},\n",
       "  'plt_y': [0.10234205122010147,\n",
       "   0.056565595554481755,\n",
       "   0.027844890070065232,\n",
       "   0.019388741241845857,\n",
       "   0.010487134573568495,\n",
       "   0.009452766368688088,\n",
       "   0.006696967866634452,\n",
       "   0.006432713215752597,\n",
       "   0.0020989369412901665,\n",
       "   0.0008305146170572602,\n",
       "   0.0007776636868808891,\n",
       "   0.0005058589031166949,\n",
       "   0.00026425465088185553,\n",
       "   0.0002567045179995168,\n",
       "   0.0002491543851171781,\n",
       "   0.0002491543851171781,\n",
       "   0.0002491543851171781,\n",
       "   0.0002491543851171781,\n",
       "   0.0002491543851171781,\n",
       "   0.0002491543851171781,\n",
       "   0.0002491543851171781,\n",
       "   0.0002491543851171781,\n",
       "   0.0002491543851171781,\n",
       "   0.0002491543851171781,\n",
       "   0.00024160425223483932,\n",
       "   0.00024160425223483932,\n",
       "   0.00024160425223483932,\n",
       "   0.00024160425223483932,\n",
       "   0.00024160425223483932,\n",
       "   0.00024160425223483932,\n",
       "   0.00024160425223483932,\n",
       "   0.00024160425223483932,\n",
       "   0.00024160425223483932,\n",
       "   0.00024160425223483932,\n",
       "   0.00024160425223483932,\n",
       "   0.00024160425223483932,\n",
       "   0.00024160425223483932,\n",
       "   0.00024160425223483932,\n",
       "   0.00024160425223483932,\n",
       "   0.00024160425223483932,\n",
       "   0.00024160425223483932,\n",
       "   0.00024160425223483932]},\n",
       " 'gradient_boost': {'n_questions_5': {True: 115495,\n",
       "   False: 16953,\n",
       "   'error_rate': 0.12799740275428848,\n",
       "   'mean_hit_rate': 0.33105369578602123,\n",
       "   'mean_hit_rate_misdiagnosed': 0.32534964578944436},\n",
       "  'n_questions_10': {True: 123825,\n",
       "   False: 8623,\n",
       "   'error_rate': 0.06510479584440686,\n",
       "   'mean_hit_rate': 0.5348788121386866,\n",
       "   'mean_hit_rate_misdiagnosed': 0.44389629930318747},\n",
       "  'n_questions_15': {True: 128207,\n",
       "   False: 4241,\n",
       "   'error_rate': 0.03202011355399855,\n",
       "   'mean_hit_rate': 0.7015726661850556,\n",
       "   'mean_hit_rate_misdiagnosed': 0.48106587092523795},\n",
       "  'n_questions_20': {True: 129808,\n",
       "   False: 2640,\n",
       "   'error_rate': 0.019932350809374246,\n",
       "   'mean_hit_rate': 0.8109909153294077,\n",
       "   'mean_hit_rate_misdiagnosed': 0.50616636842709},\n",
       "  'n_questions_25': {True: 130667,\n",
       "   False: 1781,\n",
       "   'error_rate': 0.013446786663445277,\n",
       "   'mean_hit_rate': 0.8810154199870976,\n",
       "   'mean_hit_rate_misdiagnosed': 0.5283575439745966},\n",
       "  'n_questions_30': {True: 130987,\n",
       "   False: 1461,\n",
       "   'error_rate': 0.011030744141096883,\n",
       "   'mean_hit_rate': 0.9208837285146768,\n",
       "   'mean_hit_rate_misdiagnosed': 0.522843025101752},\n",
       "  'n_questions_35': {True: 131112,\n",
       "   False: 1336,\n",
       "   'error_rate': 0.010086977530804541,\n",
       "   'mean_hit_rate': 0.9468731355612496,\n",
       "   'mean_hit_rate_misdiagnosed': 0.5243112953101065},\n",
       "  'n_questions_40': {True: 131282,\n",
       "   False: 1166,\n",
       "   'error_rate': 0.008803454940806959,\n",
       "   'mean_hit_rate': 0.9672991290595049,\n",
       "   'mean_hit_rate_misdiagnosed': 0.5251660931978256},\n",
       "  'n_questions_45': {True: 131999,\n",
       "   False: 449,\n",
       "   'error_rate': 0.0033900096641700894,\n",
       "   'mean_hit_rate': 0.9809383707671537,\n",
       "   'mean_hit_rate_misdiagnosed': 0.653759115173369},\n",
       "  'n_questions_50': {True: 132214,\n",
       "   False: 234,\n",
       "   'error_rate': 0.0017667310944672627,\n",
       "   'mean_hit_rate': 0.9901947959174193,\n",
       "   'mean_hit_rate_misdiagnosed': 0.8014245014245014},\n",
       "  'n_questions_55': {True: 132255,\n",
       "   False: 193,\n",
       "   'error_rate': 0.0014571756462913748,\n",
       "   'mean_hit_rate': 0.9939447442967693,\n",
       "   'mean_hit_rate_misdiagnosed': 0.8244016777695534},\n",
       "  'n_questions_60': {True: 132281,\n",
       "   False: 167,\n",
       "   'error_rate': 0.0012608721913505677,\n",
       "   'mean_hit_rate': 0.9958715827096248,\n",
       "   'mean_hit_rate_misdiagnosed': 0.8738522954091816},\n",
       "  'n_questions_65': {True: 132332,\n",
       "   False: 116,\n",
       "   'error_rate': 0.0008758154143512926,\n",
       "   'mean_hit_rate': 0.9970895046681393,\n",
       "   'mean_hit_rate_misdiagnosed': 0.9872126436781611},\n",
       "  'n_questions_70': {True: 132332,\n",
       "   False: 116,\n",
       "   'error_rate': 0.0008758154143512926,\n",
       "   'mean_hit_rate': 0.9974770661717616,\n",
       "   'mean_hit_rate_misdiagnosed': 0.9920977011494252},\n",
       "  'n_questions_75': {True: 132333,\n",
       "   False: 115,\n",
       "   'error_rate': 0.0008682652814689538,\n",
       "   'mean_hit_rate': 0.9982845199265985,\n",
       "   'mean_hit_rate_misdiagnosed': 0.9934782608695653},\n",
       "  'n_questions_80': {True: 132333,\n",
       "   False: 115,\n",
       "   'error_rate': 0.0008682652814689538,\n",
       "   'mean_hit_rate': 0.9987981986102002,\n",
       "   'mean_hit_rate_misdiagnosed': 0.9934782608695653},\n",
       "  'n_questions_85': {True: 132333,\n",
       "   False: 115,\n",
       "   'error_rate': 0.0008682652814689538,\n",
       "   'mean_hit_rate': 0.9989152256698766,\n",
       "   'mean_hit_rate_misdiagnosed': 0.9934782608695653},\n",
       "  'n_questions_90': {True: 132333,\n",
       "   False: 115,\n",
       "   'error_rate': 0.0008682652814689538,\n",
       "   'mean_hit_rate': 0.999210687536672,\n",
       "   'mean_hit_rate_misdiagnosed': 0.9934782608695653},\n",
       "  'n_questions_95': {True: 132333,\n",
       "   False: 115,\n",
       "   'error_rate': 0.0008682652814689538,\n",
       "   'mean_hit_rate': 0.999210687536672,\n",
       "   'mean_hit_rate_misdiagnosed': 0.9934782608695653},\n",
       "  'n_questions_100': {True: 132333,\n",
       "   False: 115,\n",
       "   'error_rate': 0.0008682652814689538,\n",
       "   'mean_hit_rate': 0.9993531333770521,\n",
       "   'mean_hit_rate_misdiagnosed': 0.9934782608695653},\n",
       "  'n_questions_105': {True: 132333,\n",
       "   False: 115,\n",
       "   'error_rate': 0.0008682652814689538,\n",
       "   'mean_hit_rate': 0.9993584364465767,\n",
       "   'mean_hit_rate_misdiagnosed': 0.9934782608695653},\n",
       "  'n_questions_110': {True: 132333,\n",
       "   False: 115,\n",
       "   'error_rate': 0.0008682652814689538,\n",
       "   'mean_hit_rate': 0.9993840619571096,\n",
       "   'mean_hit_rate_misdiagnosed': 0.9934782608695653},\n",
       "  'n_questions_115': {True: 132333,\n",
       "   False: 115,\n",
       "   'error_rate': 0.0008682652814689538,\n",
       "   'mean_hit_rate': 0.9994297492493012,\n",
       "   'mean_hit_rate_misdiagnosed': 0.9934782608695653},\n",
       "  'n_questions_120': {True: 132333,\n",
       "   False: 115,\n",
       "   'error_rate': 0.0008682652814689538,\n",
       "   'mean_hit_rate': 0.9997669885180454,\n",
       "   'mean_hit_rate_misdiagnosed': 0.9934782608695653},\n",
       "  'n_questions_125': {True: 132334,\n",
       "   False: 114,\n",
       "   'error_rate': 0.0008607151485866151,\n",
       "   'mean_hit_rate': 0.9997726511177071,\n",
       "   'mean_hit_rate_misdiagnosed': 1.0},\n",
       "  'n_questions_130': {True: 132334,\n",
       "   False: 114,\n",
       "   'error_rate': 0.0008607151485866151,\n",
       "   'mean_hit_rate': 0.9997726511177071,\n",
       "   'mean_hit_rate_misdiagnosed': 1.0},\n",
       "  'n_questions_135': {True: 132334,\n",
       "   False: 114,\n",
       "   'error_rate': 0.0008607151485866151,\n",
       "   'mean_hit_rate': 0.9997726511177071,\n",
       "   'mean_hit_rate_misdiagnosed': 1.0},\n",
       "  'n_questions_140': {True: 132334,\n",
       "   False: 114,\n",
       "   'error_rate': 0.0008607151485866151,\n",
       "   'mean_hit_rate': 0.9998899298484796,\n",
       "   'mean_hit_rate_misdiagnosed': 1.0},\n",
       "  'n_questions_145': {True: 132334,\n",
       "   False: 114,\n",
       "   'error_rate': 0.0008607151485866151,\n",
       "   'mean_hit_rate': 0.9999618538524372,\n",
       "   'mean_hit_rate_misdiagnosed': 1.0},\n",
       "  'n_questions_150': {True: 132334,\n",
       "   False: 114,\n",
       "   'error_rate': 0.0008607151485866151,\n",
       "   'mean_hit_rate': 0.9999618538524372,\n",
       "   'mean_hit_rate_misdiagnosed': 1.0},\n",
       "  'n_questions_155': {True: 132334,\n",
       "   False: 114,\n",
       "   'error_rate': 0.0008607151485866151,\n",
       "   'mean_hit_rate': 0.9999618538524372,\n",
       "   'mean_hit_rate_misdiagnosed': 1.0},\n",
       "  'n_questions_160': {True: 132334,\n",
       "   False: 114,\n",
       "   'error_rate': 0.0008607151485866151,\n",
       "   'mean_hit_rate': 0.9999618538524372,\n",
       "   'mean_hit_rate_misdiagnosed': 1.0},\n",
       "  'n_questions_165': {True: 132334,\n",
       "   False: 114,\n",
       "   'error_rate': 0.0008607151485866151,\n",
       "   'mean_hit_rate': 0.9999618538524372,\n",
       "   'mean_hit_rate_misdiagnosed': 1.0},\n",
       "  'n_questions_170': {True: 132334,\n",
       "   False: 114,\n",
       "   'error_rate': 0.0008607151485866151,\n",
       "   'mean_hit_rate': 1.0,\n",
       "   'mean_hit_rate_misdiagnosed': 1.0},\n",
       "  'n_questions_175': {True: 132334,\n",
       "   False: 114,\n",
       "   'error_rate': 0.0008607151485866151,\n",
       "   'mean_hit_rate': 1.0,\n",
       "   'mean_hit_rate_misdiagnosed': 1.0},\n",
       "  'n_questions_180': {True: 132334,\n",
       "   False: 114,\n",
       "   'error_rate': 0.0008607151485866151,\n",
       "   'mean_hit_rate': 1.0,\n",
       "   'mean_hit_rate_misdiagnosed': 1.0},\n",
       "  'n_questions_185': {True: 132334,\n",
       "   False: 114,\n",
       "   'error_rate': 0.0008607151485866151,\n",
       "   'mean_hit_rate': 1.0,\n",
       "   'mean_hit_rate_misdiagnosed': 1.0},\n",
       "  'n_questions_190': {True: 132334,\n",
       "   False: 114,\n",
       "   'error_rate': 0.0008607151485866151,\n",
       "   'mean_hit_rate': 1.0,\n",
       "   'mean_hit_rate_misdiagnosed': 1.0},\n",
       "  'n_questions_195': {True: 132334,\n",
       "   False: 114,\n",
       "   'error_rate': 0.0008607151485866151,\n",
       "   'mean_hit_rate': 1.0,\n",
       "   'mean_hit_rate_misdiagnosed': 1.0},\n",
       "  'n_questions_200': {True: 132334,\n",
       "   False: 114,\n",
       "   'error_rate': 0.0008607151485866151,\n",
       "   'mean_hit_rate': 1.0,\n",
       "   'mean_hit_rate_misdiagnosed': 1.0},\n",
       "  'n_questions_205': {True: 132334,\n",
       "   False: 114,\n",
       "   'error_rate': 0.0008607151485866151,\n",
       "   'mean_hit_rate': 1.0,\n",
       "   'mean_hit_rate_misdiagnosed': 1.0},\n",
       "  'n_questions_208': {True: 132334,\n",
       "   False: 114,\n",
       "   'error_rate': 0.0008607151485866151,\n",
       "   'mean_hit_rate': 1.0,\n",
       "   'mean_hit_rate_misdiagnosed': 1.0},\n",
       "  'plt_y': [0.12799740275428848,\n",
       "   0.06510479584440686,\n",
       "   0.03202011355399855,\n",
       "   0.019932350809374246,\n",
       "   0.013446786663445277,\n",
       "   0.011030744141096883,\n",
       "   0.010086977530804541,\n",
       "   0.008803454940806959,\n",
       "   0.0033900096641700894,\n",
       "   0.0017667310944672627,\n",
       "   0.0014571756462913748,\n",
       "   0.0012608721913505677,\n",
       "   0.0008758154143512926,\n",
       "   0.0008758154143512926,\n",
       "   0.0008682652814689538,\n",
       "   0.0008682652814689538,\n",
       "   0.0008682652814689538,\n",
       "   0.0008682652814689538,\n",
       "   0.0008682652814689538,\n",
       "   0.0008682652814689538,\n",
       "   0.0008682652814689538,\n",
       "   0.0008682652814689538,\n",
       "   0.0008682652814689538,\n",
       "   0.0008682652814689538,\n",
       "   0.0008607151485866151,\n",
       "   0.0008607151485866151,\n",
       "   0.0008607151485866151,\n",
       "   0.0008607151485866151,\n",
       "   0.0008607151485866151,\n",
       "   0.0008607151485866151,\n",
       "   0.0008607151485866151,\n",
       "   0.0008607151485866151,\n",
       "   0.0008607151485866151,\n",
       "   0.0008607151485866151,\n",
       "   0.0008607151485866151,\n",
       "   0.0008607151485866151,\n",
       "   0.0008607151485866151,\n",
       "   0.0008607151485866151,\n",
       "   0.0008607151485866151,\n",
       "   0.0008607151485866151,\n",
       "   0.0008607151485866151,\n",
       "   0.0008607151485866151]},\n",
       " 'logistic_regression': {'n_questions_5': {'true': 119821,\n",
       "   'false': 12627,\n",
       "   'error_rate': 0.09533552790529114,\n",
       "   'mean_hit_rate': 0.33105369578602123,\n",
       "   'mean_hit_rate_misdiagnosed': 0.28740260525883915},\n",
       "  'n_questions_10': {'true': 124954,\n",
       "   'false': 7494,\n",
       "   'error_rate': 0.056580695820246434,\n",
       "   'mean_hit_rate': 0.5348788121386866,\n",
       "   'mean_hit_rate_misdiagnosed': 0.39056288777609177},\n",
       "  'n_questions_15': {'true': 128747,\n",
       "   'false': 3701,\n",
       "   'error_rate': 0.027943041797535637,\n",
       "   'mean_hit_rate': 0.7015726661850556,\n",
       "   'mean_hit_rate_misdiagnosed': 0.4266072670950902},\n",
       "  'n_questions_20': {'true': 130006,\n",
       "   'false': 2442,\n",
       "   'error_rate': 0.018437424498671178,\n",
       "   'mean_hit_rate': 0.8109909153294077,\n",
       "   'mean_hit_rate_misdiagnosed': 0.45886066405521797},\n",
       "  'n_questions_25': {'true': 131045,\n",
       "   'false': 1403,\n",
       "   'error_rate': 0.010592836433921237,\n",
       "   'mean_hit_rate': 0.8810154199870976,\n",
       "   'mean_hit_rate_misdiagnosed': 0.4806045890785524},\n",
       "  'n_questions_30': {'true': 131242,\n",
       "   'false': 1206,\n",
       "   'error_rate': 0.009105460256100508,\n",
       "   'mean_hit_rate': 0.9208837285146768,\n",
       "   'mean_hit_rate_misdiagnosed': 0.46583353305990116},\n",
       "  'n_questions_35': {'true': 131463,\n",
       "   'false': 985,\n",
       "   'error_rate': 0.007436880889103648,\n",
       "   'mean_hit_rate': 0.9468731355612496,\n",
       "   'mean_hit_rate_misdiagnosed': 0.48433409512089715},\n",
       "  'n_questions_40': {'true': 131502,\n",
       "   'false': 946,\n",
       "   'error_rate': 0.007142425706692438,\n",
       "   'mean_hit_rate': 0.9672991290595049,\n",
       "   'mean_hit_rate_misdiagnosed': 0.48598519169343696},\n",
       "  'n_questions_45': {'true': 132107,\n",
       "   'false': 341,\n",
       "   'error_rate': 0.0025745953128775067,\n",
       "   'mean_hit_rate': 0.9809383707671537,\n",
       "   'mean_hit_rate_misdiagnosed': 0.6132523390587906},\n",
       "  'n_questions_50': {'true': 132289,\n",
       "   'false': 159,\n",
       "   'error_rate': 0.0012004711282918579,\n",
       "   'mean_hit_rate': 0.9901947959174193,\n",
       "   'mean_hit_rate_misdiagnosed': 0.7490491165019467},\n",
       "  'n_questions_55': {'true': 132305,\n",
       "   'false': 143,\n",
       "   'error_rate': 0.0010796690021744383,\n",
       "   'mean_hit_rate': 0.9939447442967693,\n",
       "   'mean_hit_rate_misdiagnosed': 0.7635614385614385},\n",
       "  'n_questions_60': {'true': 132334,\n",
       "   'false': 114,\n",
       "   'error_rate': 0.0008607151485866151,\n",
       "   'mean_hit_rate': 0.9958715827096248,\n",
       "   'mean_hit_rate_misdiagnosed': 0.8318713450292397},\n",
       "  'n_questions_65': {'true': 132383,\n",
       "   'false': 65,\n",
       "   'error_rate': 0.0004907586373520174,\n",
       "   'mean_hit_rate': 0.9970895046681393,\n",
       "   'mean_hit_rate_misdiagnosed': 0.9884615384615385},\n",
       "  'n_questions_70': {'true': 132383,\n",
       "   'false': 65,\n",
       "   'error_rate': 0.0004907586373520174,\n",
       "   'mean_hit_rate': 0.9974770661717616,\n",
       "   'mean_hit_rate_misdiagnosed': 0.9884615384615385},\n",
       "  'n_questions_75': {'true': 132383,\n",
       "   'false': 65,\n",
       "   'error_rate': 0.0004907586373520174,\n",
       "   'mean_hit_rate': 0.9982845199265985,\n",
       "   'mean_hit_rate_misdiagnosed': 0.9884615384615385},\n",
       "  'n_questions_80': {'true': 132383,\n",
       "   'false': 65,\n",
       "   'error_rate': 0.0004907586373520174,\n",
       "   'mean_hit_rate': 0.9987981986102002,\n",
       "   'mean_hit_rate_misdiagnosed': 0.9884615384615385},\n",
       "  'n_questions_85': {'true': 132383,\n",
       "   'false': 65,\n",
       "   'error_rate': 0.0004907586373520174,\n",
       "   'mean_hit_rate': 0.9989152256698766,\n",
       "   'mean_hit_rate_misdiagnosed': 0.9884615384615385},\n",
       "  'n_questions_90': {'true': 132383,\n",
       "   'false': 65,\n",
       "   'error_rate': 0.0004907586373520174,\n",
       "   'mean_hit_rate': 0.999210687536672,\n",
       "   'mean_hit_rate_misdiagnosed': 0.9884615384615385},\n",
       "  'n_questions_95': {'true': 132383,\n",
       "   'false': 65,\n",
       "   'error_rate': 0.0004907586373520174,\n",
       "   'mean_hit_rate': 0.999210687536672,\n",
       "   'mean_hit_rate_misdiagnosed': 0.9884615384615385},\n",
       "  'n_questions_100': {'true': 132383,\n",
       "   'false': 65,\n",
       "   'error_rate': 0.0004907586373520174,\n",
       "   'mean_hit_rate': 0.9993531333770521,\n",
       "   'mean_hit_rate_misdiagnosed': 0.9884615384615385},\n",
       "  'n_questions_105': {'true': 132383,\n",
       "   'false': 65,\n",
       "   'error_rate': 0.0004907586373520174,\n",
       "   'mean_hit_rate': 0.9993584364465767,\n",
       "   'mean_hit_rate_misdiagnosed': 0.9884615384615385},\n",
       "  'n_questions_110': {'true': 132383,\n",
       "   'false': 65,\n",
       "   'error_rate': 0.0004907586373520174,\n",
       "   'mean_hit_rate': 0.9993840619571096,\n",
       "   'mean_hit_rate_misdiagnosed': 0.9884615384615385},\n",
       "  'n_questions_115': {'true': 132383,\n",
       "   'false': 65,\n",
       "   'error_rate': 0.0004907586373520174,\n",
       "   'mean_hit_rate': 0.9994297492493012,\n",
       "   'mean_hit_rate_misdiagnosed': 0.9884615384615385},\n",
       "  'n_questions_120': {'true': 132383,\n",
       "   'false': 65,\n",
       "   'error_rate': 0.0004907586373520174,\n",
       "   'mean_hit_rate': 0.9997669885180454,\n",
       "   'mean_hit_rate_misdiagnosed': 0.9884615384615385},\n",
       "  'n_questions_125': {'true': 132384,\n",
       "   'false': 64,\n",
       "   'error_rate': 0.00048320850446967865,\n",
       "   'mean_hit_rate': 0.9997726511177071,\n",
       "   'mean_hit_rate_misdiagnosed': 1.0},\n",
       "  'n_questions_130': {'true': 132384,\n",
       "   'false': 64,\n",
       "   'error_rate': 0.00048320850446967865,\n",
       "   'mean_hit_rate': 0.9997726511177071,\n",
       "   'mean_hit_rate_misdiagnosed': 1.0},\n",
       "  'n_questions_135': {'true': 132384,\n",
       "   'false': 64,\n",
       "   'error_rate': 0.00048320850446967865,\n",
       "   'mean_hit_rate': 0.9997726511177071,\n",
       "   'mean_hit_rate_misdiagnosed': 1.0},\n",
       "  'n_questions_140': {'true': 132384,\n",
       "   'false': 64,\n",
       "   'error_rate': 0.00048320850446967865,\n",
       "   'mean_hit_rate': 0.9998899298484796,\n",
       "   'mean_hit_rate_misdiagnosed': 1.0},\n",
       "  'n_questions_145': {'true': 132384,\n",
       "   'false': 64,\n",
       "   'error_rate': 0.00048320850446967865,\n",
       "   'mean_hit_rate': 0.9999618538524372,\n",
       "   'mean_hit_rate_misdiagnosed': 1.0},\n",
       "  'n_questions_150': {'true': 132384,\n",
       "   'false': 64,\n",
       "   'error_rate': 0.00048320850446967865,\n",
       "   'mean_hit_rate': 0.9999618538524372,\n",
       "   'mean_hit_rate_misdiagnosed': 1.0},\n",
       "  'n_questions_155': {'true': 132384,\n",
       "   'false': 64,\n",
       "   'error_rate': 0.00048320850446967865,\n",
       "   'mean_hit_rate': 0.9999618538524372,\n",
       "   'mean_hit_rate_misdiagnosed': 1.0},\n",
       "  'n_questions_160': {'true': 132384,\n",
       "   'false': 64,\n",
       "   'error_rate': 0.00048320850446967865,\n",
       "   'mean_hit_rate': 0.9999618538524372,\n",
       "   'mean_hit_rate_misdiagnosed': 1.0},\n",
       "  'n_questions_165': {'true': 132384,\n",
       "   'false': 64,\n",
       "   'error_rate': 0.00048320850446967865,\n",
       "   'mean_hit_rate': 0.9999618538524372,\n",
       "   'mean_hit_rate_misdiagnosed': 1.0},\n",
       "  'n_questions_170': {'true': 132384,\n",
       "   'false': 64,\n",
       "   'error_rate': 0.00048320850446967865,\n",
       "   'mean_hit_rate': 1.0,\n",
       "   'mean_hit_rate_misdiagnosed': 1.0},\n",
       "  'n_questions_175': {'true': 132384,\n",
       "   'false': 64,\n",
       "   'error_rate': 0.00048320850446967865,\n",
       "   'mean_hit_rate': 1.0,\n",
       "   'mean_hit_rate_misdiagnosed': 1.0},\n",
       "  'n_questions_180': {'true': 132384,\n",
       "   'false': 64,\n",
       "   'error_rate': 0.00048320850446967865,\n",
       "   'mean_hit_rate': 1.0,\n",
       "   'mean_hit_rate_misdiagnosed': 1.0},\n",
       "  'n_questions_185': {'true': 132384,\n",
       "   'false': 64,\n",
       "   'error_rate': 0.00048320850446967865,\n",
       "   'mean_hit_rate': 1.0,\n",
       "   'mean_hit_rate_misdiagnosed': 1.0},\n",
       "  'n_questions_190': {'true': 132384,\n",
       "   'false': 64,\n",
       "   'error_rate': 0.00048320850446967865,\n",
       "   'mean_hit_rate': 1.0,\n",
       "   'mean_hit_rate_misdiagnosed': 1.0},\n",
       "  'n_questions_195': {'true': 132384,\n",
       "   'false': 64,\n",
       "   'error_rate': 0.00048320850446967865,\n",
       "   'mean_hit_rate': 1.0,\n",
       "   'mean_hit_rate_misdiagnosed': 1.0},\n",
       "  'n_questions_200': {'true': 132384,\n",
       "   'false': 64,\n",
       "   'error_rate': 0.00048320850446967865,\n",
       "   'mean_hit_rate': 1.0,\n",
       "   'mean_hit_rate_misdiagnosed': 1.0},\n",
       "  'n_questions_205': {'true': 132384,\n",
       "   'false': 64,\n",
       "   'error_rate': 0.00048320850446967865,\n",
       "   'mean_hit_rate': 1.0,\n",
       "   'mean_hit_rate_misdiagnosed': 1.0},\n",
       "  'n_questions_208': {'true': 132384,\n",
       "   'false': 64,\n",
       "   'error_rate': 0.00048320850446967865,\n",
       "   'mean_hit_rate': 1.0,\n",
       "   'mean_hit_rate_misdiagnosed': 1.0},\n",
       "  'plt_y': [0.09533552790529114,\n",
       "   0.056580695820246434,\n",
       "   0.027943041797535637,\n",
       "   0.018437424498671178,\n",
       "   0.010592836433921237,\n",
       "   0.009105460256100508,\n",
       "   0.007436880889103648,\n",
       "   0.007142425706692438,\n",
       "   0.0025745953128775067,\n",
       "   0.0012004711282918579,\n",
       "   0.0010796690021744383,\n",
       "   0.0008607151485866151,\n",
       "   0.0004907586373520174,\n",
       "   0.0004907586373520174,\n",
       "   0.0004907586373520174,\n",
       "   0.0004907586373520174,\n",
       "   0.0004907586373520174,\n",
       "   0.0004907586373520174,\n",
       "   0.0004907586373520174,\n",
       "   0.0004907586373520174,\n",
       "   0.0004907586373520174,\n",
       "   0.0004907586373520174,\n",
       "   0.0004907586373520174,\n",
       "   0.0004907586373520174,\n",
       "   0.00048320850446967865,\n",
       "   0.00048320850446967865,\n",
       "   0.00048320850446967865,\n",
       "   0.00048320850446967865,\n",
       "   0.00048320850446967865,\n",
       "   0.00048320850446967865,\n",
       "   0.00048320850446967865,\n",
       "   0.00048320850446967865,\n",
       "   0.00048320850446967865,\n",
       "   0.00048320850446967865,\n",
       "   0.00048320850446967865,\n",
       "   0.00048320850446967865,\n",
       "   0.00048320850446967865,\n",
       "   0.00048320850446967865,\n",
       "   0.00048320850446967865,\n",
       "   0.00048320850446967865,\n",
       "   0.00048320850446967865,\n",
       "   0.00048320850446967865]}}"
      ]
     },
     "execution_count": 20,
     "metadata": {},
     "output_type": "execute_result"
    }
   ],
   "source": [
    "with open(f'{base_path}\\\\output\\\\error_analysis_questionnaire\\\\logistic_regression\\\\validation_metric_questionnaire_experiments.json', 'rb') as f:\n",
    "    metrics_dict[\"logistic_regression\"] = json.load(f)\n",
    "metrics_dict"
   ]
  },
  {
   "cell_type": "code",
   "execution_count": null,
   "metadata": {},
   "outputs": [
    {
     "data": {
      "text/plain": [
       "<Figure size 640x480 with 0 Axes>"
      ]
     },
     "metadata": {},
     "output_type": "display_data"
    }
   ],
   "source": [
    "for model_name in model_list[\"tree-based\"]:\n",
    "    plt.plot(n_questions_list, metrics_dict[model_name][\"plt_y\"], marker='o', label = model_name, alpha=0.5)\n",
    "plt.plot(n_questions_list, metrics_dict[\"logistic_regression\"][\"plt_y\"], marker='o', label = \"logistic_regression\", alpha=0.5)\n",
    "plt.xlabel('number of questions')\n",
    "plt.ylabel('misdiagnosis rate')\n",
    "plt.title('Questionnaire Experiments')\n",
    "plt.ylim(0, 0.15)\n",
    "plt.legend()\n",
    "plt.savefig(f'{base_path}\\\\output\\\\error_analysis_questionnaire\\\\questionnaire_experiments.jpg', bbox_inches='tight')\n",
    "plt.clf()"
   ]
  },
  {
   "cell_type": "code",
   "execution_count": null,
   "metadata": {},
   "outputs": [],
   "source": []
  }
 ],
 "metadata": {
  "kernelspec": {
   "display_name": "Python 3",
   "language": "python",
   "name": "python3"
  },
  "language_info": {
   "codemirror_mode": {
    "name": "ipython",
    "version": 3
   },
   "file_extension": ".py",
   "mimetype": "text/x-python",
   "name": "python",
   "nbconvert_exporter": "python",
   "pygments_lexer": "ipython3",
   "version": "3.10.0"
  }
 },
 "nbformat": 4,
 "nbformat_minor": 2
}
