{
 "cells": [
  {
   "cell_type": "code",
   "execution_count": 1,
   "metadata": {},
   "outputs": [
    {
     "name": "stderr",
     "output_type": "stream",
     "text": [
      "c:\\Users\\myras\\Documents\\MYMY\\ACADS\\AY 2023-2024 2ND SEM\\STAT299 - Capstone\\Repo\\VITAS\\vitas-env\\lib\\site-packages\\tqdm\\auto.py:21: TqdmWarning: IProgress not found. Please update jupyter and ipywidgets. See https://ipywidgets.readthedocs.io/en/stable/user_install.html\n",
      "  from .autonotebook import tqdm as notebook_tqdm\n"
     ]
    }
   ],
   "source": [
    "from sentence_transformers import SentenceTransformer\n",
    "from constants import base_path"
   ]
  },
  {
   "cell_type": "code",
   "execution_count": 2,
   "metadata": {},
   "outputs": [],
   "source": [
    "# add trandformers to download here\n",
    "transformers_dict = {\n",
    "    \"BioBERT-mnli-snli-scinli-scitail-mednli-stsb\": \"pritamdeka/BioBERT-mnli-snli-scinli-scitail-mednli-stsb\",\n",
    "    \"all-MiniLM-L12-v2\": \"sentence-transformers/all-MiniLM-L12-v2\",\n",
    "    \"SapBERT-mnli-snli-scinli-scitail-mednli-stsb\": \"pritamdeka/SapBERT-mnli-snli-scinli-scitail-mednli-stsb\"\n",
    "}"
   ]
  },
  {
   "cell_type": "code",
   "execution_count": 3,
   "metadata": {},
   "outputs": [],
   "source": [
    "for transformer in transformers_dict:\n",
    "    model = SentenceTransformer(transformers_dict[transformer])\n",
    "    model.save(f\"{base_path}\\\\input\\\\{transformer}\")\n"
   ]
  },
  {
   "cell_type": "code",
   "execution_count": 4,
   "metadata": {},
   "outputs": [],
   "source": [
    "# test\n",
    "model_loaded = SentenceTransformer(f\"{base_path}\\\\input\\\\BioBERT-mnli-snli-scinli-scitail-mednli-stsb\")"
   ]
  },
  {
   "cell_type": "code",
   "execution_count": 5,
   "metadata": {},
   "outputs": [
    {
     "name": "stdout",
     "output_type": "stream",
     "text": [
      "[[-0.76730883 -0.02201501  0.21489331 ...  0.43050876  0.94458354\n",
      "   0.3237881 ]\n",
      " [ 0.04581     0.25039393  1.1280602  ...  0.34196818  0.41225186\n",
      "   0.14661263]]\n"
     ]
    }
   ],
   "source": [
    "sentences = [\"This is an example sentence\", \"Each sentence is converted\"]\n",
    "embeddings = model_loaded.encode(sentences)\n",
    "print(embeddings)"
   ]
  },
  {
   "cell_type": "code",
   "execution_count": 6,
   "metadata": {},
   "outputs": [
    {
     "data": {
      "text/plain": [
       "(2, 768)"
      ]
     },
     "execution_count": 6,
     "metadata": {},
     "output_type": "execute_result"
    }
   ],
   "source": [
    "embeddings.shape"
   ]
  },
  {
   "cell_type": "code",
   "execution_count": null,
   "metadata": {},
   "outputs": [],
   "source": []
  }
 ],
 "metadata": {
  "kernelspec": {
   "display_name": "Python 3",
   "language": "python",
   "name": "python3"
  },
  "language_info": {
   "codemirror_mode": {
    "name": "ipython",
    "version": 3
   },
   "file_extension": ".py",
   "mimetype": "text/x-python",
   "name": "python",
   "nbconvert_exporter": "python",
   "pygments_lexer": "ipython3",
   "version": "3.10.0"
  }
 },
 "nbformat": 4,
 "nbformat_minor": 2
}
