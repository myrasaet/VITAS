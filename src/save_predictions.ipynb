{
 "cells": [
  {
   "cell_type": "code",
   "execution_count": 17,
   "metadata": {},
   "outputs": [],
   "source": [
    "import pandas as pd\n",
    "import numpy as np\n",
    "import json\n",
    "import ast\n",
    "import re\n",
    "import os\n",
    "import pickle\n",
    "from tqdm import tqdm\n",
    "from constants import base_path, app_n_questions, model_list\n",
    "import matplotlib.pyplot as plt\n",
    "from collections import Counter\n",
    "tqdm.pandas()\n",
    "import warnings\n",
    "warnings.filterwarnings(\"ignore\")\n",
    "from tqdm import tqdm\n",
    "tqdm.pandas()"
   ]
  },
  {
   "cell_type": "code",
   "execution_count": 18,
   "metadata": {},
   "outputs": [],
   "source": [
    "with open(f\"{base_path}\\\\input\\\\release_conditions.json\") as f:\n",
    "  disease_dict = json.load(f)\n",
    "disease_list = list(disease_dict.keys())"
   ]
  },
  {
   "cell_type": "code",
   "execution_count": 19,
   "metadata": {},
   "outputs": [],
   "source": [
    "with open(f\"{base_path}\\\\input\\\\release_evidences.json\") as f:\n",
    "  evidences = json.load(f)\n",
    "evidences_list = []\n",
    "evidences_dict = {}\n",
    "evidences_en_to_code = {}\n",
    "for e in evidences.keys():\n",
    "  # only binary symptoms and antecedents\n",
    "  if (not evidences[e][\"possible-values\"]):\n",
    "    evidences_list.append(e)\n",
    "    evidences_dict[e] = evidences[e][\"question_en\"]\n",
    "    evidences_en_to_code[evidences[e][\"question_en\"]] = e\n",
    "evidences_code_to_en = evidences_dict\n",
    "evidences_list_en = list(evidences_en_to_code.keys())\n",
    "evidences_dict[\"AGE\"] = \"AGE\"\n",
    "evidences_dict[\"SEX\"] = \"SEX\"\n",
    "feature_columns = [\"AGE\", \"SEX\"] + evidences_list"
   ]
  },
  {
   "cell_type": "code",
   "execution_count": 20,
   "metadata": {},
   "outputs": [],
   "source": [
    "def get_next_question(evidences, questionnaire, feature_embeddings_df):\n",
    "    centroid = np.array([feature_embeddings_df.loc[e].values for e in evidences]).mean(axis=0)\n",
    "    _, indices = questionnaire.kneighbors([centroid])\n",
    "    ask_list = [evidences_list_en[i] for i in indices[0] if evidences_list_en[i] not in evidences]\n",
    "    try:\n",
    "        return ask_list\n",
    "    except:\n",
    "        return []"
   ]
  },
  {
   "cell_type": "code",
   "execution_count": 21,
   "metadata": {},
   "outputs": [],
   "source": [
    "def get_evidences(answers, user_evidences, questionnaire, feature_embeddings_df):\n",
    "    ask = True\n",
    "    question_counter = 1 # counts initial evidence sa q0\n",
    "    evidences_en = [evidences_code_to_en[e] for e in user_evidences]\n",
    "    answers_en = [evidences_code_to_en[e] for e in answers if e in evidences_list]\n",
    "    asked = evidences_en.copy()\n",
    "    while question_counter < app_n_questions:\n",
    "      ask =  True\n",
    "      next_question_idx = 0\n",
    "      next_question = get_next_question(evidences_en, questionnaire, feature_embeddings_df)\n",
    "      while ask and (question_counter < app_n_questions):\n",
    "        if next_question[next_question_idx] not in asked:\n",
    "          answer = 1 if next_question[next_question_idx] in answers_en else 0\n",
    "          asked.append(next_question[next_question_idx])\n",
    "          question_counter+=1\n",
    "          if answer==1:\n",
    "            evidences_en.append(next_question[next_question_idx])\n",
    "            ask = False\n",
    "          else:\n",
    "            next_question_idx += 1\n",
    "          if next_question_idx > app_n_questions:\n",
    "            break\n",
    "        else:\n",
    "            next_question_idx += 1\n",
    "    return [evidences_en_to_code[e] for e in evidences_en]"
   ]
  },
  {
   "cell_type": "code",
   "execution_count": 22,
   "metadata": {},
   "outputs": [],
   "source": [
    "def data_proc(df, questionnaire, feature_embeddings_df):\n",
    "    df[\"binary_evidences_all\"] = df[\"EVIDENCES\"].apply(lambda x: [d for d in ast.literal_eval(x) if d in evidences_list])\n",
    "    df[\"binary_evidences_all_count\"] = df[\"binary_evidences_all\"].apply(lambda x: len(x))\n",
    "    df[\"binary_evidences\"] = df[[\"EVIDENCES\", \"INITIAL_EVIDENCE\"]].progress_apply(lambda x: get_evidences(ast.literal_eval(x[0]), [x[1]], questionnaire, feature_embeddings_df), axis=1)\n",
    "    df[\"binary_evidences_count\"] = df[\"binary_evidences\"].apply(lambda x: len(x))\n",
    "    df[\"hit_rate\"] = df[\"binary_evidences_count\"]/df[\"binary_evidences_all_count\"]\n",
    "    hit_rate = df[\"hit_rate\"]\n",
    "    for e in evidences_list:\n",
    "        df[e] = df[\"binary_evidences\"].apply(lambda x: 1 if e in x else 0)\n",
    "    df[\"SEX\"] = df[\"SEX\"].map({'F': 0, 'M': 1})\n",
    "    ftr_df = df[feature_columns + [\"PATHOLOGY\"]]\n",
    "    questionnaire_df = df[[\"binary_evidences_all\", \"binary_evidences\", \"INITIAL_EVIDENCE\"]]\n",
    "    return ftr_df, hit_rate, questionnaire_df"
   ]
  },
  {
   "cell_type": "code",
   "execution_count": 23,
   "metadata": {},
   "outputs": [],
   "source": [
    "def pred(x):\n",
    "    pred_list = []\n",
    "    for i in range(len(disease_list)):\n",
    "        if x[i] > 0:\n",
    "            pred_list.append({\n",
    "                \"disease\": disease_list[i],\n",
    "                \"probability\": x[i]})\n",
    "    if pred_list:\n",
    "        pred_df = pd.DataFrame(pred_list).set_index('disease')\n",
    "        # return only top 1 - allows ties\n",
    "        pred_df['rank'] = pred_df['probability'].rank(method='min', ascending=False)\n",
    "        pred_df = pred_df.sort_values(by=\"rank\")\n",
    "        pred_df = pred_df[pred_df[\"rank\"]<=1][[\"probability\"]]\n",
    "        return list(pred_df.index)\n",
    "    else:\n",
    "        return []"
   ]
  },
  {
   "cell_type": "code",
   "execution_count": 24,
   "metadata": {},
   "outputs": [],
   "source": [
    "def get_missed_evidence(actual, asked):\n",
    "    return list(set(actual)^set(asked))"
   ]
  },
  {
   "cell_type": "code",
   "execution_count": 25,
   "metadata": {},
   "outputs": [],
   "source": [
    "def validate(x):\n",
    "    return [x[0]]==x[1]"
   ]
  },
  {
   "cell_type": "code",
   "execution_count": 26,
   "metadata": {},
   "outputs": [],
   "source": [
    "with open(f'{base_path}\\\\output\\\\questionnaire\\\\questionnaire.pkl', 'rb') as f:\n",
    "    questionnaire = pickle.load(f)\n",
    "feature_embeddings_df = pd.read_pickle(f'{base_path}\\\\output\\\\questionnaire\\\\questionnaire_embeddings.pkl')"
   ]
  },
  {
   "cell_type": "code",
   "execution_count": 27,
   "metadata": {},
   "outputs": [],
   "source": [
    "diagnosis_df_valid = pd.read_csv(f\"{base_path}\\\\input\\\\release_validate_patients\")"
   ]
  },
  {
   "cell_type": "code",
   "execution_count": 29,
   "metadata": {},
   "outputs": [
    {
     "name": "stderr",
     "output_type": "stream",
     "text": [
      "100%|██████████| 132448/132448 [20:44<00:00, 106.44it/s]\n",
      "100%|██████████| 132448/132448 [00:01<00:00, 69822.27it/s]\n"
     ]
    }
   ],
   "source": [
    "# Get features from questionnaire\n",
    "diagnosis_df_valid, hit_rate, questionnaire_df = data_proc(diagnosis_df_valid, questionnaire, feature_embeddings_df)\n",
    "questionnaire_df[\"missed_evidence\"] = questionnaire_df.progress_apply(lambda x: get_missed_evidence(x[0], x[1]), axis=1)\n",
    "questionnaire_df_path = f\"{base_path}\\\\output\\\\error_analysis_questionnaire\"\n",
    "if not os.path.exists(questionnaire_df_path):\n",
    "    os.makedirs(questionnaire_df_path)\n",
    "questionnaire_df.to_csv(f\"{questionnaire_df_path}\\\\questionnaire_df.csv\")\n",
    "missed_evidences = []\n",
    "for e in questionnaire_df[\"missed_evidence\"]:\n",
    "    if e:\n",
    "        missed_evidences.extend(e)\n",
    "missed_evidences_dict = dict(Counter(missed_evidences).most_common(10))\n",
    "missed_evidences_dict = {evidences_code_to_en[k]:missed_evidences_dict[k] for k in missed_evidences_dict}\n",
    "with open(f\"{questionnaire_df_path}\\\\top_missed_evidences.json\", \"w\") as outfile: \n",
    "    json.dump(missed_evidences_dict, outfile, indent=True)"
   ]
  },
  {
   "cell_type": "code",
   "execution_count": 34,
   "metadata": {},
   "outputs": [],
   "source": [
    "def save_preds(model_name):\n",
    "    print(f\"Evaluating {model_name}...\")\n",
    "    counter = 0\n",
    "    for disease in disease_list:\n",
    "        disease_filename = re.sub('[^a-zA-Z0-9 \\n\\.]', '', disease).replace(\" \", \"_\")\n",
    "        with open(f'{base_path}\\\\output\\\\diseases\\\\{disease_filename}\\\\{model_name}\\\\{disease_filename}_model.pkl', 'rb') as f:\n",
    "            clf_model = pickle.load(f)\n",
    "        diagnosis_df_valid[disease] = clf_model.predict_proba(diagnosis_df_valid[feature_columns])[:,1]\n",
    "        counter+=1\n",
    "        print(f\"done {counter}: {disease}\")\n",
    "    diagnosis_df_valid[\"predicted_diagnosis\"] = diagnosis_df_valid[disease_list].progress_apply(lambda x: pred(x), axis=1)\n",
    "    diagnosis_df_valid[\"is_matched\"] = diagnosis_df_valid[[\"PATHOLOGY\", \"predicted_diagnosis\"]].progress_apply(lambda x: validate(x), axis=1)\n",
    "    diagnosis_df_valid[[\"PATHOLOGY\", \"predicted_diagnosis\", \"is_matched\"] + disease_list].to_csv(f\"{questionnaire_df_path}\\\\{model_name}\\\\validation_df_all_patients_questionnaire.csv\")"
   ]
  },
  {
   "cell_type": "markdown",
   "metadata": {},
   "source": [
    "## Tree-based models"
   ]
  },
  {
   "cell_type": "code",
   "execution_count": null,
   "metadata": {},
   "outputs": [],
   "source": [
    "for model_name in model_list[\"tree-based\"]:\n",
    "    save_preds(model_name)"
   ]
  },
  {
   "cell_type": "code",
   "execution_count": 32,
   "metadata": {},
   "outputs": [
    {
     "name": "stdout",
     "output_type": "stream",
     "text": [
      "Evaluating decision_tree...\n",
      "done 1: Spontaneous pneumothorax\n",
      "done 2: Cluster headache\n",
      "done 3: Boerhaave\n",
      "done 4: Spontaneous rib fracture\n",
      "done 5: GERD\n",
      "done 6: HIV (initial infection)\n",
      "done 7: Anemia\n",
      "done 8: Viral pharyngitis\n",
      "done 9: Inguinal hernia\n",
      "done 10: Myasthenia gravis\n",
      "done 11: Whooping cough\n",
      "done 12: Anaphylaxis\n",
      "done 13: Epiglottitis\n",
      "done 14: Guillain-Barré syndrome\n",
      "done 15: Acute laryngitis\n",
      "done 16: Croup\n",
      "done 17: PSVT\n",
      "done 18: Atrial fibrillation\n",
      "done 19: Bronchiectasis\n",
      "done 20: Allergic sinusitis\n",
      "done 21: Chagas\n",
      "done 22: Scombroid food poisoning\n",
      "done 23: Myocarditis\n",
      "done 24: Larygospasm\n",
      "done 25: Acute dystonic reactions\n",
      "done 26: Localized edema\n",
      "done 27: SLE\n",
      "done 28: Tuberculosis\n",
      "done 29: Unstable angina\n",
      "done 30: Stable angina\n",
      "done 31: Ebola\n",
      "done 32: Acute otitis media\n",
      "done 33: Panic attack\n",
      "done 34: Bronchospasm / acute asthma exacerbation\n",
      "done 35: Bronchitis\n",
      "done 36: Acute COPD exacerbation / infection\n",
      "done 37: Pulmonary embolism\n",
      "done 38: URTI\n",
      "done 39: Influenza\n",
      "done 40: Pneumonia\n",
      "done 41: Acute rhinosinusitis\n",
      "done 42: Chronic rhinosinusitis\n",
      "done 43: Bronchiolitis\n",
      "done 44: Pulmonary neoplasm\n",
      "done 45: Possible NSTEMI / STEMI\n",
      "done 46: Sarcoidosis\n",
      "done 47: Pancreatic neoplasm\n",
      "done 48: Acute pulmonary edema\n",
      "done 49: Pericarditis\n"
     ]
    },
    {
     "name": "stderr",
     "output_type": "stream",
     "text": [
      "100%|██████████| 132448/132448 [03:35<00:00, 615.65it/s]\n",
      "100%|██████████| 132448/132448 [00:00<00:00, 141579.92it/s]\n"
     ]
    },
    {
     "name": "stdout",
     "output_type": "stream",
     "text": [
      "Evaluating random_forest...\n",
      "done 1: Spontaneous pneumothorax\n",
      "done 2: Cluster headache\n",
      "done 3: Boerhaave\n",
      "done 4: Spontaneous rib fracture\n",
      "done 5: GERD\n",
      "done 6: HIV (initial infection)\n",
      "done 7: Anemia\n",
      "done 8: Viral pharyngitis\n",
      "done 9: Inguinal hernia\n",
      "done 10: Myasthenia gravis\n",
      "done 11: Whooping cough\n",
      "done 12: Anaphylaxis\n",
      "done 13: Epiglottitis\n",
      "done 14: Guillain-Barré syndrome\n",
      "done 15: Acute laryngitis\n",
      "done 16: Croup\n",
      "done 17: PSVT\n",
      "done 18: Atrial fibrillation\n",
      "done 19: Bronchiectasis\n",
      "done 20: Allergic sinusitis\n",
      "done 21: Chagas\n",
      "done 22: Scombroid food poisoning\n",
      "done 23: Myocarditis\n",
      "done 24: Larygospasm\n",
      "done 25: Acute dystonic reactions\n",
      "done 26: Localized edema\n",
      "done 27: SLE\n",
      "done 28: Tuberculosis\n",
      "done 29: Unstable angina\n",
      "done 30: Stable angina\n",
      "done 31: Ebola\n",
      "done 32: Acute otitis media\n",
      "done 33: Panic attack\n",
      "done 34: Bronchospasm / acute asthma exacerbation\n",
      "done 35: Bronchitis\n",
      "done 36: Acute COPD exacerbation / infection\n",
      "done 37: Pulmonary embolism\n",
      "done 38: URTI\n",
      "done 39: Influenza\n",
      "done 40: Pneumonia\n",
      "done 41: Acute rhinosinusitis\n",
      "done 42: Chronic rhinosinusitis\n",
      "done 43: Bronchiolitis\n",
      "done 44: Pulmonary neoplasm\n",
      "done 45: Possible NSTEMI / STEMI\n",
      "done 46: Sarcoidosis\n",
      "done 47: Pancreatic neoplasm\n",
      "done 48: Acute pulmonary edema\n",
      "done 49: Pericarditis\n"
     ]
    },
    {
     "name": "stderr",
     "output_type": "stream",
     "text": [
      "100%|██████████| 132448/132448 [04:21<00:00, 506.99it/s]\n",
      "100%|██████████| 132448/132448 [00:01<00:00, 105488.07it/s]\n"
     ]
    },
    {
     "name": "stdout",
     "output_type": "stream",
     "text": [
      "Evaluating gradient_boost...\n",
      "done 1: Spontaneous pneumothorax\n",
      "done 2: Cluster headache\n",
      "done 3: Boerhaave\n",
      "done 4: Spontaneous rib fracture\n",
      "done 5: GERD\n",
      "done 6: HIV (initial infection)\n",
      "done 7: Anemia\n",
      "done 8: Viral pharyngitis\n",
      "done 9: Inguinal hernia\n",
      "done 10: Myasthenia gravis\n",
      "done 11: Whooping cough\n",
      "done 12: Anaphylaxis\n",
      "done 13: Epiglottitis\n",
      "done 14: Guillain-Barré syndrome\n",
      "done 15: Acute laryngitis\n",
      "done 16: Croup\n",
      "done 17: PSVT\n",
      "done 18: Atrial fibrillation\n",
      "done 19: Bronchiectasis\n",
      "done 20: Allergic sinusitis\n",
      "done 21: Chagas\n",
      "done 22: Scombroid food poisoning\n",
      "done 23: Myocarditis\n",
      "done 24: Larygospasm\n",
      "done 25: Acute dystonic reactions\n",
      "done 26: Localized edema\n",
      "done 27: SLE\n",
      "done 28: Tuberculosis\n",
      "done 29: Unstable angina\n",
      "done 30: Stable angina\n",
      "done 31: Ebola\n",
      "done 32: Acute otitis media\n",
      "done 33: Panic attack\n",
      "done 34: Bronchospasm / acute asthma exacerbation\n",
      "done 35: Bronchitis\n",
      "done 36: Acute COPD exacerbation / infection\n",
      "done 37: Pulmonary embolism\n",
      "done 38: URTI\n",
      "done 39: Influenza\n",
      "done 40: Pneumonia\n",
      "done 41: Acute rhinosinusitis\n",
      "done 42: Chronic rhinosinusitis\n",
      "done 43: Bronchiolitis\n",
      "done 44: Pulmonary neoplasm\n",
      "done 45: Possible NSTEMI / STEMI\n",
      "done 46: Sarcoidosis\n",
      "done 47: Pancreatic neoplasm\n",
      "done 48: Acute pulmonary edema\n",
      "done 49: Pericarditis\n"
     ]
    },
    {
     "name": "stderr",
     "output_type": "stream",
     "text": [
      "100%|██████████| 132448/132448 [04:00<00:00, 551.28it/s]\n",
      "100%|██████████| 132448/132448 [00:01<00:00, 126456.78it/s]\n"
     ]
    }
   ],
   "source": [
    "for model_name in model_list[\"tree-based\"]:\n",
    "    print(f\"Evaluating {model_name}...\")\n",
    "    counter = 0\n",
    "    for disease in disease_list:\n",
    "        disease_filename = re.sub('[^a-zA-Z0-9 \\n\\.]', '', disease).replace(\" \", \"_\")\n",
    "        with open(f'{base_path}\\\\output\\\\diseases\\\\{disease_filename}\\\\{model_name}\\\\{disease_filename}_model.pkl', 'rb') as f:\n",
    "            clf_model = pickle.load(f)\n",
    "        diagnosis_df_valid[disease] = clf_model.predict_proba(diagnosis_df_valid[feature_columns])[:,1]\n",
    "        counter+=1\n",
    "        print(f\"done {counter}: {disease}\")\n",
    "    diagnosis_df_valid[\"predicted_diagnosis\"] = diagnosis_df_valid[disease_list].progress_apply(lambda x: pred(x), axis=1)\n",
    "    diagnosis_df_valid[\"is_matched\"] = diagnosis_df_valid[[\"PATHOLOGY\", \"predicted_diagnosis\"]].progress_apply(lambda x: validate(x), axis=1)\n",
    "    diagnosis_df_valid[[\"PATHOLOGY\", \"predicted_diagnosis\", \"is_matched\"] + disease_list].to_csv(f\"{questionnaire_df_path}\\\\{model_name}\\\\validation_df_all_patients_questionnaire.csv\")"
   ]
  },
  {
   "cell_type": "markdown",
   "metadata": {},
   "source": [
    "## Logistic Regression"
   ]
  },
  {
   "cell_type": "code",
   "execution_count": 35,
   "metadata": {},
   "outputs": [
    {
     "name": "stdout",
     "output_type": "stream",
     "text": [
      "Evaluating logistic_regression...\n",
      "done 1: Spontaneous pneumothorax\n",
      "done 2: Cluster headache\n",
      "done 3: Boerhaave\n",
      "done 4: Spontaneous rib fracture\n",
      "done 5: GERD\n",
      "done 6: HIV (initial infection)\n",
      "done 7: Anemia\n",
      "done 8: Viral pharyngitis\n",
      "done 9: Inguinal hernia\n",
      "done 10: Myasthenia gravis\n",
      "done 11: Whooping cough\n",
      "done 12: Anaphylaxis\n",
      "done 13: Epiglottitis\n",
      "done 14: Guillain-Barré syndrome\n",
      "done 15: Acute laryngitis\n",
      "done 16: Croup\n",
      "done 17: PSVT\n",
      "done 18: Atrial fibrillation\n",
      "done 19: Bronchiectasis\n",
      "done 20: Allergic sinusitis\n",
      "done 21: Chagas\n",
      "done 22: Scombroid food poisoning\n",
      "done 23: Myocarditis\n",
      "done 24: Larygospasm\n",
      "done 25: Acute dystonic reactions\n",
      "done 26: Localized edema\n",
      "done 27: SLE\n",
      "done 28: Tuberculosis\n",
      "done 29: Unstable angina\n",
      "done 30: Stable angina\n",
      "done 31: Ebola\n",
      "done 32: Acute otitis media\n",
      "done 33: Panic attack\n",
      "done 34: Bronchospasm / acute asthma exacerbation\n",
      "done 35: Bronchitis\n",
      "done 36: Acute COPD exacerbation / infection\n",
      "done 37: Pulmonary embolism\n",
      "done 38: URTI\n",
      "done 39: Influenza\n",
      "done 40: Pneumonia\n",
      "done 41: Acute rhinosinusitis\n",
      "done 42: Chronic rhinosinusitis\n",
      "done 43: Bronchiolitis\n",
      "done 44: Pulmonary neoplasm\n",
      "done 45: Possible NSTEMI / STEMI\n",
      "done 46: Sarcoidosis\n",
      "done 47: Pancreatic neoplasm\n",
      "done 48: Acute pulmonary edema\n",
      "done 49: Pericarditis\n"
     ]
    },
    {
     "name": "stderr",
     "output_type": "stream",
     "text": [
      "100%|██████████| 132448/132448 [04:09<00:00, 529.98it/s]\n",
      "100%|██████████| 132448/132448 [00:01<00:00, 123492.61it/s]\n"
     ]
    }
   ],
   "source": [
    "save_preds(\"logistic_regression\")"
   ]
  },
  {
   "cell_type": "code",
   "execution_count": null,
   "metadata": {},
   "outputs": [],
   "source": []
  }
 ],
 "metadata": {
  "kernelspec": {
   "display_name": "Python 3",
   "language": "python",
   "name": "python3"
  },
  "language_info": {
   "codemirror_mode": {
    "name": "ipython",
    "version": 3
   },
   "file_extension": ".py",
   "mimetype": "text/x-python",
   "name": "python",
   "nbconvert_exporter": "python",
   "pygments_lexer": "ipython3",
   "version": "3.10.0"
  }
 },
 "nbformat": 4,
 "nbformat_minor": 2
}
