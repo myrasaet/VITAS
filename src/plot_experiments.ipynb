{
 "cells": [
  {
   "cell_type": "code",
   "execution_count": 2,
   "metadata": {},
   "outputs": [],
   "source": [
    "import pandas as pd\n",
    "import numpy as np\n",
    "import json\n",
    "import matplotlib.pyplot as plt\n",
    "from constants import base_path"
   ]
  },
  {
   "cell_type": "code",
   "execution_count": 3,
   "metadata": {},
   "outputs": [
    {
     "data": {
      "text/plain": [
       "{'Random_forest': {'n_questions_1': {'false': 92237,\n",
       "   'true': 40211,\n",
       "   'error_rate': 0.6964016066682773,\n",
       "   'mean_hit_rate': 0.2553061765269575,\n",
       "   'mean_hit_rate_misdiagnosed': 0.24093432361697814},\n",
       "  'n_questions_2': {'false': 89023,\n",
       "   'true': 43425,\n",
       "   'error_rate': 0.6721354795844406,\n",
       "   'mean_hit_rate': 0.33962182289922227,\n",
       "   'mean_hit_rate_misdiagnosed': 0.3172643683121313},\n",
       "  'n_questions_3': {'false': 84709,\n",
       "   'true': 47739,\n",
       "   'error_rate': 0.6395642063300314,\n",
       "   'mean_hit_rate': 0.41629663563044966,\n",
       "   'mean_hit_rate_misdiagnosed': 0.3745234224864489},\n",
       "  'n_questions_4': {'false': 79544,\n",
       "   'true': 52904,\n",
       "   'error_rate': 0.6005677699927519,\n",
       "   'mean_hit_rate': 0.4817639495254483,\n",
       "   'mean_hit_rate_misdiagnosed': 0.42428411888239154},\n",
       "  'n_questions_5': {'false': 74795,\n",
       "   'true': 57653,\n",
       "   'error_rate': 0.5647121889345252,\n",
       "   'mean_hit_rate': 0.5369958766050064,\n",
       "   'mean_hit_rate_misdiagnosed': 0.4601088525679073},\n",
       "  'n_questions_6': {'false': 68390,\n",
       "   'true': 64058,\n",
       "   'error_rate': 0.5163535878231457,\n",
       "   'mean_hit_rate': 0.6154144049916352,\n",
       "   'mean_hit_rate_misdiagnosed': 0.5192702509590944},\n",
       "  'n_questions_7': {'true': 71149,\n",
       "   'false': 61299,\n",
       "   'error_rate': 0.46281559555448176,\n",
       "   'mean_hit_rate': 0.667380395126001,\n",
       "   'mean_hit_rate_misdiagnosed': 0.5417540427438632},\n",
       "  'n_questions_8': {'true': 75602,\n",
       "   'false': 56846,\n",
       "   'error_rate': 0.4291948538294274,\n",
       "   'mean_hit_rate': 0.7115013010607885,\n",
       "   'mean_hit_rate_misdiagnosed': 0.5733803525886523},\n",
       "  'n_questions_9': {'true': 81372,\n",
       "   'false': 51076,\n",
       "   'error_rate': 0.3856305870983329,\n",
       "   'mean_hit_rate': 0.758784866646065,\n",
       "   'mean_hit_rate_misdiagnosed': 0.6127139763152764},\n",
       "  'n_questions_10': {'true': 85417,\n",
       "   'false': 47031,\n",
       "   'error_rate': 0.3550902995892728,\n",
       "   'mean_hit_rate': 0.7923558109538646,\n",
       "   'mean_hit_rate_misdiagnosed': 0.6420375317948195},\n",
       "  'n_questions_11': {'true': 89324,\n",
       "   'false': 43124,\n",
       "   'error_rate': 0.32559193041797535,\n",
       "   'mean_hit_rate': 0.8187262581256829,\n",
       "   'mean_hit_rate_misdiagnosed': 0.655434157742617},\n",
       "  'n_questions_12': {'true': 93970,\n",
       "   'false': 38478,\n",
       "   'error_rate': 0.2905140130466296,\n",
       "   'mean_hit_rate': 0.8452491412568197,\n",
       "   'mean_hit_rate_misdiagnosed': 0.6748630079832325},\n",
       "  'n_questions_13': {'true': 98023,\n",
       "   'false': 34425,\n",
       "   'error_rate': 0.25991332447451077,\n",
       "   'mean_hit_rate': 0.8623082069302471,\n",
       "   'mean_hit_rate_misdiagnosed': 0.689108162071125},\n",
       "  'n_questions_14': {'true': 100330,\n",
       "   'false': 32118,\n",
       "   'error_rate': 0.2424951679149553,\n",
       "   'mean_hit_rate': 0.8773404059087874,\n",
       "   'mean_hit_rate_misdiagnosed': 0.7053174488607891},\n",
       "  'n_questions_15': {'true': 102417,\n",
       "   'false': 30031,\n",
       "   'error_rate': 0.22673804058951438,\n",
       "   'mean_hit_rate': 0.8924127568191653,\n",
       "   'mean_hit_rate_misdiagnosed': 0.7247752574864559},\n",
       "  'n_questions_16': {'true': 103771,\n",
       "   'false': 28677,\n",
       "   'error_rate': 0.21651516066682774,\n",
       "   'mean_hit_rate': 0.9016400767773002,\n",
       "   'mean_hit_rate_misdiagnosed': 0.7316023115296052},\n",
       "  'n_questions_17': {'true': 104714,\n",
       "   'false': 27734,\n",
       "   'error_rate': 0.20939538535878233,\n",
       "   'mean_hit_rate': 0.9113327145509587,\n",
       "   'mean_hit_rate_misdiagnosed': 0.7430393026682777},\n",
       "  'n_questions_18': {'true': 105966,\n",
       "   'false': 26482,\n",
       "   'error_rate': 0.19994261899009422,\n",
       "   'mean_hit_rate': 0.9217573879286398,\n",
       "   'mean_hit_rate_misdiagnosed': 0.7527301263631601},\n",
       "  'n_questions_19': {'true': 107198,\n",
       "   'false': 25250,\n",
       "   'error_rate': 0.19064085527905292,\n",
       "   'mean_hit_rate': 0.9308992991560867,\n",
       "   'mean_hit_rate_misdiagnosed': 0.7653084708470846},\n",
       "  'n_questions_20': {'true': 108106,\n",
       "   'false': 24342,\n",
       "   'error_rate': 0.18378533462188934,\n",
       "   'mean_hit_rate': 0.9359513502699885,\n",
       "   'mean_hit_rate_misdiagnosed': 0.7790347175761275},\n",
       "  'n_questions_21': {'true': 109378,\n",
       "   'false': 23070,\n",
       "   'error_rate': 0.17418156559555448,\n",
       "   'mean_hit_rate': 0.9412106514420253,\n",
       "   'mean_hit_rate_misdiagnosed': 0.7931352474525426},\n",
       "  'n_questions_22': {'true': 110140,\n",
       "   'false': 22308,\n",
       "   'error_rate': 0.16842836433921238,\n",
       "   'mean_hit_rate': 0.9462649478593472,\n",
       "   'mean_hit_rate_misdiagnosed': 0.8036673440519595},\n",
       "  'n_questions_23': {'true': 111220,\n",
       "   'false': 21228,\n",
       "   'error_rate': 0.16027422082628653,\n",
       "   'mean_hit_rate': 0.9514760202424419,\n",
       "   'mean_hit_rate_misdiagnosed': 0.8177185306318998},\n",
       "  'n_questions_24': {'true': 112011,\n",
       "   'false': 20437,\n",
       "   'error_rate': 0.1543020657163566,\n",
       "   'mean_hit_rate': 0.9562542448441066,\n",
       "   'mean_hit_rate_misdiagnosed': 0.8246056599802257},\n",
       "  'n_questions_25': {'true': 112528,\n",
       "   'false': 19920,\n",
       "   'error_rate': 0.1503986470161875,\n",
       "   'mean_hit_rate': 0.9599101826713795,\n",
       "   'mean_hit_rate_misdiagnosed': 0.8315742334417033},\n",
       "  'n_questions_26': {'true': 113524,\n",
       "   'false': 18924,\n",
       "   'error_rate': 0.1428787146653781,\n",
       "   'mean_hit_rate': 0.9639470398925053,\n",
       "   'mean_hit_rate_misdiagnosed': 0.843904754355769},\n",
       "  'n_questions_27': {'true': 115154,\n",
       "   'false': 17294,\n",
       "   'error_rate': 0.130571998067166,\n",
       "   'mean_hit_rate': 0.970379061285115,\n",
       "   'mean_hit_rate_misdiagnosed': 0.8775614443765247},\n",
       "  'n_questions_28': {'true': 116433,\n",
       "   'false': 16015,\n",
       "   'error_rate': 0.12091537811065475,\n",
       "   'mean_hit_rate': 0.975840156289276,\n",
       "   'mean_hit_rate_misdiagnosed': 0.9004803532402659},\n",
       "  'n_questions_29': {'true': 117051,\n",
       "   'false': 15397,\n",
       "   'error_rate': 0.11624939598936941,\n",
       "   'mean_hit_rate': 0.9803158421049971,\n",
       "   'mean_hit_rate_misdiagnosed': 0.9134631978400244},\n",
       "  'n_questions_30': {'true': 117269,\n",
       "   'false': 15179,\n",
       "   'error_rate': 0.11460346702101958,\n",
       "   'mean_hit_rate': 0.9840657983621638,\n",
       "   'mean_hit_rate_misdiagnosed': 0.9186967269943752}},\n",
       " 'Logistic_regression': {'n_questions_1': {'false': 104619,\n",
       "   'true': 27829,\n",
       "   'error_rate': 0.7898873520173955,\n",
       "   'mean_hit_rate': 0.2553061765269575,\n",
       "   'mean_hit_rate_misdiagnosed': 0.2334543735226212},\n",
       "  'n_questions_2': {'false': 95033,\n",
       "   'true': 37415,\n",
       "   'error_rate': 0.7175117782072965,\n",
       "   'mean_hit_rate': 0.33962182289922227,\n",
       "   'mean_hit_rate_misdiagnosed': 0.30260818371080067},\n",
       "  'n_questions_3': {'false': 88857,\n",
       "   'true': 43591,\n",
       "   'error_rate': 0.6708821575259725,\n",
       "   'mean_hit_rate': 0.41629663563044966,\n",
       "   'mean_hit_rate_misdiagnosed': 0.362622892255054},\n",
       "  'n_questions_4': {'false': 81700,\n",
       "   'true': 50748,\n",
       "   'error_rate': 0.6168458564870741,\n",
       "   'mean_hit_rate': 0.4817639495254483,\n",
       "   'mean_hit_rate_misdiagnosed': 0.4090184403859434},\n",
       "  'n_questions_5': {'false': 74783,\n",
       "   'true': 57665,\n",
       "   'error_rate': 0.5646215873399372,\n",
       "   'mean_hit_rate': 0.5369958766050064,\n",
       "   'mean_hit_rate_misdiagnosed': 0.4405332313423056},\n",
       "  'n_questions_6': {'true': 66331,\n",
       "   'false': 66117,\n",
       "   'error_rate': 0.4991921357815898,\n",
       "   'mean_hit_rate': 0.6154144049916352,\n",
       "   'mean_hit_rate_misdiagnosed': 0.4891034416761537},\n",
       "  'n_questions_7': {'true': 72227,\n",
       "   'false': 60221,\n",
       "   'error_rate': 0.4546765523073206,\n",
       "   'mean_hit_rate': 0.667380395126001,\n",
       "   'mean_hit_rate_misdiagnosed': 0.5120579959166167},\n",
       "  'n_questions_8': {'true': 76995,\n",
       "   'false': 55453,\n",
       "   'error_rate': 0.41867751872432957,\n",
       "   'mean_hit_rate': 0.7115013010607885,\n",
       "   'mean_hit_rate_misdiagnosed': 0.5402662037898184},\n",
       "  'n_questions_9': {'true': 83760,\n",
       "   'false': 48688,\n",
       "   'error_rate': 0.36760086977530804,\n",
       "   'mean_hit_rate': 0.758784866646065,\n",
       "   'mean_hit_rate_misdiagnosed': 0.5716951390341137},\n",
       "  'n_questions_10': {'true': 88541,\n",
       "   'false': 43907,\n",
       "   'error_rate': 0.33150368446484657,\n",
       "   'mean_hit_rate': 0.7923558109538646,\n",
       "   'mean_hit_rate_misdiagnosed': 0.5995009747782654},\n",
       "  'n_questions_11': {'true': 92896,\n",
       "   'false': 39552,\n",
       "   'error_rate': 0.29862285576226144,\n",
       "   'mean_hit_rate': 0.8187262581256829,\n",
       "   'mean_hit_rate_misdiagnosed': 0.6075615276881964},\n",
       "  'n_questions_12': {'true': 96986,\n",
       "   'false': 35462,\n",
       "   'error_rate': 0.267742812273496,\n",
       "   'mean_hit_rate': 0.8452491412568197,\n",
       "   'mean_hit_rate_misdiagnosed': 0.6237281061733997},\n",
       "  'n_questions_13': {'true': 101021,\n",
       "   'false': 31427,\n",
       "   'error_rate': 0.23727802609325924,\n",
       "   'mean_hit_rate': 0.8623082069302471,\n",
       "   'mean_hit_rate_misdiagnosed': 0.6349301336119995},\n",
       "  'n_questions_14': {'true': 104035,\n",
       "   'false': 28413,\n",
       "   'error_rate': 0.2145219255858903,\n",
       "   'mean_hit_rate': 0.8773404059087874,\n",
       "   'mean_hit_rate_misdiagnosed': 0.6452385231157273},\n",
       "  'n_questions_15': {'true': 106338,\n",
       "   'false': 26110,\n",
       "   'error_rate': 0.19713396955786422,\n",
       "   'mean_hit_rate': 0.8924127568191653,\n",
       "   'mean_hit_rate_misdiagnosed': 0.663736235890583},\n",
       "  'n_questions_16': {'true': 107549,\n",
       "   'false': 24899,\n",
       "   'error_rate': 0.187990758637352,\n",
       "   'mean_hit_rate': 0.9016400767773002,\n",
       "   'mean_hit_rate_misdiagnosed': 0.6681725722590817},\n",
       "  'n_questions_17': {'true': 108753,\n",
       "   'false': 23695,\n",
       "   'error_rate': 0.17890039864701618,\n",
       "   'mean_hit_rate': 0.9113327145509587,\n",
       "   'mean_hit_rate_misdiagnosed': 0.6771516281191318},\n",
       "  'n_questions_18': {'true': 109734,\n",
       "   'false': 22714,\n",
       "   'error_rate': 0.1714937182894419,\n",
       "   'mean_hit_rate': 0.9217573879286398,\n",
       "   'mean_hit_rate_misdiagnosed': 0.6840316173216587},\n",
       "  'n_questions_19': {'true': 111140,\n",
       "   'false': 21308,\n",
       "   'error_rate': 0.16087823145687363,\n",
       "   'mean_hit_rate': 0.9308992991560867,\n",
       "   'mean_hit_rate_misdiagnosed': 0.6939854544533539},\n",
       "  'n_questions_20': {'true': 112070,\n",
       "   'false': 20378,\n",
       "   'error_rate': 0.15385660787629862,\n",
       "   'mean_hit_rate': 0.9359513502699885,\n",
       "   'mean_hit_rate_misdiagnosed': 0.7056642940488264},\n",
       "  'n_questions_21': {'true': 113517,\n",
       "   'false': 18931,\n",
       "   'error_rate': 0.14293156559555448,\n",
       "   'mean_hit_rate': 0.9412106514420253,\n",
       "   'mean_hit_rate_misdiagnosed': 0.7200225254118341},\n",
       "  'n_questions_22': {'true': 114448,\n",
       "   'false': 18000,\n",
       "   'error_rate': 0.13590239188209713,\n",
       "   'mean_hit_rate': 0.9462649478593472,\n",
       "   'mean_hit_rate_misdiagnosed': 0.7313747574955909},\n",
       "  'n_questions_23': {'true': 115627,\n",
       "   'false': 16821,\n",
       "   'error_rate': 0.12700078521381977,\n",
       "   'mean_hit_rate': 0.9514760202424419,\n",
       "   'mean_hit_rate_misdiagnosed': 0.7454781343803993},\n",
       "  'n_questions_24': {'true': 116142,\n",
       "   'false': 16306,\n",
       "   'error_rate': 0.12311246677941531,\n",
       "   'mean_hit_rate': 0.9562542448441066,\n",
       "   'mean_hit_rate_misdiagnosed': 0.7511621245660862},\n",
       "  'n_questions_25': {'true': 116752,\n",
       "   'false': 15696,\n",
       "   'error_rate': 0.1185068857211887,\n",
       "   'mean_hit_rate': 0.9599101826713795,\n",
       "   'mean_hit_rate_misdiagnosed': 0.7576289025209132},\n",
       "  'n_questions_26': {'true': 117895,\n",
       "   'false': 14553,\n",
       "   'error_rate': 0.10987708383667552,\n",
       "   'mean_hit_rate': 0.9639470398925053,\n",
       "   'mean_hit_rate_misdiagnosed': 0.7686335059917826},\n",
       "  'n_questions_27': {'true': 119868,\n",
       "   'false': 12580,\n",
       "   'error_rate': 0.09498067165982121,\n",
       "   'mean_hit_rate': 0.970379061285115,\n",
       "   'mean_hit_rate_misdiagnosed': 0.8092352751911575},\n",
       "  'n_questions_28': {'true': 121317,\n",
       "   'false': 11131,\n",
       "   'error_rate': 0.08404052911331239,\n",
       "   'mean_hit_rate': 0.975840156289276,\n",
       "   'mean_hit_rate_misdiagnosed': 0.8367710726371225},\n",
       "  'n_questions_29': {'true': 121879,\n",
       "   'false': 10569,\n",
       "   'error_rate': 0.07979735443343802,\n",
       "   'mean_hit_rate': 0.9803158421049971,\n",
       "   'mean_hit_rate_misdiagnosed': 0.8554413401276871},\n",
       "  'n_questions_30': {'true': 122498,\n",
       "   'false': 9950,\n",
       "   'error_rate': 0.07512382217927036,\n",
       "   'mean_hit_rate': 0.9840657983621638,\n",
       "   'mean_hit_rate_misdiagnosed': 0.87413496051687}},\n",
       " 'Decision_Tree': {'n_questions_1': {'false': 120319,\n",
       "   'true': 12129,\n",
       "   'error_rate': 0.9084244382701135,\n",
       "   'mean_hit_rate': 0.2553061765269575,\n",
       "   'mean_hit_rate_misdiagnosed': 0.24632047891362713},\n",
       "  'n_questions_2': {'false': 116560,\n",
       "   'true': 15888,\n",
       "   'error_rate': 0.8800434887654023,\n",
       "   'mean_hit_rate': 0.33962182289922227,\n",
       "   'mean_hit_rate_misdiagnosed': 0.32760572060632115},\n",
       "  'n_questions_3': {'false': 110778,\n",
       "   'true': 21670,\n",
       "   'error_rate': 0.8363886204397197,\n",
       "   'mean_hit_rate': 0.41629663563044966,\n",
       "   'mean_hit_rate_misdiagnosed': 0.39100268982533515},\n",
       "  'n_questions_4': {'false': 104787,\n",
       "   'true': 27661,\n",
       "   'error_rate': 0.7911557743416284,\n",
       "   'mean_hit_rate': 0.4817639495254483,\n",
       "   'mean_hit_rate_misdiagnosed': 0.44272185755909876},\n",
       "  'n_questions_5': {'false': 100338,\n",
       "   'true': 32110,\n",
       "   'error_rate': 0.7575652331481034,\n",
       "   'mean_hit_rate': 0.5369958766050064,\n",
       "   'mean_hit_rate_misdiagnosed': 0.4837195516693813},\n",
       "  'n_questions_6': {'false': 91203,\n",
       "   'true': 41245,\n",
       "   'error_rate': 0.6885947692679392,\n",
       "   'mean_hit_rate': 0.6154144049916352,\n",
       "   'mean_hit_rate_misdiagnosed': 0.5438206117534099},\n",
       "  'n_questions_7': {'false': 82891,\n",
       "   'true': 49557,\n",
       "   'error_rate': 0.6258380647499396,\n",
       "   'mean_hit_rate': 0.667380395126001,\n",
       "   'mean_hit_rate_misdiagnosed': 0.5739404209759857},\n",
       "  'n_questions_8': {'false': 78609,\n",
       "   'true': 53839,\n",
       "   'error_rate': 0.5935083957477651,\n",
       "   'mean_hit_rate': 0.7115013010607885,\n",
       "   'mean_hit_rate_misdiagnosed': 0.6082959306139859},\n",
       "  'n_questions_9': {'false': 71363,\n",
       "   'true': 61085,\n",
       "   'error_rate': 0.5388001328823387,\n",
       "   'mean_hit_rate': 0.758784866646065,\n",
       "   'mean_hit_rate_misdiagnosed': 0.6481196782935779},\n",
       "  'n_questions_10': {'true': 66911,\n",
       "   'false': 65537,\n",
       "   'error_rate': 0.4948130587098333,\n",
       "   'mean_hit_rate': 0.7923558109538646,\n",
       "   'mean_hit_rate_misdiagnosed': 0.6779317227472468},\n",
       "  'n_questions_11': {'true': 72470,\n",
       "   'false': 59978,\n",
       "   'error_rate': 0.4528418700169123,\n",
       "   'mean_hit_rate': 0.8187262581256829,\n",
       "   'mean_hit_rate_misdiagnosed': 0.6937416648823332},\n",
       "  'n_questions_12': {'true': 78782,\n",
       "   'false': 53666,\n",
       "   'error_rate': 0.40518543126359025,\n",
       "   'mean_hit_rate': 0.8452491412568197,\n",
       "   'mean_hit_rate_misdiagnosed': 0.71346634515354},\n",
       "  'n_questions_13': {'true': 84407,\n",
       "   'false': 48041,\n",
       "   'error_rate': 0.3627159338004349,\n",
       "   'mean_hit_rate': 0.8623082069302471,\n",
       "   'mean_hit_rate_misdiagnosed': 0.7278436672412651},\n",
       "  'n_questions_14': {'true': 87495,\n",
       "   'false': 44953,\n",
       "   'error_rate': 0.3394011234597729,\n",
       "   'mean_hit_rate': 0.8773404059087874,\n",
       "   'mean_hit_rate_misdiagnosed': 0.7444412010252999},\n",
       "  'n_questions_15': {'true': 90326,\n",
       "   'false': 42122,\n",
       "   'error_rate': 0.3180266972698719,\n",
       "   'mean_hit_rate': 0.8924127568191653,\n",
       "   'mean_hit_rate_misdiagnosed': 0.7635769869305788},\n",
       "  'n_questions_16': {'true': 92011,\n",
       "   'false': 40437,\n",
       "   'error_rate': 0.3053047233631312,\n",
       "   'mean_hit_rate': 0.9016400767773002,\n",
       "   'mean_hit_rate_misdiagnosed': 0.7720463899019431},\n",
       "  'n_questions_17': {'true': 93313,\n",
       "   'false': 39135,\n",
       "   'error_rate': 0.29547445035032616,\n",
       "   'mean_hit_rate': 0.9113327145509587,\n",
       "   'mean_hit_rate_misdiagnosed': 0.7838309795764759},\n",
       "  'n_questions_18': {'true': 95195,\n",
       "   'false': 37253,\n",
       "   'error_rate': 0.2812651002657647,\n",
       "   'mean_hit_rate': 0.9217573879286398,\n",
       "   'mean_hit_rate_misdiagnosed': 0.7953222349640088},\n",
       "  'n_questions_19': {'true': 96739,\n",
       "   'false': 35709,\n",
       "   'error_rate': 0.2696076950954337,\n",
       "   'mean_hit_rate': 0.9308992991560867,\n",
       "   'mean_hit_rate_misdiagnosed': 0.8076857925089463},\n",
       "  'n_questions_20': {'true': 97797,\n",
       "   'false': 34651,\n",
       "   'error_rate': 0.2616196545059193,\n",
       "   'mean_hit_rate': 0.9359513502699885,\n",
       "   'mean_hit_rate_misdiagnosed': 0.8194186895580794},\n",
       "  'n_questions_21': {'true': 99150,\n",
       "   'false': 33298,\n",
       "   'error_rate': 0.251404324716115,\n",
       "   'mean_hit_rate': 0.9412106514420253,\n",
       "   'mean_hit_rate_misdiagnosed': 0.8324736270063317},\n",
       "  'n_questions_22': {'true': 99831,\n",
       "   'false': 32617,\n",
       "   'error_rate': 0.24626268422324232,\n",
       "   'mean_hit_rate': 0.9462649478593472,\n",
       "   'mean_hit_rate_misdiagnosed': 0.8408657758697615},\n",
       "  'n_questions_23': {'true': 100831,\n",
       "   'false': 31617,\n",
       "   'error_rate': 0.2387125513409036,\n",
       "   'mean_hit_rate': 0.9514760202424419,\n",
       "   'mean_hit_rate_misdiagnosed': 0.8528794774999348},\n",
       "  'n_questions_24': {'true': 101868,\n",
       "   'false': 30580,\n",
       "   'error_rate': 0.23088306354191834,\n",
       "   'mean_hit_rate': 0.9562542448441066,\n",
       "   'mean_hit_rate_misdiagnosed': 0.8610918136801068},\n",
       "  'n_questions_25': {'true': 102446,\n",
       "   'false': 30002,\n",
       "   'error_rate': 0.22651908673592655,\n",
       "   'mean_hit_rate': 0.9599101826713795,\n",
       "   'mean_hit_rate_misdiagnosed': 0.867941024951391},\n",
       "  'n_questions_26': {'true': 103321,\n",
       "   'false': 29127,\n",
       "   'error_rate': 0.21991272046388016,\n",
       "   'mean_hit_rate': 0.9639470398925053,\n",
       "   'mean_hit_rate_misdiagnosed': 0.8771157060553497},\n",
       "  'n_questions_27': {'true': 104979,\n",
       "   'false': 27469,\n",
       "   'error_rate': 0.20739460014496255,\n",
       "   'mean_hit_rate': 0.970379061285115,\n",
       "   'mean_hit_rate_misdiagnosed': 0.8990999088727436},\n",
       "  'n_questions_28': {'true': 106313,\n",
       "   'false': 26135,\n",
       "   'error_rate': 0.1973227228799227,\n",
       "   'mean_hit_rate': 0.975840156289276,\n",
       "   'mean_hit_rate_misdiagnosed': 0.915296840884176},\n",
       "  'n_questions_29': {'true': 106986,\n",
       "   'false': 25462,\n",
       "   'error_rate': 0.19224148345010872,\n",
       "   'mean_hit_rate': 0.9803158421049971,\n",
       "   'mean_hit_rate_misdiagnosed': 0.9259718497406031},\n",
       "  'n_questions_30': {'true': 107691,\n",
       "   'false': 24757,\n",
       "   'error_rate': 0.18691863976805992,\n",
       "   'mean_hit_rate': 0.9840657983621638,\n",
       "   'mean_hit_rate_misdiagnosed': 0.9372862797823415}}}"
      ]
     },
     "execution_count": 3,
     "metadata": {},
     "output_type": "execute_result"
    }
   ],
   "source": [
    "with open(f\"{base_path}\\\\output\\\\error_analysis_questionnaire\\\\validation_metric_questionnaire_experiments.json\") as f:\n",
    "  metrics_dict = json.load(f)\n",
    "metrics_dict"
   ]
  },
  {
   "cell_type": "code",
   "execution_count": 4,
   "metadata": {},
   "outputs": [],
   "source": [
    "n_questions_list = list(range(1, 31))"
   ]
  },
  {
   "cell_type": "markdown",
   "metadata": {},
   "source": [
    "## Random Forest"
   ]
  },
  {
   "cell_type": "code",
   "execution_count": 5,
   "metadata": {},
   "outputs": [
    {
     "data": {
      "text/plain": [
       "{'true': 119852, 'false': 12596, 'error_rate': 0.09510147378593864}"
      ]
     },
     "execution_count": 5,
     "metadata": {},
     "output_type": "execute_result"
    }
   ],
   "source": [
    "with open(f\"{base_path}\\\\output\\\\error_analysis\\\\validation_metric.json\") as f:\n",
    "  rf_dict = json.load(f)\n",
    "rf_dict"
   ]
  },
  {
   "cell_type": "code",
   "execution_count": 6,
   "metadata": {},
   "outputs": [
    {
     "data": {
      "text/plain": [
       "0.11460346702101958"
      ]
     },
     "execution_count": 6,
     "metadata": {},
     "output_type": "execute_result"
    }
   ],
   "source": [
    "metrics_dict[\"Random_forest\"][f\"n_questions_{30}\"][\"error_rate\"] "
   ]
  },
  {
   "cell_type": "code",
   "execution_count": 7,
   "metadata": {},
   "outputs": [
    {
     "data": {
      "text/plain": [
       "<Figure size 640x480 with 0 Axes>"
      ]
     },
     "metadata": {},
     "output_type": "display_data"
    }
   ],
   "source": [
    "plt_y_rf = [metrics_dict[\"Random_forest\"][f\"n_questions_{i}\"][\"error_rate\"] for i in n_questions_list]\n",
    "plt.plot(n_questions_list, plt_y_rf, marker='o', label=\"Random Forest\")\n",
    "plt.axhline(y=rf_dict[\"error_rate\"], color='r', linestyle='-', label=\"misdiagnosis rate at 96 questions\")\n",
    "plt.ylim(0, 1)\n",
    "plt.xlabel('number of questions')\n",
    "plt.ylabel('misdiagnosis rate')\n",
    "plt.title('Random Forest - Questionnaire Experiments')\n",
    "plt.legend()\n",
    "plt.savefig(f'{base_path}\\\\output\\\\error_analysis_questionnaire\\\\random_forest_experiments.jpg', bbox_inches='tight')\n",
    "plt.clf()"
   ]
  },
  {
   "cell_type": "markdown",
   "metadata": {},
   "source": [
    "## Logistic Regression"
   ]
  },
  {
   "cell_type": "code",
   "execution_count": 8,
   "metadata": {},
   "outputs": [
    {
     "data": {
      "text/plain": [
       "{'true': 125078, 'false': 7370, 'error_rate': 0.055644479342836436}"
      ]
     },
     "execution_count": 8,
     "metadata": {},
     "output_type": "execute_result"
    }
   ],
   "source": [
    "with open(f\"{base_path}\\\\output\\\\error_analysis\\\\validation_metric_logreg.json\") as f:\n",
    "  logreg_dict = json.load(f)\n",
    "logreg_dict"
   ]
  },
  {
   "cell_type": "code",
   "execution_count": 9,
   "metadata": {},
   "outputs": [
    {
     "data": {
      "text/plain": [
       "0.07512382217927036"
      ]
     },
     "execution_count": 9,
     "metadata": {},
     "output_type": "execute_result"
    }
   ],
   "source": [
    "metrics_dict[\"Logistic_regression\"][f\"n_questions_{30}\"][\"error_rate\"]"
   ]
  },
  {
   "cell_type": "code",
   "execution_count": 10,
   "metadata": {},
   "outputs": [
    {
     "data": {
      "text/plain": [
       "<Figure size 640x480 with 0 Axes>"
      ]
     },
     "metadata": {},
     "output_type": "display_data"
    }
   ],
   "source": [
    "plt_y_rf = [metrics_dict[\"Logistic_regression\"][f\"n_questions_{i}\"][\"error_rate\"] for i in n_questions_list]\n",
    "plt.plot(n_questions_list, plt_y_rf, marker='o', label=\"Logistic Regression\")\n",
    "plt.axhline(y=logreg_dict[\"error_rate\"], color='r', linestyle='-', label=\"misdiagnosis rate at 96 questions\")\n",
    "plt.ylim(0, 1)\n",
    "plt.xlabel('number of questions')\n",
    "plt.ylabel('misdiagnosis rate')\n",
    "plt.title('Logistic Regression - Questionnaire Experiments')\n",
    "plt.legend()\n",
    "plt.savefig(f'{base_path}\\\\output\\\\error_analysis_questionnaire\\\\logistic_regression_experiments.jpg', bbox_inches='tight')\n",
    "plt.clf()"
   ]
  },
  {
   "cell_type": "markdown",
   "metadata": {},
   "source": [
    "## Decision Tree"
   ]
  },
  {
   "cell_type": "code",
   "execution_count": 11,
   "metadata": {},
   "outputs": [
    {
     "data": {
      "text/plain": [
       "{'true': 110509, 'false': 21939, 'error_rate': 0.16564236530562937}"
      ]
     },
     "execution_count": 11,
     "metadata": {},
     "output_type": "execute_result"
    }
   ],
   "source": [
    "with open(f\"{base_path}\\\\output\\\\error_analysis\\\\validation_metric_dt.json\") as f:\n",
    "  dt_dict = json.load(f)\n",
    "dt_dict"
   ]
  },
  {
   "cell_type": "code",
   "execution_count": 12,
   "metadata": {},
   "outputs": [
    {
     "data": {
      "text/plain": [
       "0.18691863976805992"
      ]
     },
     "execution_count": 12,
     "metadata": {},
     "output_type": "execute_result"
    }
   ],
   "source": [
    "metrics_dict[\"Decision_Tree\"][f\"n_questions_{30}\"][\"error_rate\"]"
   ]
  },
  {
   "cell_type": "code",
   "execution_count": 13,
   "metadata": {},
   "outputs": [
    {
     "data": {
      "text/plain": [
       "<Figure size 640x480 with 0 Axes>"
      ]
     },
     "metadata": {},
     "output_type": "display_data"
    }
   ],
   "source": [
    "plt_y_rf = [metrics_dict[\"Decision_Tree\"][f\"n_questions_{i}\"][\"error_rate\"] for i in n_questions_list]\n",
    "plt.plot(n_questions_list, plt_y_rf, marker='o', label=\"Decision Tree\")\n",
    "plt.axhline(y=dt_dict[\"error_rate\"], color='r', linestyle='-', label=\"misdiagnosis rate at 96 questions\")\n",
    "plt.ylim(0, 1)\n",
    "plt.xlabel('number of questions')\n",
    "plt.ylabel('misdiagnosis rate')\n",
    "plt.title('Decision Tree - Questionnaire Experiments')\n",
    "plt.legend()\n",
    "plt.savefig(f'{base_path}\\\\output\\\\error_analysis_questionnaire\\\\decision_tree_experiments.jpg', bbox_inches='tight')\n",
    "plt.clf()"
   ]
  },
  {
   "cell_type": "code",
   "execution_count": null,
   "metadata": {},
   "outputs": [],
   "source": []
  }
 ],
 "metadata": {
  "kernelspec": {
   "display_name": "vitas-env",
   "language": "python",
   "name": "python3"
  },
  "language_info": {
   "codemirror_mode": {
    "name": "ipython",
    "version": 3
   },
   "file_extension": ".py",
   "mimetype": "text/x-python",
   "name": "python",
   "nbconvert_exporter": "python",
   "pygments_lexer": "ipython3",
   "version": "3.10.0"
  }
 },
 "nbformat": 4,
 "nbformat_minor": 2
}
